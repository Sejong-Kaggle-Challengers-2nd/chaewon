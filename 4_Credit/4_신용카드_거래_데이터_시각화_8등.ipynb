{
  "nbformat": 4,
  "nbformat_minor": 0,
  "metadata": {
    "colab": {
      "name": "4_신용카드_거래_데이터_시각화",
      "provenance": [],
      "collapsed_sections": []
    },
    "kernelspec": {
      "name": "python3",
      "display_name": "Python 3"
    },
    "language_info": {
      "name": "python"
    }
  },
  "cells": [
    {
      "cell_type": "markdown",
      "metadata": {
        "id": "BVuYQVJP5lbe"
      },
      "source": [
        "#Data Import"
      ]
    },
    {
      "cell_type": "code",
      "metadata": {
        "id": "l23yK2wLvdFP"
      },
      "source": [
        "import pandas as pd\n",
        "import numpy as np"
      ],
      "execution_count": null,
      "outputs": []
    },
    {
      "cell_type": "code",
      "metadata": {
        "id": "TdQgg41a5C43"
      },
      "source": [
        "train=pd.read_csv(\"train.csv\")\n",
        "test=pd.read_csv(\"test.csv\")\n",
        "submit=pd.read_csv(\"submission.csv\")"
      ],
      "execution_count": 2,
      "outputs": []
    },
    {
      "cell_type": "code",
      "metadata": {
        "colab": {
          "base_uri": "https://localhost:8080/"
        },
        "id": "wqZEjwQR7NFm",
        "outputId": "c61658cc-3589-4651-c3be-87e73cce788f"
      },
      "source": [
        "train.info()"
      ],
      "execution_count": 3,
      "outputs": [
        {
          "output_type": "stream",
          "text": [
            "<class 'pandas.core.frame.DataFrame'>\n",
            "RangeIndex: 3362796 entries, 0 to 3362795\n",
            "Data columns (total 8 columns):\n",
            " #   Column        Dtype  \n",
            "---  ------        -----  \n",
            " 0   store_id      int64  \n",
            " 1   date          object \n",
            " 2   time          object \n",
            " 3   card_id       object \n",
            " 4   amount        int64  \n",
            " 5   installments  float64\n",
            " 6   days_of_week  int64  \n",
            " 7   holyday       int64  \n",
            "dtypes: float64(1), int64(4), object(3)\n",
            "memory usage: 205.2+ MB\n"
          ],
          "name": "stdout"
        }
      ]
    },
    {
      "cell_type": "code",
      "metadata": {
        "colab": {
          "base_uri": "https://localhost:8080/",
          "height": 195
        },
        "id": "29mnCg8D7-kg",
        "outputId": "a2ac808d-41d2-4834-c832-a168908f51c3"
      },
      "source": [
        "train.head()"
      ],
      "execution_count": 4,
      "outputs": [
        {
          "output_type": "execute_result",
          "data": {
            "text/html": [
              "<div>\n",
              "<style scoped>\n",
              "    .dataframe tbody tr th:only-of-type {\n",
              "        vertical-align: middle;\n",
              "    }\n",
              "\n",
              "    .dataframe tbody tr th {\n",
              "        vertical-align: top;\n",
              "    }\n",
              "\n",
              "    .dataframe thead th {\n",
              "        text-align: right;\n",
              "    }\n",
              "</style>\n",
              "<table border=\"1\" class=\"dataframe\">\n",
              "  <thead>\n",
              "    <tr style=\"text-align: right;\">\n",
              "      <th></th>\n",
              "      <th>store_id</th>\n",
              "      <th>date</th>\n",
              "      <th>time</th>\n",
              "      <th>card_id</th>\n",
              "      <th>amount</th>\n",
              "      <th>installments</th>\n",
              "      <th>days_of_week</th>\n",
              "      <th>holyday</th>\n",
              "    </tr>\n",
              "  </thead>\n",
              "  <tbody>\n",
              "    <tr>\n",
              "      <th>0</th>\n",
              "      <td>0</td>\n",
              "      <td>2016-12-14</td>\n",
              "      <td>18:05:31</td>\n",
              "      <td>d297bba73f</td>\n",
              "      <td>5</td>\n",
              "      <td>NaN</td>\n",
              "      <td>2</td>\n",
              "      <td>0</td>\n",
              "    </tr>\n",
              "    <tr>\n",
              "      <th>1</th>\n",
              "      <td>0</td>\n",
              "      <td>2016-12-14</td>\n",
              "      <td>18:05:54</td>\n",
              "      <td>d297bba73f</td>\n",
              "      <td>-5</td>\n",
              "      <td>NaN</td>\n",
              "      <td>2</td>\n",
              "      <td>0</td>\n",
              "    </tr>\n",
              "    <tr>\n",
              "      <th>2</th>\n",
              "      <td>0</td>\n",
              "      <td>2016-12-19</td>\n",
              "      <td>12:42:31</td>\n",
              "      <td>0880849c05</td>\n",
              "      <td>144</td>\n",
              "      <td>NaN</td>\n",
              "      <td>0</td>\n",
              "      <td>0</td>\n",
              "    </tr>\n",
              "    <tr>\n",
              "      <th>3</th>\n",
              "      <td>0</td>\n",
              "      <td>2016-12-19</td>\n",
              "      <td>12:48:08</td>\n",
              "      <td>8b4f9e0e95</td>\n",
              "      <td>66</td>\n",
              "      <td>NaN</td>\n",
              "      <td>0</td>\n",
              "      <td>0</td>\n",
              "    </tr>\n",
              "    <tr>\n",
              "      <th>4</th>\n",
              "      <td>0</td>\n",
              "      <td>2016-12-19</td>\n",
              "      <td>13:31:08</td>\n",
              "      <td>7ad237eed0</td>\n",
              "      <td>24</td>\n",
              "      <td>NaN</td>\n",
              "      <td>0</td>\n",
              "      <td>0</td>\n",
              "    </tr>\n",
              "  </tbody>\n",
              "</table>\n",
              "</div>"
            ],
            "text/plain": [
              "   store_id        date      time  ... installments  days_of_week  holyday\n",
              "0         0  2016-12-14  18:05:31  ...          NaN             2        0\n",
              "1         0  2016-12-14  18:05:54  ...          NaN             2        0\n",
              "2         0  2016-12-19  12:42:31  ...          NaN             0        0\n",
              "3         0  2016-12-19  12:48:08  ...          NaN             0        0\n",
              "4         0  2016-12-19  13:31:08  ...          NaN             0        0\n",
              "\n",
              "[5 rows x 8 columns]"
            ]
          },
          "metadata": {
            "tags": []
          },
          "execution_count": 4
        }
      ]
    },
    {
      "cell_type": "markdown",
      "metadata": {
        "id": "CNJ_prPB5q2O"
      },
      "source": [
        "#8등 코드"
      ]
    },
    {
      "cell_type": "code",
      "metadata": {
        "colab": {
          "base_uri": "https://localhost:8080/",
          "height": 1000
        },
        "id": "iOaHnvxo6BDD",
        "outputId": "21ddb41e-3588-4839-f455-f7b256149ec5"
      },
      "source": [
        "!pip install --upgrade pip\n",
        "!pip install pyLDAvis\n",
        "!pip install soyclustering==0.1.0"
      ],
      "execution_count": 5,
      "outputs": [
        {
          "output_type": "stream",
          "text": [
            "Collecting pip\n",
            "\u001b[?25l  Downloading https://files.pythonhosted.org/packages/fe/ef/60d7ba03b5c442309ef42e7d69959f73aacccd0d86008362a681c4698e83/pip-21.0.1-py3-none-any.whl (1.5MB)\n",
            "\r\u001b[K     |▏                               | 10kB 19.5MB/s eta 0:00:01\r\u001b[K     |▍                               | 20kB 22.6MB/s eta 0:00:01\r\u001b[K     |▋                               | 30kB 26.9MB/s eta 0:00:01\r\u001b[K     |▉                               | 40kB 25.9MB/s eta 0:00:01\r\u001b[K     |█                               | 51kB 23.4MB/s eta 0:00:01\r\u001b[K     |█▎                              | 61kB 16.9MB/s eta 0:00:01\r\u001b[K     |█▌                              | 71kB 14.7MB/s eta 0:00:01\r\u001b[K     |█▊                              | 81kB 15.1MB/s eta 0:00:01\r\u001b[K     |██                              | 92kB 15.4MB/s eta 0:00:01\r\u001b[K     |██▏                             | 102kB 14.5MB/s eta 0:00:01\r\u001b[K     |██▍                             | 112kB 14.5MB/s eta 0:00:01\r\u001b[K     |██▌                             | 122kB 14.5MB/s eta 0:00:01\r\u001b[K     |██▊                             | 133kB 14.5MB/s eta 0:00:01\r\u001b[K     |███                             | 143kB 14.5MB/s eta 0:00:01\r\u001b[K     |███▏                            | 153kB 14.5MB/s eta 0:00:01\r\u001b[K     |███▍                            | 163kB 14.5MB/s eta 0:00:01\r\u001b[K     |███▋                            | 174kB 14.5MB/s eta 0:00:01\r\u001b[K     |███▉                            | 184kB 14.5MB/s eta 0:00:01\r\u001b[K     |████                            | 194kB 14.5MB/s eta 0:00:01\r\u001b[K     |████▎                           | 204kB 14.5MB/s eta 0:00:01\r\u001b[K     |████▌                           | 215kB 14.5MB/s eta 0:00:01\r\u001b[K     |████▊                           | 225kB 14.5MB/s eta 0:00:01\r\u001b[K     |█████                           | 235kB 14.5MB/s eta 0:00:01\r\u001b[K     |█████                           | 245kB 14.5MB/s eta 0:00:01\r\u001b[K     |█████▎                          | 256kB 14.5MB/s eta 0:00:01\r\u001b[K     |█████▌                          | 266kB 14.5MB/s eta 0:00:01\r\u001b[K     |█████▊                          | 276kB 14.5MB/s eta 0:00:01\r\u001b[K     |██████                          | 286kB 14.5MB/s eta 0:00:01\r\u001b[K     |██████▏                         | 296kB 14.5MB/s eta 0:00:01\r\u001b[K     |██████▍                         | 307kB 14.5MB/s eta 0:00:01\r\u001b[K     |██████▋                         | 317kB 14.5MB/s eta 0:00:01\r\u001b[K     |██████▉                         | 327kB 14.5MB/s eta 0:00:01\r\u001b[K     |███████                         | 337kB 14.5MB/s eta 0:00:01\r\u001b[K     |███████▎                        | 348kB 14.5MB/s eta 0:00:01\r\u001b[K     |███████▌                        | 358kB 14.5MB/s eta 0:00:01\r\u001b[K     |███████▋                        | 368kB 14.5MB/s eta 0:00:01\r\u001b[K     |███████▉                        | 378kB 14.5MB/s eta 0:00:01\r\u001b[K     |████████                        | 389kB 14.5MB/s eta 0:00:01\r\u001b[K     |████████▎                       | 399kB 14.5MB/s eta 0:00:01\r\u001b[K     |████████▌                       | 409kB 14.5MB/s eta 0:00:01\r\u001b[K     |████████▊                       | 419kB 14.5MB/s eta 0:00:01\r\u001b[K     |█████████                       | 430kB 14.5MB/s eta 0:00:01\r\u001b[K     |█████████▏                      | 440kB 14.5MB/s eta 0:00:01\r\u001b[K     |█████████▍                      | 450kB 14.5MB/s eta 0:00:01\r\u001b[K     |█████████▋                      | 460kB 14.5MB/s eta 0:00:01\r\u001b[K     |█████████▉                      | 471kB 14.5MB/s eta 0:00:01\r\u001b[K     |██████████                      | 481kB 14.5MB/s eta 0:00:01\r\u001b[K     |██████████▏                     | 491kB 14.5MB/s eta 0:00:01\r\u001b[K     |██████████▍                     | 501kB 14.5MB/s eta 0:00:01\r\u001b[K     |██████████▋                     | 512kB 14.5MB/s eta 0:00:01\r\u001b[K     |██████████▉                     | 522kB 14.5MB/s eta 0:00:01\r\u001b[K     |███████████                     | 532kB 14.5MB/s eta 0:00:01\r\u001b[K     |███████████▎                    | 542kB 14.5MB/s eta 0:00:01\r\u001b[K     |███████████▌                    | 552kB 14.5MB/s eta 0:00:01\r\u001b[K     |███████████▊                    | 563kB 14.5MB/s eta 0:00:01\r\u001b[K     |████████████                    | 573kB 14.5MB/s eta 0:00:01\r\u001b[K     |████████████▏                   | 583kB 14.5MB/s eta 0:00:01\r\u001b[K     |████████████▍                   | 593kB 14.5MB/s eta 0:00:01\r\u001b[K     |████████████▋                   | 604kB 14.5MB/s eta 0:00:01\r\u001b[K     |████████████▊                   | 614kB 14.5MB/s eta 0:00:01\r\u001b[K     |█████████████                   | 624kB 14.5MB/s eta 0:00:01\r\u001b[K     |█████████████▏                  | 634kB 14.5MB/s eta 0:00:01\r\u001b[K     |█████████████▍                  | 645kB 14.5MB/s eta 0:00:01\r\u001b[K     |█████████████▋                  | 655kB 14.5MB/s eta 0:00:01\r\u001b[K     |█████████████▉                  | 665kB 14.5MB/s eta 0:00:01\r\u001b[K     |██████████████                  | 675kB 14.5MB/s eta 0:00:01\r\u001b[K     |██████████████▎                 | 686kB 14.5MB/s eta 0:00:01\r\u001b[K     |██████████████▌                 | 696kB 14.5MB/s eta 0:00:01\r\u001b[K     |██████████████▊                 | 706kB 14.5MB/s eta 0:00:01\r\u001b[K     |███████████████                 | 716kB 14.5MB/s eta 0:00:01\r\u001b[K     |███████████████▏                | 727kB 14.5MB/s eta 0:00:01\r\u001b[K     |███████████████▎                | 737kB 14.5MB/s eta 0:00:01\r\u001b[K     |███████████████▌                | 747kB 14.5MB/s eta 0:00:01\r\u001b[K     |███████████████▊                | 757kB 14.5MB/s eta 0:00:01\r\u001b[K     |████████████████                | 768kB 14.5MB/s eta 0:00:01\r\u001b[K     |████████████████▏               | 778kB 14.5MB/s eta 0:00:01\r\u001b[K     |████████████████▍               | 788kB 14.5MB/s eta 0:00:01\r\u001b[K     |████████████████▋               | 798kB 14.5MB/s eta 0:00:01\r\u001b[K     |████████████████▉               | 808kB 14.5MB/s eta 0:00:01\r\u001b[K     |█████████████████               | 819kB 14.5MB/s eta 0:00:01\r\u001b[K     |█████████████████▎              | 829kB 14.5MB/s eta 0:00:01\r\u001b[K     |█████████████████▌              | 839kB 14.5MB/s eta 0:00:01\r\u001b[K     |█████████████████▊              | 849kB 14.5MB/s eta 0:00:01\r\u001b[K     |█████████████████▉              | 860kB 14.5MB/s eta 0:00:01\r\u001b[K     |██████████████████              | 870kB 14.5MB/s eta 0:00:01\r\u001b[K     |██████████████████▎             | 880kB 14.5MB/s eta 0:00:01\r\u001b[K     |██████████████████▌             | 890kB 14.5MB/s eta 0:00:01\r\u001b[K     |██████████████████▊             | 901kB 14.5MB/s eta 0:00:01\r\u001b[K     |███████████████████             | 911kB 14.5MB/s eta 0:00:01\r\u001b[K     |███████████████████▏            | 921kB 14.5MB/s eta 0:00:01\r\u001b[K     |███████████████████▍            | 931kB 14.5MB/s eta 0:00:01\r\u001b[K     |███████████████████▋            | 942kB 14.5MB/s eta 0:00:01\r\u001b[K     |███████████████████▉            | 952kB 14.5MB/s eta 0:00:01\r\u001b[K     |████████████████████            | 962kB 14.5MB/s eta 0:00:01\r\u001b[K     |████████████████████▎           | 972kB 14.5MB/s eta 0:00:01\r\u001b[K     |████████████████████▍           | 983kB 14.5MB/s eta 0:00:01\r\u001b[K     |████████████████████▋           | 993kB 14.5MB/s eta 0:00:01\r\u001b[K     |████████████████████▉           | 1.0MB 14.5MB/s eta 0:00:01\r\u001b[K     |█████████████████████           | 1.0MB 14.5MB/s eta 0:00:01\r\u001b[K     |█████████████████████▎          | 1.0MB 14.5MB/s eta 0:00:01\r\u001b[K     |█████████████████████▌          | 1.0MB 14.5MB/s eta 0:00:01\r\u001b[K     |█████████████████████▊          | 1.0MB 14.5MB/s eta 0:00:01\r\u001b[K     |██████████████████████          | 1.1MB 14.5MB/s eta 0:00:01\r\u001b[K     |██████████████████████▏         | 1.1MB 14.5MB/s eta 0:00:01\r\u001b[K     |██████████████████████▍         | 1.1MB 14.5MB/s eta 0:00:01\r\u001b[K     |██████████████████████▋         | 1.1MB 14.5MB/s eta 0:00:01\r\u001b[K     |██████████████████████▉         | 1.1MB 14.5MB/s eta 0:00:01\r\u001b[K     |███████████████████████         | 1.1MB 14.5MB/s eta 0:00:01\r\u001b[K     |███████████████████████▏        | 1.1MB 14.5MB/s eta 0:00:01\r\u001b[K     |███████████████████████▍        | 1.1MB 14.5MB/s eta 0:00:01\r\u001b[K     |███████████████████████▋        | 1.1MB 14.5MB/s eta 0:00:01\r\u001b[K     |███████████████████████▉        | 1.1MB 14.5MB/s eta 0:00:01\r\u001b[K     |████████████████████████        | 1.2MB 14.5MB/s eta 0:00:01\r\u001b[K     |████████████████████████▎       | 1.2MB 14.5MB/s eta 0:00:01\r\u001b[K     |████████████████████████▌       | 1.2MB 14.5MB/s eta 0:00:01\r\u001b[K     |████████████████████████▊       | 1.2MB 14.5MB/s eta 0:00:01\r\u001b[K     |█████████████████████████       | 1.2MB 14.5MB/s eta 0:00:01\r\u001b[K     |█████████████████████████▏      | 1.2MB 14.5MB/s eta 0:00:01\r\u001b[K     |█████████████████████████▍      | 1.2MB 14.5MB/s eta 0:00:01\r\u001b[K     |█████████████████████████▌      | 1.2MB 14.5MB/s eta 0:00:01\r\u001b[K     |█████████████████████████▊      | 1.2MB 14.5MB/s eta 0:00:01\r\u001b[K     |██████████████████████████      | 1.2MB 14.5MB/s eta 0:00:01\r\u001b[K     |██████████████████████████▏     | 1.3MB 14.5MB/s eta 0:00:01\r\u001b[K     |██████████████████████████▍     | 1.3MB 14.5MB/s eta 0:00:01\r\u001b[K     |██████████████████████████▋     | 1.3MB 14.5MB/s eta 0:00:01\r\u001b[K     |██████████████████████████▉     | 1.3MB 14.5MB/s eta 0:00:01\r\u001b[K     |███████████████████████████     | 1.3MB 14.5MB/s eta 0:00:01\r\u001b[K     |███████████████████████████▎    | 1.3MB 14.5MB/s eta 0:00:01\r\u001b[K     |███████████████████████████▌    | 1.3MB 14.5MB/s eta 0:00:01\r\u001b[K     |███████████████████████████▊    | 1.3MB 14.5MB/s eta 0:00:01\r\u001b[K     |███████████████████████████▉    | 1.3MB 14.5MB/s eta 0:00:01\r\u001b[K     |████████████████████████████    | 1.4MB 14.5MB/s eta 0:00:01\r\u001b[K     |████████████████████████████▎   | 1.4MB 14.5MB/s eta 0:00:01\r\u001b[K     |████████████████████████████▌   | 1.4MB 14.5MB/s eta 0:00:01\r\u001b[K     |████████████████████████████▊   | 1.4MB 14.5MB/s eta 0:00:01\r\u001b[K     |█████████████████████████████   | 1.4MB 14.5MB/s eta 0:00:01\r\u001b[K     |█████████████████████████████▏  | 1.4MB 14.5MB/s eta 0:00:01\r\u001b[K     |█████████████████████████████▍  | 1.4MB 14.5MB/s eta 0:00:01\r\u001b[K     |█████████████████████████████▋  | 1.4MB 14.5MB/s eta 0:00:01\r\u001b[K     |█████████████████████████████▉  | 1.4MB 14.5MB/s eta 0:00:01\r\u001b[K     |██████████████████████████████  | 1.4MB 14.5MB/s eta 0:00:01\r\u001b[K     |██████████████████████████████▎ | 1.5MB 14.5MB/s eta 0:00:01\r\u001b[K     |██████████████████████████████▍ | 1.5MB 14.5MB/s eta 0:00:01\r\u001b[K     |██████████████████████████████▋ | 1.5MB 14.5MB/s eta 0:00:01\r\u001b[K     |██████████████████████████████▉ | 1.5MB 14.5MB/s eta 0:00:01\r\u001b[K     |███████████████████████████████ | 1.5MB 14.5MB/s eta 0:00:01\r\u001b[K     |███████████████████████████████▎| 1.5MB 14.5MB/s eta 0:00:01\r\u001b[K     |███████████████████████████████▌| 1.5MB 14.5MB/s eta 0:00:01\r\u001b[K     |███████████████████████████████▊| 1.5MB 14.5MB/s eta 0:00:01\r\u001b[K     |████████████████████████████████| 1.5MB 14.5MB/s eta 0:00:01\r\u001b[K     |████████████████████████████████| 1.5MB 14.5MB/s \n",
            "\u001b[?25hInstalling collected packages: pip\n",
            "  Found existing installation: pip 19.3.1\n",
            "    Uninstalling pip-19.3.1:\n",
            "      Successfully uninstalled pip-19.3.1\n",
            "Successfully installed pip-21.0.1\n",
            "Collecting pyLDAvis\n",
            "  Downloading pyLDAvis-3.3.1.tar.gz (1.7 MB)\n",
            "\u001b[K     |████████████████████████████████| 1.7 MB 17.2 MB/s \n",
            "\u001b[?25h  Installing build dependencies ... \u001b[?25l\u001b[?25hdone\n",
            "  Getting requirements to build wheel ... \u001b[?25l\u001b[?25hdone\n",
            "  Installing backend dependencies ... \u001b[?25l\u001b[?25hdone\n",
            "    Preparing wheel metadata ... \u001b[?25l\u001b[?25hdone\n",
            "Requirement already satisfied: scikit-learn in /usr/local/lib/python3.7/dist-packages (from pyLDAvis) (0.22.2.post1)\n",
            "Requirement already satisfied: jinja2 in /usr/local/lib/python3.7/dist-packages (from pyLDAvis) (2.11.3)\n",
            "Requirement already satisfied: setuptools in /usr/local/lib/python3.7/dist-packages (from pyLDAvis) (54.2.0)\n",
            "Requirement already satisfied: joblib in /usr/local/lib/python3.7/dist-packages (from pyLDAvis) (1.0.1)\n",
            "Requirement already satisfied: scipy in /usr/local/lib/python3.7/dist-packages (from pyLDAvis) (1.4.1)\n",
            "Collecting numpy>=1.20.0\n",
            "  Downloading numpy-1.20.2-cp37-cp37m-manylinux2010_x86_64.whl (15.3 MB)\n",
            "\u001b[K     |████████████████████████████████| 15.3 MB 258 kB/s \n",
            "\u001b[?25hRequirement already satisfied: gensim in /usr/local/lib/python3.7/dist-packages (from pyLDAvis) (3.6.0)\n",
            "Requirement already satisfied: numexpr in /usr/local/lib/python3.7/dist-packages (from pyLDAvis) (2.7.3)\n",
            "Collecting funcy\n",
            "  Downloading funcy-1.15-py2.py3-none-any.whl (32 kB)\n",
            "Requirement already satisfied: sklearn in /usr/local/lib/python3.7/dist-packages (from pyLDAvis) (0.0)\n",
            "Requirement already satisfied: future in /usr/local/lib/python3.7/dist-packages (from pyLDAvis) (0.16.0)\n",
            "Collecting pandas>=1.2.0\n",
            "  Downloading pandas-1.2.3-cp37-cp37m-manylinux1_x86_64.whl (9.9 MB)\n",
            "\u001b[K     |████████████████████████████████| 9.9 MB 58.6 MB/s \n",
            "\u001b[?25hRequirement already satisfied: python-dateutil>=2.7.3 in /usr/local/lib/python3.7/dist-packages (from pandas>=1.2.0->pyLDAvis) (2.8.1)\n",
            "Requirement already satisfied: pytz>=2017.3 in /usr/local/lib/python3.7/dist-packages (from pandas>=1.2.0->pyLDAvis) (2018.9)\n",
            "Requirement already satisfied: six>=1.5 in /usr/local/lib/python3.7/dist-packages (from python-dateutil>=2.7.3->pandas>=1.2.0->pyLDAvis) (1.15.0)\n",
            "Requirement already satisfied: smart-open>=1.2.1 in /usr/local/lib/python3.7/dist-packages (from gensim->pyLDAvis) (4.2.0)\n",
            "Requirement already satisfied: MarkupSafe>=0.23 in /usr/local/lib/python3.7/dist-packages (from jinja2->pyLDAvis) (1.1.1)\n",
            "Building wheels for collected packages: pyLDAvis\n",
            "  Building wheel for pyLDAvis (PEP 517) ... \u001b[?25l\u001b[?25hdone\n",
            "  Created wheel for pyLDAvis: filename=pyLDAvis-3.3.1-py2.py3-none-any.whl size=136870 sha256=98ee31ec0b1f17b1561471ff9e57c8370fbf3f5c389bad94aaa6e6b44758bf03\n",
            "  Stored in directory: /root/.cache/pip/wheels/c9/21/f6/17bcf2667e8a68532ba2fbf6d5c72fdf4c7f7d9abfa4852d2f\n",
            "Successfully built pyLDAvis\n",
            "Installing collected packages: numpy, pandas, funcy, pyLDAvis\n",
            "  Attempting uninstall: numpy\n",
            "    Found existing installation: numpy 1.19.5\n",
            "    Uninstalling numpy-1.19.5:\n",
            "      Successfully uninstalled numpy-1.19.5\n",
            "  Attempting uninstall: pandas\n",
            "    Found existing installation: pandas 1.1.5\n",
            "    Uninstalling pandas-1.1.5:\n",
            "      Successfully uninstalled pandas-1.1.5\n",
            "\u001b[31mERROR: pip's dependency resolver does not currently take into account all the packages that are installed. This behaviour is the source of the following dependency conflicts.\n",
            "tensorflow 2.4.1 requires numpy~=1.19.2, but you have numpy 1.20.2 which is incompatible.\n",
            "google-colab 1.0.0 requires pandas~=1.1.0; python_version >= \"3.0\", but you have pandas 1.2.3 which is incompatible.\n",
            "datascience 0.10.6 requires folium==0.2.1, but you have folium 0.8.3 which is incompatible.\n",
            "albumentations 0.1.12 requires imgaug<0.2.7,>=0.2.5, but you have imgaug 0.2.9 which is incompatible.\u001b[0m\n",
            "Successfully installed funcy-1.15 numpy-1.20.2 pandas-1.2.3 pyLDAvis-3.3.1\n"
          ],
          "name": "stdout"
        },
        {
          "output_type": "display_data",
          "data": {
            "application/vnd.colab-display-data+json": {
              "pip_warning": {
                "packages": [
                  "numpy",
                  "pandas"
                ]
              }
            }
          },
          "metadata": {
            "tags": []
          }
        },
        {
          "output_type": "stream",
          "text": [
            "Collecting soyclustering==0.1.0\n",
            "  Downloading soyclustering-0.1.0-py3-none-any.whl (28 kB)\n",
            "Requirement already satisfied: numpy>=1.1 in /usr/local/lib/python3.7/dist-packages (from soyclustering==0.1.0) (1.20.2)\n",
            "Installing collected packages: soyclustering\n",
            "Successfully installed soyclustering-0.1.0\n"
          ],
          "name": "stdout"
        }
      ]
    },
    {
      "cell_type": "code",
      "metadata": {
        "id": "YhkbwdIy316Q"
      },
      "source": [
        "#위의 pip 들을 설치하면서 이 패키지들을 다시 import해야함\n",
        "import pandas as pd\n",
        "import numpy as np"
      ],
      "execution_count": 6,
      "outputs": []
    },
    {
      "cell_type": "code",
      "metadata": {
        "colab": {
          "base_uri": "https://localhost:8080/"
        },
        "id": "bVknGzfQ5rm3",
        "outputId": "a4bdc392-22ad-403d-9958-06f2376c69db"
      },
      "source": [
        "import pyLDAvis\n",
        "from sklearn.feature_extraction.text import CountVectorizer\n",
        "from soyclustering import SphericalKMeans"
      ],
      "execution_count": 7,
      "outputs": [
        {
          "output_type": "stream",
          "text": [
            "/usr/local/lib/python3.7/dist-packages/past/types/oldstr.py:5: DeprecationWarning: Using or importing the ABCs from 'collections' instead of from 'collections.abc' is deprecated since Python 3.3,and in 3.9 it will stop working\n",
            "  from collections import Iterable\n",
            "/usr/local/lib/python3.7/dist-packages/past/builtins/misc.py:4: DeprecationWarning: Using or importing the ABCs from 'collections' instead of from 'collections.abc' is deprecated since Python 3.3,and in 3.9 it will stop working\n",
            "  from collections import Mapping\n",
            "/usr/local/lib/python3.7/dist-packages/scipy/fft/__init__.py:97: DeprecationWarning: The module numpy.dual is deprecated.  Instead of using dual, use the functions directly from numpy or scipy.\n",
            "  from numpy.dual import register_func\n"
          ],
          "name": "stderr"
        }
      ]
    },
    {
      "cell_type": "markdown",
      "metadata": {
        "id": "x7JgQWos86ZM"
      },
      "source": [
        "##Data preprocessing"
      ]
    },
    {
      "cell_type": "markdown",
      "metadata": {
        "id": "eQpezgXo9GkY"
      },
      "source": [
        "###거래일자와 매출액을 활용한 상점 군집화"
      ]
    },
    {
      "cell_type": "code",
      "metadata": {
        "id": "fboSRsKgAiLD"
      },
      "source": [
        "def convert_data(df, dateOption='str', amountOption=10):\n",
        "    def convert_amount(df, amountOption=10):\n",
        "        ##나누기 Option\n",
        "        def divide_by_n(x, n):\n",
        "            result = (x // n) * n\n",
        "            if result == 0 :\n",
        "                return \"pos\" + str(result)\n",
        "            else :\n",
        "                return \"neg\" + str(-result)\n",
        "        df['amount_modified'] = df['amount'].apply(divide_by_n, args=(amountOption,))\n",
        "        #print(df[['amount', 'amount_modified']].head())\n",
        "        return df\n",
        "\n",
        "    def convert_date(df, dateOption='str'):\n",
        "        df['date'] = pd.to_datetime(df['date'])\n",
        "        if dateOption == 'int':\n",
        "            df['date_modified'] = df['date'].dt.dayofweek\n",
        "        if dateOption == 'str':\n",
        "            df['date_modified'] = df['date'].dt.day_name()\n",
        "\n",
        "        #print(df[['date', 'date_modified']].head())\n",
        "        return df\n",
        "    \n",
        "    df = convert_amount(df)\n",
        "    df = convert_date(df)\n",
        "    df[\"class\"] = df[\"amount_modified\"].map(str) +\"_\"+ df[\"date_modified\"].map(str)\n",
        "    \n",
        "    return df"
      ],
      "execution_count": 8,
      "outputs": []
    },
    {
      "cell_type": "code",
      "metadata": {
        "id": "pUYbnGycAiIh"
      },
      "source": [
        "train = convert_data(train)"
      ],
      "execution_count": 9,
      "outputs": []
    },
    {
      "cell_type": "code",
      "metadata": {
        "colab": {
          "base_uri": "https://localhost:8080/",
          "height": 195
        },
        "id": "lM4PHGK5BU7F",
        "outputId": "48a06d0c-e47e-4430-b4d4-01553e98277d"
      },
      "source": [
        "train.head()"
      ],
      "execution_count": 10,
      "outputs": [
        {
          "output_type": "execute_result",
          "data": {
            "text/html": [
              "<div>\n",
              "<style scoped>\n",
              "    .dataframe tbody tr th:only-of-type {\n",
              "        vertical-align: middle;\n",
              "    }\n",
              "\n",
              "    .dataframe tbody tr th {\n",
              "        vertical-align: top;\n",
              "    }\n",
              "\n",
              "    .dataframe thead th {\n",
              "        text-align: right;\n",
              "    }\n",
              "</style>\n",
              "<table border=\"1\" class=\"dataframe\">\n",
              "  <thead>\n",
              "    <tr style=\"text-align: right;\">\n",
              "      <th></th>\n",
              "      <th>store_id</th>\n",
              "      <th>date</th>\n",
              "      <th>time</th>\n",
              "      <th>card_id</th>\n",
              "      <th>amount</th>\n",
              "      <th>installments</th>\n",
              "      <th>days_of_week</th>\n",
              "      <th>holyday</th>\n",
              "      <th>amount_modified</th>\n",
              "      <th>date_modified</th>\n",
              "      <th>class</th>\n",
              "    </tr>\n",
              "  </thead>\n",
              "  <tbody>\n",
              "    <tr>\n",
              "      <th>0</th>\n",
              "      <td>0</td>\n",
              "      <td>2016-12-14</td>\n",
              "      <td>18:05:31</td>\n",
              "      <td>d297bba73f</td>\n",
              "      <td>5</td>\n",
              "      <td>NaN</td>\n",
              "      <td>2</td>\n",
              "      <td>0</td>\n",
              "      <td>pos0</td>\n",
              "      <td>Wednesday</td>\n",
              "      <td>pos0_Wednesday</td>\n",
              "    </tr>\n",
              "    <tr>\n",
              "      <th>1</th>\n",
              "      <td>0</td>\n",
              "      <td>2016-12-14</td>\n",
              "      <td>18:05:54</td>\n",
              "      <td>d297bba73f</td>\n",
              "      <td>-5</td>\n",
              "      <td>NaN</td>\n",
              "      <td>2</td>\n",
              "      <td>0</td>\n",
              "      <td>neg10</td>\n",
              "      <td>Wednesday</td>\n",
              "      <td>neg10_Wednesday</td>\n",
              "    </tr>\n",
              "    <tr>\n",
              "      <th>2</th>\n",
              "      <td>0</td>\n",
              "      <td>2016-12-19</td>\n",
              "      <td>12:42:31</td>\n",
              "      <td>0880849c05</td>\n",
              "      <td>144</td>\n",
              "      <td>NaN</td>\n",
              "      <td>0</td>\n",
              "      <td>0</td>\n",
              "      <td>neg-140</td>\n",
              "      <td>Monday</td>\n",
              "      <td>neg-140_Monday</td>\n",
              "    </tr>\n",
              "    <tr>\n",
              "      <th>3</th>\n",
              "      <td>0</td>\n",
              "      <td>2016-12-19</td>\n",
              "      <td>12:48:08</td>\n",
              "      <td>8b4f9e0e95</td>\n",
              "      <td>66</td>\n",
              "      <td>NaN</td>\n",
              "      <td>0</td>\n",
              "      <td>0</td>\n",
              "      <td>neg-60</td>\n",
              "      <td>Monday</td>\n",
              "      <td>neg-60_Monday</td>\n",
              "    </tr>\n",
              "    <tr>\n",
              "      <th>4</th>\n",
              "      <td>0</td>\n",
              "      <td>2016-12-19</td>\n",
              "      <td>13:31:08</td>\n",
              "      <td>7ad237eed0</td>\n",
              "      <td>24</td>\n",
              "      <td>NaN</td>\n",
              "      <td>0</td>\n",
              "      <td>0</td>\n",
              "      <td>neg-20</td>\n",
              "      <td>Monday</td>\n",
              "      <td>neg-20_Monday</td>\n",
              "    </tr>\n",
              "  </tbody>\n",
              "</table>\n",
              "</div>"
            ],
            "text/plain": [
              "   store_id       date      time  ... amount_modified  date_modified            class\n",
              "0         0 2016-12-14  18:05:31  ...            pos0      Wednesday   pos0_Wednesday\n",
              "1         0 2016-12-14  18:05:54  ...           neg10      Wednesday  neg10_Wednesday\n",
              "2         0 2016-12-19  12:42:31  ...         neg-140         Monday   neg-140_Monday\n",
              "3         0 2016-12-19  12:48:08  ...          neg-60         Monday    neg-60_Monday\n",
              "4         0 2016-12-19  13:31:08  ...          neg-20         Monday    neg-20_Monday\n",
              "\n",
              "[5 rows x 11 columns]"
            ]
          },
          "metadata": {
            "tags": []
          },
          "execution_count": 10
        }
      ]
    },
    {
      "cell_type": "code",
      "metadata": {
        "colab": {
          "base_uri": "https://localhost:8080/"
        },
        "id": "HToeVdOgBsQS",
        "outputId": "be16727f-8287-4c7b-ef43-250842625e8a"
      },
      "source": [
        "print(\"거래의 총 Class의 갯수 : \", len(train['class'].unique()))\n",
        "\n",
        "print(\"각 Store에 방문하는 거래 Class의 갯수 : \")\n",
        "train.groupby('store_id')['class'].apply(lambda x: x.unique().shape[0])"
      ],
      "execution_count": 11,
      "outputs": [
        {
          "output_type": "stream",
          "text": [
            "거래의 총 Class의 갯수 :  6550\n",
            "각 Store에 방문하는 거래 Class의 갯수 : \n"
          ],
          "name": "stdout"
        },
        {
          "output_type": "execute_result",
          "data": {
            "text/plain": [
              "store_id\n",
              "0       789\n",
              "1        30\n",
              "2       443\n",
              "3       140\n",
              "4       259\n",
              "       ... \n",
              "1795    447\n",
              "1796     81\n",
              "1797     33\n",
              "1798    126\n",
              "1799    132\n",
              "Name: class, Length: 1775, dtype: int64"
            ]
          },
          "metadata": {
            "tags": []
          },
          "execution_count": 11
        }
      ]
    },
    {
      "cell_type": "code",
      "metadata": {
        "id": "dSGJkZeNB5Nz"
      },
      "source": [
        "#상점별 Class를 띄어쓰기를 구분자로 문자열 LIST로 변환\n",
        "new_train = train.groupby('store_id')['class'].apply(lambda x: \"{%s}\" % ' '.join(x))\n",
        "strList = new_train.values\n",
        "#vectorizing\n",
        "vectorizer = CountVectorizer()\n",
        "X = vectorizer.fit_transform(strList)"
      ],
      "execution_count": 12,
      "outputs": []
    },
    {
      "cell_type": "code",
      "metadata": {
        "colab": {
          "base_uri": "https://localhost:8080/"
        },
        "id": "OdtiwM93BsO_",
        "outputId": "e141e3a3-98e3-404c-ced1-2b9f6bf13c65"
      },
      "source": [
        "spherical_kmeans = SphericalKMeans(\n",
        "    n_clusters=100,\n",
        "    max_iter=10,\n",
        "    verbose=1,\n",
        "    init='similar_cut'\n",
        ")\n",
        "\n",
        "labels = spherical_kmeans.fit_predict(X)\n",
        "centers = spherical_kmeans.cluster_centers_"
      ],
      "execution_count": 13,
      "outputs": [
        {
          "output_type": "stream",
          "text": [
            "initialization_time=0.018342 sec, sparsity=0.0427\n",
            "n_iter=1, changed=1730, inertia=29.696, iter_time=0.323 sec, sparsity=0.0911\n",
            "n_iter=2, changed=474, inertia=24.825, iter_time=0.323 sec, sparsity=0.0904\n",
            "n_iter=3, changed=262, inertia=24.204, iter_time=0.314 sec, sparsity=0.0885\n",
            "n_iter=4, changed=162, inertia=24.006, iter_time=0.322 sec, sparsity=0.0871\n",
            "n_iter=5, changed=118, inertia=23.954, iter_time=0.317 sec, sparsity=0.0868\n",
            "n_iter=6, changed=97, inertia=23.916, iter_time=0.312 sec, sparsity=0.0866\n",
            "n_iter=7, changed=48, inertia=23.894, iter_time=0.307 sec, sparsity=0.0861\n",
            "n_iter=8, changed=28, inertia=23.886, iter_time=0.315 sec, sparsity=0.0859\n",
            "n_iter=9, changed=27, inertia=23.887, iter_time=0.316 sec, sparsity=0.0858\n",
            "n_iter=10, changed=17, inertia=23.882, iter_time=0.314 sec, sparsity=0.0858\n"
          ],
          "name": "stdout"
        }
      ]
    },
    {
      "cell_type": "code",
      "metadata": {
        "colab": {
          "base_uri": "https://localhost:8080/"
        },
        "id": "Nlo_Ebn1pgkd",
        "outputId": "e187858c-5b1d-4eef-b15b-0d7d08a50a5d"
      },
      "source": [
        "!git clone https://github.com/lovit/kmeans_to_pyLDAvis\n",
        "!pip install pyLDAvis"
      ],
      "execution_count": 15,
      "outputs": [
        {
          "output_type": "stream",
          "text": [
            "Cloning into 'kmeans_to_pyLDAvis'...\n",
            "remote: Enumerating objects: 199, done.\u001b[K\n",
            "remote: Total 199 (delta 0), reused 0 (delta 0), pack-reused 199\u001b[K\n",
            "Receiving objects: 100% (199/199), 15.09 MiB | 17.80 MiB/s, done.\n",
            "Resolving deltas: 100% (82/82), done.\n",
            "Requirement already satisfied: pyLDAvis in /usr/local/lib/python3.7/dist-packages (3.3.1)\n",
            "Requirement already satisfied: sklearn in /usr/local/lib/python3.7/dist-packages (from pyLDAvis) (0.0)\n",
            "Requirement already satisfied: joblib in /usr/local/lib/python3.7/dist-packages (from pyLDAvis) (1.0.1)\n",
            "Requirement already satisfied: numpy>=1.20.0 in /usr/local/lib/python3.7/dist-packages (from pyLDAvis) (1.20.2)\n",
            "Requirement already satisfied: jinja2 in /usr/local/lib/python3.7/dist-packages (from pyLDAvis) (2.11.3)\n",
            "Requirement already satisfied: pandas>=1.2.0 in /usr/local/lib/python3.7/dist-packages (from pyLDAvis) (1.2.3)\n",
            "Requirement already satisfied: numexpr in /usr/local/lib/python3.7/dist-packages (from pyLDAvis) (2.7.3)\n",
            "Requirement already satisfied: setuptools in /usr/local/lib/python3.7/dist-packages (from pyLDAvis) (54.2.0)\n",
            "Requirement already satisfied: funcy in /usr/local/lib/python3.7/dist-packages (from pyLDAvis) (1.15)\n",
            "Requirement already satisfied: gensim in /usr/local/lib/python3.7/dist-packages (from pyLDAvis) (3.6.0)\n",
            "Requirement already satisfied: scikit-learn in /usr/local/lib/python3.7/dist-packages (from pyLDAvis) (0.22.2.post1)\n",
            "Requirement already satisfied: future in /usr/local/lib/python3.7/dist-packages (from pyLDAvis) (0.16.0)\n",
            "Requirement already satisfied: scipy in /usr/local/lib/python3.7/dist-packages (from pyLDAvis) (1.4.1)\n",
            "Requirement already satisfied: pytz>=2017.3 in /usr/local/lib/python3.7/dist-packages (from pandas>=1.2.0->pyLDAvis) (2018.9)\n",
            "Requirement already satisfied: python-dateutil>=2.7.3 in /usr/local/lib/python3.7/dist-packages (from pandas>=1.2.0->pyLDAvis) (2.8.1)\n",
            "Requirement already satisfied: six>=1.5 in /usr/local/lib/python3.7/dist-packages (from python-dateutil>=2.7.3->pandas>=1.2.0->pyLDAvis) (1.15.0)\n",
            "Requirement already satisfied: smart-open>=1.2.1 in /usr/local/lib/python3.7/dist-packages (from gensim->pyLDAvis) (4.2.0)\n",
            "Requirement already satisfied: MarkupSafe>=0.23 in /usr/local/lib/python3.7/dist-packages (from jinja2->pyLDAvis) (1.1.1)\n"
          ],
          "name": "stdout"
        }
      ]
    },
    {
      "cell_type": "code",
      "metadata": {
        "colab": {
          "base_uri": "https://localhost:8080/",
          "height": 380
        },
        "id": "tsmUha2XBsLU",
        "outputId": "2416c7fb-ac26-4abf-f78f-69425e49fb31"
      },
      "source": [
        "import sys\n",
        "sys.path.append('../')\n",
        "import kmeans_to_pyLDAvis\n",
        "\n",
        "#오류나는 부분\n",
        "from kmeans_to_pyLDAvis import kmeans_to_prepared_data\n",
        "\n",
        "vocab2int = vectorizer.vocabulary_\n",
        "int2vocab = [\n",
        "    word for word, index in sorted(\n",
        "        vocab2int.items(), key=lambda x: x[1])\n",
        "]\n",
        "prepared_data = kmeans_to_prepared_data(\n",
        "    X, int2vocab, centers, labels,\n",
        "    embedding_method='tsne'\n",
        ")"
      ],
      "execution_count": 16,
      "outputs": [
        {
          "output_type": "error",
          "ename": "ImportError",
          "evalue": "ignored",
          "traceback": [
            "\u001b[0;31m---------------------------------------------------------------------------\u001b[0m",
            "\u001b[0;31mImportError\u001b[0m                               Traceback (most recent call last)",
            "\u001b[0;32m<ipython-input-16-ce22a22e94da>\u001b[0m in \u001b[0;36m<module>\u001b[0;34m()\u001b[0m\n\u001b[1;32m      2\u001b[0m \u001b[0msys\u001b[0m\u001b[0;34m.\u001b[0m\u001b[0mpath\u001b[0m\u001b[0;34m.\u001b[0m\u001b[0mappend\u001b[0m\u001b[0;34m(\u001b[0m\u001b[0;34m'../'\u001b[0m\u001b[0;34m)\u001b[0m\u001b[0;34m\u001b[0m\u001b[0;34m\u001b[0m\u001b[0m\n\u001b[1;32m      3\u001b[0m \u001b[0;32mimport\u001b[0m \u001b[0mkmeans_to_pyLDAvis\u001b[0m\u001b[0;34m\u001b[0m\u001b[0;34m\u001b[0m\u001b[0m\n\u001b[0;32m----> 4\u001b[0;31m \u001b[0;32mfrom\u001b[0m \u001b[0mkmeans_to_pyLDAvis\u001b[0m \u001b[0;32mimport\u001b[0m \u001b[0mkmeans_to_prepared_data\u001b[0m\u001b[0;34m\u001b[0m\u001b[0;34m\u001b[0m\u001b[0m\n\u001b[0m\u001b[1;32m      5\u001b[0m \u001b[0;34m\u001b[0m\u001b[0m\n\u001b[1;32m      6\u001b[0m \u001b[0mvocab2int\u001b[0m \u001b[0;34m=\u001b[0m \u001b[0mvectorizer\u001b[0m\u001b[0;34m.\u001b[0m\u001b[0mvocabulary_\u001b[0m\u001b[0;34m\u001b[0m\u001b[0;34m\u001b[0m\u001b[0m\n",
            "\u001b[0;31mImportError\u001b[0m: cannot import name 'kmeans_to_prepared_data' from 'kmeans_to_pyLDAvis' (unknown location)",
            "",
            "\u001b[0;31m---------------------------------------------------------------------------\u001b[0;32m\nNOTE: If your import is failing due to a missing package, you can\nmanually install dependencies using either !pip or !apt.\n\nTo view examples of installing some common dependencies, click the\n\"Open Examples\" button below.\n\u001b[0;31m---------------------------------------------------------------------------\u001b[0m\n"
          ]
        }
      ]
    },
    {
      "cell_type": "code",
      "metadata": {
        "id": "PGj34MYPBsIo"
      },
      "source": [
        "htmlFile = 'kmeans_pyLDAvis.html'\n",
        "pyLDAvis.save_html(prepared_data, htmlFile)\n",
        "pyLDAvis.display(prepared_data)"
      ],
      "execution_count": null,
      "outputs": []
    },
    {
      "cell_type": "markdown",
      "metadata": {
        "id": "Hzs9Q8BKAghz"
      },
      "source": [
        "###군집화 한 정보를 시각화"
      ]
    },
    {
      "cell_type": "code",
      "metadata": {
        "id": "ejTykTPF5tea"
      },
      "source": [
        "from bs4 import BeautifulSoup\n",
        "# load the file\n",
        "with open(htmlFile) as inf:\n",
        "    txt = inf.read()\n",
        "    soup = BeautifulSoup(txt)"
      ],
      "execution_count": null,
      "outputs": []
    },
    {
      "cell_type": "code",
      "metadata": {
        "id": "eRyrwvl_qU4c"
      },
      "source": [
        "print(soup)\n",
        "#tag.replace_with(\"선택한 그룹: \")"
      ],
      "execution_count": null,
      "outputs": []
    }
  ]
}