{
  "nbformat": 4,
  "nbformat_minor": 0,
  "metadata": {
    "colab": {
      "name": "7_(ver1)신용카드 사용자 연체 예측 AI 경진대회",
      "provenance": []
    },
    "kernelspec": {
      "name": "python3",
      "display_name": "Python 3"
    },
    "language_info": {
      "name": "python"
    }
  },
  "cells": [
    {
      "cell_type": "code",
      "metadata": {
        "colab": {
          "base_uri": "https://localhost:8080/",
          "height": 233
        },
        "id": "iTJdhzmgrznM",
        "outputId": "3f65e3d7-06f2-46a4-d033-47fd71e7633d"
      },
      "source": [
        "import pandas as pd\n",
        "train=pd.read_csv(\"train_preprocess.csv\",index_col=0)\n",
        "test=pd.read_csv(\"test_preprocess.csv\",index_col=0)\n",
        "test=test.drop(axis=1,labels=['index'])\n",
        "y=pd.read_csv(\"train.csv\")\n",
        "submit=pd.read_csv(\"sample_submission.csv\")\n",
        "print(y.shape)\n",
        "train.head()"
      ],
      "execution_count": 77,
      "outputs": [
        {
          "output_type": "stream",
          "text": [
            "(26457, 20)\n"
          ],
          "name": "stdout"
        },
        {
          "output_type": "execute_result",
          "data": {
            "text/html": [
              "<div>\n",
              "<style scoped>\n",
              "    .dataframe tbody tr th:only-of-type {\n",
              "        vertical-align: middle;\n",
              "    }\n",
              "\n",
              "    .dataframe tbody tr th {\n",
              "        vertical-align: top;\n",
              "    }\n",
              "\n",
              "    .dataframe thead th {\n",
              "        text-align: right;\n",
              "    }\n",
              "</style>\n",
              "<table border=\"1\" class=\"dataframe\">\n",
              "  <thead>\n",
              "    <tr style=\"text-align: right;\">\n",
              "      <th></th>\n",
              "      <th>gender</th>\n",
              "      <th>car</th>\n",
              "      <th>reality</th>\n",
              "      <th>child_num</th>\n",
              "      <th>income_total</th>\n",
              "      <th>income_type</th>\n",
              "      <th>edu_type</th>\n",
              "      <th>family_type</th>\n",
              "      <th>house_type</th>\n",
              "      <th>DAYS_BIRTH</th>\n",
              "      <th>DAYS_EMPLOYED</th>\n",
              "      <th>work_phone</th>\n",
              "      <th>phone</th>\n",
              "      <th>email</th>\n",
              "      <th>occyp_type</th>\n",
              "      <th>family_size</th>\n",
              "      <th>begin_month</th>\n",
              "    </tr>\n",
              "  </thead>\n",
              "  <tbody>\n",
              "    <tr>\n",
              "      <th>0</th>\n",
              "      <td>0</td>\n",
              "      <td>0</td>\n",
              "      <td>0</td>\n",
              "      <td>0</td>\n",
              "      <td>0</td>\n",
              "      <td>0</td>\n",
              "      <td>3</td>\n",
              "      <td>1</td>\n",
              "      <td>2</td>\n",
              "      <td>3</td>\n",
              "      <td>1</td>\n",
              "      <td>0</td>\n",
              "      <td>0</td>\n",
              "      <td>0</td>\n",
              "      <td>0</td>\n",
              "      <td>2.0</td>\n",
              "      <td>0</td>\n",
              "    </tr>\n",
              "    <tr>\n",
              "      <th>1</th>\n",
              "      <td>0</td>\n",
              "      <td>0</td>\n",
              "      <td>1</td>\n",
              "      <td>1</td>\n",
              "      <td>0</td>\n",
              "      <td>0</td>\n",
              "      <td>2</td>\n",
              "      <td>0</td>\n",
              "      <td>1</td>\n",
              "      <td>2</td>\n",
              "      <td>1</td>\n",
              "      <td>0</td>\n",
              "      <td>0</td>\n",
              "      <td>1</td>\n",
              "      <td>1</td>\n",
              "      <td>3.0</td>\n",
              "      <td>0</td>\n",
              "    </tr>\n",
              "    <tr>\n",
              "      <th>2</th>\n",
              "      <td>1</td>\n",
              "      <td>1</td>\n",
              "      <td>1</td>\n",
              "      <td>0</td>\n",
              "      <td>1</td>\n",
              "      <td>4</td>\n",
              "      <td>3</td>\n",
              "      <td>1</td>\n",
              "      <td>1</td>\n",
              "      <td>6</td>\n",
              "      <td>1</td>\n",
              "      <td>0</td>\n",
              "      <td>1</td>\n",
              "      <td>0</td>\n",
              "      <td>2</td>\n",
              "      <td>2.0</td>\n",
              "      <td>1</td>\n",
              "    </tr>\n",
              "    <tr>\n",
              "      <th>3</th>\n",
              "      <td>0</td>\n",
              "      <td>0</td>\n",
              "      <td>1</td>\n",
              "      <td>0</td>\n",
              "      <td>0</td>\n",
              "      <td>0</td>\n",
              "      <td>2</td>\n",
              "      <td>1</td>\n",
              "      <td>1</td>\n",
              "      <td>4</td>\n",
              "      <td>1</td>\n",
              "      <td>0</td>\n",
              "      <td>1</td>\n",
              "      <td>0</td>\n",
              "      <td>3</td>\n",
              "      <td>2.0</td>\n",
              "      <td>2</td>\n",
              "    </tr>\n",
              "    <tr>\n",
              "      <th>4</th>\n",
              "      <td>0</td>\n",
              "      <td>1</td>\n",
              "      <td>1</td>\n",
              "      <td>0</td>\n",
              "      <td>0</td>\n",
              "      <td>2</td>\n",
              "      <td>3</td>\n",
              "      <td>1</td>\n",
              "      <td>1</td>\n",
              "      <td>4</td>\n",
              "      <td>1</td>\n",
              "      <td>0</td>\n",
              "      <td>0</td>\n",
              "      <td>0</td>\n",
              "      <td>2</td>\n",
              "      <td>2.0</td>\n",
              "      <td>1</td>\n",
              "    </tr>\n",
              "  </tbody>\n",
              "</table>\n",
              "</div>"
            ],
            "text/plain": [
              "   gender  car  reality  child_num  ...  email  occyp_type  family_size  begin_month\n",
              "0       0    0        0          0  ...      0           0          2.0            0\n",
              "1       0    0        1          1  ...      1           1          3.0            0\n",
              "2       1    1        1          0  ...      0           2          2.0            1\n",
              "3       0    0        1          0  ...      0           3          2.0            2\n",
              "4       0    1        1          0  ...      0           2          2.0            1\n",
              "\n",
              "[5 rows x 17 columns]"
            ]
          },
          "metadata": {
            "tags": []
          },
          "execution_count": 77
        }
      ]
    },
    {
      "cell_type": "code",
      "metadata": {
        "id": "eUYwju2rszHx"
      },
      "source": [
        "y=y['credit']\n",
        "test=test.drop(axis=1,labels=['FLAG_MOBIL'])"
      ],
      "execution_count": 78,
      "outputs": []
    },
    {
      "cell_type": "code",
      "metadata": {
        "colab": {
          "base_uri": "https://localhost:8080/"
        },
        "id": "YL24O-oLsGX2",
        "outputId": "6105354c-6c3e-48be-de8c-f87ddc8cdc56"
      },
      "source": [
        "print(train.shape)\n",
        "print(test.shape)\n",
        "print(y.shape)"
      ],
      "execution_count": 79,
      "outputs": [
        {
          "output_type": "stream",
          "text": [
            "(26457, 17)\n",
            "(10000, 17)\n",
            "(26457,)\n"
          ],
          "name": "stdout"
        }
      ]
    },
    {
      "cell_type": "code",
      "metadata": {
        "id": "VAGjjSCFslvJ"
      },
      "source": [
        "import xgboost as xgb\n",
        "from sklearn.metrics import mean_squared_error\n",
        "from sklearn.model_selection import train_test_split\n",
        "import numpy as np"
      ],
      "execution_count": 80,
      "outputs": []
    },
    {
      "cell_type": "code",
      "metadata": {
        "id": "tahYIoxjvKAn"
      },
      "source": [
        "x_train,x_valid,y_train,y_valid=train_test_split(train,y,test_size=0.15,stratify=y)"
      ],
      "execution_count": 81,
      "outputs": []
    },
    {
      "cell_type": "code",
      "metadata": {
        "colab": {
          "base_uri": "https://localhost:8080/"
        },
        "id": "4ezcrA4uwWWG",
        "outputId": "248110ec-3d9f-4896-de82-fcab401435bd"
      },
      "source": [
        "print(\"x_train : \",x_train.shape,\"y_train :\", y_train.shape,\"x_valid :\", x_valid.shape,\"y_valid :\",y_valid.shape)"
      ],
      "execution_count": 82,
      "outputs": [
        {
          "output_type": "stream",
          "text": [
            "x_train :  (22488, 17) y_train : (22488,) x_valid : (3969, 17) y_valid : (3969,)\n"
          ],
          "name": "stdout"
        }
      ]
    },
    {
      "cell_type": "markdown",
      "metadata": {
        "id": "YNXlFsSZwPbO"
      },
      "source": [
        "#XGBoost"
      ]
    },
    {
      "cell_type": "code",
      "metadata": {
        "id": "sU73DXZcvdyV"
      },
      "source": [
        "xgb_classifier=xgb.XGBClassifier()\n",
        "xgb_classifier.fit(x_train,y_train)\n",
        "\n",
        "y_train_pred = xgb_classifier.predict(x_train)\n",
        "y_valid_pred= xgb_classifier.predict(x_valid)"
      ],
      "execution_count": 83,
      "outputs": []
    },
    {
      "cell_type": "code",
      "metadata": {
        "colab": {
          "base_uri": "https://localhost:8080/"
        },
        "id": "q1Ly5xy6v7xP",
        "outputId": "6200a720-7dc4-49e2-950c-3bc95c61f940"
      },
      "source": [
        "rmse_train =np.sqrt(mean_squared_error(y_train, y_train_pred))\n",
        "rmse_valid = np.sqrt(mean_squared_error(y_valid, y_valid_pred))\n",
        "print('RMSE train %0.3f, valid: %0.3f' %(rmse_train, rmse_valid))"
      ],
      "execution_count": 84,
      "outputs": [
        {
          "output_type": "stream",
          "text": [
            "RMSE train 0.848, valid: 0.849\n"
          ],
          "name": "stdout"
        }
      ]
    },
    {
      "cell_type": "code",
      "metadata": {
        "colab": {
          "base_uri": "https://localhost:8080/"
        },
        "id": "M-vUN2QOzlUb",
        "outputId": "3dff88ab-18d8-41f1-cdce-30f100ef09fb"
      },
      "source": [
        "xgb_classifier.fit(train,y)\n",
        "y_test_pred_proba = xgb_classifier.predict_proba(test)\n",
        "y_test_pred_proba"
      ],
      "execution_count": 85,
      "outputs": [
        {
          "output_type": "execute_result",
          "data": {
            "text/plain": [
              "array([[0.10800172, 0.16236599, 0.7296323 ],\n",
              "       [0.11977746, 0.1912658 , 0.68895674],\n",
              "       [0.13324003, 0.17939436, 0.68736565],\n",
              "       ...,\n",
              "       [0.10689813, 0.16729015, 0.7258117 ],\n",
              "       [0.09026609, 0.155263  , 0.7544709 ],\n",
              "       [0.11094995, 0.3542541 , 0.53479594]], dtype=float32)"
            ]
          },
          "metadata": {
            "tags": []
          },
          "execution_count": 85
        }
      ]
    },
    {
      "cell_type": "code",
      "metadata": {
        "colab": {
          "base_uri": "https://localhost:8080/",
          "height": 195
        },
        "id": "NQFnw59z0omZ",
        "outputId": "4e7d8475-85f1-43a3-b4fd-f820547b248f"
      },
      "source": [
        "submit.iloc[:,1:]=y_test_pred_proba\n",
        "submit.head()"
      ],
      "execution_count": 86,
      "outputs": [
        {
          "output_type": "execute_result",
          "data": {
            "text/html": [
              "<div>\n",
              "<style scoped>\n",
              "    .dataframe tbody tr th:only-of-type {\n",
              "        vertical-align: middle;\n",
              "    }\n",
              "\n",
              "    .dataframe tbody tr th {\n",
              "        vertical-align: top;\n",
              "    }\n",
              "\n",
              "    .dataframe thead th {\n",
              "        text-align: right;\n",
              "    }\n",
              "</style>\n",
              "<table border=\"1\" class=\"dataframe\">\n",
              "  <thead>\n",
              "    <tr style=\"text-align: right;\">\n",
              "      <th></th>\n",
              "      <th>index</th>\n",
              "      <th>0</th>\n",
              "      <th>1</th>\n",
              "      <th>2</th>\n",
              "    </tr>\n",
              "  </thead>\n",
              "  <tbody>\n",
              "    <tr>\n",
              "      <th>0</th>\n",
              "      <td>26457</td>\n",
              "      <td>0.108002</td>\n",
              "      <td>0.162366</td>\n",
              "      <td>0.729632</td>\n",
              "    </tr>\n",
              "    <tr>\n",
              "      <th>1</th>\n",
              "      <td>26458</td>\n",
              "      <td>0.119777</td>\n",
              "      <td>0.191266</td>\n",
              "      <td>0.688957</td>\n",
              "    </tr>\n",
              "    <tr>\n",
              "      <th>2</th>\n",
              "      <td>26459</td>\n",
              "      <td>0.133240</td>\n",
              "      <td>0.179394</td>\n",
              "      <td>0.687366</td>\n",
              "    </tr>\n",
              "    <tr>\n",
              "      <th>3</th>\n",
              "      <td>26460</td>\n",
              "      <td>0.113378</td>\n",
              "      <td>0.152527</td>\n",
              "      <td>0.734095</td>\n",
              "    </tr>\n",
              "    <tr>\n",
              "      <th>4</th>\n",
              "      <td>26461</td>\n",
              "      <td>0.123629</td>\n",
              "      <td>0.339555</td>\n",
              "      <td>0.536816</td>\n",
              "    </tr>\n",
              "  </tbody>\n",
              "</table>\n",
              "</div>"
            ],
            "text/plain": [
              "   index         0         1         2\n",
              "0  26457  0.108002  0.162366  0.729632\n",
              "1  26458  0.119777  0.191266  0.688957\n",
              "2  26459  0.133240  0.179394  0.687366\n",
              "3  26460  0.113378  0.152527  0.734095\n",
              "4  26461  0.123629  0.339555  0.536816"
            ]
          },
          "metadata": {
            "tags": []
          },
          "execution_count": 86
        }
      ]
    },
    {
      "cell_type": "code",
      "metadata": {
        "id": "OAsJMOuv1N0P"
      },
      "source": [
        "submit.to_csv(\"sample_submission_ver1_xgBoost.csv\", index = False)"
      ],
      "execution_count": 94,
      "outputs": []
    },
    {
      "cell_type": "markdown",
      "metadata": {
        "id": "NzsfUlRn2h9B"
      },
      "source": [
        "#CaTBoost"
      ]
    },
    {
      "cell_type": "code",
      "metadata": {
        "colab": {
          "base_uri": "https://localhost:8080/"
        },
        "id": "khYau8NS2_Ax",
        "outputId": "f4b1b109-a4ce-439d-b8e2-a077a8db6c3d"
      },
      "source": [
        "!pip install catboost"
      ],
      "execution_count": 71,
      "outputs": [
        {
          "output_type": "stream",
          "text": [
            "Collecting catboost\n",
            "\u001b[?25l  Downloading https://files.pythonhosted.org/packages/47/80/8e9c57ec32dfed6ba2922bc5c96462cbf8596ce1a6f5de532ad1e43e53fe/catboost-0.25.1-cp37-none-manylinux1_x86_64.whl (67.3MB)\n",
            "\u001b[K     |████████████████████████████████| 67.3MB 54kB/s \n",
            "\u001b[?25hRequirement already satisfied: scipy in /usr/local/lib/python3.7/dist-packages (from catboost) (1.4.1)\n",
            "Requirement already satisfied: graphviz in /usr/local/lib/python3.7/dist-packages (from catboost) (0.10.1)\n",
            "Requirement already satisfied: pandas>=0.24.0 in /usr/local/lib/python3.7/dist-packages (from catboost) (1.1.5)\n",
            "Requirement already satisfied: plotly in /usr/local/lib/python3.7/dist-packages (from catboost) (4.4.1)\n",
            "Requirement already satisfied: six in /usr/local/lib/python3.7/dist-packages (from catboost) (1.15.0)\n",
            "Requirement already satisfied: matplotlib in /usr/local/lib/python3.7/dist-packages (from catboost) (3.2.2)\n",
            "Requirement already satisfied: numpy>=1.16.0 in /usr/local/lib/python3.7/dist-packages (from catboost) (1.19.5)\n",
            "Requirement already satisfied: python-dateutil>=2.7.3 in /usr/local/lib/python3.7/dist-packages (from pandas>=0.24.0->catboost) (2.8.1)\n",
            "Requirement already satisfied: pytz>=2017.2 in /usr/local/lib/python3.7/dist-packages (from pandas>=0.24.0->catboost) (2018.9)\n",
            "Requirement already satisfied: retrying>=1.3.3 in /usr/local/lib/python3.7/dist-packages (from plotly->catboost) (1.3.3)\n",
            "Requirement already satisfied: kiwisolver>=1.0.1 in /usr/local/lib/python3.7/dist-packages (from matplotlib->catboost) (1.3.1)\n",
            "Requirement already satisfied: pyparsing!=2.0.4,!=2.1.2,!=2.1.6,>=2.0.1 in /usr/local/lib/python3.7/dist-packages (from matplotlib->catboost) (2.4.7)\n",
            "Requirement already satisfied: cycler>=0.10 in /usr/local/lib/python3.7/dist-packages (from matplotlib->catboost) (0.10.0)\n",
            "Installing collected packages: catboost\n",
            "Successfully installed catboost-0.25.1\n"
          ],
          "name": "stdout"
        }
      ]
    },
    {
      "cell_type": "code",
      "metadata": {
        "colab": {
          "base_uri": "https://localhost:8080/"
        },
        "id": "gO2V4znZ1QrL",
        "outputId": "4baea80e-8450-486f-8e32-e8dd3abf248a"
      },
      "source": [
        "from catboost import CatBoostClassifier\n",
        "cat_classifier = CatBoostClassifier(iterations=1000)\n",
        "cat_classifier.fit(x_train,y_train,verbose=False)"
      ],
      "execution_count": 88,
      "outputs": [
        {
          "output_type": "execute_result",
          "data": {
            "text/plain": [
              "<catboost.core.CatBoostClassifier at 0x7f74b8183d50>"
            ]
          },
          "metadata": {
            "tags": []
          },
          "execution_count": 88
        }
      ]
    },
    {
      "cell_type": "code",
      "metadata": {
        "id": "Jl9H_Xb124a_"
      },
      "source": [
        "y_train_pred = cat_classifier.predict(x_train)\n",
        "y_valid_pred= cat_classifier.predict(x_valid)"
      ],
      "execution_count": 89,
      "outputs": []
    },
    {
      "cell_type": "code",
      "metadata": {
        "colab": {
          "base_uri": "https://localhost:8080/"
        },
        "id": "76A4olLP3Is1",
        "outputId": "b59a3980-9502-49e5-9645-2290ec70ca58"
      },
      "source": [
        "rmse_train =np.sqrt(mean_squared_error(y_train, y_train_pred))\n",
        "rmse_valid = np.sqrt(mean_squared_error(y_valid, y_valid_pred))\n",
        "print('RMSE train %0.3f, valid: %0.3f' %(rmse_train, rmse_valid))"
      ],
      "execution_count": 90,
      "outputs": [
        {
          "output_type": "stream",
          "text": [
            "RMSE train 0.763, valid: 0.815\n"
          ],
          "name": "stdout"
        }
      ]
    },
    {
      "cell_type": "code",
      "metadata": {
        "colab": {
          "base_uri": "https://localhost:8080/"
        },
        "id": "pp9zxMjG3J_F",
        "outputId": "34308bd4-273f-42fc-9230-cab025ed9dbc"
      },
      "source": [
        "cat_classifier.fit(train,y,verbose=False)\n",
        "y_test_pred_proba = cat_classifier.predict_proba(test)\n",
        "y_test_pred_proba"
      ],
      "execution_count": 91,
      "outputs": [
        {
          "output_type": "execute_result",
          "data": {
            "text/plain": [
              "array([[0.1911562 , 0.05693709, 0.75190671],\n",
              "       [0.16550347, 0.09202023, 0.7424763 ],\n",
              "       [0.18942676, 0.21007883, 0.60049441],\n",
              "       ...,\n",
              "       [0.03455537, 0.11230387, 0.85314076],\n",
              "       [0.08791726, 0.27364492, 0.63843781],\n",
              "       [0.05006477, 0.51776065, 0.43217458]])"
            ]
          },
          "metadata": {
            "tags": []
          },
          "execution_count": 91
        }
      ]
    },
    {
      "cell_type": "code",
      "metadata": {
        "colab": {
          "base_uri": "https://localhost:8080/",
          "height": 195
        },
        "id": "bo0-xAE43vtV",
        "outputId": "c0495544-8c95-4388-d6e2-d7369b2ad046"
      },
      "source": [
        "submit.iloc[:,1:]=y_test_pred_proba\n",
        "submit.head()"
      ],
      "execution_count": 92,
      "outputs": [
        {
          "output_type": "execute_result",
          "data": {
            "text/html": [
              "<div>\n",
              "<style scoped>\n",
              "    .dataframe tbody tr th:only-of-type {\n",
              "        vertical-align: middle;\n",
              "    }\n",
              "\n",
              "    .dataframe tbody tr th {\n",
              "        vertical-align: top;\n",
              "    }\n",
              "\n",
              "    .dataframe thead th {\n",
              "        text-align: right;\n",
              "    }\n",
              "</style>\n",
              "<table border=\"1\" class=\"dataframe\">\n",
              "  <thead>\n",
              "    <tr style=\"text-align: right;\">\n",
              "      <th></th>\n",
              "      <th>index</th>\n",
              "      <th>0</th>\n",
              "      <th>1</th>\n",
              "      <th>2</th>\n",
              "    </tr>\n",
              "  </thead>\n",
              "  <tbody>\n",
              "    <tr>\n",
              "      <th>0</th>\n",
              "      <td>26457</td>\n",
              "      <td>0.191156</td>\n",
              "      <td>0.056937</td>\n",
              "      <td>0.751907</td>\n",
              "    </tr>\n",
              "    <tr>\n",
              "      <th>1</th>\n",
              "      <td>26458</td>\n",
              "      <td>0.165503</td>\n",
              "      <td>0.092020</td>\n",
              "      <td>0.742476</td>\n",
              "    </tr>\n",
              "    <tr>\n",
              "      <th>2</th>\n",
              "      <td>26459</td>\n",
              "      <td>0.189427</td>\n",
              "      <td>0.210079</td>\n",
              "      <td>0.600494</td>\n",
              "    </tr>\n",
              "    <tr>\n",
              "      <th>3</th>\n",
              "      <td>26460</td>\n",
              "      <td>0.083291</td>\n",
              "      <td>0.096015</td>\n",
              "      <td>0.820694</td>\n",
              "    </tr>\n",
              "    <tr>\n",
              "      <th>4</th>\n",
              "      <td>26461</td>\n",
              "      <td>0.060560</td>\n",
              "      <td>0.284760</td>\n",
              "      <td>0.654680</td>\n",
              "    </tr>\n",
              "  </tbody>\n",
              "</table>\n",
              "</div>"
            ],
            "text/plain": [
              "   index         0         1         2\n",
              "0  26457  0.191156  0.056937  0.751907\n",
              "1  26458  0.165503  0.092020  0.742476\n",
              "2  26459  0.189427  0.210079  0.600494\n",
              "3  26460  0.083291  0.096015  0.820694\n",
              "4  26461  0.060560  0.284760  0.654680"
            ]
          },
          "metadata": {
            "tags": []
          },
          "execution_count": 92
        }
      ]
    },
    {
      "cell_type": "code",
      "metadata": {
        "id": "OqOFA0uZ3w57"
      },
      "source": [
        "submit.to_csv(\"sample_submission_ver1_CaT.csv\", index = False)"
      ],
      "execution_count": 93,
      "outputs": []
    },
    {
      "cell_type": "code",
      "metadata": {
        "id": "IRXKdNIl3_cs"
      },
      "source": [
        ""
      ],
      "execution_count": null,
      "outputs": []
    }
  ]
}