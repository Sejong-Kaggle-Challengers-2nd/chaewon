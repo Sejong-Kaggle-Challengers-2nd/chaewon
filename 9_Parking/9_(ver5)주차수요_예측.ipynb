{
  "nbformat": 4,
  "nbformat_minor": 0,
  "metadata": {
    "colab": {
      "name": "9_(ver5)주차수요 예측",
      "provenance": [],
      "collapsed_sections": [],
      "toc_visible": true
    },
    "kernelspec": {
      "name": "python3",
      "display_name": "Python 3"
    },
    "language_info": {
      "name": "python"
    }
  },
  "cells": [
    {
      "cell_type": "code",
      "metadata": {
        "id": "l9Oy2f514f9t"
      },
      "source": [
        "import pandas as pd\n",
        "import numpy as np\n",
        "from sklearn.ensemble import RandomForestRegressor\n",
        "from tqdm import tqdm\n",
        "from sklearn.preprocessing import LabelEncoder"
      ],
      "execution_count": null,
      "outputs": []
    },
    {
      "cell_type": "code",
      "metadata": {
        "id": "9X-08aB86F0i"
      },
      "source": [
        "train = pd.read_csv('train.csv')\n",
        "test = pd.read_csv('test.csv')\n",
        "submission = pd.read_csv('sample_submission.csv')\n",
        "age_gender=pd.read_csv('age_gender_info.csv',index_col=0)"
      ],
      "execution_count": null,
      "outputs": []
    },
    {
      "cell_type": "markdown",
      "metadata": {
        "id": "eK6F78fc9Zd8"
      },
      "source": [
        "#데이터 확인"
      ]
    },
    {
      "cell_type": "code",
      "metadata": {
        "colab": {
          "base_uri": "https://localhost:8080/"
        },
        "id": "o0h9dG_DzKP_",
        "outputId": "9eea5239-c038-40ba-928e-396bdd3b3b32"
      },
      "source": [
        "print(\"train shape: {}, test shape: {}, submission shape: {}, age_gender_info shape: {}\".format(train.shape,test.shape, submission.shape, age_gender.shape))"
      ],
      "execution_count": null,
      "outputs": [
        {
          "output_type": "stream",
          "text": [
            "train shape: (2952, 15), test shape: (1022, 14), submission shape: (150, 2), age_gender_info shape: (16, 22)\n"
          ],
          "name": "stdout"
        }
      ]
    },
    {
      "cell_type": "markdown",
      "metadata": {
        "id": "hS6fWW1t-Oio"
      },
      "source": [
        "##train & test"
      ]
    },
    {
      "cell_type": "code",
      "metadata": {
        "colab": {
          "base_uri": "https://localhost:8080/",
          "height": 226
        },
        "id": "0BIYuO3SxtK5",
        "outputId": "11921473-4b6d-4152-db77-8bf702e25237"
      },
      "source": [
        "train.head(3)"
      ],
      "execution_count": null,
      "outputs": [
        {
          "output_type": "execute_result",
          "data": {
            "text/html": [
              "<div>\n",
              "<style scoped>\n",
              "    .dataframe tbody tr th:only-of-type {\n",
              "        vertical-align: middle;\n",
              "    }\n",
              "\n",
              "    .dataframe tbody tr th {\n",
              "        vertical-align: top;\n",
              "    }\n",
              "\n",
              "    .dataframe thead th {\n",
              "        text-align: right;\n",
              "    }\n",
              "</style>\n",
              "<table border=\"1\" class=\"dataframe\">\n",
              "  <thead>\n",
              "    <tr style=\"text-align: right;\">\n",
              "      <th></th>\n",
              "      <th>단지코드</th>\n",
              "      <th>총세대수</th>\n",
              "      <th>임대건물구분</th>\n",
              "      <th>지역</th>\n",
              "      <th>공급유형</th>\n",
              "      <th>전용면적</th>\n",
              "      <th>전용면적별세대수</th>\n",
              "      <th>공가수</th>\n",
              "      <th>자격유형</th>\n",
              "      <th>임대보증금</th>\n",
              "      <th>임대료</th>\n",
              "      <th>도보 10분거리 내 지하철역 수(환승노선 수 반영)</th>\n",
              "      <th>도보 10분거리 내 버스정류장 수</th>\n",
              "      <th>단지내주차면수</th>\n",
              "      <th>등록차량수</th>\n",
              "    </tr>\n",
              "  </thead>\n",
              "  <tbody>\n",
              "    <tr>\n",
              "      <th>0</th>\n",
              "      <td>C2483</td>\n",
              "      <td>900</td>\n",
              "      <td>아파트</td>\n",
              "      <td>경상북도</td>\n",
              "      <td>국민임대</td>\n",
              "      <td>39.72</td>\n",
              "      <td>134</td>\n",
              "      <td>38.0</td>\n",
              "      <td>A</td>\n",
              "      <td>15667000</td>\n",
              "      <td>103680</td>\n",
              "      <td>0.0</td>\n",
              "      <td>3.0</td>\n",
              "      <td>1425.0</td>\n",
              "      <td>1015.0</td>\n",
              "    </tr>\n",
              "    <tr>\n",
              "      <th>1</th>\n",
              "      <td>C2483</td>\n",
              "      <td>900</td>\n",
              "      <td>아파트</td>\n",
              "      <td>경상북도</td>\n",
              "      <td>국민임대</td>\n",
              "      <td>39.72</td>\n",
              "      <td>15</td>\n",
              "      <td>38.0</td>\n",
              "      <td>A</td>\n",
              "      <td>15667000</td>\n",
              "      <td>103680</td>\n",
              "      <td>0.0</td>\n",
              "      <td>3.0</td>\n",
              "      <td>1425.0</td>\n",
              "      <td>1015.0</td>\n",
              "    </tr>\n",
              "    <tr>\n",
              "      <th>2</th>\n",
              "      <td>C2483</td>\n",
              "      <td>900</td>\n",
              "      <td>아파트</td>\n",
              "      <td>경상북도</td>\n",
              "      <td>국민임대</td>\n",
              "      <td>51.93</td>\n",
              "      <td>385</td>\n",
              "      <td>38.0</td>\n",
              "      <td>A</td>\n",
              "      <td>27304000</td>\n",
              "      <td>184330</td>\n",
              "      <td>0.0</td>\n",
              "      <td>3.0</td>\n",
              "      <td>1425.0</td>\n",
              "      <td>1015.0</td>\n",
              "    </tr>\n",
              "  </tbody>\n",
              "</table>\n",
              "</div>"
            ],
            "text/plain": [
              "    단지코드  총세대수 임대건물구분  ... 도보 10분거리 내 버스정류장 수 단지내주차면수   등록차량수\n",
              "0  C2483   900    아파트  ...                3.0  1425.0  1015.0\n",
              "1  C2483   900    아파트  ...                3.0  1425.0  1015.0\n",
              "2  C2483   900    아파트  ...                3.0  1425.0  1015.0\n",
              "\n",
              "[3 rows x 15 columns]"
            ]
          },
          "metadata": {
            "tags": []
          },
          "execution_count": 4
        }
      ]
    },
    {
      "cell_type": "code",
      "metadata": {
        "colab": {
          "base_uri": "https://localhost:8080/",
          "height": 259
        },
        "id": "heNgDoCGKQ6I",
        "outputId": "539bf494-2e54-43ec-836a-277bbd218f5e"
      },
      "source": [
        "test.head(3)"
      ],
      "execution_count": null,
      "outputs": [
        {
          "output_type": "execute_result",
          "data": {
            "text/html": [
              "<div>\n",
              "<style scoped>\n",
              "    .dataframe tbody tr th:only-of-type {\n",
              "        vertical-align: middle;\n",
              "    }\n",
              "\n",
              "    .dataframe tbody tr th {\n",
              "        vertical-align: top;\n",
              "    }\n",
              "\n",
              "    .dataframe thead th {\n",
              "        text-align: right;\n",
              "    }\n",
              "</style>\n",
              "<table border=\"1\" class=\"dataframe\">\n",
              "  <thead>\n",
              "    <tr style=\"text-align: right;\">\n",
              "      <th></th>\n",
              "      <th>단지코드</th>\n",
              "      <th>총세대수</th>\n",
              "      <th>임대건물구분</th>\n",
              "      <th>지역</th>\n",
              "      <th>공급유형</th>\n",
              "      <th>전용면적</th>\n",
              "      <th>전용면적별세대수</th>\n",
              "      <th>공가수</th>\n",
              "      <th>자격유형</th>\n",
              "      <th>임대보증금</th>\n",
              "      <th>임대료</th>\n",
              "      <th>도보 10분거리 내 지하철역 수(환승노선 수 반영)</th>\n",
              "      <th>도보 10분거리 내 버스정류장 수</th>\n",
              "      <th>단지내주차면수</th>\n",
              "    </tr>\n",
              "  </thead>\n",
              "  <tbody>\n",
              "    <tr>\n",
              "      <th>0</th>\n",
              "      <td>C1072</td>\n",
              "      <td>754</td>\n",
              "      <td>아파트</td>\n",
              "      <td>경기도</td>\n",
              "      <td>국민임대</td>\n",
              "      <td>39.79</td>\n",
              "      <td>116</td>\n",
              "      <td>14.0</td>\n",
              "      <td>H</td>\n",
              "      <td>22830000</td>\n",
              "      <td>189840</td>\n",
              "      <td>0.0</td>\n",
              "      <td>2.0</td>\n",
              "      <td>683.0</td>\n",
              "    </tr>\n",
              "    <tr>\n",
              "      <th>1</th>\n",
              "      <td>C1072</td>\n",
              "      <td>754</td>\n",
              "      <td>아파트</td>\n",
              "      <td>경기도</td>\n",
              "      <td>국민임대</td>\n",
              "      <td>46.81</td>\n",
              "      <td>30</td>\n",
              "      <td>14.0</td>\n",
              "      <td>A</td>\n",
              "      <td>36048000</td>\n",
              "      <td>249930</td>\n",
              "      <td>0.0</td>\n",
              "      <td>2.0</td>\n",
              "      <td>683.0</td>\n",
              "    </tr>\n",
              "    <tr>\n",
              "      <th>2</th>\n",
              "      <td>C1072</td>\n",
              "      <td>754</td>\n",
              "      <td>아파트</td>\n",
              "      <td>경기도</td>\n",
              "      <td>국민임대</td>\n",
              "      <td>46.90</td>\n",
              "      <td>112</td>\n",
              "      <td>14.0</td>\n",
              "      <td>H</td>\n",
              "      <td>36048000</td>\n",
              "      <td>249930</td>\n",
              "      <td>0.0</td>\n",
              "      <td>2.0</td>\n",
              "      <td>683.0</td>\n",
              "    </tr>\n",
              "  </tbody>\n",
              "</table>\n",
              "</div>"
            ],
            "text/plain": [
              "    단지코드  총세대수  ... 도보 10분거리 내 버스정류장 수 단지내주차면수\n",
              "0  C1072   754  ...                2.0   683.0\n",
              "1  C1072   754  ...                2.0   683.0\n",
              "2  C1072   754  ...                2.0   683.0\n",
              "\n",
              "[3 rows x 14 columns]"
            ]
          },
          "metadata": {
            "tags": []
          },
          "execution_count": 5
        }
      ]
    },
    {
      "cell_type": "markdown",
      "metadata": {
        "id": "960Tm4nY86_G"
      },
      "source": [
        "###header 간소화"
      ]
    },
    {
      "cell_type": "markdown",
      "metadata": {
        "id": "qd9vGvPN8_HY"
      },
      "source": [
        "도보 10분거리 내 지하철역 수(환승노선 수 반영) --> 지하철 <br>\n",
        "도보 10분거리 내 버스정류장 수 -> 버스"
      ]
    },
    {
      "cell_type": "code",
      "metadata": {
        "colab": {
          "base_uri": "https://localhost:8080/"
        },
        "id": "GmZCUZDgFvFq",
        "outputId": "d5c02996-e949-4bec-a979-0d3c62a5c6f1"
      },
      "source": [
        "train.columns"
      ],
      "execution_count": null,
      "outputs": [
        {
          "output_type": "execute_result",
          "data": {
            "text/plain": [
              "Index(['단지코드', '총세대수', '임대건물구분', '지역', '공급유형', '전용면적', '전용면적별세대수', '공가수',\n",
              "       '자격유형', '임대보증금', '임대료', '도보 10분거리 내 지하철역 수(환승노선 수 반영)',\n",
              "       '도보 10분거리 내 버스정류장 수', '단지내주차면수', '등록차량수'],\n",
              "      dtype='object')"
            ]
          },
          "metadata": {
            "tags": []
          },
          "execution_count": 6
        }
      ]
    },
    {
      "cell_type": "code",
      "metadata": {
        "id": "BGib_iBCFQur"
      },
      "source": [
        "train.columns = [\n",
        "    '단지코드', '총세대수', '임대건물구분', '지역', '공급유형', '전용면적', '전용면적별세대수', '공가수', '자격유형',\n",
        "    '임대보증금', '임대료', '지하철', '버스', '단지내주차면수', '등록차량수']\n",
        "\n",
        "test.columns = [\n",
        "    '단지코드', '총세대수', '임대건물구분', '지역', '공급유형', '전용면적', '전용면적별세대수', '공가수', '자격유형',\n",
        "    '임대보증금', '임대료', '지하철', '버스','단지내주차면수']"
      ],
      "execution_count": null,
      "outputs": []
    },
    {
      "cell_type": "markdown",
      "metadata": {
        "id": "oH3Pa2mT-3P5"
      },
      "source": [
        "### categorical 값의 unique 값 확인"
      ]
    },
    {
      "cell_type": "code",
      "metadata": {
        "colab": {
          "base_uri": "https://localhost:8080/"
        },
        "id": "MLBSPA_E1bGI",
        "outputId": "6301f03e-d2a1-468c-9716-e45a7fce3c5f"
      },
      "source": [
        "train.columns"
      ],
      "execution_count": null,
      "outputs": [
        {
          "output_type": "execute_result",
          "data": {
            "text/plain": [
              "Index(['단지코드', '총세대수', '임대건물구분', '지역', '공급유형', '전용면적', '전용면적별세대수', '공가수',\n",
              "       '자격유형', '임대보증금', '임대료', '지하철', '버스', '단지내주차면수', '등록차량수'],\n",
              "      dtype='object')"
            ]
          },
          "metadata": {
            "tags": []
          },
          "execution_count": 8
        }
      ]
    },
    {
      "cell_type": "code",
      "metadata": {
        "colab": {
          "base_uri": "https://localhost:8080/"
        },
        "id": "bAb1kX8F2RSE",
        "outputId": "9f8e89ec-8b99-4d8d-84d6-94989bbcb76c"
      },
      "source": [
        "train_cols=['임대건물구분', '지역', '공급유형', '자격유형', '지하철','버스']\n",
        "\n",
        "for col in train_cols:\n",
        "    print(\"{} 의 unique 값 ::: {}\".format(col,pd.unique(train[col])))"
      ],
      "execution_count": null,
      "outputs": [
        {
          "output_type": "stream",
          "text": [
            "임대건물구분 의 unique 값 ::: ['아파트' '상가']\n",
            "지역 의 unique 값 ::: ['경상북도' '경상남도' '대전광역시' '경기도' '전라북도' '강원도' '광주광역시' '충청남도' '부산광역시' '제주특별자치도'\n",
            " '울산광역시' '충청북도' '전라남도' '대구광역시' '서울특별시' '세종특별자치시']\n",
            "공급유형 의 unique 값 ::: ['국민임대' '공공임대(50년)' '영구임대' '임대상가' '공공임대(10년)' '공공임대(분납)' '장기전세' '공공분양'\n",
            " '행복주택' '공공임대(5년)']\n",
            "자격유형 의 unique 값 ::: ['A' 'B' 'C' 'D' 'E' 'F' 'G' 'H' 'I' 'J' 'K' 'L' 'M' 'N' 'O']\n",
            "지하철 의 unique 값 ::: [ 0.  1. nan  2.  3.]\n",
            "버스 의 unique 값 ::: [ 3.  1.  2.  6. 10.  5.  4.  7. 12. 14.  8.  0. 20. 11. 16. 15. nan 19.]\n"
          ],
          "name": "stdout"
        }
      ]
    },
    {
      "cell_type": "markdown",
      "metadata": {
        "id": "dlVx799I-nUv"
      },
      "source": [
        "###결측치 확인"
      ]
    },
    {
      "cell_type": "code",
      "metadata": {
        "colab": {
          "base_uri": "https://localhost:8080/"
        },
        "id": "yWEr7jvw2v8m",
        "outputId": "f70402de-2856-4ed1-d0b5-c18c412021ae"
      },
      "source": [
        "train.isnull().sum()"
      ],
      "execution_count": null,
      "outputs": [
        {
          "output_type": "execute_result",
          "data": {
            "text/plain": [
              "단지코드          0\n",
              "총세대수          0\n",
              "임대건물구분        0\n",
              "지역            0\n",
              "공급유형          0\n",
              "전용면적          0\n",
              "전용면적별세대수      0\n",
              "공가수           0\n",
              "자격유형          0\n",
              "임대보증금       569\n",
              "임대료         569\n",
              "지하철         211\n",
              "버스            4\n",
              "단지내주차면수       0\n",
              "등록차량수         0\n",
              "dtype: int64"
            ]
          },
          "metadata": {
            "tags": []
          },
          "execution_count": 10
        }
      ]
    },
    {
      "cell_type": "code",
      "metadata": {
        "colab": {
          "base_uri": "https://localhost:8080/"
        },
        "id": "Wj9xFNwt4dSY",
        "outputId": "71ccc9c8-ca09-4a62-df8c-9a066f99d308"
      },
      "source": [
        "test.isnull().sum()"
      ],
      "execution_count": null,
      "outputs": [
        {
          "output_type": "execute_result",
          "data": {
            "text/plain": [
              "단지코드          0\n",
              "총세대수          0\n",
              "임대건물구분        0\n",
              "지역            0\n",
              "공급유형          0\n",
              "전용면적          0\n",
              "전용면적별세대수      0\n",
              "공가수           0\n",
              "자격유형          2\n",
              "임대보증금       180\n",
              "임대료         180\n",
              "지하철          42\n",
              "버스            0\n",
              "단지내주차면수       0\n",
              "dtype: int64"
            ]
          },
          "metadata": {
            "tags": []
          },
          "execution_count": 11
        }
      ]
    },
    {
      "cell_type": "markdown",
      "metadata": {
        "id": "7CoBOa1SAngS"
      },
      "source": [
        "임대보증금, 임대료, 지하철, 버스, 자격유형 -> 결측치 채우기"
      ]
    },
    {
      "cell_type": "markdown",
      "metadata": {
        "id": "th--AwDWQ-7H"
      },
      "source": [
        "## submission"
      ]
    },
    {
      "cell_type": "code",
      "metadata": {
        "colab": {
          "base_uri": "https://localhost:8080/",
          "height": 142
        },
        "id": "TfumdKfSREi7",
        "outputId": "3ca15f98-cade-4e05-b76d-f9cff7ac5f1f"
      },
      "source": [
        "submission.head(3)"
      ],
      "execution_count": null,
      "outputs": [
        {
          "output_type": "execute_result",
          "data": {
            "text/html": [
              "<div>\n",
              "<style scoped>\n",
              "    .dataframe tbody tr th:only-of-type {\n",
              "        vertical-align: middle;\n",
              "    }\n",
              "\n",
              "    .dataframe tbody tr th {\n",
              "        vertical-align: top;\n",
              "    }\n",
              "\n",
              "    .dataframe thead th {\n",
              "        text-align: right;\n",
              "    }\n",
              "</style>\n",
              "<table border=\"1\" class=\"dataframe\">\n",
              "  <thead>\n",
              "    <tr style=\"text-align: right;\">\n",
              "      <th></th>\n",
              "      <th>code</th>\n",
              "      <th>num</th>\n",
              "    </tr>\n",
              "  </thead>\n",
              "  <tbody>\n",
              "    <tr>\n",
              "      <th>0</th>\n",
              "      <td>C1072</td>\n",
              "      <td>0</td>\n",
              "    </tr>\n",
              "    <tr>\n",
              "      <th>1</th>\n",
              "      <td>C1128</td>\n",
              "      <td>0</td>\n",
              "    </tr>\n",
              "    <tr>\n",
              "      <th>2</th>\n",
              "      <td>C1456</td>\n",
              "      <td>0</td>\n",
              "    </tr>\n",
              "  </tbody>\n",
              "</table>\n",
              "</div>"
            ],
            "text/plain": [
              "    code  num\n",
              "0  C1072    0\n",
              "1  C1128    0\n",
              "2  C1456    0"
            ]
          },
          "metadata": {
            "tags": []
          },
          "execution_count": 12
        }
      ]
    },
    {
      "cell_type": "markdown",
      "metadata": {
        "id": "IU3srHfORL2U"
      },
      "source": [
        "submission과 test의 행의 갯수가 위에서 shape로 확인했다시피 다르다"
      ]
    },
    {
      "cell_type": "code",
      "metadata": {
        "colab": {
          "base_uri": "https://localhost:8080/"
        },
        "id": "f6fAWaSrRU2d",
        "outputId": "67061c19-f197-454d-e171-73e1bf53de10"
      },
      "source": [
        "print(\"test에서 단지코드의 갯수 : \",len(test['단지코드'].unique()))\n",
        "print(\"submission에서 단지코드의 갯수 : \",len(submission['code'].unique()))"
      ],
      "execution_count": null,
      "outputs": [
        {
          "output_type": "stream",
          "text": [
            "test에서 단지코드의 갯수 :  150\n",
            "submission에서 단지코드의 갯수 :  150\n"
          ],
          "name": "stdout"
        }
      ]
    },
    {
      "cell_type": "markdown",
      "metadata": {
        "id": "1j-EhvbDRqHt"
      },
      "source": [
        "test는 단지의 여러 세대의 정보가 있으므로 결국 단지코드별로 정리해서 학습&예측 을 해야한다"
      ]
    },
    {
      "cell_type": "markdown",
      "metadata": {
        "id": "gu45GaoT84t1"
      },
      "source": [
        "#전처리"
      ]
    },
    {
      "cell_type": "markdown",
      "metadata": {
        "id": "xgIJ6lVk_z9m"
      },
      "source": [
        "## 결측치 채우기"
      ]
    },
    {
      "cell_type": "markdown",
      "metadata": {
        "id": "rYDxfHQ19ZgK"
      },
      "source": [
        "### 버스"
      ]
    },
    {
      "cell_type": "markdown",
      "metadata": {
        "id": "vmbOgjP7KjII"
      },
      "source": [
        "test에는 결측치가 없다"
      ]
    },
    {
      "cell_type": "code",
      "metadata": {
        "id": "CTUh2PbX9cm8"
      },
      "source": [
        "train['버스']=train['버스'].fillna(-1)"
      ],
      "execution_count": null,
      "outputs": []
    },
    {
      "cell_type": "markdown",
      "metadata": {
        "id": "DbEqqSA89m16"
      },
      "source": [
        "### 지하철"
      ]
    },
    {
      "cell_type": "code",
      "metadata": {
        "colab": {
          "base_uri": "https://localhost:8080/"
        },
        "id": "u_UcFtwL9qzP",
        "outputId": "b8045c52-3011-48d4-ef00-1a7bc4ae0c5f"
      },
      "source": [
        "print('지하철 결측치 단지 지역: ', train.loc[train['지하철'].isnull()]['지역'].unique())\n",
        "print('지하철 결측치 단지 지역: ', test.loc[test['지하철'].isnull()]['지역'].unique())"
      ],
      "execution_count": null,
      "outputs": [
        {
          "output_type": "stream",
          "text": [
            "지하철 결측치 단지 지역:  ['충청남도' '대전광역시' '경상남도']\n",
            "지하철 결측치 단지 지역:  ['충청남도' '대전광역시']\n"
          ],
          "name": "stdout"
        }
      ]
    },
    {
      "cell_type": "markdown",
      "metadata": {
        "id": "7WOZnI_PKq3W"
      },
      "source": [
        "결측치가 있는 지역이 몇 개 없어서 각각을 또 하나의 카테고리들로 각각 대입해서 넣기로 했다\n",
        "\n",
        "*   충청남도 -> -1\n",
        "*   대전광역시 -> -2\n",
        "*   경상남도 -> -3\n",
        "\n"
      ]
    },
    {
      "cell_type": "code",
      "metadata": {
        "colab": {
          "base_uri": "https://localhost:8080/"
        },
        "id": "vZ89MuU4-mgV",
        "outputId": "78777569-0b5b-49bd-ebcf-cd9ffc208547"
      },
      "source": [
        "train['지하철'][(train['지하철'].isnull())&(train['지역']=='충청남도')] =-1\n",
        "train['지하철'][(train['지하철'].isnull())&(train['지역']=='대전광역시')] = -2\n",
        "train['지하철'][(train['지하철'].isnull())&(train['지역']=='경상남도')] = -3\n",
        "\n",
        "test['지하철'][(test['지하철'].isnull())&(test['지역']=='충청남도')] = -1\n",
        "test['지하철'][(test['지하철'].isnull())&(test['지역']=='대전광역시')] = -2"
      ],
      "execution_count": null,
      "outputs": [
        {
          "output_type": "stream",
          "text": [
            "/usr/local/lib/python3.7/dist-packages/ipykernel_launcher.py:1: SettingWithCopyWarning: \n",
            "A value is trying to be set on a copy of a slice from a DataFrame\n",
            "\n",
            "See the caveats in the documentation: https://pandas.pydata.org/pandas-docs/stable/user_guide/indexing.html#returning-a-view-versus-a-copy\n",
            "  \"\"\"Entry point for launching an IPython kernel.\n",
            "/usr/local/lib/python3.7/dist-packages/ipykernel_launcher.py:2: SettingWithCopyWarning: \n",
            "A value is trying to be set on a copy of a slice from a DataFrame\n",
            "\n",
            "See the caveats in the documentation: https://pandas.pydata.org/pandas-docs/stable/user_guide/indexing.html#returning-a-view-versus-a-copy\n",
            "  \n",
            "/usr/local/lib/python3.7/dist-packages/ipykernel_launcher.py:3: SettingWithCopyWarning: \n",
            "A value is trying to be set on a copy of a slice from a DataFrame\n",
            "\n",
            "See the caveats in the documentation: https://pandas.pydata.org/pandas-docs/stable/user_guide/indexing.html#returning-a-view-versus-a-copy\n",
            "  This is separate from the ipykernel package so we can avoid doing imports until\n",
            "/usr/local/lib/python3.7/dist-packages/ipykernel_launcher.py:5: SettingWithCopyWarning: \n",
            "A value is trying to be set on a copy of a slice from a DataFrame\n",
            "\n",
            "See the caveats in the documentation: https://pandas.pydata.org/pandas-docs/stable/user_guide/indexing.html#returning-a-view-versus-a-copy\n",
            "  \"\"\"\n",
            "/usr/local/lib/python3.7/dist-packages/ipykernel_launcher.py:6: SettingWithCopyWarning: \n",
            "A value is trying to be set on a copy of a slice from a DataFrame\n",
            "\n",
            "See the caveats in the documentation: https://pandas.pydata.org/pandas-docs/stable/user_guide/indexing.html#returning-a-view-versus-a-copy\n",
            "  \n"
          ],
          "name": "stderr"
        }
      ]
    },
    {
      "cell_type": "markdown",
      "metadata": {
        "id": "MSDQtXY0Kv3f"
      },
      "source": [
        "###자격유형"
      ]
    },
    {
      "cell_type": "markdown",
      "metadata": {
        "id": "kRSIeVfVKC1i"
      },
      "source": [
        "train에는 결측치가 없고 test에만 2개 있다"
      ]
    },
    {
      "cell_type": "code",
      "metadata": {
        "colab": {
          "base_uri": "https://localhost:8080/",
          "height": 161
        },
        "id": "1p73E04yAbU9",
        "outputId": "29eaf74f-5a61-428e-9d4f-4b0999db658d"
      },
      "source": [
        "test[test.자격유형.isnull()]"
      ],
      "execution_count": null,
      "outputs": [
        {
          "output_type": "execute_result",
          "data": {
            "text/html": [
              "<div>\n",
              "<style scoped>\n",
              "    .dataframe tbody tr th:only-of-type {\n",
              "        vertical-align: middle;\n",
              "    }\n",
              "\n",
              "    .dataframe tbody tr th {\n",
              "        vertical-align: top;\n",
              "    }\n",
              "\n",
              "    .dataframe thead th {\n",
              "        text-align: right;\n",
              "    }\n",
              "</style>\n",
              "<table border=\"1\" class=\"dataframe\">\n",
              "  <thead>\n",
              "    <tr style=\"text-align: right;\">\n",
              "      <th></th>\n",
              "      <th>단지코드</th>\n",
              "      <th>총세대수</th>\n",
              "      <th>임대건물구분</th>\n",
              "      <th>지역</th>\n",
              "      <th>공급유형</th>\n",
              "      <th>전용면적</th>\n",
              "      <th>전용면적별세대수</th>\n",
              "      <th>공가수</th>\n",
              "      <th>자격유형</th>\n",
              "      <th>임대보증금</th>\n",
              "      <th>임대료</th>\n",
              "      <th>지하철</th>\n",
              "      <th>버스</th>\n",
              "      <th>단지내주차면수</th>\n",
              "    </tr>\n",
              "  </thead>\n",
              "  <tbody>\n",
              "    <tr>\n",
              "      <th>196</th>\n",
              "      <td>C2411</td>\n",
              "      <td>962</td>\n",
              "      <td>아파트</td>\n",
              "      <td>경상남도</td>\n",
              "      <td>국민임대</td>\n",
              "      <td>46.90</td>\n",
              "      <td>240</td>\n",
              "      <td>25.0</td>\n",
              "      <td>NaN</td>\n",
              "      <td>71950000</td>\n",
              "      <td>37470</td>\n",
              "      <td>0.0</td>\n",
              "      <td>2.0</td>\n",
              "      <td>840.0</td>\n",
              "    </tr>\n",
              "    <tr>\n",
              "      <th>258</th>\n",
              "      <td>C2253</td>\n",
              "      <td>1161</td>\n",
              "      <td>아파트</td>\n",
              "      <td>강원도</td>\n",
              "      <td>영구임대</td>\n",
              "      <td>26.37</td>\n",
              "      <td>745</td>\n",
              "      <td>0.0</td>\n",
              "      <td>NaN</td>\n",
              "      <td>2249000</td>\n",
              "      <td>44770</td>\n",
              "      <td>0.0</td>\n",
              "      <td>2.0</td>\n",
              "      <td>173.0</td>\n",
              "    </tr>\n",
              "  </tbody>\n",
              "</table>\n",
              "</div>"
            ],
            "text/plain": [
              "      단지코드  총세대수 임대건물구분    지역  공급유형  ...     임대보증금    임대료  지하철   버스 단지내주차면수\n",
              "196  C2411   962    아파트  경상남도  국민임대  ...  71950000  37470  0.0  2.0   840.0\n",
              "258  C2253  1161    아파트   강원도  영구임대  ...   2249000  44770  0.0  2.0   173.0\n",
              "\n",
              "[2 rows x 14 columns]"
            ]
          },
          "metadata": {
            "tags": []
          },
          "execution_count": 17
        }
      ]
    },
    {
      "cell_type": "markdown",
      "metadata": {
        "id": "13-xKEhKLZLz"
      },
      "source": [
        "#### 196번 행"
      ]
    },
    {
      "cell_type": "code",
      "metadata": {
        "colab": {
          "base_uri": "https://localhost:8080/"
        },
        "id": "UEdg48-RK_Px",
        "outputId": "e2bf1ce5-6cea-48d8-b983-abaa1ec553bb"
      },
      "source": [
        "test.loc[test.단지코드 == 'C2411', '자격유형'].unique().tolist()"
      ],
      "execution_count": null,
      "outputs": [
        {
          "output_type": "execute_result",
          "data": {
            "text/plain": [
              "['A', nan]"
            ]
          },
          "metadata": {
            "tags": []
          },
          "execution_count": 18
        }
      ]
    },
    {
      "cell_type": "code",
      "metadata": {
        "colab": {
          "base_uri": "https://localhost:8080/",
          "height": 304
        },
        "id": "IOjchKHMLJFr",
        "outputId": "e449048c-64eb-4187-95db-87563f942a03"
      },
      "source": [
        "test[test.단지코드 == 'C2411']"
      ],
      "execution_count": null,
      "outputs": [
        {
          "output_type": "execute_result",
          "data": {
            "text/html": [
              "<div>\n",
              "<style scoped>\n",
              "    .dataframe tbody tr th:only-of-type {\n",
              "        vertical-align: middle;\n",
              "    }\n",
              "\n",
              "    .dataframe tbody tr th {\n",
              "        vertical-align: top;\n",
              "    }\n",
              "\n",
              "    .dataframe thead th {\n",
              "        text-align: right;\n",
              "    }\n",
              "</style>\n",
              "<table border=\"1\" class=\"dataframe\">\n",
              "  <thead>\n",
              "    <tr style=\"text-align: right;\">\n",
              "      <th></th>\n",
              "      <th>단지코드</th>\n",
              "      <th>총세대수</th>\n",
              "      <th>임대건물구분</th>\n",
              "      <th>지역</th>\n",
              "      <th>공급유형</th>\n",
              "      <th>전용면적</th>\n",
              "      <th>전용면적별세대수</th>\n",
              "      <th>공가수</th>\n",
              "      <th>자격유형</th>\n",
              "      <th>임대보증금</th>\n",
              "      <th>임대료</th>\n",
              "      <th>지하철</th>\n",
              "      <th>버스</th>\n",
              "      <th>단지내주차면수</th>\n",
              "    </tr>\n",
              "  </thead>\n",
              "  <tbody>\n",
              "    <tr>\n",
              "      <th>193</th>\n",
              "      <td>C2411</td>\n",
              "      <td>962</td>\n",
              "      <td>아파트</td>\n",
              "      <td>경상남도</td>\n",
              "      <td>국민임대</td>\n",
              "      <td>39.43</td>\n",
              "      <td>56</td>\n",
              "      <td>25.0</td>\n",
              "      <td>A</td>\n",
              "      <td>11992000</td>\n",
              "      <td>100720</td>\n",
              "      <td>0.0</td>\n",
              "      <td>2.0</td>\n",
              "      <td>840.0</td>\n",
              "    </tr>\n",
              "    <tr>\n",
              "      <th>194</th>\n",
              "      <td>C2411</td>\n",
              "      <td>962</td>\n",
              "      <td>아파트</td>\n",
              "      <td>경상남도</td>\n",
              "      <td>국민임대</td>\n",
              "      <td>39.72</td>\n",
              "      <td>336</td>\n",
              "      <td>25.0</td>\n",
              "      <td>A</td>\n",
              "      <td>11992000</td>\n",
              "      <td>100720</td>\n",
              "      <td>0.0</td>\n",
              "      <td>2.0</td>\n",
              "      <td>840.0</td>\n",
              "    </tr>\n",
              "    <tr>\n",
              "      <th>195</th>\n",
              "      <td>C2411</td>\n",
              "      <td>962</td>\n",
              "      <td>아파트</td>\n",
              "      <td>경상남도</td>\n",
              "      <td>국민임대</td>\n",
              "      <td>39.82</td>\n",
              "      <td>179</td>\n",
              "      <td>25.0</td>\n",
              "      <td>A</td>\n",
              "      <td>11992000</td>\n",
              "      <td>100720</td>\n",
              "      <td>0.0</td>\n",
              "      <td>2.0</td>\n",
              "      <td>840.0</td>\n",
              "    </tr>\n",
              "    <tr>\n",
              "      <th>196</th>\n",
              "      <td>C2411</td>\n",
              "      <td>962</td>\n",
              "      <td>아파트</td>\n",
              "      <td>경상남도</td>\n",
              "      <td>국민임대</td>\n",
              "      <td>46.90</td>\n",
              "      <td>240</td>\n",
              "      <td>25.0</td>\n",
              "      <td>NaN</td>\n",
              "      <td>71950000</td>\n",
              "      <td>37470</td>\n",
              "      <td>0.0</td>\n",
              "      <td>2.0</td>\n",
              "      <td>840.0</td>\n",
              "    </tr>\n",
              "    <tr>\n",
              "      <th>197</th>\n",
              "      <td>C2411</td>\n",
              "      <td>962</td>\n",
              "      <td>아파트</td>\n",
              "      <td>경상남도</td>\n",
              "      <td>국민임대</td>\n",
              "      <td>51.93</td>\n",
              "      <td>150</td>\n",
              "      <td>25.0</td>\n",
              "      <td>A</td>\n",
              "      <td>21586000</td>\n",
              "      <td>171480</td>\n",
              "      <td>0.0</td>\n",
              "      <td>2.0</td>\n",
              "      <td>840.0</td>\n",
              "    </tr>\n",
              "  </tbody>\n",
              "</table>\n",
              "</div>"
            ],
            "text/plain": [
              "      단지코드  총세대수 임대건물구분    지역  공급유형  ...     임대보증금     임대료  지하철   버스 단지내주차면수\n",
              "193  C2411   962    아파트  경상남도  국민임대  ...  11992000  100720  0.0  2.0   840.0\n",
              "194  C2411   962    아파트  경상남도  국민임대  ...  11992000  100720  0.0  2.0   840.0\n",
              "195  C2411   962    아파트  경상남도  국민임대  ...  11992000  100720  0.0  2.0   840.0\n",
              "196  C2411   962    아파트  경상남도  국민임대  ...  71950000   37470  0.0  2.0   840.0\n",
              "197  C2411   962    아파트  경상남도  국민임대  ...  21586000  171480  0.0  2.0   840.0\n",
              "\n",
              "[5 rows x 14 columns]"
            ]
          },
          "metadata": {
            "tags": []
          },
          "execution_count": 19
        }
      ]
    },
    {
      "cell_type": "markdown",
      "metadata": {
        "id": "Boh0mj9yLDm9"
      },
      "source": [
        "단지 C2411은 결측치를 제외하고 모두 A로 이루어져 있다\n",
        "->결측치를 A로 채운다"
      ]
    },
    {
      "cell_type": "code",
      "metadata": {
        "id": "uvCavOCILC3e"
      },
      "source": [
        "test.loc[test.단지코드.isin(['C2411']) & test.자격유형.isnull(), '자격유형'] = 'A'"
      ],
      "execution_count": null,
      "outputs": []
    },
    {
      "cell_type": "markdown",
      "metadata": {
        "id": "VVfu2b0zLfdm"
      },
      "source": [
        "####258번 행"
      ]
    },
    {
      "cell_type": "code",
      "metadata": {
        "colab": {
          "base_uri": "https://localhost:8080/"
        },
        "id": "rMcPtKwlLm9q",
        "outputId": "aa40e968-e769-4491-905e-9b3b89c11275"
      },
      "source": [
        "test.loc[test.단지코드 == 'C2253', '자격유형'].unique().tolist()"
      ],
      "execution_count": null,
      "outputs": [
        {
          "output_type": "execute_result",
          "data": {
            "text/plain": [
              "[nan, 'C', 'D']"
            ]
          },
          "metadata": {
            "tags": []
          },
          "execution_count": 21
        }
      ]
    },
    {
      "cell_type": "code",
      "metadata": {
        "colab": {
          "base_uri": "https://localhost:8080/",
          "height": 1000
        },
        "id": "pzaHlPUALr-E",
        "outputId": "b0ecd140-062c-4dbb-ff0f-f7a528062134"
      },
      "source": [
        "test[test.단지코드 == 'C2253']"
      ],
      "execution_count": null,
      "outputs": [
        {
          "output_type": "execute_result",
          "data": {
            "text/html": [
              "<div>\n",
              "<style scoped>\n",
              "    .dataframe tbody tr th:only-of-type {\n",
              "        vertical-align: middle;\n",
              "    }\n",
              "\n",
              "    .dataframe tbody tr th {\n",
              "        vertical-align: top;\n",
              "    }\n",
              "\n",
              "    .dataframe thead th {\n",
              "        text-align: right;\n",
              "    }\n",
              "</style>\n",
              "<table border=\"1\" class=\"dataframe\">\n",
              "  <thead>\n",
              "    <tr style=\"text-align: right;\">\n",
              "      <th></th>\n",
              "      <th>단지코드</th>\n",
              "      <th>총세대수</th>\n",
              "      <th>임대건물구분</th>\n",
              "      <th>지역</th>\n",
              "      <th>공급유형</th>\n",
              "      <th>전용면적</th>\n",
              "      <th>전용면적별세대수</th>\n",
              "      <th>공가수</th>\n",
              "      <th>자격유형</th>\n",
              "      <th>임대보증금</th>\n",
              "      <th>임대료</th>\n",
              "      <th>지하철</th>\n",
              "      <th>버스</th>\n",
              "      <th>단지내주차면수</th>\n",
              "    </tr>\n",
              "  </thead>\n",
              "  <tbody>\n",
              "    <tr>\n",
              "      <th>258</th>\n",
              "      <td>C2253</td>\n",
              "      <td>1161</td>\n",
              "      <td>아파트</td>\n",
              "      <td>강원도</td>\n",
              "      <td>영구임대</td>\n",
              "      <td>26.37</td>\n",
              "      <td>745</td>\n",
              "      <td>0.0</td>\n",
              "      <td>NaN</td>\n",
              "      <td>2249000</td>\n",
              "      <td>44770</td>\n",
              "      <td>0.0</td>\n",
              "      <td>2.0</td>\n",
              "      <td>173.0</td>\n",
              "    </tr>\n",
              "    <tr>\n",
              "      <th>259</th>\n",
              "      <td>C2253</td>\n",
              "      <td>1161</td>\n",
              "      <td>아파트</td>\n",
              "      <td>강원도</td>\n",
              "      <td>영구임대</td>\n",
              "      <td>31.32</td>\n",
              "      <td>239</td>\n",
              "      <td>0.0</td>\n",
              "      <td>C</td>\n",
              "      <td>3731000</td>\n",
              "      <td>83020</td>\n",
              "      <td>0.0</td>\n",
              "      <td>2.0</td>\n",
              "      <td>173.0</td>\n",
              "    </tr>\n",
              "    <tr>\n",
              "      <th>260</th>\n",
              "      <td>C2253</td>\n",
              "      <td>1161</td>\n",
              "      <td>아파트</td>\n",
              "      <td>강원도</td>\n",
              "      <td>영구임대</td>\n",
              "      <td>31.32</td>\n",
              "      <td>149</td>\n",
              "      <td>0.0</td>\n",
              "      <td>C</td>\n",
              "      <td>3731000</td>\n",
              "      <td>83020</td>\n",
              "      <td>0.0</td>\n",
              "      <td>2.0</td>\n",
              "      <td>173.0</td>\n",
              "    </tr>\n",
              "    <tr>\n",
              "      <th>261</th>\n",
              "      <td>C2253</td>\n",
              "      <td>1161</td>\n",
              "      <td>상가</td>\n",
              "      <td>강원도</td>\n",
              "      <td>임대상가</td>\n",
              "      <td>13.77</td>\n",
              "      <td>1</td>\n",
              "      <td>0.0</td>\n",
              "      <td>D</td>\n",
              "      <td>NaN</td>\n",
              "      <td>NaN</td>\n",
              "      <td>0.0</td>\n",
              "      <td>2.0</td>\n",
              "      <td>173.0</td>\n",
              "    </tr>\n",
              "    <tr>\n",
              "      <th>262</th>\n",
              "      <td>C2253</td>\n",
              "      <td>1161</td>\n",
              "      <td>상가</td>\n",
              "      <td>강원도</td>\n",
              "      <td>임대상가</td>\n",
              "      <td>22.89</td>\n",
              "      <td>1</td>\n",
              "      <td>0.0</td>\n",
              "      <td>D</td>\n",
              "      <td>NaN</td>\n",
              "      <td>NaN</td>\n",
              "      <td>0.0</td>\n",
              "      <td>2.0</td>\n",
              "      <td>173.0</td>\n",
              "    </tr>\n",
              "    <tr>\n",
              "      <th>263</th>\n",
              "      <td>C2253</td>\n",
              "      <td>1161</td>\n",
              "      <td>상가</td>\n",
              "      <td>강원도</td>\n",
              "      <td>임대상가</td>\n",
              "      <td>22.91</td>\n",
              "      <td>1</td>\n",
              "      <td>0.0</td>\n",
              "      <td>D</td>\n",
              "      <td>NaN</td>\n",
              "      <td>NaN</td>\n",
              "      <td>0.0</td>\n",
              "      <td>2.0</td>\n",
              "      <td>173.0</td>\n",
              "    </tr>\n",
              "    <tr>\n",
              "      <th>264</th>\n",
              "      <td>C2253</td>\n",
              "      <td>1161</td>\n",
              "      <td>상가</td>\n",
              "      <td>강원도</td>\n",
              "      <td>임대상가</td>\n",
              "      <td>23.79</td>\n",
              "      <td>1</td>\n",
              "      <td>0.0</td>\n",
              "      <td>D</td>\n",
              "      <td>NaN</td>\n",
              "      <td>NaN</td>\n",
              "      <td>0.0</td>\n",
              "      <td>2.0</td>\n",
              "      <td>173.0</td>\n",
              "    </tr>\n",
              "    <tr>\n",
              "      <th>265</th>\n",
              "      <td>C2253</td>\n",
              "      <td>1161</td>\n",
              "      <td>상가</td>\n",
              "      <td>강원도</td>\n",
              "      <td>임대상가</td>\n",
              "      <td>23.79</td>\n",
              "      <td>1</td>\n",
              "      <td>0.0</td>\n",
              "      <td>D</td>\n",
              "      <td>NaN</td>\n",
              "      <td>NaN</td>\n",
              "      <td>0.0</td>\n",
              "      <td>2.0</td>\n",
              "      <td>173.0</td>\n",
              "    </tr>\n",
              "    <tr>\n",
              "      <th>266</th>\n",
              "      <td>C2253</td>\n",
              "      <td>1161</td>\n",
              "      <td>상가</td>\n",
              "      <td>강원도</td>\n",
              "      <td>임대상가</td>\n",
              "      <td>23.86</td>\n",
              "      <td>1</td>\n",
              "      <td>0.0</td>\n",
              "      <td>D</td>\n",
              "      <td>NaN</td>\n",
              "      <td>NaN</td>\n",
              "      <td>0.0</td>\n",
              "      <td>2.0</td>\n",
              "      <td>173.0</td>\n",
              "    </tr>\n",
              "    <tr>\n",
              "      <th>267</th>\n",
              "      <td>C2253</td>\n",
              "      <td>1161</td>\n",
              "      <td>상가</td>\n",
              "      <td>강원도</td>\n",
              "      <td>임대상가</td>\n",
              "      <td>23.86</td>\n",
              "      <td>1</td>\n",
              "      <td>0.0</td>\n",
              "      <td>D</td>\n",
              "      <td>NaN</td>\n",
              "      <td>NaN</td>\n",
              "      <td>0.0</td>\n",
              "      <td>2.0</td>\n",
              "      <td>173.0</td>\n",
              "    </tr>\n",
              "    <tr>\n",
              "      <th>268</th>\n",
              "      <td>C2253</td>\n",
              "      <td>1161</td>\n",
              "      <td>상가</td>\n",
              "      <td>강원도</td>\n",
              "      <td>임대상가</td>\n",
              "      <td>24.19</td>\n",
              "      <td>1</td>\n",
              "      <td>0.0</td>\n",
              "      <td>D</td>\n",
              "      <td>NaN</td>\n",
              "      <td>NaN</td>\n",
              "      <td>0.0</td>\n",
              "      <td>2.0</td>\n",
              "      <td>173.0</td>\n",
              "    </tr>\n",
              "    <tr>\n",
              "      <th>269</th>\n",
              "      <td>C2253</td>\n",
              "      <td>1161</td>\n",
              "      <td>상가</td>\n",
              "      <td>강원도</td>\n",
              "      <td>임대상가</td>\n",
              "      <td>27.75</td>\n",
              "      <td>1</td>\n",
              "      <td>0.0</td>\n",
              "      <td>D</td>\n",
              "      <td>NaN</td>\n",
              "      <td>NaN</td>\n",
              "      <td>0.0</td>\n",
              "      <td>2.0</td>\n",
              "      <td>173.0</td>\n",
              "    </tr>\n",
              "    <tr>\n",
              "      <th>270</th>\n",
              "      <td>C2253</td>\n",
              "      <td>1161</td>\n",
              "      <td>상가</td>\n",
              "      <td>강원도</td>\n",
              "      <td>임대상가</td>\n",
              "      <td>27.75</td>\n",
              "      <td>1</td>\n",
              "      <td>0.0</td>\n",
              "      <td>D</td>\n",
              "      <td>NaN</td>\n",
              "      <td>NaN</td>\n",
              "      <td>0.0</td>\n",
              "      <td>2.0</td>\n",
              "      <td>173.0</td>\n",
              "    </tr>\n",
              "    <tr>\n",
              "      <th>271</th>\n",
              "      <td>C2253</td>\n",
              "      <td>1161</td>\n",
              "      <td>상가</td>\n",
              "      <td>강원도</td>\n",
              "      <td>임대상가</td>\n",
              "      <td>27.75</td>\n",
              "      <td>1</td>\n",
              "      <td>0.0</td>\n",
              "      <td>D</td>\n",
              "      <td>NaN</td>\n",
              "      <td>NaN</td>\n",
              "      <td>0.0</td>\n",
              "      <td>2.0</td>\n",
              "      <td>173.0</td>\n",
              "    </tr>\n",
              "    <tr>\n",
              "      <th>272</th>\n",
              "      <td>C2253</td>\n",
              "      <td>1161</td>\n",
              "      <td>상가</td>\n",
              "      <td>강원도</td>\n",
              "      <td>임대상가</td>\n",
              "      <td>27.75</td>\n",
              "      <td>1</td>\n",
              "      <td>0.0</td>\n",
              "      <td>D</td>\n",
              "      <td>NaN</td>\n",
              "      <td>NaN</td>\n",
              "      <td>0.0</td>\n",
              "      <td>2.0</td>\n",
              "      <td>173.0</td>\n",
              "    </tr>\n",
              "    <tr>\n",
              "      <th>273</th>\n",
              "      <td>C2253</td>\n",
              "      <td>1161</td>\n",
              "      <td>상가</td>\n",
              "      <td>강원도</td>\n",
              "      <td>임대상가</td>\n",
              "      <td>27.75</td>\n",
              "      <td>1</td>\n",
              "      <td>0.0</td>\n",
              "      <td>D</td>\n",
              "      <td>NaN</td>\n",
              "      <td>NaN</td>\n",
              "      <td>0.0</td>\n",
              "      <td>2.0</td>\n",
              "      <td>173.0</td>\n",
              "    </tr>\n",
              "    <tr>\n",
              "      <th>274</th>\n",
              "      <td>C2253</td>\n",
              "      <td>1161</td>\n",
              "      <td>상가</td>\n",
              "      <td>강원도</td>\n",
              "      <td>임대상가</td>\n",
              "      <td>27.75</td>\n",
              "      <td>1</td>\n",
              "      <td>0.0</td>\n",
              "      <td>D</td>\n",
              "      <td>NaN</td>\n",
              "      <td>NaN</td>\n",
              "      <td>0.0</td>\n",
              "      <td>2.0</td>\n",
              "      <td>173.0</td>\n",
              "    </tr>\n",
              "    <tr>\n",
              "      <th>275</th>\n",
              "      <td>C2253</td>\n",
              "      <td>1161</td>\n",
              "      <td>상가</td>\n",
              "      <td>강원도</td>\n",
              "      <td>임대상가</td>\n",
              "      <td>28.19</td>\n",
              "      <td>1</td>\n",
              "      <td>0.0</td>\n",
              "      <td>D</td>\n",
              "      <td>NaN</td>\n",
              "      <td>NaN</td>\n",
              "      <td>0.0</td>\n",
              "      <td>2.0</td>\n",
              "      <td>173.0</td>\n",
              "    </tr>\n",
              "    <tr>\n",
              "      <th>276</th>\n",
              "      <td>C2253</td>\n",
              "      <td>1161</td>\n",
              "      <td>상가</td>\n",
              "      <td>강원도</td>\n",
              "      <td>임대상가</td>\n",
              "      <td>28.69</td>\n",
              "      <td>1</td>\n",
              "      <td>0.0</td>\n",
              "      <td>D</td>\n",
              "      <td>NaN</td>\n",
              "      <td>NaN</td>\n",
              "      <td>0.0</td>\n",
              "      <td>2.0</td>\n",
              "      <td>173.0</td>\n",
              "    </tr>\n",
              "    <tr>\n",
              "      <th>277</th>\n",
              "      <td>C2253</td>\n",
              "      <td>1161</td>\n",
              "      <td>상가</td>\n",
              "      <td>강원도</td>\n",
              "      <td>임대상가</td>\n",
              "      <td>28.69</td>\n",
              "      <td>1</td>\n",
              "      <td>0.0</td>\n",
              "      <td>D</td>\n",
              "      <td>NaN</td>\n",
              "      <td>NaN</td>\n",
              "      <td>0.0</td>\n",
              "      <td>2.0</td>\n",
              "      <td>173.0</td>\n",
              "    </tr>\n",
              "    <tr>\n",
              "      <th>278</th>\n",
              "      <td>C2253</td>\n",
              "      <td>1161</td>\n",
              "      <td>상가</td>\n",
              "      <td>강원도</td>\n",
              "      <td>임대상가</td>\n",
              "      <td>28.69</td>\n",
              "      <td>1</td>\n",
              "      <td>0.0</td>\n",
              "      <td>D</td>\n",
              "      <td>NaN</td>\n",
              "      <td>NaN</td>\n",
              "      <td>0.0</td>\n",
              "      <td>2.0</td>\n",
              "      <td>173.0</td>\n",
              "    </tr>\n",
              "    <tr>\n",
              "      <th>279</th>\n",
              "      <td>C2253</td>\n",
              "      <td>1161</td>\n",
              "      <td>상가</td>\n",
              "      <td>강원도</td>\n",
              "      <td>임대상가</td>\n",
              "      <td>28.69</td>\n",
              "      <td>1</td>\n",
              "      <td>0.0</td>\n",
              "      <td>D</td>\n",
              "      <td>NaN</td>\n",
              "      <td>NaN</td>\n",
              "      <td>0.0</td>\n",
              "      <td>2.0</td>\n",
              "      <td>173.0</td>\n",
              "    </tr>\n",
              "    <tr>\n",
              "      <th>280</th>\n",
              "      <td>C2253</td>\n",
              "      <td>1161</td>\n",
              "      <td>상가</td>\n",
              "      <td>강원도</td>\n",
              "      <td>임대상가</td>\n",
              "      <td>28.69</td>\n",
              "      <td>1</td>\n",
              "      <td>0.0</td>\n",
              "      <td>D</td>\n",
              "      <td>NaN</td>\n",
              "      <td>NaN</td>\n",
              "      <td>0.0</td>\n",
              "      <td>2.0</td>\n",
              "      <td>173.0</td>\n",
              "    </tr>\n",
              "    <tr>\n",
              "      <th>281</th>\n",
              "      <td>C2253</td>\n",
              "      <td>1161</td>\n",
              "      <td>상가</td>\n",
              "      <td>강원도</td>\n",
              "      <td>임대상가</td>\n",
              "      <td>28.93</td>\n",
              "      <td>1</td>\n",
              "      <td>0.0</td>\n",
              "      <td>D</td>\n",
              "      <td>NaN</td>\n",
              "      <td>NaN</td>\n",
              "      <td>0.0</td>\n",
              "      <td>2.0</td>\n",
              "      <td>173.0</td>\n",
              "    </tr>\n",
              "    <tr>\n",
              "      <th>282</th>\n",
              "      <td>C2253</td>\n",
              "      <td>1161</td>\n",
              "      <td>상가</td>\n",
              "      <td>강원도</td>\n",
              "      <td>임대상가</td>\n",
              "      <td>28.93</td>\n",
              "      <td>1</td>\n",
              "      <td>0.0</td>\n",
              "      <td>D</td>\n",
              "      <td>NaN</td>\n",
              "      <td>NaN</td>\n",
              "      <td>0.0</td>\n",
              "      <td>2.0</td>\n",
              "      <td>173.0</td>\n",
              "    </tr>\n",
              "    <tr>\n",
              "      <th>283</th>\n",
              "      <td>C2253</td>\n",
              "      <td>1161</td>\n",
              "      <td>상가</td>\n",
              "      <td>강원도</td>\n",
              "      <td>임대상가</td>\n",
              "      <td>42.35</td>\n",
              "      <td>1</td>\n",
              "      <td>0.0</td>\n",
              "      <td>D</td>\n",
              "      <td>NaN</td>\n",
              "      <td>NaN</td>\n",
              "      <td>0.0</td>\n",
              "      <td>2.0</td>\n",
              "      <td>173.0</td>\n",
              "    </tr>\n",
              "    <tr>\n",
              "      <th>284</th>\n",
              "      <td>C2253</td>\n",
              "      <td>1161</td>\n",
              "      <td>상가</td>\n",
              "      <td>강원도</td>\n",
              "      <td>임대상가</td>\n",
              "      <td>42.40</td>\n",
              "      <td>1</td>\n",
              "      <td>0.0</td>\n",
              "      <td>D</td>\n",
              "      <td>NaN</td>\n",
              "      <td>NaN</td>\n",
              "      <td>0.0</td>\n",
              "      <td>2.0</td>\n",
              "      <td>173.0</td>\n",
              "    </tr>\n",
              "    <tr>\n",
              "      <th>285</th>\n",
              "      <td>C2253</td>\n",
              "      <td>1161</td>\n",
              "      <td>상가</td>\n",
              "      <td>강원도</td>\n",
              "      <td>임대상가</td>\n",
              "      <td>55.17</td>\n",
              "      <td>1</td>\n",
              "      <td>0.0</td>\n",
              "      <td>D</td>\n",
              "      <td>NaN</td>\n",
              "      <td>NaN</td>\n",
              "      <td>0.0</td>\n",
              "      <td>2.0</td>\n",
              "      <td>173.0</td>\n",
              "    </tr>\n",
              "    <tr>\n",
              "      <th>286</th>\n",
              "      <td>C2253</td>\n",
              "      <td>1161</td>\n",
              "      <td>상가</td>\n",
              "      <td>강원도</td>\n",
              "      <td>임대상가</td>\n",
              "      <td>55.50</td>\n",
              "      <td>1</td>\n",
              "      <td>0.0</td>\n",
              "      <td>D</td>\n",
              "      <td>NaN</td>\n",
              "      <td>NaN</td>\n",
              "      <td>0.0</td>\n",
              "      <td>2.0</td>\n",
              "      <td>173.0</td>\n",
              "    </tr>\n",
              "    <tr>\n",
              "      <th>287</th>\n",
              "      <td>C2253</td>\n",
              "      <td>1161</td>\n",
              "      <td>상가</td>\n",
              "      <td>강원도</td>\n",
              "      <td>임대상가</td>\n",
              "      <td>82.92</td>\n",
              "      <td>1</td>\n",
              "      <td>0.0</td>\n",
              "      <td>D</td>\n",
              "      <td>NaN</td>\n",
              "      <td>NaN</td>\n",
              "      <td>0.0</td>\n",
              "      <td>2.0</td>\n",
              "      <td>173.0</td>\n",
              "    </tr>\n",
              "    <tr>\n",
              "      <th>288</th>\n",
              "      <td>C2253</td>\n",
              "      <td>1161</td>\n",
              "      <td>상가</td>\n",
              "      <td>강원도</td>\n",
              "      <td>임대상가</td>\n",
              "      <td>248.56</td>\n",
              "      <td>1</td>\n",
              "      <td>0.0</td>\n",
              "      <td>D</td>\n",
              "      <td>NaN</td>\n",
              "      <td>NaN</td>\n",
              "      <td>0.0</td>\n",
              "      <td>2.0</td>\n",
              "      <td>173.0</td>\n",
              "    </tr>\n",
              "  </tbody>\n",
              "</table>\n",
              "</div>"
            ],
            "text/plain": [
              "      단지코드  총세대수 임대건물구분   지역  공급유형  ...    임대보증금    임대료  지하철   버스 단지내주차면수\n",
              "258  C2253  1161    아파트  강원도  영구임대  ...  2249000  44770  0.0  2.0   173.0\n",
              "259  C2253  1161    아파트  강원도  영구임대  ...  3731000  83020  0.0  2.0   173.0\n",
              "260  C2253  1161    아파트  강원도  영구임대  ...  3731000  83020  0.0  2.0   173.0\n",
              "261  C2253  1161     상가  강원도  임대상가  ...      NaN    NaN  0.0  2.0   173.0\n",
              "262  C2253  1161     상가  강원도  임대상가  ...      NaN    NaN  0.0  2.0   173.0\n",
              "263  C2253  1161     상가  강원도  임대상가  ...      NaN    NaN  0.0  2.0   173.0\n",
              "264  C2253  1161     상가  강원도  임대상가  ...      NaN    NaN  0.0  2.0   173.0\n",
              "265  C2253  1161     상가  강원도  임대상가  ...      NaN    NaN  0.0  2.0   173.0\n",
              "266  C2253  1161     상가  강원도  임대상가  ...      NaN    NaN  0.0  2.0   173.0\n",
              "267  C2253  1161     상가  강원도  임대상가  ...      NaN    NaN  0.0  2.0   173.0\n",
              "268  C2253  1161     상가  강원도  임대상가  ...      NaN    NaN  0.0  2.0   173.0\n",
              "269  C2253  1161     상가  강원도  임대상가  ...      NaN    NaN  0.0  2.0   173.0\n",
              "270  C2253  1161     상가  강원도  임대상가  ...      NaN    NaN  0.0  2.0   173.0\n",
              "271  C2253  1161     상가  강원도  임대상가  ...      NaN    NaN  0.0  2.0   173.0\n",
              "272  C2253  1161     상가  강원도  임대상가  ...      NaN    NaN  0.0  2.0   173.0\n",
              "273  C2253  1161     상가  강원도  임대상가  ...      NaN    NaN  0.0  2.0   173.0\n",
              "274  C2253  1161     상가  강원도  임대상가  ...      NaN    NaN  0.0  2.0   173.0\n",
              "275  C2253  1161     상가  강원도  임대상가  ...      NaN    NaN  0.0  2.0   173.0\n",
              "276  C2253  1161     상가  강원도  임대상가  ...      NaN    NaN  0.0  2.0   173.0\n",
              "277  C2253  1161     상가  강원도  임대상가  ...      NaN    NaN  0.0  2.0   173.0\n",
              "278  C2253  1161     상가  강원도  임대상가  ...      NaN    NaN  0.0  2.0   173.0\n",
              "279  C2253  1161     상가  강원도  임대상가  ...      NaN    NaN  0.0  2.0   173.0\n",
              "280  C2253  1161     상가  강원도  임대상가  ...      NaN    NaN  0.0  2.0   173.0\n",
              "281  C2253  1161     상가  강원도  임대상가  ...      NaN    NaN  0.0  2.0   173.0\n",
              "282  C2253  1161     상가  강원도  임대상가  ...      NaN    NaN  0.0  2.0   173.0\n",
              "283  C2253  1161     상가  강원도  임대상가  ...      NaN    NaN  0.0  2.0   173.0\n",
              "284  C2253  1161     상가  강원도  임대상가  ...      NaN    NaN  0.0  2.0   173.0\n",
              "285  C2253  1161     상가  강원도  임대상가  ...      NaN    NaN  0.0  2.0   173.0\n",
              "286  C2253  1161     상가  강원도  임대상가  ...      NaN    NaN  0.0  2.0   173.0\n",
              "287  C2253  1161     상가  강원도  임대상가  ...      NaN    NaN  0.0  2.0   173.0\n",
              "288  C2253  1161     상가  강원도  임대상가  ...      NaN    NaN  0.0  2.0   173.0\n",
              "\n",
              "[31 rows x 14 columns]"
            ]
          },
          "metadata": {
            "tags": []
          },
          "execution_count": 22
        }
      ]
    },
    {
      "cell_type": "markdown",
      "metadata": {
        "id": "4GU0Syi-L3qx"
      },
      "source": [
        "공급유형이 영구임대 && 임대료 가 없으면 C 유형이기에 \n",
        "자격유형이 nan인 행을 C로 채워준다"
      ]
    },
    {
      "cell_type": "code",
      "metadata": {
        "id": "5QAO9itbMEGS"
      },
      "source": [
        "test.loc[test.단지코드.isin(['C2253']) & test.자격유형.isnull(), '자격유형'] = 'C'"
      ],
      "execution_count": null,
      "outputs": []
    },
    {
      "cell_type": "code",
      "metadata": {
        "id": "s21QFhsaJ9Wc"
      },
      "source": [
        "# print(train['자격유형'].unique())\n",
        "# print(test['자격유형'].unique())"
      ],
      "execution_count": null,
      "outputs": []
    },
    {
      "cell_type": "code",
      "metadata": {
        "id": "4M3sL5SFKZ80"
      },
      "source": [
        "# 자격유형을 단순히 숫자로 매핑하고 nan값은 -1로 입력하는 방법\n",
        "# qualification_type_map={'A':0, 'B':1, 'C':2 ,'D':3 ,'E':4, 'F':5 ,'G':6, 'H':7, 'I':8, 'J':9, 'K':10, 'L':11, 'M':12, 'N':13, 'O':14, np.nan:-1}\n",
        "# train['자격유형']=train['자격유형'].map(qualification_type_map)\n",
        "# test['자격유형']=test['자격유형'].map(qualification_type_map)"
      ],
      "execution_count": null,
      "outputs": []
    },
    {
      "cell_type": "markdown",
      "metadata": {
        "id": "UwfvS0VzCha7"
      },
      "source": [
        "###임대보증금, 임대료"
      ]
    },
    {
      "cell_type": "markdown",
      "metadata": {
        "id": "cSkbeEPPMR4b"
      },
      "source": [
        "임대보증금과 임대료는 둘이 동시에 (함께) 항상 없다<br>\n",
        "그래서 둘 다 0 으로 채운다"
      ]
    },
    {
      "cell_type": "code",
      "metadata": {
        "id": "qyid5qAaCIQH"
      },
      "source": [
        "train['임대보증금']=train['임대보증금'].fillna(0)\n",
        "train['임대료']=train['임대료'].fillna(0)\n",
        "\n",
        "test['임대보증금']=test['임대보증금'].fillna(0)\n",
        "test['임대료']=test['임대료'].fillna(0)"
      ],
      "execution_count": null,
      "outputs": []
    },
    {
      "cell_type": "markdown",
      "metadata": {
        "id": "6uYmxo9gMu9o"
      },
      "source": [
        "학습시 '-'라는 값 때문에 에러가 나서 어느 열에 있는지 확인해보도록 한다"
      ]
    },
    {
      "cell_type": "code",
      "metadata": {
        "colab": {
          "base_uri": "https://localhost:8080/"
        },
        "id": "Xgh3gVUPBJGL",
        "outputId": "3cf9a5af-278f-4abe-9491-9e3f99d1269b"
      },
      "source": [
        "for col in train.columns:\n",
        "    print(col+\"----------------\")\n",
        "    # train[train[col].str.contains('-')] \n",
        "    idx = train[train[col] == '-'].index\n",
        "    print(idx)"
      ],
      "execution_count": null,
      "outputs": [
        {
          "output_type": "stream",
          "text": [
            "단지코드----------------\n",
            "Int64Index([], dtype='int64')\n",
            "총세대수----------------\n",
            "Int64Index([], dtype='int64')\n",
            "임대건물구분----------------\n",
            "Int64Index([], dtype='int64')\n",
            "지역----------------\n",
            "Int64Index([], dtype='int64')\n",
            "공급유형----------------\n",
            "Int64Index([], dtype='int64')\n",
            "전용면적----------------\n",
            "Int64Index([], dtype='int64')\n",
            "전용면적별세대수----------------\n",
            "Int64Index([], dtype='int64')\n",
            "공가수----------------\n",
            "Int64Index([], dtype='int64')\n",
            "자격유형----------------\n",
            "Int64Index([], dtype='int64')\n",
            "임대보증금----------------\n",
            "Int64Index([2547, 2548, 2549, 2550, 2551, 2680, 2681, 2682, 2683, 2906, 2907,\n",
            "            2908],\n",
            "           dtype='int64')\n",
            "임대료----------------\n",
            "Int64Index([2043, 2044, 2045, 2046, 2047, 2048, 2100, 2101, 2102, 2547, 2548,\n",
            "            2549, 2550, 2551, 2680, 2681, 2682, 2683, 2906, 2907, 2908],\n",
            "           dtype='int64')\n",
            "지하철----------------\n",
            "Int64Index([], dtype='int64')\n",
            "버스----------------\n",
            "Int64Index([], dtype='int64')\n",
            "단지내주차면수----------------\n",
            "Int64Index([], dtype='int64')\n",
            "등록차량수----------------\n",
            "Int64Index([], dtype='int64')\n"
          ],
          "name": "stdout"
        }
      ]
    },
    {
      "cell_type": "code",
      "metadata": {
        "colab": {
          "base_uri": "https://localhost:8080/"
        },
        "id": "8OmtV_EJB4yu",
        "outputId": "c6f7b5ef-6ff6-4010-8556-ca2d4c833e70"
      },
      "source": [
        "for col in test.columns:\n",
        "    print(col)\n",
        "    # train[train[col].str.contains('-')] \n",
        "    idx = test[test[col] == '-'].index\n",
        "    print(idx)"
      ],
      "execution_count": null,
      "outputs": [
        {
          "output_type": "stream",
          "text": [
            "단지코드\n",
            "Int64Index([], dtype='int64')\n",
            "총세대수\n",
            "Int64Index([], dtype='int64')\n",
            "임대건물구분\n",
            "Int64Index([], dtype='int64')\n",
            "지역\n",
            "Int64Index([], dtype='int64')\n",
            "공급유형\n",
            "Int64Index([], dtype='int64')\n",
            "전용면적\n",
            "Int64Index([], dtype='int64')\n",
            "전용면적별세대수\n",
            "Int64Index([], dtype='int64')\n",
            "공가수\n",
            "Int64Index([], dtype='int64')\n",
            "자격유형\n",
            "Int64Index([], dtype='int64')\n",
            "임대보증금\n",
            "Int64Index([1005, 1006, 1014, 1015, 1016, 1017], dtype='int64')\n",
            "임대료\n",
            "Int64Index([1005, 1006, 1014, 1015, 1016, 1017], dtype='int64')\n",
            "지하철\n",
            "Int64Index([], dtype='int64')\n",
            "버스\n",
            "Int64Index([], dtype='int64')\n",
            "단지내주차면수\n",
            "Int64Index([], dtype='int64')\n"
          ],
          "name": "stdout"
        }
      ]
    },
    {
      "cell_type": "markdown",
      "metadata": {
        "id": "XVtiJxSVMgGW"
      },
      "source": [
        "train과 test 둘 다 임대보증금과 임대료만 '-'로 이루어진 행들이 존재하는 것을 확인했다"
      ]
    },
    {
      "cell_type": "code",
      "metadata": {
        "id": "fAhg9D2hBsZn"
      },
      "source": [
        "# test.loc[test.단지코드.isin(['C2253']) & test.자격유형.isnull(), '자격유형'] = 'C'\n",
        "train.loc[train.임대보증금 == '-','임대보증금']=0\n",
        "train.loc[train.임대료 == '-','임대료']=0\n",
        "test.loc[test.임대보증금 == '-','임대보증금']=0\n",
        "test.loc[test.임대료 == '-','임대료']=0"
      ],
      "execution_count": null,
      "outputs": []
    },
    {
      "cell_type": "markdown",
      "metadata": {
        "id": "RmsPuAfXNQFp"
      },
      "source": [
        "null과 같이 '-'를 0으로 채운다"
      ]
    },
    {
      "cell_type": "markdown",
      "metadata": {
        "id": "tVj2Rw56O7u5"
      },
      "source": [
        "----"
      ]
    },
    {
      "cell_type": "markdown",
      "metadata": {
        "id": "PXHU3RrWOxIN"
      },
      "source": [
        " **마지막으로 결측치 다 없어졌는지 확인**"
      ]
    },
    {
      "cell_type": "code",
      "metadata": {
        "colab": {
          "base_uri": "https://localhost:8080/"
        },
        "id": "gexRj4v3OsRo",
        "outputId": "19e562bb-ee58-422b-bb79-c4e93a3939a2"
      },
      "source": [
        "train.isnull().sum()"
      ],
      "execution_count": null,
      "outputs": [
        {
          "output_type": "execute_result",
          "data": {
            "text/plain": [
              "단지코드        0\n",
              "총세대수        0\n",
              "임대건물구분      0\n",
              "지역          0\n",
              "공급유형        0\n",
              "전용면적        0\n",
              "전용면적별세대수    0\n",
              "공가수         0\n",
              "자격유형        0\n",
              "임대보증금       0\n",
              "임대료         0\n",
              "지하철         0\n",
              "버스          0\n",
              "단지내주차면수     0\n",
              "등록차량수       0\n",
              "dtype: int64"
            ]
          },
          "metadata": {
            "tags": []
          },
          "execution_count": 30
        }
      ]
    },
    {
      "cell_type": "code",
      "metadata": {
        "colab": {
          "base_uri": "https://localhost:8080/"
        },
        "id": "RqZK5ks6OuPY",
        "outputId": "1b6109ff-e80c-411c-9d64-ecdf921922f5"
      },
      "source": [
        "test.isnull().sum()"
      ],
      "execution_count": null,
      "outputs": [
        {
          "output_type": "execute_result",
          "data": {
            "text/plain": [
              "단지코드        0\n",
              "총세대수        0\n",
              "임대건물구분      0\n",
              "지역          0\n",
              "공급유형        0\n",
              "전용면적        0\n",
              "전용면적별세대수    0\n",
              "공가수         0\n",
              "자격유형        0\n",
              "임대보증금       0\n",
              "임대료         0\n",
              "지하철         0\n",
              "버스          0\n",
              "단지내주차면수     0\n",
              "dtype: int64"
            ]
          },
          "metadata": {
            "tags": []
          },
          "execution_count": 31
        }
      ]
    },
    {
      "cell_type": "markdown",
      "metadata": {
        "id": "g953j8noOSIq"
      },
      "source": [
        "## Label Encoder"
      ]
    },
    {
      "cell_type": "markdown",
      "metadata": {
        "id": "yV8NBlPNKqW-"
      },
      "source": [
        "###임대건물구분, 지역, 공급유형, 자격유형"
      ]
    },
    {
      "cell_type": "code",
      "metadata": {
        "colab": {
          "base_uri": "https://localhost:8080/"
        },
        "id": "6vlwwEUYGjI8",
        "outputId": "bf492eba-6d17-4174-c6a8-055537ca28d6"
      },
      "source": [
        "train_cols=['임대건물구분', '지역', '공급유형']\n",
        "\n",
        "for col in train_cols:\n",
        "    print(\"{} 의 unique 값 ::: {}\".format(col,pd.unique(train[col])))"
      ],
      "execution_count": null,
      "outputs": [
        {
          "output_type": "stream",
          "text": [
            "임대건물구분 의 unique 값 ::: ['아파트' '상가']\n",
            "지역 의 unique 값 ::: ['경상북도' '경상남도' '대전광역시' '경기도' '전라북도' '강원도' '광주광역시' '충청남도' '부산광역시' '제주특별자치도'\n",
            " '울산광역시' '충청북도' '전라남도' '대구광역시' '서울특별시' '세종특별자치시']\n",
            "공급유형 의 unique 값 ::: ['국민임대' '공공임대(50년)' '영구임대' '임대상가' '공공임대(10년)' '공공임대(분납)' '장기전세' '공공분양'\n",
            " '행복주택' '공공임대(5년)']\n"
          ],
          "name": "stdout"
        }
      ]
    },
    {
      "cell_type": "code",
      "metadata": {
        "colab": {
          "base_uri": "https://localhost:8080/"
        },
        "id": "d5PlV1Ri65pz",
        "outputId": "b21e630c-bf25-4daf-ade2-b9fdd79e23d2"
      },
      "source": [
        "le = LabelEncoder()\n",
        "le.fit(train.loc[:,train.columns=='공급유형'].values)\n",
        "train['공급유형']=le.transform(train.loc[:,train.columns=='공급유형'].values)\n",
        "test['공급유형']=le.transform(test.loc[:,test.columns=='공급유형'].values)\n",
        "\n",
        "le.fit(train.loc[:,train.columns=='임대건물구분'].values)\n",
        "train['임대건물구분']=le.transform(train.loc[:,train.columns=='임대건물구분'].values)\n",
        "test['임대건물구분']=le.transform(test.loc[:,test.columns=='임대건물구분'].values)\n",
        "\n",
        "le.fit(train.loc[:,train.columns=='자격유형'].values)\n",
        "train['자격유형']=le.transform(train.loc[:,train.columns=='자격유형'].values)\n",
        "test['자격유형']=le.transform(test.loc[:,test.columns=='자격유형'].values)"
      ],
      "execution_count": null,
      "outputs": [
        {
          "output_type": "stream",
          "text": [
            "/usr/local/lib/python3.7/dist-packages/sklearn/preprocessing/_label.py:235: DataConversionWarning: A column-vector y was passed when a 1d array was expected. Please change the shape of y to (n_samples, ), for example using ravel().\n",
            "  y = column_or_1d(y, warn=True)\n",
            "/usr/local/lib/python3.7/dist-packages/sklearn/preprocessing/_label.py:268: DataConversionWarning: A column-vector y was passed when a 1d array was expected. Please change the shape of y to (n_samples, ), for example using ravel().\n",
            "  y = column_or_1d(y, warn=True)\n"
          ],
          "name": "stderr"
        }
      ]
    },
    {
      "cell_type": "code",
      "metadata": {
        "colab": {
          "base_uri": "https://localhost:8080/",
          "height": 209
        },
        "id": "zlni_cc1AUCO",
        "outputId": "99468123-2b75-420e-cc4e-88de2ac71141"
      },
      "source": [
        "train.head(3)"
      ],
      "execution_count": null,
      "outputs": [
        {
          "output_type": "execute_result",
          "data": {
            "text/html": [
              "<div>\n",
              "<style scoped>\n",
              "    .dataframe tbody tr th:only-of-type {\n",
              "        vertical-align: middle;\n",
              "    }\n",
              "\n",
              "    .dataframe tbody tr th {\n",
              "        vertical-align: top;\n",
              "    }\n",
              "\n",
              "    .dataframe thead th {\n",
              "        text-align: right;\n",
              "    }\n",
              "</style>\n",
              "<table border=\"1\" class=\"dataframe\">\n",
              "  <thead>\n",
              "    <tr style=\"text-align: right;\">\n",
              "      <th></th>\n",
              "      <th>단지코드</th>\n",
              "      <th>총세대수</th>\n",
              "      <th>임대건물구분</th>\n",
              "      <th>지역</th>\n",
              "      <th>공급유형</th>\n",
              "      <th>전용면적</th>\n",
              "      <th>전용면적별세대수</th>\n",
              "      <th>공가수</th>\n",
              "      <th>자격유형</th>\n",
              "      <th>임대보증금</th>\n",
              "      <th>임대료</th>\n",
              "      <th>지하철</th>\n",
              "      <th>버스</th>\n",
              "      <th>단지내주차면수</th>\n",
              "      <th>등록차량수</th>\n",
              "    </tr>\n",
              "  </thead>\n",
              "  <tbody>\n",
              "    <tr>\n",
              "      <th>0</th>\n",
              "      <td>C2483</td>\n",
              "      <td>900</td>\n",
              "      <td>1</td>\n",
              "      <td>경상북도</td>\n",
              "      <td>5</td>\n",
              "      <td>39.72</td>\n",
              "      <td>134</td>\n",
              "      <td>38.0</td>\n",
              "      <td>0</td>\n",
              "      <td>15667000</td>\n",
              "      <td>103680</td>\n",
              "      <td>0.0</td>\n",
              "      <td>3.0</td>\n",
              "      <td>1425.0</td>\n",
              "      <td>1015.0</td>\n",
              "    </tr>\n",
              "    <tr>\n",
              "      <th>1</th>\n",
              "      <td>C2483</td>\n",
              "      <td>900</td>\n",
              "      <td>1</td>\n",
              "      <td>경상북도</td>\n",
              "      <td>5</td>\n",
              "      <td>39.72</td>\n",
              "      <td>15</td>\n",
              "      <td>38.0</td>\n",
              "      <td>0</td>\n",
              "      <td>15667000</td>\n",
              "      <td>103680</td>\n",
              "      <td>0.0</td>\n",
              "      <td>3.0</td>\n",
              "      <td>1425.0</td>\n",
              "      <td>1015.0</td>\n",
              "    </tr>\n",
              "    <tr>\n",
              "      <th>2</th>\n",
              "      <td>C2483</td>\n",
              "      <td>900</td>\n",
              "      <td>1</td>\n",
              "      <td>경상북도</td>\n",
              "      <td>5</td>\n",
              "      <td>51.93</td>\n",
              "      <td>385</td>\n",
              "      <td>38.0</td>\n",
              "      <td>0</td>\n",
              "      <td>27304000</td>\n",
              "      <td>184330</td>\n",
              "      <td>0.0</td>\n",
              "      <td>3.0</td>\n",
              "      <td>1425.0</td>\n",
              "      <td>1015.0</td>\n",
              "    </tr>\n",
              "  </tbody>\n",
              "</table>\n",
              "</div>"
            ],
            "text/plain": [
              "    단지코드  총세대수  임대건물구분    지역  공급유형  ...     임대료  지하철   버스  단지내주차면수   등록차량수\n",
              "0  C2483   900       1  경상북도     5  ...  103680  0.0  3.0   1425.0  1015.0\n",
              "1  C2483   900       1  경상북도     5  ...  103680  0.0  3.0   1425.0  1015.0\n",
              "2  C2483   900       1  경상북도     5  ...  184330  0.0  3.0   1425.0  1015.0\n",
              "\n",
              "[3 rows x 15 columns]"
            ]
          },
          "metadata": {
            "tags": []
          },
          "execution_count": 34
        }
      ]
    },
    {
      "cell_type": "markdown",
      "metadata": {
        "id": "ULnMCGaWP-UY"
      },
      "source": [
        "##Rescaling"
      ]
    },
    {
      "cell_type": "markdown",
      "metadata": {
        "id": "0aLXw7z3P4qj"
      },
      "source": [
        "###전용면적"
      ]
    },
    {
      "cell_type": "markdown",
      "metadata": {
        "id": "3R_gm6j-Wti4"
      },
      "source": [
        "//로 나누어 소수점을 버리고 다시 같은 수를 곱하여 정리한다"
      ]
    },
    {
      "cell_type": "code",
      "metadata": {
        "id": "Q7MmfIXSFGzC"
      },
      "source": [
        "train['전용면적'] = train['전용면적']//5*5\n",
        "test['전용면적'] = test['전용면적']//5*5"
      ],
      "execution_count": null,
      "outputs": []
    },
    {
      "cell_type": "code",
      "metadata": {
        "colab": {
          "base_uri": "https://localhost:8080/"
        },
        "id": "dPKWy_2vt85s",
        "outputId": "c44dfeb8-5add-47c5-80f0-4522e02ef62e"
      },
      "source": [
        "print(train['전용면적'].unique())\n",
        "print(\"처리 후의 train 전용면적 총 갯수 : \",len(train['전용면적'].unique()))\n",
        "print(\"==========================\")\n",
        "print(test['전용면적'].unique())\n",
        "print(\"처리 후의 test 전용면적 총 갯수 : \",len(test['전용면적'].unique()))"
      ],
      "execution_count": null,
      "outputs": [
        {
          "output_type": "stream",
          "text": [
            "[ 35.  50.  55.  30.  45.  40.  25.  70.  10.  15.  20. 315.  60. 135.\n",
            "  75. 105. 580. 125. 240. 400. 245. 405.  80.  65.]\n",
            "처리 후의 train 전용면적 총 갯수 :  24\n",
            "==========================\n",
            "[ 35.  45.  50.  30.  55.  25.  75. 580.  15.  20.  40. 400.  60.   5.\n",
            "  10. 245. 250.  80. 240.  70.]\n",
            "처리 후의 test 전용면적 총 갯수 :  20\n"
          ],
          "name": "stdout"
        }
      ]
    },
    {
      "cell_type": "markdown",
      "metadata": {
        "id": "83J1E2eNQiVI"
      },
      "source": [
        "각각 수가 25개 이하로 그렇게 많지 않아서 상한선과 하한선은 정하지 않았다"
      ]
    },
    {
      "cell_type": "markdown",
      "metadata": {
        "id": "pnUhqAGjNpfW"
      },
      "source": [
        "## 똑같은 행 지우기"
      ]
    },
    {
      "cell_type": "code",
      "metadata": {
        "colab": {
          "base_uri": "https://localhost:8080/"
        },
        "id": "pdzaAOSVNoBT",
        "outputId": "7d3bad36-5252-4ac0-9158-ab7163025877"
      },
      "source": [
        "print(\"train shape : \",train.shape,\"  test shape : \",test.shape)\n",
        "train = train.drop_duplicates()\n",
        "test = test.drop_duplicates()\n",
        "print(\"train shape : \",train.shape,\"  test shape : \",test.shape)"
      ],
      "execution_count": null,
      "outputs": [
        {
          "output_type": "stream",
          "text": [
            "train shape :  (2952, 15)   test shape :  (1022, 14)\n",
            "train shape :  (2476, 15)   test shape :  (876, 14)\n"
          ],
          "name": "stdout"
        }
      ]
    },
    {
      "cell_type": "markdown",
      "metadata": {
        "id": "wJUzp07FN1dt"
      },
      "source": [
        "내용이 완전히 같은 것들을 지워준다"
      ]
    },
    {
      "cell_type": "markdown",
      "metadata": {
        "id": "qKibSEVUR7tM"
      },
      "source": [
        "#단지로 묶기"
      ]
    },
    {
      "cell_type": "markdown",
      "metadata": {
        "id": "r3B5Xf3fSFpa"
      },
      "source": [
        "단지코드 1개당 한 개의 열로 정리를 해야하는데 데이터를 확인해보면"
      ]
    },
    {
      "cell_type": "code",
      "metadata": {
        "colab": {
          "base_uri": "https://localhost:8080/",
          "height": 780
        },
        "id": "-Y8DLBCOR-m3",
        "outputId": "8700aaa8-82d0-4782-f98f-a5123096366a"
      },
      "source": [
        "train.head(15)"
      ],
      "execution_count": null,
      "outputs": [
        {
          "output_type": "execute_result",
          "data": {
            "text/html": [
              "<div>\n",
              "<style scoped>\n",
              "    .dataframe tbody tr th:only-of-type {\n",
              "        vertical-align: middle;\n",
              "    }\n",
              "\n",
              "    .dataframe tbody tr th {\n",
              "        vertical-align: top;\n",
              "    }\n",
              "\n",
              "    .dataframe thead th {\n",
              "        text-align: right;\n",
              "    }\n",
              "</style>\n",
              "<table border=\"1\" class=\"dataframe\">\n",
              "  <thead>\n",
              "    <tr style=\"text-align: right;\">\n",
              "      <th></th>\n",
              "      <th>단지코드</th>\n",
              "      <th>총세대수</th>\n",
              "      <th>임대건물구분</th>\n",
              "      <th>지역</th>\n",
              "      <th>공급유형</th>\n",
              "      <th>전용면적</th>\n",
              "      <th>전용면적별세대수</th>\n",
              "      <th>공가수</th>\n",
              "      <th>자격유형</th>\n",
              "      <th>임대보증금</th>\n",
              "      <th>임대료</th>\n",
              "      <th>지하철</th>\n",
              "      <th>버스</th>\n",
              "      <th>단지내주차면수</th>\n",
              "      <th>등록차량수</th>\n",
              "    </tr>\n",
              "  </thead>\n",
              "  <tbody>\n",
              "    <tr>\n",
              "      <th>0</th>\n",
              "      <td>C2483</td>\n",
              "      <td>900</td>\n",
              "      <td>1</td>\n",
              "      <td>경상북도</td>\n",
              "      <td>5</td>\n",
              "      <td>35.0</td>\n",
              "      <td>134</td>\n",
              "      <td>38.0</td>\n",
              "      <td>0</td>\n",
              "      <td>15667000</td>\n",
              "      <td>103680</td>\n",
              "      <td>0.0</td>\n",
              "      <td>3.0</td>\n",
              "      <td>1425.0</td>\n",
              "      <td>1015.0</td>\n",
              "    </tr>\n",
              "    <tr>\n",
              "      <th>1</th>\n",
              "      <td>C2483</td>\n",
              "      <td>900</td>\n",
              "      <td>1</td>\n",
              "      <td>경상북도</td>\n",
              "      <td>5</td>\n",
              "      <td>35.0</td>\n",
              "      <td>15</td>\n",
              "      <td>38.0</td>\n",
              "      <td>0</td>\n",
              "      <td>15667000</td>\n",
              "      <td>103680</td>\n",
              "      <td>0.0</td>\n",
              "      <td>3.0</td>\n",
              "      <td>1425.0</td>\n",
              "      <td>1015.0</td>\n",
              "    </tr>\n",
              "    <tr>\n",
              "      <th>2</th>\n",
              "      <td>C2483</td>\n",
              "      <td>900</td>\n",
              "      <td>1</td>\n",
              "      <td>경상북도</td>\n",
              "      <td>5</td>\n",
              "      <td>50.0</td>\n",
              "      <td>385</td>\n",
              "      <td>38.0</td>\n",
              "      <td>0</td>\n",
              "      <td>27304000</td>\n",
              "      <td>184330</td>\n",
              "      <td>0.0</td>\n",
              "      <td>3.0</td>\n",
              "      <td>1425.0</td>\n",
              "      <td>1015.0</td>\n",
              "    </tr>\n",
              "    <tr>\n",
              "      <th>3</th>\n",
              "      <td>C2483</td>\n",
              "      <td>900</td>\n",
              "      <td>1</td>\n",
              "      <td>경상북도</td>\n",
              "      <td>5</td>\n",
              "      <td>50.0</td>\n",
              "      <td>15</td>\n",
              "      <td>38.0</td>\n",
              "      <td>0</td>\n",
              "      <td>27304000</td>\n",
              "      <td>184330</td>\n",
              "      <td>0.0</td>\n",
              "      <td>3.0</td>\n",
              "      <td>1425.0</td>\n",
              "      <td>1015.0</td>\n",
              "    </tr>\n",
              "    <tr>\n",
              "      <th>4</th>\n",
              "      <td>C2483</td>\n",
              "      <td>900</td>\n",
              "      <td>1</td>\n",
              "      <td>경상북도</td>\n",
              "      <td>5</td>\n",
              "      <td>50.0</td>\n",
              "      <td>41</td>\n",
              "      <td>38.0</td>\n",
              "      <td>0</td>\n",
              "      <td>27304000</td>\n",
              "      <td>184330</td>\n",
              "      <td>0.0</td>\n",
              "      <td>3.0</td>\n",
              "      <td>1425.0</td>\n",
              "      <td>1015.0</td>\n",
              "    </tr>\n",
              "    <tr>\n",
              "      <th>5</th>\n",
              "      <td>C2483</td>\n",
              "      <td>900</td>\n",
              "      <td>1</td>\n",
              "      <td>경상북도</td>\n",
              "      <td>5</td>\n",
              "      <td>50.0</td>\n",
              "      <td>89</td>\n",
              "      <td>38.0</td>\n",
              "      <td>0</td>\n",
              "      <td>27304000</td>\n",
              "      <td>184330</td>\n",
              "      <td>0.0</td>\n",
              "      <td>3.0</td>\n",
              "      <td>1425.0</td>\n",
              "      <td>1015.0</td>\n",
              "    </tr>\n",
              "    <tr>\n",
              "      <th>6</th>\n",
              "      <td>C2483</td>\n",
              "      <td>900</td>\n",
              "      <td>1</td>\n",
              "      <td>경상북도</td>\n",
              "      <td>5</td>\n",
              "      <td>50.0</td>\n",
              "      <td>135</td>\n",
              "      <td>38.0</td>\n",
              "      <td>0</td>\n",
              "      <td>27304000</td>\n",
              "      <td>184330</td>\n",
              "      <td>0.0</td>\n",
              "      <td>3.0</td>\n",
              "      <td>1425.0</td>\n",
              "      <td>1015.0</td>\n",
              "    </tr>\n",
              "    <tr>\n",
              "      <th>7</th>\n",
              "      <td>C2483</td>\n",
              "      <td>900</td>\n",
              "      <td>1</td>\n",
              "      <td>경상북도</td>\n",
              "      <td>5</td>\n",
              "      <td>55.0</td>\n",
              "      <td>86</td>\n",
              "      <td>38.0</td>\n",
              "      <td>0</td>\n",
              "      <td>30357000</td>\n",
              "      <td>214270</td>\n",
              "      <td>0.0</td>\n",
              "      <td>3.0</td>\n",
              "      <td>1425.0</td>\n",
              "      <td>1015.0</td>\n",
              "    </tr>\n",
              "    <tr>\n",
              "      <th>8</th>\n",
              "      <td>C2515</td>\n",
              "      <td>545</td>\n",
              "      <td>1</td>\n",
              "      <td>경상남도</td>\n",
              "      <td>5</td>\n",
              "      <td>30.0</td>\n",
              "      <td>276</td>\n",
              "      <td>17.0</td>\n",
              "      <td>0</td>\n",
              "      <td>9216000</td>\n",
              "      <td>82940</td>\n",
              "      <td>0.0</td>\n",
              "      <td>3.0</td>\n",
              "      <td>624.0</td>\n",
              "      <td>205.0</td>\n",
              "    </tr>\n",
              "    <tr>\n",
              "      <th>9</th>\n",
              "      <td>C2515</td>\n",
              "      <td>545</td>\n",
              "      <td>1</td>\n",
              "      <td>경상남도</td>\n",
              "      <td>5</td>\n",
              "      <td>35.0</td>\n",
              "      <td>60</td>\n",
              "      <td>17.0</td>\n",
              "      <td>0</td>\n",
              "      <td>12672000</td>\n",
              "      <td>107130</td>\n",
              "      <td>0.0</td>\n",
              "      <td>3.0</td>\n",
              "      <td>624.0</td>\n",
              "      <td>205.0</td>\n",
              "    </tr>\n",
              "    <tr>\n",
              "      <th>10</th>\n",
              "      <td>C2515</td>\n",
              "      <td>545</td>\n",
              "      <td>1</td>\n",
              "      <td>경상남도</td>\n",
              "      <td>5</td>\n",
              "      <td>35.0</td>\n",
              "      <td>20</td>\n",
              "      <td>17.0</td>\n",
              "      <td>0</td>\n",
              "      <td>12672000</td>\n",
              "      <td>107130</td>\n",
              "      <td>0.0</td>\n",
              "      <td>3.0</td>\n",
              "      <td>624.0</td>\n",
              "      <td>205.0</td>\n",
              "    </tr>\n",
              "    <tr>\n",
              "      <th>11</th>\n",
              "      <td>C2515</td>\n",
              "      <td>545</td>\n",
              "      <td>1</td>\n",
              "      <td>경상남도</td>\n",
              "      <td>5</td>\n",
              "      <td>45.0</td>\n",
              "      <td>38</td>\n",
              "      <td>17.0</td>\n",
              "      <td>0</td>\n",
              "      <td>18433000</td>\n",
              "      <td>149760</td>\n",
              "      <td>0.0</td>\n",
              "      <td>3.0</td>\n",
              "      <td>624.0</td>\n",
              "      <td>205.0</td>\n",
              "    </tr>\n",
              "    <tr>\n",
              "      <th>12</th>\n",
              "      <td>C2515</td>\n",
              "      <td>545</td>\n",
              "      <td>1</td>\n",
              "      <td>경상남도</td>\n",
              "      <td>5</td>\n",
              "      <td>45.0</td>\n",
              "      <td>19</td>\n",
              "      <td>17.0</td>\n",
              "      <td>0</td>\n",
              "      <td>18433000</td>\n",
              "      <td>149760</td>\n",
              "      <td>0.0</td>\n",
              "      <td>3.0</td>\n",
              "      <td>624.0</td>\n",
              "      <td>205.0</td>\n",
              "    </tr>\n",
              "    <tr>\n",
              "      <th>13</th>\n",
              "      <td>C2515</td>\n",
              "      <td>545</td>\n",
              "      <td>1</td>\n",
              "      <td>경상남도</td>\n",
              "      <td>5</td>\n",
              "      <td>50.0</td>\n",
              "      <td>106</td>\n",
              "      <td>17.0</td>\n",
              "      <td>0</td>\n",
              "      <td>23042000</td>\n",
              "      <td>190090</td>\n",
              "      <td>0.0</td>\n",
              "      <td>3.0</td>\n",
              "      <td>624.0</td>\n",
              "      <td>205.0</td>\n",
              "    </tr>\n",
              "    <tr>\n",
              "      <th>14</th>\n",
              "      <td>C2515</td>\n",
              "      <td>545</td>\n",
              "      <td>1</td>\n",
              "      <td>경상남도</td>\n",
              "      <td>5</td>\n",
              "      <td>50.0</td>\n",
              "      <td>26</td>\n",
              "      <td>17.0</td>\n",
              "      <td>0</td>\n",
              "      <td>23042000</td>\n",
              "      <td>190090</td>\n",
              "      <td>0.0</td>\n",
              "      <td>3.0</td>\n",
              "      <td>624.0</td>\n",
              "      <td>205.0</td>\n",
              "    </tr>\n",
              "  </tbody>\n",
              "</table>\n",
              "</div>"
            ],
            "text/plain": [
              "     단지코드  총세대수  임대건물구분    지역  공급유형  ...     임대료  지하철   버스  단지내주차면수   등록차량수\n",
              "0   C2483   900       1  경상북도     5  ...  103680  0.0  3.0   1425.0  1015.0\n",
              "1   C2483   900       1  경상북도     5  ...  103680  0.0  3.0   1425.0  1015.0\n",
              "2   C2483   900       1  경상북도     5  ...  184330  0.0  3.0   1425.0  1015.0\n",
              "3   C2483   900       1  경상북도     5  ...  184330  0.0  3.0   1425.0  1015.0\n",
              "4   C2483   900       1  경상북도     5  ...  184330  0.0  3.0   1425.0  1015.0\n",
              "5   C2483   900       1  경상북도     5  ...  184330  0.0  3.0   1425.0  1015.0\n",
              "6   C2483   900       1  경상북도     5  ...  184330  0.0  3.0   1425.0  1015.0\n",
              "7   C2483   900       1  경상북도     5  ...  214270  0.0  3.0   1425.0  1015.0\n",
              "8   C2515   545       1  경상남도     5  ...   82940  0.0  3.0    624.0   205.0\n",
              "9   C2515   545       1  경상남도     5  ...  107130  0.0  3.0    624.0   205.0\n",
              "10  C2515   545       1  경상남도     5  ...  107130  0.0  3.0    624.0   205.0\n",
              "11  C2515   545       1  경상남도     5  ...  149760  0.0  3.0    624.0   205.0\n",
              "12  C2515   545       1  경상남도     5  ...  149760  0.0  3.0    624.0   205.0\n",
              "13  C2515   545       1  경상남도     5  ...  190090  0.0  3.0    624.0   205.0\n",
              "14  C2515   545       1  경상남도     5  ...  190090  0.0  3.0    624.0   205.0\n",
              "\n",
              "[15 rows x 15 columns]"
            ]
          },
          "metadata": {
            "tags": []
          },
          "execution_count": 38
        }
      ]
    },
    {
      "cell_type": "markdown",
      "metadata": {
        "id": "74C-lzy6SKxb"
      },
      "source": [
        "같은 단지코드 내에서 전용면적별 세대수, 임대보증금, 임대료 열만 다른 것을 확인할 수 있다\n",
        "\n",
        "\n",
        "\n",
        "*   전용면적별로 열을 추가로 만들어서 정리(baseline 코드에서 한 내용)\n",
        "*   평균\n",
        "\n",
        "둘 중 하나만 실행\n",
        "\n"
      ]
    },
    {
      "cell_type": "markdown",
      "metadata": {
        "id": "uPBvLD2mSnxl"
      },
      "source": [
        "## 전용면적별"
      ]
    },
    {
      "cell_type": "code",
      "metadata": {
        "colab": {
          "base_uri": "https://localhost:8080/"
        },
        "id": "3aKGojMEbhvu",
        "outputId": "4fe8ccad-df9d-42e2-a53a-bef2380c5287"
      },
      "source": [
        "print(age_gender.columns)"
      ],
      "execution_count": null,
      "outputs": [
        {
          "output_type": "stream",
          "text": [
            "Index(['1st', '1gender', '2nd', '2gender', '3rd', '3gender'], dtype='object')\n"
          ],
          "name": "stdout"
        }
      ]
    },
    {
      "cell_type": "code",
      "metadata": {
        "id": "RGANcTX1By8R"
      },
      "source": [
        "#같은 단지코드 내에서는 같은 값을 유지하는 column들\n",
        "columns = ['단지코드', '총세대수', '공가수', '지역', '단지내주차면수', '지하철', '버스']\n",
        "area_columns = []\n",
        "for area in train['전용면적'].unique():\n",
        "    area_columns.append(f'면적_{area}')"
      ],
      "execution_count": null,
      "outputs": []
    },
    {
      "cell_type": "code",
      "metadata": {
        "colab": {
          "base_uri": "https://localhost:8080/"
        },
        "id": "wldXApnxE7IT",
        "outputId": "23921cec-6f47-4fc5-9e02-f9eee1e469df"
      },
      "source": [
        "area_columns"
      ],
      "execution_count": null,
      "outputs": [
        {
          "output_type": "execute_result",
          "data": {
            "text/plain": [
              "['면적_35.0',\n",
              " '면적_50.0',\n",
              " '면적_55.0',\n",
              " '면적_30.0',\n",
              " '면적_45.0',\n",
              " '면적_40.0',\n",
              " '면적_25.0',\n",
              " '면적_70.0',\n",
              " '면적_10.0',\n",
              " '면적_15.0',\n",
              " '면적_20.0',\n",
              " '면적_315.0',\n",
              " '면적_60.0',\n",
              " '면적_135.0',\n",
              " '면적_75.0',\n",
              " '면적_105.0',\n",
              " '면적_580.0',\n",
              " '면적_125.0',\n",
              " '면적_240.0',\n",
              " '면적_400.0',\n",
              " '면적_245.0',\n",
              " '면적_405.0',\n",
              " '면적_80.0',\n",
              " '면적_65.0']"
            ]
          },
          "metadata": {
            "tags": []
          },
          "execution_count": 134
        }
      ]
    },
    {
      "cell_type": "code",
      "metadata": {
        "id": "f-g8KlGcFDeq"
      },
      "source": [
        "new_train = pd.DataFrame()\n",
        "new_test = pd.DataFrame()"
      ],
      "execution_count": null,
      "outputs": []
    },
    {
      "cell_type": "code",
      "metadata": {
        "colab": {
          "base_uri": "https://localhost:8080/"
        },
        "id": "hFLcBRAG0cwe",
        "outputId": "035a3281-4cda-4513-a18c-85114b0637a8"
      },
      "source": [
        "#train\n",
        "for i, code in tqdm(enumerate(train['단지코드'].unique())):\n",
        "    temp = train[train['단지코드']==code]\n",
        "    temp.index = range(temp.shape[0])\n",
        "    for col in columns:\n",
        "        new_train.loc[i, col] = temp.loc[0, col]\n",
        "    \n",
        "    for col in area_columns:\n",
        "        area = float(col.split('_')[-1])\n",
        "        new_train.loc[i, col] = temp[temp['전용면적']==area]['전용면적별세대수'].sum()\n",
        "    \n",
        "    new_train.loc[i, '등록차량수'] = temp.loc[0, '등록차량수']\n",
        "\n",
        "#test\n",
        "for i, code in tqdm(enumerate(test['단지코드'].unique())):\n",
        "    temp = test[test['단지코드']==code]\n",
        "    temp.index = range(temp.shape[0])\n",
        "    for col in columns:\n",
        "        new_test.loc[i, col] = temp.loc[0, col]\n",
        "    \n",
        "    for col in area_columns:\n",
        "        area = float(col.split('_')[-1])\n",
        "        new_test.loc[i, col] = temp[temp['전용면적']==area]['전용면적별세대수'].sum()"
      ],
      "execution_count": null,
      "outputs": [
        {
          "output_type": "stream",
          "text": [
            "423it [00:13, 30.24it/s]\n",
            "150it [00:04, 30.10it/s]\n"
          ],
          "name": "stderr"
        }
      ]
    },
    {
      "cell_type": "code",
      "metadata": {
        "colab": {
          "base_uri": "https://localhost:8080/",
          "height": 212
        },
        "id": "o-vXKJQ41gds",
        "outputId": "38b40f36-684d-4c88-84f3-72701401ded2"
      },
      "source": [
        "new_train.head(3)"
      ],
      "execution_count": null,
      "outputs": [
        {
          "output_type": "execute_result",
          "data": {
            "text/html": [
              "<div>\n",
              "<style scoped>\n",
              "    .dataframe tbody tr th:only-of-type {\n",
              "        vertical-align: middle;\n",
              "    }\n",
              "\n",
              "    .dataframe tbody tr th {\n",
              "        vertical-align: top;\n",
              "    }\n",
              "\n",
              "    .dataframe thead th {\n",
              "        text-align: right;\n",
              "    }\n",
              "</style>\n",
              "<table border=\"1\" class=\"dataframe\">\n",
              "  <thead>\n",
              "    <tr style=\"text-align: right;\">\n",
              "      <th></th>\n",
              "      <th>단지코드</th>\n",
              "      <th>총세대수</th>\n",
              "      <th>공가수</th>\n",
              "      <th>지역</th>\n",
              "      <th>단지내주차면수</th>\n",
              "      <th>지하철</th>\n",
              "      <th>버스</th>\n",
              "      <th>1st</th>\n",
              "      <th>1gender</th>\n",
              "      <th>2nd</th>\n",
              "      <th>2gender</th>\n",
              "      <th>3rd</th>\n",
              "      <th>3gender</th>\n",
              "      <th>면적_35.0</th>\n",
              "      <th>면적_50.0</th>\n",
              "      <th>면적_55.0</th>\n",
              "      <th>면적_30.0</th>\n",
              "      <th>면적_45.0</th>\n",
              "      <th>면적_40.0</th>\n",
              "      <th>면적_25.0</th>\n",
              "      <th>면적_70.0</th>\n",
              "      <th>면적_10.0</th>\n",
              "      <th>면적_15.0</th>\n",
              "      <th>면적_20.0</th>\n",
              "      <th>면적_315.0</th>\n",
              "      <th>면적_60.0</th>\n",
              "      <th>면적_135.0</th>\n",
              "      <th>면적_75.0</th>\n",
              "      <th>면적_105.0</th>\n",
              "      <th>면적_580.0</th>\n",
              "      <th>면적_125.0</th>\n",
              "      <th>면적_240.0</th>\n",
              "      <th>면적_400.0</th>\n",
              "      <th>면적_245.0</th>\n",
              "      <th>면적_405.0</th>\n",
              "      <th>면적_80.0</th>\n",
              "      <th>면적_65.0</th>\n",
              "      <th>등록차량수</th>\n",
              "    </tr>\n",
              "  </thead>\n",
              "  <tbody>\n",
              "    <tr>\n",
              "      <th>0</th>\n",
              "      <td>C2483</td>\n",
              "      <td>900.0</td>\n",
              "      <td>38.0</td>\n",
              "      <td>3.0</td>\n",
              "      <td>1425.0</td>\n",
              "      <td>0.0</td>\n",
              "      <td>3.0</td>\n",
              "      <td>5</td>\n",
              "      <td>0</td>\n",
              "      <td>4</td>\n",
              "      <td>0</td>\n",
              "      <td>6</td>\n",
              "      <td>0</td>\n",
              "      <td>149.0</td>\n",
              "      <td>665.0</td>\n",
              "      <td>86.0</td>\n",
              "      <td>0.0</td>\n",
              "      <td>0.0</td>\n",
              "      <td>0.0</td>\n",
              "      <td>0.0</td>\n",
              "      <td>0.0</td>\n",
              "      <td>0.0</td>\n",
              "      <td>0.0</td>\n",
              "      <td>0.0</td>\n",
              "      <td>0.0</td>\n",
              "      <td>0.0</td>\n",
              "      <td>0.0</td>\n",
              "      <td>0.0</td>\n",
              "      <td>0.0</td>\n",
              "      <td>0.0</td>\n",
              "      <td>0.0</td>\n",
              "      <td>0.0</td>\n",
              "      <td>0.0</td>\n",
              "      <td>0.0</td>\n",
              "      <td>0.0</td>\n",
              "      <td>0.0</td>\n",
              "      <td>0.0</td>\n",
              "      <td>1015.0</td>\n",
              "    </tr>\n",
              "    <tr>\n",
              "      <th>1</th>\n",
              "      <td>C2515</td>\n",
              "      <td>545.0</td>\n",
              "      <td>17.0</td>\n",
              "      <td>2.0</td>\n",
              "      <td>624.0</td>\n",
              "      <td>0.0</td>\n",
              "      <td>3.0</td>\n",
              "      <td>6</td>\n",
              "      <td>0</td>\n",
              "      <td>5</td>\n",
              "      <td>0</td>\n",
              "      <td>4</td>\n",
              "      <td>0</td>\n",
              "      <td>80.0</td>\n",
              "      <td>132.0</td>\n",
              "      <td>0.0</td>\n",
              "      <td>276.0</td>\n",
              "      <td>57.0</td>\n",
              "      <td>0.0</td>\n",
              "      <td>0.0</td>\n",
              "      <td>0.0</td>\n",
              "      <td>0.0</td>\n",
              "      <td>0.0</td>\n",
              "      <td>0.0</td>\n",
              "      <td>0.0</td>\n",
              "      <td>0.0</td>\n",
              "      <td>0.0</td>\n",
              "      <td>0.0</td>\n",
              "      <td>0.0</td>\n",
              "      <td>0.0</td>\n",
              "      <td>0.0</td>\n",
              "      <td>0.0</td>\n",
              "      <td>0.0</td>\n",
              "      <td>0.0</td>\n",
              "      <td>0.0</td>\n",
              "      <td>0.0</td>\n",
              "      <td>0.0</td>\n",
              "      <td>205.0</td>\n",
              "    </tr>\n",
              "    <tr>\n",
              "      <th>2</th>\n",
              "      <td>C1407</td>\n",
              "      <td>1216.0</td>\n",
              "      <td>13.0</td>\n",
              "      <td>6.0</td>\n",
              "      <td>1285.0</td>\n",
              "      <td>1.0</td>\n",
              "      <td>1.0</td>\n",
              "      <td>6</td>\n",
              "      <td>0</td>\n",
              "      <td>5</td>\n",
              "      <td>0</td>\n",
              "      <td>4</td>\n",
              "      <td>0</td>\n",
              "      <td>0.0</td>\n",
              "      <td>62.0</td>\n",
              "      <td>0.0</td>\n",
              "      <td>390.0</td>\n",
              "      <td>170.0</td>\n",
              "      <td>292.0</td>\n",
              "      <td>0.0</td>\n",
              "      <td>0.0</td>\n",
              "      <td>0.0</td>\n",
              "      <td>0.0</td>\n",
              "      <td>0.0</td>\n",
              "      <td>0.0</td>\n",
              "      <td>0.0</td>\n",
              "      <td>0.0</td>\n",
              "      <td>0.0</td>\n",
              "      <td>0.0</td>\n",
              "      <td>0.0</td>\n",
              "      <td>0.0</td>\n",
              "      <td>0.0</td>\n",
              "      <td>0.0</td>\n",
              "      <td>0.0</td>\n",
              "      <td>0.0</td>\n",
              "      <td>0.0</td>\n",
              "      <td>0.0</td>\n",
              "      <td>1064.0</td>\n",
              "    </tr>\n",
              "  </tbody>\n",
              "</table>\n",
              "</div>"
            ],
            "text/plain": [
              "    단지코드    총세대수   공가수   지역  ...  면적_405.0  면적_80.0  면적_65.0   등록차량수\n",
              "0  C2483   900.0  38.0  3.0  ...       0.0      0.0      0.0  1015.0\n",
              "1  C2515   545.0  17.0  2.0  ...       0.0      0.0      0.0   205.0\n",
              "2  C1407  1216.0  13.0  6.0  ...       0.0      0.0      0.0  1064.0\n",
              "\n",
              "[3 rows x 38 columns]"
            ]
          },
          "metadata": {
            "tags": []
          },
          "execution_count": 137
        }
      ]
    },
    {
      "cell_type": "markdown",
      "metadata": {
        "id": "9veCtY6RSp4N"
      },
      "source": [
        "##평균"
      ]
    },
    {
      "cell_type": "code",
      "metadata": {
        "id": "Cfyxl4BVU6_A"
      },
      "source": [
        "#같은 단지코드 내에서는 같은 값을 유지하는 column들\n",
        "columns = ['단지코드', '총세대수', '공가수', '지역', '단지내주차면수', '지하철', '버스']\n",
        "#평균내야 할 열\n",
        "average_column=['전용면적별세대수','임대보증금','임대료']\n",
        "\n",
        "new_train = pd.DataFrame()\n",
        "new_test = pd.DataFrame()"
      ],
      "execution_count": null,
      "outputs": []
    },
    {
      "cell_type": "code",
      "metadata": {
        "id": "dKC9fXEbhdEf"
      },
      "source": [
        "train['임대보증금']=train['임대보증금'].astype(np.float64)\n",
        "train['임대료']=train['임대료'].astype(np.float64)\n",
        "test['임대보증금']=test['임대보증금'].astype(np.float64)\n",
        "test['임대료']=test['임대료'].astype(np.float64)"
      ],
      "execution_count": null,
      "outputs": []
    },
    {
      "cell_type": "code",
      "metadata": {
        "colab": {
          "base_uri": "https://localhost:8080/"
        },
        "id": "BaZosf9MTnIt",
        "outputId": "f8c4a976-5a70-4b36-e949-0543d89c6719"
      },
      "source": [
        "#train\n",
        "for i, code in tqdm(enumerate(train['단지코드'].unique())):\n",
        "    temp = train[train['단지코드']==code]\n",
        "    #temp의 index를 0부터 시작하게 설정한다\n",
        "    temp.index = range(temp.shape[0])\n",
        "\n",
        "    #같은 단지코드 안에서 같은 값들은 새 dataframe에도 그대로 넣어준다\n",
        "    for col in columns:\n",
        "        new_train.loc[i, col] = temp.loc[0, col]\n",
        "\n",
        "    for col in average_column:\n",
        "        #한 열에대한 평균값\n",
        "        temp_dataframe=pd.DataFrame(temp[col])\n",
        "        avg_temp=temp_dataframe.mean(axis = 0)\n",
        "        new_train.loc[i,col]=avg_temp[0]\n",
        "\n",
        "    new_train.loc[i, '등록차량수'] = temp.loc[0, '등록차량수']\n",
        "\n",
        "#test\n",
        "for i, code in tqdm(enumerate(test['단지코드'].unique())):\n",
        "    temp = test[test['단지코드']==code]\n",
        "    #temp의 index를 0부터 시작하게 설정한다\n",
        "    temp.index = range(temp.shape[0])\n",
        "\n",
        "    #같은 단지코드 안에서 같은 값들은 새 dataframe에도 그대로 넣어준다\n",
        "    for col in columns:\n",
        "        new_test.loc[i, col] = temp.loc[0, col]\n",
        "    \n",
        "    for col in average_column:\n",
        "        #한 열에대한 평균값\n",
        "        temp_dataframe=pd.DataFrame(temp[col])\n",
        "        avg_temp=temp_dataframe.mean(axis = 0)\n",
        "        new_test.loc[i,col]=avg_temp[0]"
      ],
      "execution_count": null,
      "outputs": [
        {
          "output_type": "stream",
          "text": [
            "423it [00:03, 122.28it/s]\n",
            "150it [00:01, 122.51it/s]\n"
          ],
          "name": "stderr"
        }
      ]
    },
    {
      "cell_type": "code",
      "metadata": {
        "colab": {
          "base_uri": "https://localhost:8080/",
          "height": 142
        },
        "id": "cBTrVR14iXEo",
        "outputId": "40ea6051-d44b-4eb2-d5bd-871c9373466b"
      },
      "source": [
        "new_train.head(3)"
      ],
      "execution_count": null,
      "outputs": [
        {
          "output_type": "execute_result",
          "data": {
            "text/html": [
              "<div>\n",
              "<style scoped>\n",
              "    .dataframe tbody tr th:only-of-type {\n",
              "        vertical-align: middle;\n",
              "    }\n",
              "\n",
              "    .dataframe tbody tr th {\n",
              "        vertical-align: top;\n",
              "    }\n",
              "\n",
              "    .dataframe thead th {\n",
              "        text-align: right;\n",
              "    }\n",
              "</style>\n",
              "<table border=\"1\" class=\"dataframe\">\n",
              "  <thead>\n",
              "    <tr style=\"text-align: right;\">\n",
              "      <th></th>\n",
              "      <th>단지코드</th>\n",
              "      <th>총세대수</th>\n",
              "      <th>공가수</th>\n",
              "      <th>지역</th>\n",
              "      <th>단지내주차면수</th>\n",
              "      <th>지하철</th>\n",
              "      <th>버스</th>\n",
              "      <th>전용면적별세대수</th>\n",
              "      <th>임대보증금</th>\n",
              "      <th>임대료</th>\n",
              "      <th>등록차량수</th>\n",
              "    </tr>\n",
              "  </thead>\n",
              "  <tbody>\n",
              "    <tr>\n",
              "      <th>0</th>\n",
              "      <td>C2483</td>\n",
              "      <td>900.0</td>\n",
              "      <td>38.0</td>\n",
              "      <td>경상북도</td>\n",
              "      <td>1425.0</td>\n",
              "      <td>0.0</td>\n",
              "      <td>3.0</td>\n",
              "      <td>112.500000</td>\n",
              "      <td>2.477638e+07</td>\n",
              "      <td>167910.000000</td>\n",
              "      <td>1015.0</td>\n",
              "    </tr>\n",
              "    <tr>\n",
              "      <th>1</th>\n",
              "      <td>C2515</td>\n",
              "      <td>545.0</td>\n",
              "      <td>17.0</td>\n",
              "      <td>경상남도</td>\n",
              "      <td>624.0</td>\n",
              "      <td>0.0</td>\n",
              "      <td>3.0</td>\n",
              "      <td>77.857143</td>\n",
              "      <td>1.678714e+07</td>\n",
              "      <td>139557.142857</td>\n",
              "      <td>205.0</td>\n",
              "    </tr>\n",
              "    <tr>\n",
              "      <th>2</th>\n",
              "      <td>C1407</td>\n",
              "      <td>1216.0</td>\n",
              "      <td>13.0</td>\n",
              "      <td>대전광역시</td>\n",
              "      <td>1285.0</td>\n",
              "      <td>1.0</td>\n",
              "      <td>1.0</td>\n",
              "      <td>114.250000</td>\n",
              "      <td>2.598438e+07</td>\n",
              "      <td>165956.250000</td>\n",
              "      <td>1064.0</td>\n",
              "    </tr>\n",
              "  </tbody>\n",
              "</table>\n",
              "</div>"
            ],
            "text/plain": [
              "    단지코드    총세대수   공가수     지역  ...    전용면적별세대수         임대보증금            임대료   등록차량수\n",
              "0  C2483   900.0  38.0   경상북도  ...  112.500000  2.477638e+07  167910.000000  1015.0\n",
              "1  C2515   545.0  17.0   경상남도  ...   77.857143  1.678714e+07  139557.142857   205.0\n",
              "2  C1407  1216.0  13.0  대전광역시  ...  114.250000  2.598438e+07  165956.250000  1064.0\n",
              "\n",
              "[3 rows x 11 columns]"
            ]
          },
          "metadata": {
            "tags": []
          },
          "execution_count": 42
        }
      ]
    },
    {
      "cell_type": "code",
      "metadata": {
        "colab": {
          "base_uri": "https://localhost:8080/",
          "height": 142
        },
        "id": "XzVVELuPiQU6",
        "outputId": "0c635bb4-d712-4ecc-dca9-470b47431b5b"
      },
      "source": [
        "new_test.head(3)"
      ],
      "execution_count": null,
      "outputs": [
        {
          "output_type": "execute_result",
          "data": {
            "text/html": [
              "<div>\n",
              "<style scoped>\n",
              "    .dataframe tbody tr th:only-of-type {\n",
              "        vertical-align: middle;\n",
              "    }\n",
              "\n",
              "    .dataframe tbody tr th {\n",
              "        vertical-align: top;\n",
              "    }\n",
              "\n",
              "    .dataframe thead th {\n",
              "        text-align: right;\n",
              "    }\n",
              "</style>\n",
              "<table border=\"1\" class=\"dataframe\">\n",
              "  <thead>\n",
              "    <tr style=\"text-align: right;\">\n",
              "      <th></th>\n",
              "      <th>단지코드</th>\n",
              "      <th>총세대수</th>\n",
              "      <th>공가수</th>\n",
              "      <th>지역</th>\n",
              "      <th>단지내주차면수</th>\n",
              "      <th>지하철</th>\n",
              "      <th>버스</th>\n",
              "      <th>전용면적별세대수</th>\n",
              "      <th>임대보증금</th>\n",
              "      <th>임대료</th>\n",
              "    </tr>\n",
              "  </thead>\n",
              "  <tbody>\n",
              "    <tr>\n",
              "      <th>0</th>\n",
              "      <td>C1072</td>\n",
              "      <td>754.0</td>\n",
              "      <td>14.0</td>\n",
              "      <td>경기도</td>\n",
              "      <td>683.0</td>\n",
              "      <td>0.0</td>\n",
              "      <td>2.0</td>\n",
              "      <td>94.250000</td>\n",
              "      <td>38120250.0</td>\n",
              "      <td>265843.750000</td>\n",
              "    </tr>\n",
              "    <tr>\n",
              "      <th>1</th>\n",
              "      <td>C1128</td>\n",
              "      <td>1354.0</td>\n",
              "      <td>9.0</td>\n",
              "      <td>경기도</td>\n",
              "      <td>1216.0</td>\n",
              "      <td>0.0</td>\n",
              "      <td>3.0</td>\n",
              "      <td>150.444444</td>\n",
              "      <td>34125000.0</td>\n",
              "      <td>245516.666667</td>\n",
              "    </tr>\n",
              "    <tr>\n",
              "      <th>2</th>\n",
              "      <td>C1456</td>\n",
              "      <td>619.0</td>\n",
              "      <td>18.0</td>\n",
              "      <td>부산광역시</td>\n",
              "      <td>547.0</td>\n",
              "      <td>0.0</td>\n",
              "      <td>16.0</td>\n",
              "      <td>66.625000</td>\n",
              "      <td>33704875.0</td>\n",
              "      <td>222290.000000</td>\n",
              "    </tr>\n",
              "  </tbody>\n",
              "</table>\n",
              "</div>"
            ],
            "text/plain": [
              "    단지코드    총세대수   공가수     지역  ...    버스    전용면적별세대수       임대보증금            임대료\n",
              "0  C1072   754.0  14.0    경기도  ...   2.0   94.250000  38120250.0  265843.750000\n",
              "1  C1128  1354.0   9.0    경기도  ...   3.0  150.444444  34125000.0  245516.666667\n",
              "2  C1456   619.0  18.0  부산광역시  ...  16.0   66.625000  33704875.0  222290.000000\n",
              "\n",
              "[3 rows x 10 columns]"
            ]
          },
          "metadata": {
            "tags": []
          },
          "execution_count": 43
        }
      ]
    },
    {
      "cell_type": "markdown",
      "metadata": {
        "id": "SLWgcdh8Rrbl"
      },
      "source": [
        "##Scaler"
      ]
    },
    {
      "cell_type": "code",
      "metadata": {
        "colab": {
          "base_uri": "https://localhost:8080/",
          "height": 203
        },
        "id": "-8oAEof-RvaM",
        "outputId": "303d672b-2213-4385-8ea3-f3a206fe0d48"
      },
      "source": [
        "new_train.head(5)"
      ],
      "execution_count": null,
      "outputs": [
        {
          "output_type": "execute_result",
          "data": {
            "text/html": [
              "<div>\n",
              "<style scoped>\n",
              "    .dataframe tbody tr th:only-of-type {\n",
              "        vertical-align: middle;\n",
              "    }\n",
              "\n",
              "    .dataframe tbody tr th {\n",
              "        vertical-align: top;\n",
              "    }\n",
              "\n",
              "    .dataframe thead th {\n",
              "        text-align: right;\n",
              "    }\n",
              "</style>\n",
              "<table border=\"1\" class=\"dataframe\">\n",
              "  <thead>\n",
              "    <tr style=\"text-align: right;\">\n",
              "      <th></th>\n",
              "      <th>단지코드</th>\n",
              "      <th>총세대수</th>\n",
              "      <th>공가수</th>\n",
              "      <th>지역</th>\n",
              "      <th>단지내주차면수</th>\n",
              "      <th>지하철</th>\n",
              "      <th>버스</th>\n",
              "      <th>전용면적별세대수</th>\n",
              "      <th>임대보증금</th>\n",
              "      <th>임대료</th>\n",
              "      <th>등록차량수</th>\n",
              "    </tr>\n",
              "  </thead>\n",
              "  <tbody>\n",
              "    <tr>\n",
              "      <th>0</th>\n",
              "      <td>C2483</td>\n",
              "      <td>900.0</td>\n",
              "      <td>38.0</td>\n",
              "      <td>경상북도</td>\n",
              "      <td>1425.0</td>\n",
              "      <td>0.0</td>\n",
              "      <td>3.0</td>\n",
              "      <td>112.500000</td>\n",
              "      <td>2.477638e+07</td>\n",
              "      <td>167910.000000</td>\n",
              "      <td>1015.0</td>\n",
              "    </tr>\n",
              "    <tr>\n",
              "      <th>1</th>\n",
              "      <td>C2515</td>\n",
              "      <td>545.0</td>\n",
              "      <td>17.0</td>\n",
              "      <td>경상남도</td>\n",
              "      <td>624.0</td>\n",
              "      <td>0.0</td>\n",
              "      <td>3.0</td>\n",
              "      <td>77.857143</td>\n",
              "      <td>1.678714e+07</td>\n",
              "      <td>139557.142857</td>\n",
              "      <td>205.0</td>\n",
              "    </tr>\n",
              "    <tr>\n",
              "      <th>2</th>\n",
              "      <td>C1407</td>\n",
              "      <td>1216.0</td>\n",
              "      <td>13.0</td>\n",
              "      <td>대전광역시</td>\n",
              "      <td>1285.0</td>\n",
              "      <td>1.0</td>\n",
              "      <td>1.0</td>\n",
              "      <td>114.250000</td>\n",
              "      <td>2.598438e+07</td>\n",
              "      <td>165956.250000</td>\n",
              "      <td>1064.0</td>\n",
              "    </tr>\n",
              "    <tr>\n",
              "      <th>3</th>\n",
              "      <td>C1945</td>\n",
              "      <td>755.0</td>\n",
              "      <td>6.0</td>\n",
              "      <td>경기도</td>\n",
              "      <td>734.0</td>\n",
              "      <td>1.0</td>\n",
              "      <td>3.0</td>\n",
              "      <td>127.000000</td>\n",
              "      <td>2.406060e+07</td>\n",
              "      <td>200914.000000</td>\n",
              "      <td>730.0</td>\n",
              "    </tr>\n",
              "    <tr>\n",
              "      <th>4</th>\n",
              "      <td>C1470</td>\n",
              "      <td>696.0</td>\n",
              "      <td>14.0</td>\n",
              "      <td>전라북도</td>\n",
              "      <td>645.0</td>\n",
              "      <td>0.0</td>\n",
              "      <td>2.0</td>\n",
              "      <td>174.000000</td>\n",
              "      <td>1.772275e+07</td>\n",
              "      <td>120150.000000</td>\n",
              "      <td>553.0</td>\n",
              "    </tr>\n",
              "  </tbody>\n",
              "</table>\n",
              "</div>"
            ],
            "text/plain": [
              "    단지코드    총세대수   공가수     지역  ...    전용면적별세대수         임대보증금            임대료   등록차량수\n",
              "0  C2483   900.0  38.0   경상북도  ...  112.500000  2.477638e+07  167910.000000  1015.0\n",
              "1  C2515   545.0  17.0   경상남도  ...   77.857143  1.678714e+07  139557.142857   205.0\n",
              "2  C1407  1216.0  13.0  대전광역시  ...  114.250000  2.598438e+07  165956.250000  1064.0\n",
              "3  C1945   755.0   6.0    경기도  ...  127.000000  2.406060e+07  200914.000000   730.0\n",
              "4  C1470   696.0  14.0   전라북도  ...  174.000000  1.772275e+07  120150.000000   553.0\n",
              "\n",
              "[5 rows x 11 columns]"
            ]
          },
          "metadata": {
            "tags": []
          },
          "execution_count": 44
        }
      ]
    },
    {
      "cell_type": "code",
      "metadata": {
        "colab": {
          "base_uri": "https://localhost:8080/",
          "height": 282
        },
        "id": "DEx498-5R2Lk",
        "outputId": "4aea4a95-eff7-455b-8389-0b3a7a41b7b6"
      },
      "source": [
        "new_train['총세대수'].hist(bins=100)"
      ],
      "execution_count": null,
      "outputs": [
        {
          "output_type": "execute_result",
          "data": {
            "text/plain": [
              "<matplotlib.axes._subplots.AxesSubplot at 0x7f7d2736b7d0>"
            ]
          },
          "metadata": {
            "tags": []
          },
          "execution_count": 45
        },
        {
          "output_type": "display_data",
          "data": {
            "image/png": "[encoded data removed]",
            "text/plain": [
              "<Figure size 432x288 with 1 Axes>"
            ]
          },
          "metadata": {
            "tags": [],
            "needs_background": "light"
          }
        }
      ]
    },
    {
      "cell_type": "code",
      "metadata": {
        "colab": {
          "base_uri": "https://localhost:8080/",
          "height": 282
        },
        "id": "kOsU6S4XR2Jq",
        "outputId": "612b6ab0-41a1-4c0a-d360-15c051d89236"
      },
      "source": [
        "new_train['공가수'].hist(bins=50)"
      ],
      "execution_count": null,
      "outputs": [
        {
          "output_type": "execute_result",
          "data": {
            "text/plain": [
              "<matplotlib.axes._subplots.AxesSubplot at 0x7f7d25ca7f10>"
            ]
          },
          "metadata": {
            "tags": []
          },
          "execution_count": 46
        },
        {
          "output_type": "display_data",
          "data": {
            "image/png": "[encoded data removed]",
            "text/plain": [
              "<Figure size 432x288 with 1 Axes>"
            ]
          },
          "metadata": {
            "tags": [],
            "needs_background": "light"
          }
        }
      ]
    },
    {
      "cell_type": "code",
      "metadata": {
        "colab": {
          "base_uri": "https://localhost:8080/",
          "height": 282
        },
        "id": "v4S6clSkR2FC",
        "outputId": "c1469641-cde3-47ba-f0ed-19dd930b7219"
      },
      "source": [
        "new_train['단지내주차면수'].hist(bins=50)"
      ],
      "execution_count": null,
      "outputs": [
        {
          "output_type": "execute_result",
          "data": {
            "text/plain": [
              "<matplotlib.axes._subplots.AxesSubplot at 0x7f7d2617ec10>"
            ]
          },
          "metadata": {
            "tags": []
          },
          "execution_count": 47
        },
        {
          "output_type": "display_data",
          "data": {
            "image/png": "[encoded data removed]",
            "text/plain": [
              "<Figure size 432x288 with 1 Axes>"
            ]
          },
          "metadata": {
            "tags": [],
            "needs_background": "light"
          }
        }
      ]
    },
    {
      "cell_type": "code",
      "metadata": {
        "colab": {
          "base_uri": "https://localhost:8080/",
          "height": 282
        },
        "id": "ZwTWX0foS206",
        "outputId": "73d0b1df-b0c6-4917-e211-0e78308200a6"
      },
      "source": [
        "new_train['전용면적별세대수'].hist(bins=50)"
      ],
      "execution_count": null,
      "outputs": [
        {
          "output_type": "execute_result",
          "data": {
            "text/plain": [
              "<matplotlib.axes._subplots.AxesSubplot at 0x7f7d25a99890>"
            ]
          },
          "metadata": {
            "tags": []
          },
          "execution_count": 48
        },
        {
          "output_type": "display_data",
          "data": {
            "image/png": "[encoded data removed]",
            "text/plain": [
              "<Figure size 432x288 with 1 Axes>"
            ]
          },
          "metadata": {
            "tags": [],
            "needs_background": "light"
          }
        }
      ]
    },
    {
      "cell_type": "code",
      "metadata": {
        "colab": {
          "base_uri": "https://localhost:8080/",
          "height": 296
        },
        "id": "jm32pBrkS2yM",
        "outputId": "50abe02d-cd64-4bb4-fc84-a9b5548d632f"
      },
      "source": [
        "new_train['임대보증금'].hist(bins=50)"
      ],
      "execution_count": null,
      "outputs": [
        {
          "output_type": "execute_result",
          "data": {
            "text/plain": [
              "<matplotlib.axes._subplots.AxesSubplot at 0x7f7d25a007d0>"
            ]
          },
          "metadata": {
            "tags": []
          },
          "execution_count": 49
        },
        {
          "output_type": "display_data",
          "data": {
            "image/png": "[encoded data removed]",
            "text/plain": [
              "<Figure size 432x288 with 1 Axes>"
            ]
          },
          "metadata": {
            "tags": [],
            "needs_background": "light"
          }
        }
      ]
    },
    {
      "cell_type": "code",
      "metadata": {
        "colab": {
          "base_uri": "https://localhost:8080/",
          "height": 297
        },
        "id": "R-vmaj7vR2CZ",
        "outputId": "b839998c-a341-4a09-fddf-1bb203ddde4f"
      },
      "source": [
        "new_train['임대료'].hist(bins=50)"
      ],
      "execution_count": null,
      "outputs": [
        {
          "output_type": "execute_result",
          "data": {
            "text/plain": [
              "<matplotlib.axes._subplots.AxesSubplot at 0x7f7d2589cd50>"
            ]
          },
          "metadata": {
            "tags": []
          },
          "execution_count": 50
        },
        {
          "output_type": "display_data",
          "data": {
            "image/png": "[encoded data removed]",
            "text/plain": [
              "<Figure size 432x288 with 1 Axes>"
            ]
          },
          "metadata": {
            "tags": [],
            "needs_background": "light"
          }
        }
      ]
    },
    {
      "cell_type": "code",
      "metadata": {
        "id": "PoCKjV5BV1-8"
      },
      "source": [
        "from sklearn.preprocessing import StandardScaler\n",
        "sc=StandardScaler()\n",
        "\n",
        "new_train['총세대수']=sc.fit_transform(new_train.loc[:,new_train.columns=='총세대수'])\n",
        "new_test['총세대수']=sc.transform(new_test.loc[:,new_test.columns=='총세대수'])\n",
        "\n",
        "new_train['공가수']=sc.fit_transform(new_train.loc[:,new_train.columns=='공가수'])\n",
        "new_test['공가수']=sc.transform(new_test.loc[:,new_test.columns=='공가수'])\n",
        "\n",
        "new_train['단지내주차면수']=sc.fit_transform(new_train.loc[:,new_train.columns=='단지내주차면수'])\n",
        "new_test['단지내주차면수']=sc.transform(new_test.loc[:,new_test.columns=='단지내주차면수'])\n",
        "\n",
        "new_train['전용면적별세대수']=sc.fit_transform(new_train.loc[:,new_train.columns=='전용면적별세대수'])\n",
        "new_test['전용면적별세대수']=sc.transform(new_test.loc[:,new_test.columns=='전용면적별세대수'])\n",
        "\n",
        "new_train['임대보증금']=sc.fit_transform(new_train.loc[:,new_train.columns=='임대보증금'])\n",
        "new_test['임대보증금']=sc.transform(new_test.loc[:,new_test.columns=='임대보증금'])\n",
        "\n",
        "new_train['임대료']=sc.fit_transform(new_train.loc[:,new_train.columns=='임대료'])\n",
        "new_test['임대료']=sc.transform(new_test.loc[:,new_test.columns=='임대료'])"
      ],
      "execution_count": null,
      "outputs": []
    },
    {
      "cell_type": "code",
      "metadata": {
        "colab": {
          "base_uri": "https://localhost:8080/",
          "height": 142
        },
        "id": "KOeAA-gcXnmm",
        "outputId": "e8bef1a4-d588-4721-a91f-f0b8c9fb566a"
      },
      "source": [
        "new_train.head(3)"
      ],
      "execution_count": null,
      "outputs": [
        {
          "output_type": "execute_result",
          "data": {
            "text/html": [
              "<div>\n",
              "<style scoped>\n",
              "    .dataframe tbody tr th:only-of-type {\n",
              "        vertical-align: middle;\n",
              "    }\n",
              "\n",
              "    .dataframe tbody tr th {\n",
              "        vertical-align: top;\n",
              "    }\n",
              "\n",
              "    .dataframe thead th {\n",
              "        text-align: right;\n",
              "    }\n",
              "</style>\n",
              "<table border=\"1\" class=\"dataframe\">\n",
              "  <thead>\n",
              "    <tr style=\"text-align: right;\">\n",
              "      <th></th>\n",
              "      <th>단지코드</th>\n",
              "      <th>총세대수</th>\n",
              "      <th>공가수</th>\n",
              "      <th>지역</th>\n",
              "      <th>단지내주차면수</th>\n",
              "      <th>지하철</th>\n",
              "      <th>버스</th>\n",
              "      <th>전용면적별세대수</th>\n",
              "      <th>임대보증금</th>\n",
              "      <th>임대료</th>\n",
              "      <th>등록차량수</th>\n",
              "    </tr>\n",
              "  </thead>\n",
              "  <tbody>\n",
              "    <tr>\n",
              "      <th>0</th>\n",
              "      <td>C2483</td>\n",
              "      <td>0.438429</td>\n",
              "      <td>2.363808</td>\n",
              "      <td>경상북도</td>\n",
              "      <td>2.266365</td>\n",
              "      <td>0.0</td>\n",
              "      <td>3.0</td>\n",
              "      <td>-0.258160</td>\n",
              "      <td>0.038903</td>\n",
              "      <td>-0.118147</td>\n",
              "      <td>1015.0</td>\n",
              "    </tr>\n",
              "    <tr>\n",
              "      <th>1</th>\n",
              "      <td>C2515</td>\n",
              "      <td>-0.437875</td>\n",
              "      <td>0.339347</td>\n",
              "      <td>경상남도</td>\n",
              "      <td>0.085113</td>\n",
              "      <td>0.0</td>\n",
              "      <td>3.0</td>\n",
              "      <td>-0.641426</td>\n",
              "      <td>-0.421715</td>\n",
              "      <td>-0.350864</td>\n",
              "      <td>205.0</td>\n",
              "    </tr>\n",
              "    <tr>\n",
              "      <th>2</th>\n",
              "      <td>C1407</td>\n",
              "      <td>1.218463</td>\n",
              "      <td>-0.046264</td>\n",
              "      <td>대전광역시</td>\n",
              "      <td>1.885123</td>\n",
              "      <td>1.0</td>\n",
              "      <td>1.0</td>\n",
              "      <td>-0.238799</td>\n",
              "      <td>0.108550</td>\n",
              "      <td>-0.134183</td>\n",
              "      <td>1064.0</td>\n",
              "    </tr>\n",
              "  </tbody>\n",
              "</table>\n",
              "</div>"
            ],
            "text/plain": [
              "    단지코드      총세대수       공가수     지역  ...  전용면적별세대수     임대보증금       임대료   등록차량수\n",
              "0  C2483  0.438429  2.363808   경상북도  ... -0.258160  0.038903 -0.118147  1015.0\n",
              "1  C2515 -0.437875  0.339347   경상남도  ... -0.641426 -0.421715 -0.350864   205.0\n",
              "2  C1407  1.218463 -0.046264  대전광역시  ... -0.238799  0.108550 -0.134183  1064.0\n",
              "\n",
              "[3 rows x 11 columns]"
            ]
          },
          "metadata": {
            "tags": []
          },
          "execution_count": 52
        }
      ]
    },
    {
      "cell_type": "markdown",
      "metadata": {
        "id": "pRgD9cN09dPG"
      },
      "source": [
        "# age_gender_info"
      ]
    },
    {
      "cell_type": "code",
      "metadata": {
        "id": "kIInvRAS7ILk",
        "colab": {
          "base_uri": "https://localhost:8080/",
          "height": 410
        },
        "outputId": "6dd9956f-7c2f-4363-8cbe-04003b86da3b"
      },
      "source": [
        "age_gender.head(3)"
      ],
      "execution_count": null,
      "outputs": [
        {
          "output_type": "execute_result",
          "data": {
            "text/html": [
              "<div>\n",
              "<style scoped>\n",
              "    .dataframe tbody tr th:only-of-type {\n",
              "        vertical-align: middle;\n",
              "    }\n",
              "\n",
              "    .dataframe tbody tr th {\n",
              "        vertical-align: top;\n",
              "    }\n",
              "\n",
              "    .dataframe thead th {\n",
              "        text-align: right;\n",
              "    }\n",
              "</style>\n",
              "<table border=\"1\" class=\"dataframe\">\n",
              "  <thead>\n",
              "    <tr style=\"text-align: right;\">\n",
              "      <th></th>\n",
              "      <th>10대미만(여자)</th>\n",
              "      <th>10대미만(남자)</th>\n",
              "      <th>10대(여자)</th>\n",
              "      <th>10대(남자)</th>\n",
              "      <th>20대(여자)</th>\n",
              "      <th>20대(남자)</th>\n",
              "      <th>30대(여자)</th>\n",
              "      <th>30대(남자)</th>\n",
              "      <th>40대(여자)</th>\n",
              "      <th>40대(남자)</th>\n",
              "      <th>50대(여자)</th>\n",
              "      <th>50대(남자)</th>\n",
              "      <th>60대(여자)</th>\n",
              "      <th>60대(남자)</th>\n",
              "      <th>70대(여자)</th>\n",
              "      <th>70대(남자)</th>\n",
              "      <th>80대(여자)</th>\n",
              "      <th>80대(남자)</th>\n",
              "      <th>90대(여자)</th>\n",
              "      <th>90대(남자)</th>\n",
              "      <th>100대(여자)</th>\n",
              "      <th>100대(남자)</th>\n",
              "    </tr>\n",
              "    <tr>\n",
              "      <th>지역</th>\n",
              "      <th></th>\n",
              "      <th></th>\n",
              "      <th></th>\n",
              "      <th></th>\n",
              "      <th></th>\n",
              "      <th></th>\n",
              "      <th></th>\n",
              "      <th></th>\n",
              "      <th></th>\n",
              "      <th></th>\n",
              "      <th></th>\n",
              "      <th></th>\n",
              "      <th></th>\n",
              "      <th></th>\n",
              "      <th></th>\n",
              "      <th></th>\n",
              "      <th></th>\n",
              "      <th></th>\n",
              "      <th></th>\n",
              "      <th></th>\n",
              "      <th></th>\n",
              "      <th></th>\n",
              "    </tr>\n",
              "  </thead>\n",
              "  <tbody>\n",
              "    <tr>\n",
              "      <th>경상북도</th>\n",
              "      <td>0.030158</td>\n",
              "      <td>0.033195</td>\n",
              "      <td>0.056346</td>\n",
              "      <td>0.061360</td>\n",
              "      <td>0.060096</td>\n",
              "      <td>0.067859</td>\n",
              "      <td>0.053433</td>\n",
              "      <td>0.049572</td>\n",
              "      <td>0.083660</td>\n",
              "      <td>0.072613</td>\n",
              "      <td>0.087149</td>\n",
              "      <td>0.072146</td>\n",
              "      <td>0.082684</td>\n",
              "      <td>0.063889</td>\n",
              "      <td>0.047717</td>\n",
              "      <td>0.030172</td>\n",
              "      <td>0.029361</td>\n",
              "      <td>0.011211</td>\n",
              "      <td>0.005578</td>\n",
              "      <td>0.001553</td>\n",
              "      <td>0.000234</td>\n",
              "      <td>0.000014</td>\n",
              "    </tr>\n",
              "    <tr>\n",
              "      <th>경상남도</th>\n",
              "      <td>0.027400</td>\n",
              "      <td>0.026902</td>\n",
              "      <td>0.053257</td>\n",
              "      <td>0.055568</td>\n",
              "      <td>0.064920</td>\n",
              "      <td>0.070618</td>\n",
              "      <td>0.056414</td>\n",
              "      <td>0.057550</td>\n",
              "      <td>0.077092</td>\n",
              "      <td>0.067600</td>\n",
              "      <td>0.086873</td>\n",
              "      <td>0.072570</td>\n",
              "      <td>0.087201</td>\n",
              "      <td>0.069562</td>\n",
              "      <td>0.048357</td>\n",
              "      <td>0.033277</td>\n",
              "      <td>0.027361</td>\n",
              "      <td>0.011295</td>\n",
              "      <td>0.004910</td>\n",
              "      <td>0.001086</td>\n",
              "      <td>0.000179</td>\n",
              "      <td>0.000010</td>\n",
              "    </tr>\n",
              "    <tr>\n",
              "      <th>대전광역시</th>\n",
              "      <td>0.028197</td>\n",
              "      <td>0.029092</td>\n",
              "      <td>0.040490</td>\n",
              "      <td>0.042793</td>\n",
              "      <td>0.060834</td>\n",
              "      <td>0.064247</td>\n",
              "      <td>0.068654</td>\n",
              "      <td>0.066848</td>\n",
              "      <td>0.074667</td>\n",
              "      <td>0.067925</td>\n",
              "      <td>0.085751</td>\n",
              "      <td>0.068819</td>\n",
              "      <td>0.088468</td>\n",
              "      <td>0.070261</td>\n",
              "      <td>0.051010</td>\n",
              "      <td>0.037143</td>\n",
              "      <td>0.032455</td>\n",
              "      <td>0.013751</td>\n",
              "      <td>0.006494</td>\n",
              "      <td>0.001740</td>\n",
              "      <td>0.000298</td>\n",
              "      <td>0.000066</td>\n",
              "    </tr>\n",
              "  </tbody>\n",
              "</table>\n",
              "</div>"
            ],
            "text/plain": [
              "       10대미만(여자)  10대미만(남자)   10대(여자)  ...   90대(남자)  100대(여자)  100대(남자)\n",
              "지역                                     ...                              \n",
              "경상북도    0.030158   0.033195  0.056346  ...  0.001553  0.000234  0.000014\n",
              "경상남도    0.027400   0.026902  0.053257  ...  0.001086  0.000179  0.000010\n",
              "대전광역시   0.028197   0.029092  0.040490  ...  0.001740  0.000298  0.000066\n",
              "\n",
              "[3 rows x 22 columns]"
            ]
          },
          "metadata": {
            "tags": []
          },
          "execution_count": 53
        }
      ]
    },
    {
      "cell_type": "markdown",
      "metadata": {
        "id": "spckFPW5rqNb"
      },
      "source": [
        "## 퍼센트 임을 확인"
      ]
    },
    {
      "cell_type": "code",
      "metadata": {
        "id": "cZ3ygRbbxHIT",
        "colab": {
          "base_uri": "https://localhost:8080/"
        },
        "outputId": "488065a1-25ad-4a22-d679-78523fe4a204"
      },
      "source": [
        "row=age_gender.iloc[2,:]\n",
        "print(row)\n",
        "total=0\n",
        "for i in range(0,len(row)):\n",
        "    total=total+row[i]\n",
        "print(total)"
      ],
      "execution_count": null,
      "outputs": [
        {
          "output_type": "stream",
          "text": [
            "10대미만(여자)    0.028197\n",
            "10대미만(남자)    0.029092\n",
            "10대(여자)      0.040490\n",
            "10대(남자)      0.042793\n",
            "20대(여자)      0.060834\n",
            "20대(남자)      0.064247\n",
            "30대(여자)      0.068654\n",
            "30대(남자)      0.066848\n",
            "40대(여자)      0.074667\n",
            "40대(남자)      0.067925\n",
            "50대(여자)      0.085751\n",
            "50대(남자)      0.068819\n",
            "60대(여자)      0.088468\n",
            "60대(남자)      0.070261\n",
            "70대(여자)      0.051010\n",
            "70대(남자)      0.037143\n",
            "80대(여자)      0.032455\n",
            "80대(남자)      0.013751\n",
            "90대(여자)      0.006494\n",
            "90대(남자)      0.001740\n",
            "100대(여자)     0.000298\n",
            "100대(남자)     0.000066\n",
            "Name: 대전광역시, dtype: float64\n",
            "1.0000000000000002\n"
          ],
          "name": "stdout"
        }
      ]
    },
    {
      "cell_type": "markdown",
      "metadata": {
        "id": "xUF8M1gv9s_c"
      },
      "source": [
        "각 숫자가 의미하는 바가 전체에서 비율(백분율)일 것 같아서 행 하나를 더해보았더니 1이 나오므로 비율을 의미하는 것이 맞다"
      ]
    },
    {
      "cell_type": "markdown",
      "metadata": {
        "id": "WqBoeVaFrcXT"
      },
      "source": [
        "## 상위 세 그룹 열 추가"
      ]
    },
    {
      "cell_type": "markdown",
      "metadata": {
        "id": "oSC1uyiwrKSF"
      },
      "source": [
        "여자:0<br>\n",
        "남자:1"
      ]
    },
    {
      "cell_type": "code",
      "metadata": {
        "colab": {
          "base_uri": "https://localhost:8080/"
        },
        "id": "NFOwxuaqiGmc",
        "outputId": "93d32a08-11fb-47e4-94db-581b0311a014"
      },
      "source": [
        "#열 이름 변경\n",
        "age_columns=[]\n",
        "for i in range(0,11):\n",
        "    for j in range(0,2):\n",
        "        temp=str(i)+\"_\"+str(j)\n",
        "        age_columns.append(temp)\n",
        "\n",
        "print(len(age_columns))\n",
        "print(age_columns)\n",
        "\n",
        "age_gender.columns = age_columns"
      ],
      "execution_count": null,
      "outputs": [
        {
          "output_type": "stream",
          "text": [
            "22\n",
            "['0_0', '0_1', '1_0', '1_1', '2_0', '2_1', '3_0', '3_1', '4_0', '4_1', '5_0', '5_1', '6_0', '6_1', '7_0', '7_1', '8_0', '8_1', '9_0', '9_1', '10_0', '10_1']\n"
          ],
          "name": "stdout"
        }
      ]
    },
    {
      "cell_type": "code",
      "metadata": {
        "id": "ApRym_DVdwGX"
      },
      "source": [
        "#열 추가\n",
        "age_gender['1st']=0\n",
        "age_gender['1gender']=0\n",
        "age_gender['2nd']=0\n",
        "age_gender['2gender']=0\n",
        "age_gender['3rd']=0\n",
        "age_gender['3gender']=0"
      ],
      "execution_count": null,
      "outputs": []
    },
    {
      "cell_type": "code",
      "metadata": {
        "colab": {
          "base_uri": "https://localhost:8080/"
        },
        "id": "W-I9ar-boSm5",
        "outputId": "dbfbfafd-b313-4d6a-cbf2-194ee6a9fea7"
      },
      "source": [
        "for id in age_gender.index:\n",
        "    temp=pd.DataFrame(age_gender.loc[id]).T\n",
        "    temp=temp.sort_values(axis=1,by=[id],ascending=False)\n",
        "    temp_ascend=temp.columns\n",
        "    \n",
        "    age_gender['1st'].loc[id]=temp_ascend[0].split('_')[0]\n",
        "    age_gender['1gender'].loc[id]=temp_ascend[0].split('_')[1]\n",
        "    age_gender['2nd'].loc[id]=temp_ascend[1].split('_')[0]\n",
        "    age_gender['2gender'].loc[id]=temp_ascend[1].split('_')[1]\n",
        "    age_gender['3rd'].loc[id]=temp_ascend[2].split('_')[0]\n",
        "    age_gender['3gender'].loc[id]=temp_ascend[2].split('_')[1]"
      ],
      "execution_count": null,
      "outputs": [
        {
          "output_type": "stream",
          "text": [
            "/usr/local/lib/python3.7/dist-packages/pandas/core/indexing.py:670: SettingWithCopyWarning: \n",
            "A value is trying to be set on a copy of a slice from a DataFrame\n",
            "\n",
            "See the caveats in the documentation: https://pandas.pydata.org/pandas-docs/stable/user_guide/indexing.html#returning-a-view-versus-a-copy\n",
            "  iloc._setitem_with_indexer(indexer, value)\n"
          ],
          "name": "stderr"
        }
      ]
    },
    {
      "cell_type": "code",
      "metadata": {
        "colab": {
          "base_uri": "https://localhost:8080/",
          "height": 442
        },
        "id": "bmvmSv7iq-bw",
        "outputId": "cf37e4e7-a2a5-44bd-a7f4-6498fd7cf531"
      },
      "source": [
        "age_gender.head(4)"
      ],
      "execution_count": null,
      "outputs": [
        {
          "output_type": "execute_result",
          "data": {
            "text/html": [
              "<div>\n",
              "<style scoped>\n",
              "    .dataframe tbody tr th:only-of-type {\n",
              "        vertical-align: middle;\n",
              "    }\n",
              "\n",
              "    .dataframe tbody tr th {\n",
              "        vertical-align: top;\n",
              "    }\n",
              "\n",
              "    .dataframe thead th {\n",
              "        text-align: right;\n",
              "    }\n",
              "</style>\n",
              "<table border=\"1\" class=\"dataframe\">\n",
              "  <thead>\n",
              "    <tr style=\"text-align: right;\">\n",
              "      <th></th>\n",
              "      <th>0_0</th>\n",
              "      <th>0_1</th>\n",
              "      <th>1_0</th>\n",
              "      <th>1_1</th>\n",
              "      <th>2_0</th>\n",
              "      <th>2_1</th>\n",
              "      <th>3_0</th>\n",
              "      <th>3_1</th>\n",
              "      <th>4_0</th>\n",
              "      <th>4_1</th>\n",
              "      <th>5_0</th>\n",
              "      <th>5_1</th>\n",
              "      <th>6_0</th>\n",
              "      <th>6_1</th>\n",
              "      <th>7_0</th>\n",
              "      <th>7_1</th>\n",
              "      <th>8_0</th>\n",
              "      <th>8_1</th>\n",
              "      <th>9_0</th>\n",
              "      <th>9_1</th>\n",
              "      <th>10_0</th>\n",
              "      <th>10_1</th>\n",
              "      <th>1st</th>\n",
              "      <th>1gender</th>\n",
              "      <th>2nd</th>\n",
              "      <th>2gender</th>\n",
              "      <th>3rd</th>\n",
              "      <th>3gender</th>\n",
              "    </tr>\n",
              "    <tr>\n",
              "      <th>지역</th>\n",
              "      <th></th>\n",
              "      <th></th>\n",
              "      <th></th>\n",
              "      <th></th>\n",
              "      <th></th>\n",
              "      <th></th>\n",
              "      <th></th>\n",
              "      <th></th>\n",
              "      <th></th>\n",
              "      <th></th>\n",
              "      <th></th>\n",
              "      <th></th>\n",
              "      <th></th>\n",
              "      <th></th>\n",
              "      <th></th>\n",
              "      <th></th>\n",
              "      <th></th>\n",
              "      <th></th>\n",
              "      <th></th>\n",
              "      <th></th>\n",
              "      <th></th>\n",
              "      <th></th>\n",
              "      <th></th>\n",
              "      <th></th>\n",
              "      <th></th>\n",
              "      <th></th>\n",
              "      <th></th>\n",
              "      <th></th>\n",
              "    </tr>\n",
              "  </thead>\n",
              "  <tbody>\n",
              "    <tr>\n",
              "      <th>경상북도</th>\n",
              "      <td>0.030158</td>\n",
              "      <td>0.033195</td>\n",
              "      <td>0.056346</td>\n",
              "      <td>0.061360</td>\n",
              "      <td>0.060096</td>\n",
              "      <td>0.067859</td>\n",
              "      <td>0.053433</td>\n",
              "      <td>0.049572</td>\n",
              "      <td>0.083660</td>\n",
              "      <td>0.072613</td>\n",
              "      <td>0.087149</td>\n",
              "      <td>0.072146</td>\n",
              "      <td>0.082684</td>\n",
              "      <td>0.063889</td>\n",
              "      <td>0.047717</td>\n",
              "      <td>0.030172</td>\n",
              "      <td>0.029361</td>\n",
              "      <td>0.011211</td>\n",
              "      <td>0.005578</td>\n",
              "      <td>0.001553</td>\n",
              "      <td>0.000234</td>\n",
              "      <td>0.000014</td>\n",
              "      <td>5</td>\n",
              "      <td>0</td>\n",
              "      <td>4</td>\n",
              "      <td>0</td>\n",
              "      <td>6</td>\n",
              "      <td>0</td>\n",
              "    </tr>\n",
              "    <tr>\n",
              "      <th>경상남도</th>\n",
              "      <td>0.027400</td>\n",
              "      <td>0.026902</td>\n",
              "      <td>0.053257</td>\n",
              "      <td>0.055568</td>\n",
              "      <td>0.064920</td>\n",
              "      <td>0.070618</td>\n",
              "      <td>0.056414</td>\n",
              "      <td>0.057550</td>\n",
              "      <td>0.077092</td>\n",
              "      <td>0.067600</td>\n",
              "      <td>0.086873</td>\n",
              "      <td>0.072570</td>\n",
              "      <td>0.087201</td>\n",
              "      <td>0.069562</td>\n",
              "      <td>0.048357</td>\n",
              "      <td>0.033277</td>\n",
              "      <td>0.027361</td>\n",
              "      <td>0.011295</td>\n",
              "      <td>0.004910</td>\n",
              "      <td>0.001086</td>\n",
              "      <td>0.000179</td>\n",
              "      <td>0.000010</td>\n",
              "      <td>6</td>\n",
              "      <td>0</td>\n",
              "      <td>5</td>\n",
              "      <td>0</td>\n",
              "      <td>4</td>\n",
              "      <td>0</td>\n",
              "    </tr>\n",
              "    <tr>\n",
              "      <th>대전광역시</th>\n",
              "      <td>0.028197</td>\n",
              "      <td>0.029092</td>\n",
              "      <td>0.040490</td>\n",
              "      <td>0.042793</td>\n",
              "      <td>0.060834</td>\n",
              "      <td>0.064247</td>\n",
              "      <td>0.068654</td>\n",
              "      <td>0.066848</td>\n",
              "      <td>0.074667</td>\n",
              "      <td>0.067925</td>\n",
              "      <td>0.085751</td>\n",
              "      <td>0.068819</td>\n",
              "      <td>0.088468</td>\n",
              "      <td>0.070261</td>\n",
              "      <td>0.051010</td>\n",
              "      <td>0.037143</td>\n",
              "      <td>0.032455</td>\n",
              "      <td>0.013751</td>\n",
              "      <td>0.006494</td>\n",
              "      <td>0.001740</td>\n",
              "      <td>0.000298</td>\n",
              "      <td>0.000066</td>\n",
              "      <td>6</td>\n",
              "      <td>0</td>\n",
              "      <td>5</td>\n",
              "      <td>0</td>\n",
              "      <td>4</td>\n",
              "      <td>0</td>\n",
              "    </tr>\n",
              "    <tr>\n",
              "      <th>경기도</th>\n",
              "      <td>0.038030</td>\n",
              "      <td>0.039507</td>\n",
              "      <td>0.052546</td>\n",
              "      <td>0.053990</td>\n",
              "      <td>0.058484</td>\n",
              "      <td>0.059894</td>\n",
              "      <td>0.072331</td>\n",
              "      <td>0.068704</td>\n",
              "      <td>0.083208</td>\n",
              "      <td>0.078355</td>\n",
              "      <td>0.077345</td>\n",
              "      <td>0.064859</td>\n",
              "      <td>0.074237</td>\n",
              "      <td>0.058419</td>\n",
              "      <td>0.042422</td>\n",
              "      <td>0.032725</td>\n",
              "      <td>0.025136</td>\n",
              "      <td>0.012354</td>\n",
              "      <td>0.005390</td>\n",
              "      <td>0.001707</td>\n",
              "      <td>0.000290</td>\n",
              "      <td>0.000067</td>\n",
              "      <td>4</td>\n",
              "      <td>0</td>\n",
              "      <td>4</td>\n",
              "      <td>1</td>\n",
              "      <td>5</td>\n",
              "      <td>0</td>\n",
              "    </tr>\n",
              "  </tbody>\n",
              "</table>\n",
              "</div>"
            ],
            "text/plain": [
              "            0_0       0_1       1_0       1_1  ...  2nd  2gender  3rd  3gender\n",
              "지역                                             ...                            \n",
              "경상북도   0.030158  0.033195  0.056346  0.061360  ...    4        0    6        0\n",
              "경상남도   0.027400  0.026902  0.053257  0.055568  ...    5        0    4        0\n",
              "대전광역시  0.028197  0.029092  0.040490  0.042793  ...    5        0    4        0\n",
              "경기도    0.038030  0.039507  0.052546  0.053990  ...    4        1    5        0\n",
              "\n",
              "[4 rows x 28 columns]"
            ]
          },
          "metadata": {
            "tags": []
          },
          "execution_count": 58
        }
      ]
    },
    {
      "cell_type": "code",
      "metadata": {
        "colab": {
          "base_uri": "https://localhost:8080/",
          "height": 142
        },
        "id": "loRLJltQsBfK",
        "outputId": "374b0566-2d01-4bf9-ba65-f2d3f52fc34c"
      },
      "source": [
        "age_gender=age_gender.drop(columns=age_columns,axis=1)\n",
        "age_gender.head(2)"
      ],
      "execution_count": null,
      "outputs": [
        {
          "output_type": "execute_result",
          "data": {
            "text/html": [
              "<div>\n",
              "<style scoped>\n",
              "    .dataframe tbody tr th:only-of-type {\n",
              "        vertical-align: middle;\n",
              "    }\n",
              "\n",
              "    .dataframe tbody tr th {\n",
              "        vertical-align: top;\n",
              "    }\n",
              "\n",
              "    .dataframe thead th {\n",
              "        text-align: right;\n",
              "    }\n",
              "</style>\n",
              "<table border=\"1\" class=\"dataframe\">\n",
              "  <thead>\n",
              "    <tr style=\"text-align: right;\">\n",
              "      <th></th>\n",
              "      <th>1st</th>\n",
              "      <th>1gender</th>\n",
              "      <th>2nd</th>\n",
              "      <th>2gender</th>\n",
              "      <th>3rd</th>\n",
              "      <th>3gender</th>\n",
              "    </tr>\n",
              "    <tr>\n",
              "      <th>지역</th>\n",
              "      <th></th>\n",
              "      <th></th>\n",
              "      <th></th>\n",
              "      <th></th>\n",
              "      <th></th>\n",
              "      <th></th>\n",
              "    </tr>\n",
              "  </thead>\n",
              "  <tbody>\n",
              "    <tr>\n",
              "      <th>경상북도</th>\n",
              "      <td>5</td>\n",
              "      <td>0</td>\n",
              "      <td>4</td>\n",
              "      <td>0</td>\n",
              "      <td>6</td>\n",
              "      <td>0</td>\n",
              "    </tr>\n",
              "    <tr>\n",
              "      <th>경상남도</th>\n",
              "      <td>6</td>\n",
              "      <td>0</td>\n",
              "      <td>5</td>\n",
              "      <td>0</td>\n",
              "      <td>4</td>\n",
              "      <td>0</td>\n",
              "    </tr>\n",
              "  </tbody>\n",
              "</table>\n",
              "</div>"
            ],
            "text/plain": [
              "     1st 1gender 2nd 2gender 3rd 3gender\n",
              "지역                                      \n",
              "경상북도   5       0   4       0   6       0\n",
              "경상남도   6       0   5       0   4       0"
            ]
          },
          "metadata": {
            "tags": []
          },
          "execution_count": 59
        }
      ]
    },
    {
      "cell_type": "code",
      "metadata": {
        "id": "mIViVqDz3j2W"
      },
      "source": [
        "# age_gender.to_csv(\"age_gender_가공됨.csv\")"
      ],
      "execution_count": null,
      "outputs": []
    },
    {
      "cell_type": "markdown",
      "metadata": {
        "id": "N-9Kq2jG1p9g"
      },
      "source": [
        "##age_gender과 train 병합"
      ]
    },
    {
      "cell_type": "code",
      "metadata": {
        "id": "E-FHhQEJwR4E"
      },
      "source": [
        "#열 추가\n",
        "new_train['1st']=0\n",
        "new_train['1gender']=0\n",
        "new_train['2nd']=0\n",
        "new_train['2gender']=0\n",
        "new_train['3rd']=0\n",
        "new_train['3gender']=0\n",
        "\n",
        "new_test['1st']=0\n",
        "new_test['1gender']=0\n",
        "new_test['2nd']=0\n",
        "new_test['2gender']=0\n",
        "new_test['3rd']=0\n",
        "new_test['3gender']=0"
      ],
      "execution_count": null,
      "outputs": []
    },
    {
      "cell_type": "code",
      "metadata": {
        "colab": {
          "base_uri": "https://localhost:8080/",
          "height": 242
        },
        "id": "T72wvNoDryn6",
        "outputId": "791d9706-d134-4fa1-d914-7924ede0def9"
      },
      "source": [
        "new_train.head(3)"
      ],
      "execution_count": null,
      "outputs": [
        {
          "output_type": "execute_result",
          "data": {
            "text/html": [
              "<div>\n",
              "<style scoped>\n",
              "    .dataframe tbody tr th:only-of-type {\n",
              "        vertical-align: middle;\n",
              "    }\n",
              "\n",
              "    .dataframe tbody tr th {\n",
              "        vertical-align: top;\n",
              "    }\n",
              "\n",
              "    .dataframe thead th {\n",
              "        text-align: right;\n",
              "    }\n",
              "</style>\n",
              "<table border=\"1\" class=\"dataframe\">\n",
              "  <thead>\n",
              "    <tr style=\"text-align: right;\">\n",
              "      <th></th>\n",
              "      <th>단지코드</th>\n",
              "      <th>총세대수</th>\n",
              "      <th>공가수</th>\n",
              "      <th>지역</th>\n",
              "      <th>단지내주차면수</th>\n",
              "      <th>지하철</th>\n",
              "      <th>버스</th>\n",
              "      <th>전용면적별세대수</th>\n",
              "      <th>임대보증금</th>\n",
              "      <th>임대료</th>\n",
              "      <th>등록차량수</th>\n",
              "      <th>1st</th>\n",
              "      <th>1gender</th>\n",
              "      <th>2nd</th>\n",
              "      <th>2gender</th>\n",
              "      <th>3rd</th>\n",
              "      <th>3gender</th>\n",
              "    </tr>\n",
              "  </thead>\n",
              "  <tbody>\n",
              "    <tr>\n",
              "      <th>0</th>\n",
              "      <td>C2483</td>\n",
              "      <td>0.438429</td>\n",
              "      <td>2.363808</td>\n",
              "      <td>경상북도</td>\n",
              "      <td>2.266365</td>\n",
              "      <td>0.0</td>\n",
              "      <td>3.0</td>\n",
              "      <td>-0.258160</td>\n",
              "      <td>0.038903</td>\n",
              "      <td>-0.118147</td>\n",
              "      <td>1015.0</td>\n",
              "      <td>0</td>\n",
              "      <td>0</td>\n",
              "      <td>0</td>\n",
              "      <td>0</td>\n",
              "      <td>0</td>\n",
              "      <td>0</td>\n",
              "    </tr>\n",
              "    <tr>\n",
              "      <th>1</th>\n",
              "      <td>C2515</td>\n",
              "      <td>-0.437875</td>\n",
              "      <td>0.339347</td>\n",
              "      <td>경상남도</td>\n",
              "      <td>0.085113</td>\n",
              "      <td>0.0</td>\n",
              "      <td>3.0</td>\n",
              "      <td>-0.641426</td>\n",
              "      <td>-0.421715</td>\n",
              "      <td>-0.350864</td>\n",
              "      <td>205.0</td>\n",
              "      <td>0</td>\n",
              "      <td>0</td>\n",
              "      <td>0</td>\n",
              "      <td>0</td>\n",
              "      <td>0</td>\n",
              "      <td>0</td>\n",
              "    </tr>\n",
              "    <tr>\n",
              "      <th>2</th>\n",
              "      <td>C1407</td>\n",
              "      <td>1.218463</td>\n",
              "      <td>-0.046264</td>\n",
              "      <td>대전광역시</td>\n",
              "      <td>1.885123</td>\n",
              "      <td>1.0</td>\n",
              "      <td>1.0</td>\n",
              "      <td>-0.238799</td>\n",
              "      <td>0.108550</td>\n",
              "      <td>-0.134183</td>\n",
              "      <td>1064.0</td>\n",
              "      <td>0</td>\n",
              "      <td>0</td>\n",
              "      <td>0</td>\n",
              "      <td>0</td>\n",
              "      <td>0</td>\n",
              "      <td>0</td>\n",
              "    </tr>\n",
              "  </tbody>\n",
              "</table>\n",
              "</div>"
            ],
            "text/plain": [
              "    단지코드      총세대수       공가수     지역  ...  2nd  2gender  3rd  3gender\n",
              "0  C2483  0.438429  2.363808   경상북도  ...    0        0    0        0\n",
              "1  C2515 -0.437875  0.339347   경상남도  ...    0        0    0        0\n",
              "2  C1407  1.218463 -0.046264  대전광역시  ...    0        0    0        0\n",
              "\n",
              "[3 rows x 17 columns]"
            ]
          },
          "metadata": {
            "tags": []
          },
          "execution_count": 62
        }
      ]
    },
    {
      "cell_type": "code",
      "metadata": {
        "colab": {
          "base_uri": "https://localhost:8080/",
          "height": 175
        },
        "id": "wIT5T92T1yxA",
        "outputId": "09eb6be8-aa28-4aa6-ace5-8b95c95e6758"
      },
      "source": [
        "new_test.head(3)"
      ],
      "execution_count": null,
      "outputs": [
        {
          "output_type": "execute_result",
          "data": {
            "text/html": [
              "<div>\n",
              "<style scoped>\n",
              "    .dataframe tbody tr th:only-of-type {\n",
              "        vertical-align: middle;\n",
              "    }\n",
              "\n",
              "    .dataframe tbody tr th {\n",
              "        vertical-align: top;\n",
              "    }\n",
              "\n",
              "    .dataframe thead th {\n",
              "        text-align: right;\n",
              "    }\n",
              "</style>\n",
              "<table border=\"1\" class=\"dataframe\">\n",
              "  <thead>\n",
              "    <tr style=\"text-align: right;\">\n",
              "      <th></th>\n",
              "      <th>단지코드</th>\n",
              "      <th>총세대수</th>\n",
              "      <th>공가수</th>\n",
              "      <th>지역</th>\n",
              "      <th>단지내주차면수</th>\n",
              "      <th>지하철</th>\n",
              "      <th>버스</th>\n",
              "      <th>전용면적별세대수</th>\n",
              "      <th>임대보증금</th>\n",
              "      <th>임대료</th>\n",
              "      <th>1st</th>\n",
              "      <th>1gender</th>\n",
              "      <th>2nd</th>\n",
              "      <th>2gender</th>\n",
              "      <th>3rd</th>\n",
              "      <th>3gender</th>\n",
              "    </tr>\n",
              "  </thead>\n",
              "  <tbody>\n",
              "    <tr>\n",
              "      <th>0</th>\n",
              "      <td>C1072</td>\n",
              "      <td>0.078034</td>\n",
              "      <td>0.050139</td>\n",
              "      <td>경기도</td>\n",
              "      <td>0.245780</td>\n",
              "      <td>0.0</td>\n",
              "      <td>2.0</td>\n",
              "      <td>-0.460066</td>\n",
              "      <td>0.808241</td>\n",
              "      <td>0.685683</td>\n",
              "      <td>0</td>\n",
              "      <td>0</td>\n",
              "      <td>0</td>\n",
              "      <td>0</td>\n",
              "      <td>0</td>\n",
              "      <td>0</td>\n",
              "    </tr>\n",
              "    <tr>\n",
              "      <th>1</th>\n",
              "      <td>C1128</td>\n",
              "      <td>1.559111</td>\n",
              "      <td>-0.431876</td>\n",
              "      <td>경기도</td>\n",
              "      <td>1.697225</td>\n",
              "      <td>0.0</td>\n",
              "      <td>3.0</td>\n",
              "      <td>0.161632</td>\n",
              "      <td>0.577896</td>\n",
              "      <td>0.518840</td>\n",
              "      <td>0</td>\n",
              "      <td>0</td>\n",
              "      <td>0</td>\n",
              "      <td>0</td>\n",
              "      <td>0</td>\n",
              "      <td>0</td>\n",
              "    </tr>\n",
              "    <tr>\n",
              "      <th>2</th>\n",
              "      <td>C1456</td>\n",
              "      <td>-0.255209</td>\n",
              "      <td>0.435750</td>\n",
              "      <td>부산광역시</td>\n",
              "      <td>-0.124570</td>\n",
              "      <td>0.0</td>\n",
              "      <td>16.0</td>\n",
              "      <td>-0.765691</td>\n",
              "      <td>0.553674</td>\n",
              "      <td>0.328198</td>\n",
              "      <td>0</td>\n",
              "      <td>0</td>\n",
              "      <td>0</td>\n",
              "      <td>0</td>\n",
              "      <td>0</td>\n",
              "      <td>0</td>\n",
              "    </tr>\n",
              "  </tbody>\n",
              "</table>\n",
              "</div>"
            ],
            "text/plain": [
              "    단지코드      총세대수       공가수     지역  ...  2nd  2gender  3rd  3gender\n",
              "0  C1072  0.078034  0.050139    경기도  ...    0        0    0        0\n",
              "1  C1128  1.559111 -0.431876    경기도  ...    0        0    0        0\n",
              "2  C1456 -0.255209  0.435750  부산광역시  ...    0        0    0        0\n",
              "\n",
              "[3 rows x 16 columns]"
            ]
          },
          "metadata": {
            "tags": []
          },
          "execution_count": 63
        }
      ]
    },
    {
      "cell_type": "code",
      "metadata": {
        "colab": {
          "base_uri": "https://localhost:8080/"
        },
        "id": "rH02Uz60aCz6",
        "outputId": "f872c6e5-2fea-4def-d738-f0e76c730044"
      },
      "source": [
        "print(new_train['1st'].iloc[0])\n",
        "print(age_gender['1st'].loc['경상북도'])"
      ],
      "execution_count": null,
      "outputs": [
        {
          "output_type": "stream",
          "text": [
            "0\n",
            "5\n"
          ],
          "name": "stdout"
        }
      ]
    },
    {
      "cell_type": "code",
      "metadata": {
        "colab": {
          "base_uri": "https://localhost:8080/"
        },
        "id": "uoN7f1Y0ZV6r",
        "outputId": "df01efdf-8de3-45c1-a7ef-0e2bedd3c47d"
      },
      "source": [
        "#train\n",
        "for i in range(len(new_train)):\n",
        "    temp = new_train['지역'].loc[i]\n",
        "    for row in age_gender.index:\n",
        "        if temp==row:\n",
        "            new_train['1st'].iloc[i]=age_gender['1st'].loc[row]\n",
        "            new_train['1gender'].iloc[i]=age_gender['1gender'].loc[row]\n",
        "            new_train['2nd'].iloc[i]=age_gender['2nd'].loc[row]\n",
        "            new_train['2gender'].iloc[i]=age_gender['2gender'].loc[row]\n",
        "            new_train['3rd'].iloc[i]=age_gender['3rd'].loc[row]\n",
        "            new_train['3gender'].iloc[i]=age_gender['3gender'].loc[row]\n",
        "\n",
        "#test\n",
        "for i in range(len(new_test)):\n",
        "    temp = new_test['지역'].loc[i]\n",
        "    for row in age_gender.index:\n",
        "        if temp==row:\n",
        "            new_test['1st'].iloc[i]=age_gender['1st'].loc[row]\n",
        "            new_test['1gender'].iloc[i]=age_gender['1gender'].loc[row]\n",
        "            new_test['2nd'].iloc[i]=age_gender['2nd'].loc[row]\n",
        "            new_test['2gender'].iloc[i]=age_gender['2gender'].loc[row]\n",
        "            new_test['3rd'].iloc[i]=age_gender['3rd'].loc[row]\n",
        "            new_test['3gender'].iloc[i]=age_gender['3gender'].loc[row]"
      ],
      "execution_count": null,
      "outputs": [
        {
          "output_type": "stream",
          "text": [
            "/usr/local/lib/python3.7/dist-packages/pandas/core/indexing.py:670: SettingWithCopyWarning: \n",
            "A value is trying to be set on a copy of a slice from a DataFrame\n",
            "\n",
            "See the caveats in the documentation: https://pandas.pydata.org/pandas-docs/stable/user_guide/indexing.html#returning-a-view-versus-a-copy\n",
            "  iloc._setitem_with_indexer(indexer, value)\n"
          ],
          "name": "stderr"
        }
      ]
    },
    {
      "cell_type": "code",
      "metadata": {
        "colab": {
          "base_uri": "https://localhost:8080/",
          "height": 326
        },
        "id": "l2kGNnhca3Gx",
        "outputId": "a25ebb87-b7d9-453d-9e46-c5dfd78ea88c"
      },
      "source": [
        "new_train.tail(3)"
      ],
      "execution_count": null,
      "outputs": [
        {
          "output_type": "execute_result",
          "data": {
            "text/html": [
              "<div>\n",
              "<style scoped>\n",
              "    .dataframe tbody tr th:only-of-type {\n",
              "        vertical-align: middle;\n",
              "    }\n",
              "\n",
              "    .dataframe tbody tr th {\n",
              "        vertical-align: top;\n",
              "    }\n",
              "\n",
              "    .dataframe thead th {\n",
              "        text-align: right;\n",
              "    }\n",
              "</style>\n",
              "<table border=\"1\" class=\"dataframe\">\n",
              "  <thead>\n",
              "    <tr style=\"text-align: right;\">\n",
              "      <th></th>\n",
              "      <th>단지코드</th>\n",
              "      <th>총세대수</th>\n",
              "      <th>공가수</th>\n",
              "      <th>지역</th>\n",
              "      <th>단지내주차면수</th>\n",
              "      <th>지하철</th>\n",
              "      <th>버스</th>\n",
              "      <th>전용면적별세대수</th>\n",
              "      <th>임대보증금</th>\n",
              "      <th>임대료</th>\n",
              "      <th>등록차량수</th>\n",
              "      <th>1st</th>\n",
              "      <th>1gender</th>\n",
              "      <th>2nd</th>\n",
              "      <th>2gender</th>\n",
              "      <th>3rd</th>\n",
              "      <th>3gender</th>\n",
              "    </tr>\n",
              "  </thead>\n",
              "  <tbody>\n",
              "    <tr>\n",
              "      <th>420</th>\n",
              "      <td>C2020</td>\n",
              "      <td>-1.684448</td>\n",
              "      <td>-0.624682</td>\n",
              "      <td>부산광역시</td>\n",
              "      <td>-1.546060</td>\n",
              "      <td>1.0</td>\n",
              "      <td>2.0</td>\n",
              "      <td>-1.355276</td>\n",
              "      <td>0.232448</td>\n",
              "      <td>-0.380252</td>\n",
              "      <td>19.0</td>\n",
              "      <td>6</td>\n",
              "      <td>0</td>\n",
              "      <td>6</td>\n",
              "      <td>1</td>\n",
              "      <td>5</td>\n",
              "      <td>0</td>\n",
              "    </tr>\n",
              "    <tr>\n",
              "      <th>421</th>\n",
              "      <td>C2437</td>\n",
              "      <td>-1.561025</td>\n",
              "      <td>-0.142667</td>\n",
              "      <td>충청북도</td>\n",
              "      <td>-1.532444</td>\n",
              "      <td>0.0</td>\n",
              "      <td>1.0</td>\n",
              "      <td>-0.507086</td>\n",
              "      <td>-0.793077</td>\n",
              "      <td>-0.613740</td>\n",
              "      <td>16.0</td>\n",
              "      <td>5</td>\n",
              "      <td>0</td>\n",
              "      <td>4</td>\n",
              "      <td>0</td>\n",
              "      <td>6</td>\n",
              "      <td>0</td>\n",
              "    </tr>\n",
              "    <tr>\n",
              "      <th>422</th>\n",
              "      <td>C2532</td>\n",
              "      <td>-1.193224</td>\n",
              "      <td>-0.624682</td>\n",
              "      <td>강원도</td>\n",
              "      <td>-1.162094</td>\n",
              "      <td>0.0</td>\n",
              "      <td>1.0</td>\n",
              "      <td>-0.988341</td>\n",
              "      <td>-0.608553</td>\n",
              "      <td>-0.364179</td>\n",
              "      <td>146.0</td>\n",
              "      <td>6</td>\n",
              "      <td>0</td>\n",
              "      <td>5</td>\n",
              "      <td>0</td>\n",
              "      <td>4</td>\n",
              "      <td>0</td>\n",
              "    </tr>\n",
              "  </tbody>\n",
              "</table>\n",
              "</div>"
            ],
            "text/plain": [
              "      단지코드      총세대수       공가수     지역   단지내주차면수  ...  1gender  2nd  2gender  3rd  3gender\n",
              "420  C2020 -1.684448 -0.624682  부산광역시 -1.546060  ...        0    6        1    5        0\n",
              "421  C2437 -1.561025 -0.142667   충청북도 -1.532444  ...        0    4        0    6        0\n",
              "422  C2532 -1.193224 -0.624682    강원도 -1.162094  ...        0    5        0    4        0\n",
              "\n",
              "[3 rows x 17 columns]"
            ]
          },
          "metadata": {
            "tags": []
          },
          "execution_count": 67
        }
      ]
    },
    {
      "cell_type": "code",
      "metadata": {
        "colab": {
          "base_uri": "https://localhost:8080/",
          "height": 158
        },
        "id": "VAXaMUAObV5g",
        "outputId": "ebce7e16-ead2-4740-ca0a-7fa222318bc6"
      },
      "source": [
        "new_test.tail(3)"
      ],
      "execution_count": null,
      "outputs": [
        {
          "output_type": "execute_result",
          "data": {
            "text/html": [
              "<div>\n",
              "<style scoped>\n",
              "    .dataframe tbody tr th:only-of-type {\n",
              "        vertical-align: middle;\n",
              "    }\n",
              "\n",
              "    .dataframe tbody tr th {\n",
              "        vertical-align: top;\n",
              "    }\n",
              "\n",
              "    .dataframe thead th {\n",
              "        text-align: right;\n",
              "    }\n",
              "</style>\n",
              "<table border=\"1\" class=\"dataframe\">\n",
              "  <thead>\n",
              "    <tr style=\"text-align: right;\">\n",
              "      <th></th>\n",
              "      <th>단지코드</th>\n",
              "      <th>총세대수</th>\n",
              "      <th>공가수</th>\n",
              "      <th>지역</th>\n",
              "      <th>단지내주차면수</th>\n",
              "      <th>지하철</th>\n",
              "      <th>버스</th>\n",
              "      <th>전용면적별세대수</th>\n",
              "      <th>임대보증금</th>\n",
              "      <th>임대료</th>\n",
              "      <th>1st</th>\n",
              "      <th>1gender</th>\n",
              "      <th>2nd</th>\n",
              "      <th>2gender</th>\n",
              "      <th>3rd</th>\n",
              "      <th>3gender</th>\n",
              "    </tr>\n",
              "  </thead>\n",
              "  <tbody>\n",
              "    <tr>\n",
              "      <th>147</th>\n",
              "      <td>C2152</td>\n",
              "      <td>-1.486971</td>\n",
              "      <td>-0.431876</td>\n",
              "      <td>0</td>\n",
              "      <td>-1.505213</td>\n",
              "      <td>0.0</td>\n",
              "      <td>1.0</td>\n",
              "      <td>-0.838986</td>\n",
              "      <td>-1.389574</td>\n",
              "      <td>-1.496334</td>\n",
              "      <td>6</td>\n",
              "      <td>0</td>\n",
              "      <td>5</td>\n",
              "      <td>0</td>\n",
              "      <td>4</td>\n",
              "      <td>0</td>\n",
              "    </tr>\n",
              "    <tr>\n",
              "      <th>148</th>\n",
              "      <td>C1267</td>\n",
              "      <td>-0.116975</td>\n",
              "      <td>2.363808</td>\n",
              "      <td>2</td>\n",
              "      <td>-0.342423</td>\n",
              "      <td>0.0</td>\n",
              "      <td>1.0</td>\n",
              "      <td>-0.828928</td>\n",
              "      <td>-0.911364</td>\n",
              "      <td>-0.802372</td>\n",
              "      <td>6</td>\n",
              "      <td>0</td>\n",
              "      <td>5</td>\n",
              "      <td>0</td>\n",
              "      <td>4</td>\n",
              "      <td>0</td>\n",
              "    </tr>\n",
              "    <tr>\n",
              "      <th>149</th>\n",
              "      <td>C2189</td>\n",
              "      <td>-0.840234</td>\n",
              "      <td>3.038629</td>\n",
              "      <td>12</td>\n",
              "      <td>-0.797191</td>\n",
              "      <td>0.0</td>\n",
              "      <td>2.0</td>\n",
              "      <td>-0.457301</td>\n",
              "      <td>-0.728807</td>\n",
              "      <td>-0.421305</td>\n",
              "      <td>5</td>\n",
              "      <td>0</td>\n",
              "      <td>4</td>\n",
              "      <td>0</td>\n",
              "      <td>6</td>\n",
              "      <td>0</td>\n",
              "    </tr>\n",
              "  </tbody>\n",
              "</table>\n",
              "</div>"
            ],
            "text/plain": [
              "      단지코드      총세대수       공가수  지역   단지내주차면수  ...  1gender  2nd  2gender  3rd  3gender\n",
              "147  C2152 -1.486971 -0.431876   0 -1.505213  ...        0    5        0    4        0\n",
              "148  C1267 -0.116975  2.363808   2 -0.342423  ...        0    5        0    4        0\n",
              "149  C2189 -0.840234  3.038629  12 -0.797191  ...        0    4        0    6        0\n",
              "\n",
              "[3 rows x 16 columns]"
            ]
          },
          "metadata": {
            "tags": []
          },
          "execution_count": 70
        }
      ]
    },
    {
      "cell_type": "markdown",
      "metadata": {
        "id": "PRLqQwS55dvH"
      },
      "source": [
        "###지역 열만 다시 label encoder"
      ]
    },
    {
      "cell_type": "code",
      "metadata": {
        "colab": {
          "base_uri": "https://localhost:8080/"
        },
        "id": "7h2RlFuc4wCQ",
        "outputId": "7ad5e41c-0a3d-44ab-96ae-314ce5d0b7c6"
      },
      "source": [
        "le.fit(new_train.loc[:,new_train.columns=='지역'])\n",
        "new_train['지역']=le.transform(new_train.loc[:,new_train.columns=='지역'])\n",
        "new_test['지역']=le.transform(new_test.loc[:,new_test.columns=='지역'])"
      ],
      "execution_count": null,
      "outputs": [
        {
          "output_type": "stream",
          "text": [
            "/usr/local/lib/python3.7/dist-packages/sklearn/preprocessing/_label.py:235: DataConversionWarning: A column-vector y was passed when a 1d array was expected. Please change the shape of y to (n_samples, ), for example using ravel().\n",
            "  y = column_or_1d(y, warn=True)\n",
            "/usr/local/lib/python3.7/dist-packages/sklearn/preprocessing/_label.py:268: DataConversionWarning: A column-vector y was passed when a 1d array was expected. Please change the shape of y to (n_samples, ), for example using ravel().\n",
            "  y = column_or_1d(y, warn=True)\n"
          ],
          "name": "stderr"
        }
      ]
    },
    {
      "cell_type": "code",
      "metadata": {
        "id": "V8e_w5Av5x5J"
      },
      "source": [
        "for col in ['1st', '1gender', '2nd', '2gender', '3rd', '3gender']:\n",
        "    new_train[col]=new_train[col].astype(np.int16)\n",
        "    new_test[col]=new_test[col].astype(np.int16)"
      ],
      "execution_count": null,
      "outputs": []
    },
    {
      "cell_type": "code",
      "metadata": {
        "colab": {
          "base_uri": "https://localhost:8080/",
          "height": 237
        },
        "id": "Lzj18hlX5lpq",
        "outputId": "d4f702d8-275d-4f24-f15f-d5ba574588db"
      },
      "source": [
        "new_train.tail()"
      ],
      "execution_count": null,
      "outputs": [
        {
          "output_type": "execute_result",
          "data": {
            "text/html": [
              "<div>\n",
              "<style scoped>\n",
              "    .dataframe tbody tr th:only-of-type {\n",
              "        vertical-align: middle;\n",
              "    }\n",
              "\n",
              "    .dataframe tbody tr th {\n",
              "        vertical-align: top;\n",
              "    }\n",
              "\n",
              "    .dataframe thead th {\n",
              "        text-align: right;\n",
              "    }\n",
              "</style>\n",
              "<table border=\"1\" class=\"dataframe\">\n",
              "  <thead>\n",
              "    <tr style=\"text-align: right;\">\n",
              "      <th></th>\n",
              "      <th>단지코드</th>\n",
              "      <th>총세대수</th>\n",
              "      <th>공가수</th>\n",
              "      <th>지역</th>\n",
              "      <th>단지내주차면수</th>\n",
              "      <th>지하철</th>\n",
              "      <th>버스</th>\n",
              "      <th>전용면적별세대수</th>\n",
              "      <th>임대보증금</th>\n",
              "      <th>임대료</th>\n",
              "      <th>등록차량수</th>\n",
              "      <th>1st</th>\n",
              "      <th>1gender</th>\n",
              "      <th>2nd</th>\n",
              "      <th>2gender</th>\n",
              "      <th>3rd</th>\n",
              "      <th>3gender</th>\n",
              "    </tr>\n",
              "  </thead>\n",
              "  <tbody>\n",
              "    <tr>\n",
              "      <th>418</th>\n",
              "      <td>C2586</td>\n",
              "      <td>-1.561025</td>\n",
              "      <td>-0.624682</td>\n",
              "      <td>13</td>\n",
              "      <td>-1.434411</td>\n",
              "      <td>0.0</td>\n",
              "      <td>3.0</td>\n",
              "      <td>-1.303647</td>\n",
              "      <td>0.118676</td>\n",
              "      <td>-0.583781</td>\n",
              "      <td>57.0</td>\n",
              "      <td>5</td>\n",
              "      <td>0</td>\n",
              "      <td>4</td>\n",
              "      <td>0</td>\n",
              "      <td>6</td>\n",
              "      <td>0</td>\n",
              "    </tr>\n",
              "    <tr>\n",
              "      <th>419</th>\n",
              "      <td>C2035</td>\n",
              "      <td>-0.568703</td>\n",
              "      <td>1.014168</td>\n",
              "      <td>0</td>\n",
              "      <td>-0.195372</td>\n",
              "      <td>0.0</td>\n",
              "      <td>1.0</td>\n",
              "      <td>-0.414154</td>\n",
              "      <td>-0.482664</td>\n",
              "      <td>-0.192921</td>\n",
              "      <td>246.0</td>\n",
              "      <td>6</td>\n",
              "      <td>0</td>\n",
              "      <td>5</td>\n",
              "      <td>0</td>\n",
              "      <td>4</td>\n",
              "      <td>0</td>\n",
              "    </tr>\n",
              "    <tr>\n",
              "      <th>420</th>\n",
              "      <td>C2020</td>\n",
              "      <td>-1.684448</td>\n",
              "      <td>-0.624682</td>\n",
              "      <td>7</td>\n",
              "      <td>-1.546060</td>\n",
              "      <td>1.0</td>\n",
              "      <td>2.0</td>\n",
              "      <td>-1.355276</td>\n",
              "      <td>0.232448</td>\n",
              "      <td>-0.380252</td>\n",
              "      <td>19.0</td>\n",
              "      <td>6</td>\n",
              "      <td>0</td>\n",
              "      <td>6</td>\n",
              "      <td>1</td>\n",
              "      <td>5</td>\n",
              "      <td>0</td>\n",
              "    </tr>\n",
              "    <tr>\n",
              "      <th>421</th>\n",
              "      <td>C2437</td>\n",
              "      <td>-1.561025</td>\n",
              "      <td>-0.142667</td>\n",
              "      <td>15</td>\n",
              "      <td>-1.532444</td>\n",
              "      <td>0.0</td>\n",
              "      <td>1.0</td>\n",
              "      <td>-0.507086</td>\n",
              "      <td>-0.793077</td>\n",
              "      <td>-0.613740</td>\n",
              "      <td>16.0</td>\n",
              "      <td>5</td>\n",
              "      <td>0</td>\n",
              "      <td>4</td>\n",
              "      <td>0</td>\n",
              "      <td>6</td>\n",
              "      <td>0</td>\n",
              "    </tr>\n",
              "    <tr>\n",
              "      <th>422</th>\n",
              "      <td>C2532</td>\n",
              "      <td>-1.193224</td>\n",
              "      <td>-0.624682</td>\n",
              "      <td>0</td>\n",
              "      <td>-1.162094</td>\n",
              "      <td>0.0</td>\n",
              "      <td>1.0</td>\n",
              "      <td>-0.988341</td>\n",
              "      <td>-0.608553</td>\n",
              "      <td>-0.364179</td>\n",
              "      <td>146.0</td>\n",
              "      <td>6</td>\n",
              "      <td>0</td>\n",
              "      <td>5</td>\n",
              "      <td>0</td>\n",
              "      <td>4</td>\n",
              "      <td>0</td>\n",
              "    </tr>\n",
              "  </tbody>\n",
              "</table>\n",
              "</div>"
            ],
            "text/plain": [
              "      단지코드      총세대수       공가수  지역  ...  2nd  2gender  3rd  3gender\n",
              "418  C2586 -1.561025 -0.624682  13  ...    4        0    6        0\n",
              "419  C2035 -0.568703  1.014168   0  ...    5        0    4        0\n",
              "420  C2020 -1.684448 -0.624682   7  ...    6        1    5        0\n",
              "421  C2437 -1.561025 -0.142667  15  ...    4        0    6        0\n",
              "422  C2532 -1.193224 -0.624682   0  ...    5        0    4        0\n",
              "\n",
              "[5 rows x 17 columns]"
            ]
          },
          "metadata": {
            "tags": []
          },
          "execution_count": 75
        }
      ]
    },
    {
      "cell_type": "code",
      "metadata": {
        "colab": {
          "base_uri": "https://localhost:8080/",
          "height": 220
        },
        "id": "Hp9q7eu-5oLR",
        "outputId": "c7a14aa5-17ea-4982-c9b3-914773251419"
      },
      "source": [
        "new_test.tail()"
      ],
      "execution_count": null,
      "outputs": [
        {
          "output_type": "execute_result",
          "data": {
            "text/html": [
              "<div>\n",
              "<style scoped>\n",
              "    .dataframe tbody tr th:only-of-type {\n",
              "        vertical-align: middle;\n",
              "    }\n",
              "\n",
              "    .dataframe tbody tr th {\n",
              "        vertical-align: top;\n",
              "    }\n",
              "\n",
              "    .dataframe thead th {\n",
              "        text-align: right;\n",
              "    }\n",
              "</style>\n",
              "<table border=\"1\" class=\"dataframe\">\n",
              "  <thead>\n",
              "    <tr style=\"text-align: right;\">\n",
              "      <th></th>\n",
              "      <th>단지코드</th>\n",
              "      <th>총세대수</th>\n",
              "      <th>공가수</th>\n",
              "      <th>지역</th>\n",
              "      <th>단지내주차면수</th>\n",
              "      <th>지하철</th>\n",
              "      <th>버스</th>\n",
              "      <th>전용면적별세대수</th>\n",
              "      <th>임대보증금</th>\n",
              "      <th>임대료</th>\n",
              "      <th>1st</th>\n",
              "      <th>1gender</th>\n",
              "      <th>2nd</th>\n",
              "      <th>2gender</th>\n",
              "      <th>3rd</th>\n",
              "      <th>3gender</th>\n",
              "    </tr>\n",
              "  </thead>\n",
              "  <tbody>\n",
              "    <tr>\n",
              "      <th>145</th>\n",
              "      <td>C2456</td>\n",
              "      <td>-0.921693</td>\n",
              "      <td>0.339347</td>\n",
              "      <td>13</td>\n",
              "      <td>-0.878886</td>\n",
              "      <td>0.0</td>\n",
              "      <td>4.0</td>\n",
              "      <td>-0.545807</td>\n",
              "      <td>-0.684528</td>\n",
              "      <td>-0.223434</td>\n",
              "      <td>5</td>\n",
              "      <td>0</td>\n",
              "      <td>4</td>\n",
              "      <td>0</td>\n",
              "      <td>6</td>\n",
              "      <td>0</td>\n",
              "    </tr>\n",
              "    <tr>\n",
              "      <th>146</th>\n",
              "      <td>C1266</td>\n",
              "      <td>-0.311983</td>\n",
              "      <td>2.074600</td>\n",
              "      <td>15</td>\n",
              "      <td>0.000695</td>\n",
              "      <td>0.0</td>\n",
              "      <td>1.0</td>\n",
              "      <td>-0.195099</td>\n",
              "      <td>-0.561928</td>\n",
              "      <td>0.144243</td>\n",
              "      <td>5</td>\n",
              "      <td>0</td>\n",
              "      <td>4</td>\n",
              "      <td>0</td>\n",
              "      <td>6</td>\n",
              "      <td>0</td>\n",
              "    </tr>\n",
              "    <tr>\n",
              "      <th>147</th>\n",
              "      <td>C2152</td>\n",
              "      <td>-1.486971</td>\n",
              "      <td>-0.431876</td>\n",
              "      <td>0</td>\n",
              "      <td>-1.505213</td>\n",
              "      <td>0.0</td>\n",
              "      <td>1.0</td>\n",
              "      <td>-0.838986</td>\n",
              "      <td>-1.389574</td>\n",
              "      <td>-1.496334</td>\n",
              "      <td>6</td>\n",
              "      <td>0</td>\n",
              "      <td>5</td>\n",
              "      <td>0</td>\n",
              "      <td>4</td>\n",
              "      <td>0</td>\n",
              "    </tr>\n",
              "    <tr>\n",
              "      <th>148</th>\n",
              "      <td>C1267</td>\n",
              "      <td>-0.116975</td>\n",
              "      <td>2.363808</td>\n",
              "      <td>2</td>\n",
              "      <td>-0.342423</td>\n",
              "      <td>0.0</td>\n",
              "      <td>1.0</td>\n",
              "      <td>-0.828928</td>\n",
              "      <td>-0.911364</td>\n",
              "      <td>-0.802372</td>\n",
              "      <td>6</td>\n",
              "      <td>0</td>\n",
              "      <td>5</td>\n",
              "      <td>0</td>\n",
              "      <td>4</td>\n",
              "      <td>0</td>\n",
              "    </tr>\n",
              "    <tr>\n",
              "      <th>149</th>\n",
              "      <td>C2189</td>\n",
              "      <td>-0.840234</td>\n",
              "      <td>3.038629</td>\n",
              "      <td>12</td>\n",
              "      <td>-0.797191</td>\n",
              "      <td>0.0</td>\n",
              "      <td>2.0</td>\n",
              "      <td>-0.457301</td>\n",
              "      <td>-0.728807</td>\n",
              "      <td>-0.421305</td>\n",
              "      <td>5</td>\n",
              "      <td>0</td>\n",
              "      <td>4</td>\n",
              "      <td>0</td>\n",
              "      <td>6</td>\n",
              "      <td>0</td>\n",
              "    </tr>\n",
              "  </tbody>\n",
              "</table>\n",
              "</div>"
            ],
            "text/plain": [
              "      단지코드      총세대수       공가수  지역  ...  2nd  2gender  3rd  3gender\n",
              "145  C2456 -0.921693  0.339347  13  ...    4        0    6        0\n",
              "146  C1266 -0.311983  2.074600  15  ...    4        0    6        0\n",
              "147  C2152 -1.486971 -0.431876   0  ...    5        0    4        0\n",
              "148  C1267 -0.116975  2.363808   2  ...    5        0    4        0\n",
              "149  C2189 -0.840234  3.038629  12  ...    4        0    6        0\n",
              "\n",
              "[5 rows x 16 columns]"
            ]
          },
          "metadata": {
            "tags": []
          },
          "execution_count": 76
        }
      ]
    },
    {
      "cell_type": "code",
      "metadata": {
        "colab": {
          "base_uri": "https://localhost:8080/"
        },
        "id": "b6xg4MC15qK5",
        "outputId": "92301f15-4caf-4211-e511-aeaa3ed6a4a5"
      },
      "source": [
        "new_train.info()"
      ],
      "execution_count": null,
      "outputs": [
        {
          "output_type": "stream",
          "text": [
            "<class 'pandas.core.frame.DataFrame'>\n",
            "Int64Index: 423 entries, 0 to 422\n",
            "Data columns (total 17 columns):\n",
            " #   Column    Non-Null Count  Dtype  \n",
            "---  ------    --------------  -----  \n",
            " 0   단지코드      423 non-null    object \n",
            " 1   총세대수      423 non-null    float64\n",
            " 2   공가수       423 non-null    float64\n",
            " 3   지역        423 non-null    int64  \n",
            " 4   단지내주차면수   423 non-null    float64\n",
            " 5   지하철       423 non-null    float64\n",
            " 6   버스        423 non-null    float64\n",
            " 7   전용면적별세대수  423 non-null    float64\n",
            " 8   임대보증금     423 non-null    float64\n",
            " 9   임대료       423 non-null    float64\n",
            " 10  등록차량수     423 non-null    float64\n",
            " 11  1st       423 non-null    int16  \n",
            " 12  1gender   423 non-null    int16  \n",
            " 13  2nd       423 non-null    int16  \n",
            " 14  2gender   423 non-null    int16  \n",
            " 15  3rd       423 non-null    int16  \n",
            " 16  3gender   423 non-null    int16  \n",
            "dtypes: float64(9), int16(6), int64(1), object(1)\n",
            "memory usage: 64.6+ KB\n"
          ],
          "name": "stdout"
        }
      ]
    },
    {
      "cell_type": "code",
      "metadata": {
        "colab": {
          "base_uri": "https://localhost:8080/"
        },
        "id": "1k3ZmMjl54dw",
        "outputId": "34057663-0d53-404b-936a-9653ef68bf8e"
      },
      "source": [
        "new_test.info()"
      ],
      "execution_count": null,
      "outputs": [
        {
          "output_type": "stream",
          "text": [
            "<class 'pandas.core.frame.DataFrame'>\n",
            "Int64Index: 150 entries, 0 to 149\n",
            "Data columns (total 16 columns):\n",
            " #   Column    Non-Null Count  Dtype  \n",
            "---  ------    --------------  -----  \n",
            " 0   단지코드      150 non-null    object \n",
            " 1   총세대수      150 non-null    float64\n",
            " 2   공가수       150 non-null    float64\n",
            " 3   지역        150 non-null    int64  \n",
            " 4   단지내주차면수   150 non-null    float64\n",
            " 5   지하철       150 non-null    float64\n",
            " 6   버스        150 non-null    float64\n",
            " 7   전용면적별세대수  150 non-null    float64\n",
            " 8   임대보증금     150 non-null    float64\n",
            " 9   임대료       150 non-null    float64\n",
            " 10  1st       150 non-null    int16  \n",
            " 11  1gender   150 non-null    int16  \n",
            " 12  2nd       150 non-null    int16  \n",
            " 13  2gender   150 non-null    int16  \n",
            " 14  3rd       150 non-null    int16  \n",
            " 15  3gender   150 non-null    int16  \n",
            "dtypes: float64(8), int16(6), int64(1), object(1)\n",
            "memory usage: 19.6+ KB\n"
          ],
          "name": "stdout"
        }
      ]
    },
    {
      "cell_type": "markdown",
      "metadata": {
        "id": "BKPIG2A-20As"
      },
      "source": [
        "#Model"
      ]
    },
    {
      "cell_type": "code",
      "metadata": {
        "colab": {
          "base_uri": "https://localhost:8080/",
          "height": 237
        },
        "id": "3Owr4tGA86v6",
        "outputId": "2f4723ca-3f68-4bb6-cb79-bd3c3e108fb7"
      },
      "source": [
        "new_train.head()"
      ],
      "execution_count": null,
      "outputs": [
        {
          "output_type": "execute_result",
          "data": {
            "text/html": [
              "<div>\n",
              "<style scoped>\n",
              "    .dataframe tbody tr th:only-of-type {\n",
              "        vertical-align: middle;\n",
              "    }\n",
              "\n",
              "    .dataframe tbody tr th {\n",
              "        vertical-align: top;\n",
              "    }\n",
              "\n",
              "    .dataframe thead th {\n",
              "        text-align: right;\n",
              "    }\n",
              "</style>\n",
              "<table border=\"1\" class=\"dataframe\">\n",
              "  <thead>\n",
              "    <tr style=\"text-align: right;\">\n",
              "      <th></th>\n",
              "      <th>단지코드</th>\n",
              "      <th>총세대수</th>\n",
              "      <th>공가수</th>\n",
              "      <th>지역</th>\n",
              "      <th>단지내주차면수</th>\n",
              "      <th>지하철</th>\n",
              "      <th>버스</th>\n",
              "      <th>전용면적별세대수</th>\n",
              "      <th>임대보증금</th>\n",
              "      <th>임대료</th>\n",
              "      <th>등록차량수</th>\n",
              "      <th>1st</th>\n",
              "      <th>1gender</th>\n",
              "      <th>2nd</th>\n",
              "      <th>2gender</th>\n",
              "      <th>3rd</th>\n",
              "      <th>3gender</th>\n",
              "    </tr>\n",
              "  </thead>\n",
              "  <tbody>\n",
              "    <tr>\n",
              "      <th>0</th>\n",
              "      <td>C2483</td>\n",
              "      <td>0.438429</td>\n",
              "      <td>2.363808</td>\n",
              "      <td>3</td>\n",
              "      <td>2.266365</td>\n",
              "      <td>0.0</td>\n",
              "      <td>3.0</td>\n",
              "      <td>-0.258160</td>\n",
              "      <td>0.038903</td>\n",
              "      <td>-0.118147</td>\n",
              "      <td>1015.0</td>\n",
              "      <td>5</td>\n",
              "      <td>0</td>\n",
              "      <td>4</td>\n",
              "      <td>0</td>\n",
              "      <td>6</td>\n",
              "      <td>0</td>\n",
              "    </tr>\n",
              "    <tr>\n",
              "      <th>1</th>\n",
              "      <td>C2515</td>\n",
              "      <td>-0.437875</td>\n",
              "      <td>0.339347</td>\n",
              "      <td>2</td>\n",
              "      <td>0.085113</td>\n",
              "      <td>0.0</td>\n",
              "      <td>3.0</td>\n",
              "      <td>-0.641426</td>\n",
              "      <td>-0.421715</td>\n",
              "      <td>-0.350864</td>\n",
              "      <td>205.0</td>\n",
              "      <td>6</td>\n",
              "      <td>0</td>\n",
              "      <td>5</td>\n",
              "      <td>0</td>\n",
              "      <td>4</td>\n",
              "      <td>0</td>\n",
              "    </tr>\n",
              "    <tr>\n",
              "      <th>2</th>\n",
              "      <td>C1407</td>\n",
              "      <td>1.218463</td>\n",
              "      <td>-0.046264</td>\n",
              "      <td>6</td>\n",
              "      <td>1.885123</td>\n",
              "      <td>1.0</td>\n",
              "      <td>1.0</td>\n",
              "      <td>-0.238799</td>\n",
              "      <td>0.108550</td>\n",
              "      <td>-0.134183</td>\n",
              "      <td>1064.0</td>\n",
              "      <td>6</td>\n",
              "      <td>0</td>\n",
              "      <td>5</td>\n",
              "      <td>0</td>\n",
              "      <td>4</td>\n",
              "      <td>0</td>\n",
              "    </tr>\n",
              "    <tr>\n",
              "      <th>3</th>\n",
              "      <td>C1945</td>\n",
              "      <td>0.080502</td>\n",
              "      <td>-0.721085</td>\n",
              "      <td>1</td>\n",
              "      <td>0.384661</td>\n",
              "      <td>1.0</td>\n",
              "      <td>3.0</td>\n",
              "      <td>-0.097742</td>\n",
              "      <td>-0.002365</td>\n",
              "      <td>0.152746</td>\n",
              "      <td>730.0</td>\n",
              "      <td>4</td>\n",
              "      <td>0</td>\n",
              "      <td>4</td>\n",
              "      <td>1</td>\n",
              "      <td>5</td>\n",
              "      <td>0</td>\n",
              "    </tr>\n",
              "    <tr>\n",
              "      <th>4</th>\n",
              "      <td>C1470</td>\n",
              "      <td>-0.065137</td>\n",
              "      <td>0.050139</td>\n",
              "      <td>12</td>\n",
              "      <td>0.142300</td>\n",
              "      <td>0.0</td>\n",
              "      <td>2.0</td>\n",
              "      <td>0.422236</td>\n",
              "      <td>-0.367772</td>\n",
              "      <td>-0.510156</td>\n",
              "      <td>553.0</td>\n",
              "      <td>5</td>\n",
              "      <td>0</td>\n",
              "      <td>4</td>\n",
              "      <td>0</td>\n",
              "      <td>6</td>\n",
              "      <td>0</td>\n",
              "    </tr>\n",
              "  </tbody>\n",
              "</table>\n",
              "</div>"
            ],
            "text/plain": [
              "    단지코드      총세대수       공가수  지역   단지내주차면수  ...  1gender  2nd  2gender  3rd  3gender\n",
              "0  C2483  0.438429  2.363808   3  2.266365  ...        0    4        0    6        0\n",
              "1  C2515 -0.437875  0.339347   2  0.085113  ...        0    5        0    4        0\n",
              "2  C1407  1.218463 -0.046264   6  1.885123  ...        0    5        0    4        0\n",
              "3  C1945  0.080502 -0.721085   1  0.384661  ...        0    4        1    5        0\n",
              "4  C1470 -0.065137  0.050139  12  0.142300  ...        0    4        0    6        0\n",
              "\n",
              "[5 rows x 17 columns]"
            ]
          },
          "metadata": {
            "tags": []
          },
          "execution_count": 86
        }
      ]
    },
    {
      "cell_type": "code",
      "metadata": {
        "colab": {
          "base_uri": "https://localhost:8080/"
        },
        "id": "hBf5e54sD-Qn",
        "outputId": "f6708a0e-ae7a-48b4-ce58-27dab4ed9c63"
      },
      "source": [
        "new_train.columns"
      ],
      "execution_count": null,
      "outputs": [
        {
          "output_type": "execute_result",
          "data": {
            "text/plain": [
              "Index(['단지코드', '총세대수', '공가수', '지역', '단지내주차면수', '지하철', '버스', '전용면적별세대수',\n",
              "       '임대보증금', '임대료', '등록차량수', '1st', '1gender', '2nd', '2gender', '3rd',\n",
              "       '3gender'],\n",
              "      dtype='object')"
            ]
          },
          "metadata": {
            "tags": []
          },
          "execution_count": 87
        }
      ]
    },
    {
      "cell_type": "code",
      "metadata": {
        "id": "-e93kmXMD9SJ"
      },
      "source": [
        "new_train = new_train[['단지코드', '총세대수', '공가수', '지역', '단지내주차면수', '지하철', '버스', '전용면적별세대수',\n",
        "       '임대보증금', '임대료', '1st', '1gender', '2nd', '2gender', '3rd',\n",
        "       '3gender', '등록차량수']]"
      ],
      "execution_count": null,
      "outputs": []
    },
    {
      "cell_type": "code",
      "metadata": {
        "colab": {
          "base_uri": "https://localhost:8080/",
          "height": 175
        },
        "id": "X07q-NbNEHTK",
        "outputId": "44b5e581-3ac6-4115-f07b-de7deba3ade8"
      },
      "source": [
        "new_train.head(3)"
      ],
      "execution_count": null,
      "outputs": [
        {
          "output_type": "execute_result",
          "data": {
            "text/html": [
              "<div>\n",
              "<style scoped>\n",
              "    .dataframe tbody tr th:only-of-type {\n",
              "        vertical-align: middle;\n",
              "    }\n",
              "\n",
              "    .dataframe tbody tr th {\n",
              "        vertical-align: top;\n",
              "    }\n",
              "\n",
              "    .dataframe thead th {\n",
              "        text-align: right;\n",
              "    }\n",
              "</style>\n",
              "<table border=\"1\" class=\"dataframe\">\n",
              "  <thead>\n",
              "    <tr style=\"text-align: right;\">\n",
              "      <th></th>\n",
              "      <th>단지코드</th>\n",
              "      <th>총세대수</th>\n",
              "      <th>공가수</th>\n",
              "      <th>지역</th>\n",
              "      <th>단지내주차면수</th>\n",
              "      <th>지하철</th>\n",
              "      <th>버스</th>\n",
              "      <th>전용면적별세대수</th>\n",
              "      <th>임대보증금</th>\n",
              "      <th>임대료</th>\n",
              "      <th>1st</th>\n",
              "      <th>1gender</th>\n",
              "      <th>2nd</th>\n",
              "      <th>2gender</th>\n",
              "      <th>3rd</th>\n",
              "      <th>3gender</th>\n",
              "      <th>등록차량수</th>\n",
              "    </tr>\n",
              "  </thead>\n",
              "  <tbody>\n",
              "    <tr>\n",
              "      <th>0</th>\n",
              "      <td>C2483</td>\n",
              "      <td>0.438429</td>\n",
              "      <td>2.363808</td>\n",
              "      <td>3</td>\n",
              "      <td>2.266365</td>\n",
              "      <td>0.0</td>\n",
              "      <td>3.0</td>\n",
              "      <td>-0.258160</td>\n",
              "      <td>0.038903</td>\n",
              "      <td>-0.118147</td>\n",
              "      <td>5</td>\n",
              "      <td>0</td>\n",
              "      <td>4</td>\n",
              "      <td>0</td>\n",
              "      <td>6</td>\n",
              "      <td>0</td>\n",
              "      <td>1015.0</td>\n",
              "    </tr>\n",
              "    <tr>\n",
              "      <th>1</th>\n",
              "      <td>C2515</td>\n",
              "      <td>-0.437875</td>\n",
              "      <td>0.339347</td>\n",
              "      <td>2</td>\n",
              "      <td>0.085113</td>\n",
              "      <td>0.0</td>\n",
              "      <td>3.0</td>\n",
              "      <td>-0.641426</td>\n",
              "      <td>-0.421715</td>\n",
              "      <td>-0.350864</td>\n",
              "      <td>6</td>\n",
              "      <td>0</td>\n",
              "      <td>5</td>\n",
              "      <td>0</td>\n",
              "      <td>4</td>\n",
              "      <td>0</td>\n",
              "      <td>205.0</td>\n",
              "    </tr>\n",
              "    <tr>\n",
              "      <th>2</th>\n",
              "      <td>C1407</td>\n",
              "      <td>1.218463</td>\n",
              "      <td>-0.046264</td>\n",
              "      <td>6</td>\n",
              "      <td>1.885123</td>\n",
              "      <td>1.0</td>\n",
              "      <td>1.0</td>\n",
              "      <td>-0.238799</td>\n",
              "      <td>0.108550</td>\n",
              "      <td>-0.134183</td>\n",
              "      <td>6</td>\n",
              "      <td>0</td>\n",
              "      <td>5</td>\n",
              "      <td>0</td>\n",
              "      <td>4</td>\n",
              "      <td>0</td>\n",
              "      <td>1064.0</td>\n",
              "    </tr>\n",
              "  </tbody>\n",
              "</table>\n",
              "</div>"
            ],
            "text/plain": [
              "    단지코드      총세대수       공가수  지역   단지내주차면수  ...  2nd  2gender  3rd  3gender   등록차량수\n",
              "0  C2483  0.438429  2.363808   3  2.266365  ...    4        0    6        0  1015.0\n",
              "1  C2515 -0.437875  0.339347   2  0.085113  ...    5        0    4        0   205.0\n",
              "2  C1407  1.218463 -0.046264   6  1.885123  ...    5        0    4        0  1064.0\n",
              "\n",
              "[3 rows x 17 columns]"
            ]
          },
          "metadata": {
            "tags": []
          },
          "execution_count": 89
        }
      ]
    },
    {
      "cell_type": "code",
      "metadata": {
        "colab": {
          "base_uri": "https://localhost:8080/",
          "height": 158
        },
        "id": "BcFZrioQEJZj",
        "outputId": "80249873-b418-4a53-9b66-3ac1c77c702c"
      },
      "source": [
        "new_test.head(3)"
      ],
      "execution_count": null,
      "outputs": [
        {
          "output_type": "execute_result",
          "data": {
            "text/html": [
              "<div>\n",
              "<style scoped>\n",
              "    .dataframe tbody tr th:only-of-type {\n",
              "        vertical-align: middle;\n",
              "    }\n",
              "\n",
              "    .dataframe tbody tr th {\n",
              "        vertical-align: top;\n",
              "    }\n",
              "\n",
              "    .dataframe thead th {\n",
              "        text-align: right;\n",
              "    }\n",
              "</style>\n",
              "<table border=\"1\" class=\"dataframe\">\n",
              "  <thead>\n",
              "    <tr style=\"text-align: right;\">\n",
              "      <th></th>\n",
              "      <th>단지코드</th>\n",
              "      <th>총세대수</th>\n",
              "      <th>공가수</th>\n",
              "      <th>지역</th>\n",
              "      <th>단지내주차면수</th>\n",
              "      <th>지하철</th>\n",
              "      <th>버스</th>\n",
              "      <th>전용면적별세대수</th>\n",
              "      <th>임대보증금</th>\n",
              "      <th>임대료</th>\n",
              "      <th>1st</th>\n",
              "      <th>1gender</th>\n",
              "      <th>2nd</th>\n",
              "      <th>2gender</th>\n",
              "      <th>3rd</th>\n",
              "      <th>3gender</th>\n",
              "    </tr>\n",
              "  </thead>\n",
              "  <tbody>\n",
              "    <tr>\n",
              "      <th>0</th>\n",
              "      <td>C1072</td>\n",
              "      <td>0.078034</td>\n",
              "      <td>0.050139</td>\n",
              "      <td>1</td>\n",
              "      <td>0.245780</td>\n",
              "      <td>0.0</td>\n",
              "      <td>2.0</td>\n",
              "      <td>-0.460066</td>\n",
              "      <td>0.808241</td>\n",
              "      <td>0.685683</td>\n",
              "      <td>4</td>\n",
              "      <td>0</td>\n",
              "      <td>4</td>\n",
              "      <td>1</td>\n",
              "      <td>5</td>\n",
              "      <td>0</td>\n",
              "    </tr>\n",
              "    <tr>\n",
              "      <th>1</th>\n",
              "      <td>C1128</td>\n",
              "      <td>1.559111</td>\n",
              "      <td>-0.431876</td>\n",
              "      <td>1</td>\n",
              "      <td>1.697225</td>\n",
              "      <td>0.0</td>\n",
              "      <td>3.0</td>\n",
              "      <td>0.161632</td>\n",
              "      <td>0.577896</td>\n",
              "      <td>0.518840</td>\n",
              "      <td>4</td>\n",
              "      <td>0</td>\n",
              "      <td>4</td>\n",
              "      <td>1</td>\n",
              "      <td>5</td>\n",
              "      <td>0</td>\n",
              "    </tr>\n",
              "    <tr>\n",
              "      <th>2</th>\n",
              "      <td>C1456</td>\n",
              "      <td>-0.255209</td>\n",
              "      <td>0.435750</td>\n",
              "      <td>7</td>\n",
              "      <td>-0.124570</td>\n",
              "      <td>0.0</td>\n",
              "      <td>16.0</td>\n",
              "      <td>-0.765691</td>\n",
              "      <td>0.553674</td>\n",
              "      <td>0.328198</td>\n",
              "      <td>6</td>\n",
              "      <td>0</td>\n",
              "      <td>6</td>\n",
              "      <td>1</td>\n",
              "      <td>5</td>\n",
              "      <td>0</td>\n",
              "    </tr>\n",
              "  </tbody>\n",
              "</table>\n",
              "</div>"
            ],
            "text/plain": [
              "    단지코드      총세대수       공가수  지역   단지내주차면수  ...  1gender  2nd  2gender  3rd  3gender\n",
              "0  C1072  0.078034  0.050139   1  0.245780  ...        0    4        1    5        0\n",
              "1  C1128  1.559111 -0.431876   1  1.697225  ...        0    4        1    5        0\n",
              "2  C1456 -0.255209  0.435750   7 -0.124570  ...        0    6        1    5        0\n",
              "\n",
              "[3 rows x 16 columns]"
            ]
          },
          "metadata": {
            "tags": []
          },
          "execution_count": 91
        }
      ]
    },
    {
      "cell_type": "code",
      "metadata": {
        "id": "arthdrE413rl"
      },
      "source": [
        "x_train_all = new_train.iloc[:, 1:-1]\n",
        "y_train_all = new_train.iloc[:,-1]\n",
        "x_test = new_test.iloc[:,1:]"
      ],
      "execution_count": null,
      "outputs": []
    },
    {
      "cell_type": "markdown",
      "metadata": {
        "id": "O3cncH-jdrgU"
      },
      "source": [
        "## train_test_split"
      ]
    },
    {
      "cell_type": "code",
      "metadata": {
        "id": "_EABdXr7dqyV"
      },
      "source": [
        "from sklearn.model_selection import train_test_split\n",
        "x_train, x_valid, y_train, y_valid = train_test_split(x_train_all, y_train_all, test_size=0.15, random_state=42)"
      ],
      "execution_count": null,
      "outputs": []
    },
    {
      "cell_type": "markdown",
      "metadata": {
        "id": "1frm26VdzKES"
      },
      "source": [
        "##Baseline"
      ]
    },
    {
      "cell_type": "code",
      "metadata": {
        "colab": {
          "base_uri": "https://localhost:8080/"
        },
        "id": "XL1upGtl2DIt",
        "outputId": "d6c72a29-d9b6-4d22-d9b6-70698bbb960b"
      },
      "source": [
        "model = RandomForestRegressor(random_state=42)\n",
        "model.fit(x_train, y_train)"
      ],
      "execution_count": null,
      "outputs": [
        {
          "output_type": "execute_result",
          "data": {
            "text/plain": [
              "RandomForestRegressor(bootstrap=True, ccp_alpha=0.0, criterion='mse',\n",
              "                      max_depth=None, max_features='auto', max_leaf_nodes=None,\n",
              "                      max_samples=None, min_impurity_decrease=0.0,\n",
              "                      min_impurity_split=None, min_samples_leaf=1,\n",
              "                      min_samples_split=2, min_weight_fraction_leaf=0.0,\n",
              "                      n_estimators=100, n_jobs=None, oob_score=False,\n",
              "                      random_state=42, verbose=0, warm_start=False)"
            ]
          },
          "metadata": {
            "tags": []
          },
          "execution_count": 94
        }
      ]
    },
    {
      "cell_type": "code",
      "metadata": {
        "colab": {
          "base_uri": "https://localhost:8080/"
        },
        "id": "u6S4-Rg2d_Gn",
        "outputId": "9662e437-498b-48e1-9f0c-29ef6d1635c4"
      },
      "source": [
        "print(model.score(x_train,y_train))\n",
        "print(model.score(x_valid,y_valid))"
      ],
      "execution_count": null,
      "outputs": [
        {
          "output_type": "stream",
          "text": [
            "0.9644366559915947\n",
            "0.6870003405529015\n"
          ],
          "name": "stdout"
        }
      ]
    },
    {
      "cell_type": "code",
      "metadata": {
        "id": "Y5Sf1fH5eQnO",
        "colab": {
          "base_uri": "https://localhost:8080/"
        },
        "outputId": "ccfac519-0966-4b62-fe4d-42bc0296b7f1"
      },
      "source": [
        "#age_gender_info 포함(나이대 10으로 안 나눔) /평균 random forest drop_duplicate\n",
        "0.9597890507858122\n",
        "0.7704457732232735\n",
        "\n",
        "#age_gender_info 포함(나이대 10으로 나눔) /평균 random forest drop_duplicate\n",
        "0.9649168569732572\n",
        "0.6784872771951496\n",
        "\n",
        "#age_gender_info 포함(나이대 10으로 나눔) 평균 전에 합침/평균 random forest drop_duplicate/standardscaler\n",
        "0.9649895369472162\n",
        "0.6798802467335323\n",
        "\n",
        "# age_gender_info 포함(나이대 10으로 나눔)평균 후에 합침/평균 random forest drop_duplicate/standardscaler\n",
        "0.9644366559915947\n",
        "0.6870003405529015"
      ],
      "execution_count": null,
      "outputs": [
        {
          "output_type": "execute_result",
          "data": {
            "text/plain": [
              "0.6798802467335323"
            ]
          },
          "metadata": {
            "tags": []
          },
          "execution_count": 83
        }
      ]
    },
    {
      "cell_type": "code",
      "metadata": {
        "id": "4atTiKuI2E4z"
      },
      "source": [
        "pred = model.predict(x_test)\n",
        "submission['num'] = pred\n",
        "submission.to_csv('standardscaler&age평균후.csv', index=False)"
      ],
      "execution_count": null,
      "outputs": []
    },
    {
      "cell_type": "code",
      "metadata": {
        "id": "S8LDWJFtEvvr"
      },
      "source": [
        ""
      ],
      "execution_count": null,
      "outputs": []
    }
  ]
}