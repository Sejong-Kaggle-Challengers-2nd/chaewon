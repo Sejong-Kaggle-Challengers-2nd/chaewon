{
  "nbformat": 4,
  "nbformat_minor": 0,
  "metadata": {
    "colab": {
      "name": "9_(ver2)주차수요 예측",
      "provenance": [],
      "collapsed_sections": []
    },
    "kernelspec": {
      "name": "python3",
      "display_name": "Python 3"
    },
    "language_info": {
      "name": "python"
    }
  },
  "cells": [
    {
      "cell_type": "code",
      "metadata": {
        "id": "l9Oy2f514f9t"
      },
      "source": [
        "import pandas as pd\n",
        "import numpy as np\n",
        "from sklearn.ensemble import RandomForestRegressor\n",
        "from tqdm import tqdm\n",
        "from sklearn.preprocessing import LabelEncoder"
      ],
      "execution_count": 1,
      "outputs": []
    },
    {
      "cell_type": "code",
      "metadata": {
        "id": "9X-08aB86F0i"
      },
      "source": [
        "train = pd.read_csv('train.csv')\n",
        "test = pd.read_csv('test.csv')\n",
        "submission = pd.read_csv('sample_submission.csv')\n",
        "age_gender=pd.read_csv('age_gender_info.csv')"
      ],
      "execution_count": 2,
      "outputs": []
    },
    {
      "cell_type": "markdown",
      "metadata": {
        "id": "eK6F78fc9Zd8"
      },
      "source": [
        "#데이터 확인"
      ]
    },
    {
      "cell_type": "code",
      "metadata": {
        "colab": {
          "base_uri": "https://localhost:8080/"
        },
        "id": "o0h9dG_DzKP_",
        "outputId": "1877d762-238e-4f2a-b44f-1bf307a1ecb8"
      },
      "source": [
        "print(\"train shape: {}, test shape: {}, submission shape: {}, age_gender_info shape: {}\".format(train.shape,test.shape, submission.shape, age_gender.shape))"
      ],
      "execution_count": 3,
      "outputs": [
        {
          "output_type": "stream",
          "text": [
            "train shape: (2952, 15), test shape: (1022, 14), submission shape: (150, 2), age_gender_info shape: (16, 23)\n"
          ],
          "name": "stdout"
        }
      ]
    },
    {
      "cell_type": "markdown",
      "metadata": {
        "id": "hS6fWW1t-Oio"
      },
      "source": [
        "##train & test"
      ]
    },
    {
      "cell_type": "code",
      "metadata": {
        "colab": {
          "base_uri": "https://localhost:8080/",
          "height": 226
        },
        "id": "0BIYuO3SxtK5",
        "outputId": "ebf8b36d-59be-4b3e-9f9a-ad1e0c2cae43"
      },
      "source": [
        "train.head(3)"
      ],
      "execution_count": 4,
      "outputs": [
        {
          "output_type": "execute_result",
          "data": {
            "text/html": [
              "<div>\n",
              "<style scoped>\n",
              "    .dataframe tbody tr th:only-of-type {\n",
              "        vertical-align: middle;\n",
              "    }\n",
              "\n",
              "    .dataframe tbody tr th {\n",
              "        vertical-align: top;\n",
              "    }\n",
              "\n",
              "    .dataframe thead th {\n",
              "        text-align: right;\n",
              "    }\n",
              "</style>\n",
              "<table border=\"1\" class=\"dataframe\">\n",
              "  <thead>\n",
              "    <tr style=\"text-align: right;\">\n",
              "      <th></th>\n",
              "      <th>단지코드</th>\n",
              "      <th>총세대수</th>\n",
              "      <th>임대건물구분</th>\n",
              "      <th>지역</th>\n",
              "      <th>공급유형</th>\n",
              "      <th>전용면적</th>\n",
              "      <th>전용면적별세대수</th>\n",
              "      <th>공가수</th>\n",
              "      <th>자격유형</th>\n",
              "      <th>임대보증금</th>\n",
              "      <th>임대료</th>\n",
              "      <th>도보 10분거리 내 지하철역 수(환승노선 수 반영)</th>\n",
              "      <th>도보 10분거리 내 버스정류장 수</th>\n",
              "      <th>단지내주차면수</th>\n",
              "      <th>등록차량수</th>\n",
              "    </tr>\n",
              "  </thead>\n",
              "  <tbody>\n",
              "    <tr>\n",
              "      <th>0</th>\n",
              "      <td>C2483</td>\n",
              "      <td>900</td>\n",
              "      <td>아파트</td>\n",
              "      <td>경상북도</td>\n",
              "      <td>국민임대</td>\n",
              "      <td>39.72</td>\n",
              "      <td>134</td>\n",
              "      <td>38.0</td>\n",
              "      <td>A</td>\n",
              "      <td>15667000</td>\n",
              "      <td>103680</td>\n",
              "      <td>0.0</td>\n",
              "      <td>3.0</td>\n",
              "      <td>1425.0</td>\n",
              "      <td>1015.0</td>\n",
              "    </tr>\n",
              "    <tr>\n",
              "      <th>1</th>\n",
              "      <td>C2483</td>\n",
              "      <td>900</td>\n",
              "      <td>아파트</td>\n",
              "      <td>경상북도</td>\n",
              "      <td>국민임대</td>\n",
              "      <td>39.72</td>\n",
              "      <td>15</td>\n",
              "      <td>38.0</td>\n",
              "      <td>A</td>\n",
              "      <td>15667000</td>\n",
              "      <td>103680</td>\n",
              "      <td>0.0</td>\n",
              "      <td>3.0</td>\n",
              "      <td>1425.0</td>\n",
              "      <td>1015.0</td>\n",
              "    </tr>\n",
              "    <tr>\n",
              "      <th>2</th>\n",
              "      <td>C2483</td>\n",
              "      <td>900</td>\n",
              "      <td>아파트</td>\n",
              "      <td>경상북도</td>\n",
              "      <td>국민임대</td>\n",
              "      <td>51.93</td>\n",
              "      <td>385</td>\n",
              "      <td>38.0</td>\n",
              "      <td>A</td>\n",
              "      <td>27304000</td>\n",
              "      <td>184330</td>\n",
              "      <td>0.0</td>\n",
              "      <td>3.0</td>\n",
              "      <td>1425.0</td>\n",
              "      <td>1015.0</td>\n",
              "    </tr>\n",
              "  </tbody>\n",
              "</table>\n",
              "</div>"
            ],
            "text/plain": [
              "    단지코드  총세대수 임대건물구분  ... 도보 10분거리 내 버스정류장 수 단지내주차면수   등록차량수\n",
              "0  C2483   900    아파트  ...                3.0  1425.0  1015.0\n",
              "1  C2483   900    아파트  ...                3.0  1425.0  1015.0\n",
              "2  C2483   900    아파트  ...                3.0  1425.0  1015.0\n",
              "\n",
              "[3 rows x 15 columns]"
            ]
          },
          "metadata": {
            "tags": []
          },
          "execution_count": 4
        }
      ]
    },
    {
      "cell_type": "code",
      "metadata": {
        "colab": {
          "base_uri": "https://localhost:8080/",
          "height": 209
        },
        "id": "heNgDoCGKQ6I",
        "outputId": "f1be4df8-5efd-4e37-8f1e-66477a8560a6"
      },
      "source": [
        "test.head(3)"
      ],
      "execution_count": 5,
      "outputs": [
        {
          "output_type": "execute_result",
          "data": {
            "text/html": [
              "<div>\n",
              "<style scoped>\n",
              "    .dataframe tbody tr th:only-of-type {\n",
              "        vertical-align: middle;\n",
              "    }\n",
              "\n",
              "    .dataframe tbody tr th {\n",
              "        vertical-align: top;\n",
              "    }\n",
              "\n",
              "    .dataframe thead th {\n",
              "        text-align: right;\n",
              "    }\n",
              "</style>\n",
              "<table border=\"1\" class=\"dataframe\">\n",
              "  <thead>\n",
              "    <tr style=\"text-align: right;\">\n",
              "      <th></th>\n",
              "      <th>단지코드</th>\n",
              "      <th>총세대수</th>\n",
              "      <th>임대건물구분</th>\n",
              "      <th>지역</th>\n",
              "      <th>공급유형</th>\n",
              "      <th>전용면적</th>\n",
              "      <th>전용면적별세대수</th>\n",
              "      <th>공가수</th>\n",
              "      <th>자격유형</th>\n",
              "      <th>임대보증금</th>\n",
              "      <th>임대료</th>\n",
              "      <th>도보 10분거리 내 지하철역 수(환승노선 수 반영)</th>\n",
              "      <th>도보 10분거리 내 버스정류장 수</th>\n",
              "      <th>단지내주차면수</th>\n",
              "    </tr>\n",
              "  </thead>\n",
              "  <tbody>\n",
              "    <tr>\n",
              "      <th>0</th>\n",
              "      <td>C1072</td>\n",
              "      <td>754</td>\n",
              "      <td>아파트</td>\n",
              "      <td>경기도</td>\n",
              "      <td>국민임대</td>\n",
              "      <td>39.79</td>\n",
              "      <td>116</td>\n",
              "      <td>14.0</td>\n",
              "      <td>H</td>\n",
              "      <td>22830000</td>\n",
              "      <td>189840</td>\n",
              "      <td>0.0</td>\n",
              "      <td>2.0</td>\n",
              "      <td>683.0</td>\n",
              "    </tr>\n",
              "    <tr>\n",
              "      <th>1</th>\n",
              "      <td>C1072</td>\n",
              "      <td>754</td>\n",
              "      <td>아파트</td>\n",
              "      <td>경기도</td>\n",
              "      <td>국민임대</td>\n",
              "      <td>46.81</td>\n",
              "      <td>30</td>\n",
              "      <td>14.0</td>\n",
              "      <td>A</td>\n",
              "      <td>36048000</td>\n",
              "      <td>249930</td>\n",
              "      <td>0.0</td>\n",
              "      <td>2.0</td>\n",
              "      <td>683.0</td>\n",
              "    </tr>\n",
              "    <tr>\n",
              "      <th>2</th>\n",
              "      <td>C1072</td>\n",
              "      <td>754</td>\n",
              "      <td>아파트</td>\n",
              "      <td>경기도</td>\n",
              "      <td>국민임대</td>\n",
              "      <td>46.90</td>\n",
              "      <td>112</td>\n",
              "      <td>14.0</td>\n",
              "      <td>H</td>\n",
              "      <td>36048000</td>\n",
              "      <td>249930</td>\n",
              "      <td>0.0</td>\n",
              "      <td>2.0</td>\n",
              "      <td>683.0</td>\n",
              "    </tr>\n",
              "  </tbody>\n",
              "</table>\n",
              "</div>"
            ],
            "text/plain": [
              "    단지코드  총세대수  ... 도보 10분거리 내 버스정류장 수 단지내주차면수\n",
              "0  C1072   754  ...                2.0   683.0\n",
              "1  C1072   754  ...                2.0   683.0\n",
              "2  C1072   754  ...                2.0   683.0\n",
              "\n",
              "[3 rows x 14 columns]"
            ]
          },
          "metadata": {
            "tags": []
          },
          "execution_count": 5
        }
      ]
    },
    {
      "cell_type": "markdown",
      "metadata": {
        "id": "960Tm4nY86_G"
      },
      "source": [
        "###header 간소화"
      ]
    },
    {
      "cell_type": "markdown",
      "metadata": {
        "id": "qd9vGvPN8_HY"
      },
      "source": [
        "도보 10분거리 내 지하철역 수(환승노선 수 반영) --> 지하철 <br>\n",
        "도보 10분거리 내 버스정류장 수 -> 버스"
      ]
    },
    {
      "cell_type": "code",
      "metadata": {
        "colab": {
          "base_uri": "https://localhost:8080/"
        },
        "id": "GmZCUZDgFvFq",
        "outputId": "1da7f828-edcb-47eb-872f-7288279a90f7"
      },
      "source": [
        "train.columns"
      ],
      "execution_count": 6,
      "outputs": [
        {
          "output_type": "execute_result",
          "data": {
            "text/plain": [
              "Index(['단지코드', '총세대수', '임대건물구분', '지역', '공급유형', '전용면적', '전용면적별세대수', '공가수',\n",
              "       '자격유형', '임대보증금', '임대료', '도보 10분거리 내 지하철역 수(환승노선 수 반영)',\n",
              "       '도보 10분거리 내 버스정류장 수', '단지내주차면수', '등록차량수'],\n",
              "      dtype='object')"
            ]
          },
          "metadata": {
            "tags": []
          },
          "execution_count": 6
        }
      ]
    },
    {
      "cell_type": "code",
      "metadata": {
        "id": "BGib_iBCFQur"
      },
      "source": [
        "train.columns = [\n",
        "    '단지코드', '총세대수', '임대건물구분', '지역', '공급유형', '전용면적', '전용면적별세대수', '공가수', '자격유형',\n",
        "    '임대보증금', '임대료', '지하철', '버스', '단지내주차면수', '등록차량수']\n",
        "\n",
        "test.columns = [\n",
        "    '단지코드', '총세대수', '임대건물구분', '지역', '공급유형', '전용면적', '전용면적별세대수', '공가수', '자격유형',\n",
        "    '임대보증금', '임대료', '지하철', '버스','단지내주차면수']"
      ],
      "execution_count": 7,
      "outputs": []
    },
    {
      "cell_type": "markdown",
      "metadata": {
        "id": "oH3Pa2mT-3P5"
      },
      "source": [
        "### categorical 값의 unique 값 확인"
      ]
    },
    {
      "cell_type": "code",
      "metadata": {
        "colab": {
          "base_uri": "https://localhost:8080/"
        },
        "id": "MLBSPA_E1bGI",
        "outputId": "34615ef5-2a4c-49c2-c95b-2a41de2c3445"
      },
      "source": [
        "train.columns"
      ],
      "execution_count": 8,
      "outputs": [
        {
          "output_type": "execute_result",
          "data": {
            "text/plain": [
              "Index(['단지코드', '총세대수', '임대건물구분', '지역', '공급유형', '전용면적', '전용면적별세대수', '공가수',\n",
              "       '자격유형', '임대보증금', '임대료', '지하철', '버스', '단지내주차면수', '등록차량수'],\n",
              "      dtype='object')"
            ]
          },
          "metadata": {
            "tags": []
          },
          "execution_count": 8
        }
      ]
    },
    {
      "cell_type": "code",
      "metadata": {
        "colab": {
          "base_uri": "https://localhost:8080/"
        },
        "id": "bAb1kX8F2RSE",
        "outputId": "e69e83f7-a08f-4b66-8155-6b2a847b7fdd"
      },
      "source": [
        "train_cols=['임대건물구분', '지역', '공급유형', '자격유형', '지하철','버스']\n",
        "\n",
        "for col in train_cols:\n",
        "    print(\"{} 의 unique 값 ::: {}\".format(col,pd.unique(train[col])))"
      ],
      "execution_count": 9,
      "outputs": [
        {
          "output_type": "stream",
          "text": [
            "임대건물구분 의 unique 값 ::: ['아파트' '상가']\n",
            "지역 의 unique 값 ::: ['경상북도' '경상남도' '대전광역시' '경기도' '전라북도' '강원도' '광주광역시' '충청남도' '부산광역시' '제주특별자치도'\n",
            " '울산광역시' '충청북도' '전라남도' '대구광역시' '서울특별시' '세종특별자치시']\n",
            "공급유형 의 unique 값 ::: ['국민임대' '공공임대(50년)' '영구임대' '임대상가' '공공임대(10년)' '공공임대(분납)' '장기전세' '공공분양'\n",
            " '행복주택' '공공임대(5년)']\n",
            "자격유형 의 unique 값 ::: ['A' 'B' 'C' 'D' 'E' 'F' 'G' 'H' 'I' 'J' 'K' 'L' 'M' 'N' 'O']\n",
            "지하철 의 unique 값 ::: [ 0.  1. nan  2.  3.]\n",
            "버스 의 unique 값 ::: [ 3.  1.  2.  6. 10.  5.  4.  7. 12. 14.  8.  0. 20. 11. 16. 15. nan 19.]\n"
          ],
          "name": "stdout"
        }
      ]
    },
    {
      "cell_type": "markdown",
      "metadata": {
        "id": "dlVx799I-nUv"
      },
      "source": [
        "###결측치 확인"
      ]
    },
    {
      "cell_type": "code",
      "metadata": {
        "colab": {
          "base_uri": "https://localhost:8080/"
        },
        "id": "yWEr7jvw2v8m",
        "outputId": "7215902d-5ff6-47a0-b6bd-1a5839ed6fa3"
      },
      "source": [
        "train.isnull().sum()"
      ],
      "execution_count": 10,
      "outputs": [
        {
          "output_type": "execute_result",
          "data": {
            "text/plain": [
              "단지코드          0\n",
              "총세대수          0\n",
              "임대건물구분        0\n",
              "지역            0\n",
              "공급유형          0\n",
              "전용면적          0\n",
              "전용면적별세대수      0\n",
              "공가수           0\n",
              "자격유형          0\n",
              "임대보증금       569\n",
              "임대료         569\n",
              "지하철         211\n",
              "버스            4\n",
              "단지내주차면수       0\n",
              "등록차량수         0\n",
              "dtype: int64"
            ]
          },
          "metadata": {
            "tags": []
          },
          "execution_count": 10
        }
      ]
    },
    {
      "cell_type": "code",
      "metadata": {
        "colab": {
          "base_uri": "https://localhost:8080/"
        },
        "id": "Wj9xFNwt4dSY",
        "outputId": "48426d32-4180-4795-d33b-6dba12e79d01"
      },
      "source": [
        "test.isnull().sum()"
      ],
      "execution_count": 11,
      "outputs": [
        {
          "output_type": "execute_result",
          "data": {
            "text/plain": [
              "단지코드          0\n",
              "총세대수          0\n",
              "임대건물구분        0\n",
              "지역            0\n",
              "공급유형          0\n",
              "전용면적          0\n",
              "전용면적별세대수      0\n",
              "공가수           0\n",
              "자격유형          2\n",
              "임대보증금       180\n",
              "임대료         180\n",
              "지하철          42\n",
              "버스            0\n",
              "단지내주차면수       0\n",
              "dtype: int64"
            ]
          },
          "metadata": {
            "tags": []
          },
          "execution_count": 11
        }
      ]
    },
    {
      "cell_type": "markdown",
      "metadata": {
        "id": "7CoBOa1SAngS"
      },
      "source": [
        "임대보증금, 임대료, 지하철, 버스, 자격유형 -> 결측치 채우기"
      ]
    },
    {
      "cell_type": "markdown",
      "metadata": {
        "id": "pRgD9cN09dPG"
      },
      "source": [
        "## age_gender_info"
      ]
    },
    {
      "cell_type": "code",
      "metadata": {
        "id": "kIInvRAS7ILk",
        "colab": {
          "base_uri": "https://localhost:8080/",
          "height": 363
        },
        "outputId": "77bf1428-f510-46ef-ba96-6335fdac69dd"
      },
      "source": [
        "age_gender.head(3)"
      ],
      "execution_count": 12,
      "outputs": [
        {
          "output_type": "execute_result",
          "data": {
            "text/html": [
              "<div>\n",
              "<style scoped>\n",
              "    .dataframe tbody tr th:only-of-type {\n",
              "        vertical-align: middle;\n",
              "    }\n",
              "\n",
              "    .dataframe tbody tr th {\n",
              "        vertical-align: top;\n",
              "    }\n",
              "\n",
              "    .dataframe thead th {\n",
              "        text-align: right;\n",
              "    }\n",
              "</style>\n",
              "<table border=\"1\" class=\"dataframe\">\n",
              "  <thead>\n",
              "    <tr style=\"text-align: right;\">\n",
              "      <th></th>\n",
              "      <th>지역</th>\n",
              "      <th>10대미만(여자)</th>\n",
              "      <th>10대미만(남자)</th>\n",
              "      <th>10대(여자)</th>\n",
              "      <th>10대(남자)</th>\n",
              "      <th>20대(여자)</th>\n",
              "      <th>20대(남자)</th>\n",
              "      <th>30대(여자)</th>\n",
              "      <th>30대(남자)</th>\n",
              "      <th>40대(여자)</th>\n",
              "      <th>40대(남자)</th>\n",
              "      <th>50대(여자)</th>\n",
              "      <th>50대(남자)</th>\n",
              "      <th>60대(여자)</th>\n",
              "      <th>60대(남자)</th>\n",
              "      <th>70대(여자)</th>\n",
              "      <th>70대(남자)</th>\n",
              "      <th>80대(여자)</th>\n",
              "      <th>80대(남자)</th>\n",
              "      <th>90대(여자)</th>\n",
              "      <th>90대(남자)</th>\n",
              "      <th>100대(여자)</th>\n",
              "      <th>100대(남자)</th>\n",
              "    </tr>\n",
              "  </thead>\n",
              "  <tbody>\n",
              "    <tr>\n",
              "      <th>0</th>\n",
              "      <td>경상북도</td>\n",
              "      <td>0.030158</td>\n",
              "      <td>0.033195</td>\n",
              "      <td>0.056346</td>\n",
              "      <td>0.061360</td>\n",
              "      <td>0.060096</td>\n",
              "      <td>0.067859</td>\n",
              "      <td>0.053433</td>\n",
              "      <td>0.049572</td>\n",
              "      <td>0.083660</td>\n",
              "      <td>0.072613</td>\n",
              "      <td>0.087149</td>\n",
              "      <td>0.072146</td>\n",
              "      <td>0.082684</td>\n",
              "      <td>0.063889</td>\n",
              "      <td>0.047717</td>\n",
              "      <td>0.030172</td>\n",
              "      <td>0.029361</td>\n",
              "      <td>0.011211</td>\n",
              "      <td>0.005578</td>\n",
              "      <td>0.001553</td>\n",
              "      <td>0.000234</td>\n",
              "      <td>0.000014</td>\n",
              "    </tr>\n",
              "    <tr>\n",
              "      <th>1</th>\n",
              "      <td>경상남도</td>\n",
              "      <td>0.027400</td>\n",
              "      <td>0.026902</td>\n",
              "      <td>0.053257</td>\n",
              "      <td>0.055568</td>\n",
              "      <td>0.064920</td>\n",
              "      <td>0.070618</td>\n",
              "      <td>0.056414</td>\n",
              "      <td>0.057550</td>\n",
              "      <td>0.077092</td>\n",
              "      <td>0.067600</td>\n",
              "      <td>0.086873</td>\n",
              "      <td>0.072570</td>\n",
              "      <td>0.087201</td>\n",
              "      <td>0.069562</td>\n",
              "      <td>0.048357</td>\n",
              "      <td>0.033277</td>\n",
              "      <td>0.027361</td>\n",
              "      <td>0.011295</td>\n",
              "      <td>0.004910</td>\n",
              "      <td>0.001086</td>\n",
              "      <td>0.000179</td>\n",
              "      <td>0.000010</td>\n",
              "    </tr>\n",
              "    <tr>\n",
              "      <th>2</th>\n",
              "      <td>대전광역시</td>\n",
              "      <td>0.028197</td>\n",
              "      <td>0.029092</td>\n",
              "      <td>0.040490</td>\n",
              "      <td>0.042793</td>\n",
              "      <td>0.060834</td>\n",
              "      <td>0.064247</td>\n",
              "      <td>0.068654</td>\n",
              "      <td>0.066848</td>\n",
              "      <td>0.074667</td>\n",
              "      <td>0.067925</td>\n",
              "      <td>0.085751</td>\n",
              "      <td>0.068819</td>\n",
              "      <td>0.088468</td>\n",
              "      <td>0.070261</td>\n",
              "      <td>0.051010</td>\n",
              "      <td>0.037143</td>\n",
              "      <td>0.032455</td>\n",
              "      <td>0.013751</td>\n",
              "      <td>0.006494</td>\n",
              "      <td>0.001740</td>\n",
              "      <td>0.000298</td>\n",
              "      <td>0.000066</td>\n",
              "    </tr>\n",
              "  </tbody>\n",
              "</table>\n",
              "</div>"
            ],
            "text/plain": [
              "      지역  10대미만(여자)  10대미만(남자)  ...   90대(남자)  100대(여자)  100대(남자)\n",
              "0   경상북도   0.030158   0.033195  ...  0.001553  0.000234  0.000014\n",
              "1   경상남도   0.027400   0.026902  ...  0.001086  0.000179  0.000010\n",
              "2  대전광역시   0.028197   0.029092  ...  0.001740  0.000298  0.000066\n",
              "\n",
              "[3 rows x 23 columns]"
            ]
          },
          "metadata": {
            "tags": []
          },
          "execution_count": 12
        }
      ]
    },
    {
      "cell_type": "code",
      "metadata": {
        "id": "cZ3ygRbbxHIT",
        "colab": {
          "base_uri": "https://localhost:8080/"
        },
        "outputId": "4634a06e-576e-4db4-9689-1049e80f4dd1"
      },
      "source": [
        "row=age_gender.loc[0,:]\n",
        "total=0\n",
        "for i in range(1,len(row)):\n",
        "    total=total+row[i]\n",
        "print(total)"
      ],
      "execution_count": 13,
      "outputs": [
        {
          "output_type": "stream",
          "text": [
            "1.0000000000000002\n"
          ],
          "name": "stdout"
        }
      ]
    },
    {
      "cell_type": "markdown",
      "metadata": {
        "id": "xUF8M1gv9s_c"
      },
      "source": [
        "각 숫자가 의미하는 바가 전체에서 비율(백분율)일 것 같아서 행 하나를 더해보았더니 1이 나오므로 비율을 의미하는 것이 맞다"
      ]
    },
    {
      "cell_type": "markdown",
      "metadata": {
        "id": "th--AwDWQ-7H"
      },
      "source": [
        "## submission"
      ]
    },
    {
      "cell_type": "code",
      "metadata": {
        "colab": {
          "base_uri": "https://localhost:8080/",
          "height": 142
        },
        "id": "TfumdKfSREi7",
        "outputId": "9237a34f-58f6-41fa-daf8-2be6d1331761"
      },
      "source": [
        "submission.head(3)"
      ],
      "execution_count": 14,
      "outputs": [
        {
          "output_type": "execute_result",
          "data": {
            "text/html": [
              "<div>\n",
              "<style scoped>\n",
              "    .dataframe tbody tr th:only-of-type {\n",
              "        vertical-align: middle;\n",
              "    }\n",
              "\n",
              "    .dataframe tbody tr th {\n",
              "        vertical-align: top;\n",
              "    }\n",
              "\n",
              "    .dataframe thead th {\n",
              "        text-align: right;\n",
              "    }\n",
              "</style>\n",
              "<table border=\"1\" class=\"dataframe\">\n",
              "  <thead>\n",
              "    <tr style=\"text-align: right;\">\n",
              "      <th></th>\n",
              "      <th>code</th>\n",
              "      <th>num</th>\n",
              "    </tr>\n",
              "  </thead>\n",
              "  <tbody>\n",
              "    <tr>\n",
              "      <th>0</th>\n",
              "      <td>C1072</td>\n",
              "      <td>0</td>\n",
              "    </tr>\n",
              "    <tr>\n",
              "      <th>1</th>\n",
              "      <td>C1128</td>\n",
              "      <td>0</td>\n",
              "    </tr>\n",
              "    <tr>\n",
              "      <th>2</th>\n",
              "      <td>C1456</td>\n",
              "      <td>0</td>\n",
              "    </tr>\n",
              "  </tbody>\n",
              "</table>\n",
              "</div>"
            ],
            "text/plain": [
              "    code  num\n",
              "0  C1072    0\n",
              "1  C1128    0\n",
              "2  C1456    0"
            ]
          },
          "metadata": {
            "tags": []
          },
          "execution_count": 14
        }
      ]
    },
    {
      "cell_type": "markdown",
      "metadata": {
        "id": "IU3srHfORL2U"
      },
      "source": [
        "submission과 test의 행의 갯수가 위에서 shape로 확인했다시피 다르다"
      ]
    },
    {
      "cell_type": "code",
      "metadata": {
        "colab": {
          "base_uri": "https://localhost:8080/"
        },
        "id": "f6fAWaSrRU2d",
        "outputId": "b24ac390-e1df-48fd-a434-71f13795ee59"
      },
      "source": [
        "print(\"test에서 단지코드의 갯수 : \",len(test['단지코드'].unique()))\n",
        "print(\"submission에서 단지코드의 갯수 : \",len(submission['code'].unique()))"
      ],
      "execution_count": 16,
      "outputs": [
        {
          "output_type": "stream",
          "text": [
            "test에서 단지코드의 갯수 :  150\n",
            "submission에서 단지코드의 갯수 :  150\n"
          ],
          "name": "stdout"
        }
      ]
    },
    {
      "cell_type": "markdown",
      "metadata": {
        "id": "1j-EhvbDRqHt"
      },
      "source": [
        "test는 단지의 여러 세대의 정보가 있으므로 결국 단지코드별로 정리해서 학습&예측 을 해야한다"
      ]
    },
    {
      "cell_type": "markdown",
      "metadata": {
        "id": "gu45GaoT84t1"
      },
      "source": [
        "#전처리"
      ]
    },
    {
      "cell_type": "markdown",
      "metadata": {
        "id": "xgIJ6lVk_z9m"
      },
      "source": [
        "## 결측치 채우기"
      ]
    },
    {
      "cell_type": "markdown",
      "metadata": {
        "id": "rYDxfHQ19ZgK"
      },
      "source": [
        "### 버스"
      ]
    },
    {
      "cell_type": "markdown",
      "metadata": {
        "id": "vmbOgjP7KjII"
      },
      "source": [
        "test에는 결측치가 없다"
      ]
    },
    {
      "cell_type": "code",
      "metadata": {
        "id": "CTUh2PbX9cm8"
      },
      "source": [
        "train['버스']=train['버스'].fillna(-1)"
      ],
      "execution_count": 17,
      "outputs": []
    },
    {
      "cell_type": "markdown",
      "metadata": {
        "id": "DbEqqSA89m16"
      },
      "source": [
        "### 지하철"
      ]
    },
    {
      "cell_type": "code",
      "metadata": {
        "colab": {
          "base_uri": "https://localhost:8080/"
        },
        "id": "u_UcFtwL9qzP",
        "outputId": "dd9143ca-b06e-4d9c-a69c-26e19f6cecf6"
      },
      "source": [
        "print('지하철 결측치 단지 지역: ', train.loc[train['지하철'].isnull()]['지역'].unique())\n",
        "print('지하철 결측치 단지 지역: ', test.loc[test['지하철'].isnull()]['지역'].unique())"
      ],
      "execution_count": 18,
      "outputs": [
        {
          "output_type": "stream",
          "text": [
            "지하철 결측치 단지 지역:  ['충청남도' '대전광역시' '경상남도']\n",
            "지하철 결측치 단지 지역:  ['충청남도' '대전광역시']\n"
          ],
          "name": "stdout"
        }
      ]
    },
    {
      "cell_type": "markdown",
      "metadata": {
        "id": "7WOZnI_PKq3W"
      },
      "source": [
        "결측치가 있는 지역이 몇 개 없어서 각각을 또 하나의 카테고리들로 각각 대입해서 넣기로 했다\n",
        "\n",
        "*   충청남도 -> -1\n",
        "*   대전광역시 -> -2\n",
        "*   경상남도 -> -3\n",
        "\n"
      ]
    },
    {
      "cell_type": "code",
      "metadata": {
        "colab": {
          "base_uri": "https://localhost:8080/"
        },
        "id": "vZ89MuU4-mgV",
        "outputId": "c50eb779-1645-459c-c0b0-61a65793503d"
      },
      "source": [
        "train['지하철'][(train['지하철'].isnull())&(train['지역']=='충청남도')] =-1\n",
        "train['지하철'][(train['지하철'].isnull())&(train['지역']=='대전광역시')] = -2\n",
        "train['지하철'][(train['지하철'].isnull())&(train['지역']=='경상남도')] = -3\n",
        "\n",
        "test['지하철'][(test['지하철'].isnull())&(test['지역']=='충청남도')] = -1\n",
        "test['지하철'][(test['지하철'].isnull())&(test['지역']=='대전광역시')] = -2"
      ],
      "execution_count": 19,
      "outputs": [
        {
          "output_type": "stream",
          "text": [
            "/usr/local/lib/python3.7/dist-packages/ipykernel_launcher.py:1: SettingWithCopyWarning: \n",
            "A value is trying to be set on a copy of a slice from a DataFrame\n",
            "\n",
            "See the caveats in the documentation: https://pandas.pydata.org/pandas-docs/stable/user_guide/indexing.html#returning-a-view-versus-a-copy\n",
            "  \"\"\"Entry point for launching an IPython kernel.\n",
            "/usr/local/lib/python3.7/dist-packages/ipykernel_launcher.py:2: SettingWithCopyWarning: \n",
            "A value is trying to be set on a copy of a slice from a DataFrame\n",
            "\n",
            "See the caveats in the documentation: https://pandas.pydata.org/pandas-docs/stable/user_guide/indexing.html#returning-a-view-versus-a-copy\n",
            "  \n",
            "/usr/local/lib/python3.7/dist-packages/ipykernel_launcher.py:3: SettingWithCopyWarning: \n",
            "A value is trying to be set on a copy of a slice from a DataFrame\n",
            "\n",
            "See the caveats in the documentation: https://pandas.pydata.org/pandas-docs/stable/user_guide/indexing.html#returning-a-view-versus-a-copy\n",
            "  This is separate from the ipykernel package so we can avoid doing imports until\n",
            "/usr/local/lib/python3.7/dist-packages/ipykernel_launcher.py:5: SettingWithCopyWarning: \n",
            "A value is trying to be set on a copy of a slice from a DataFrame\n",
            "\n",
            "See the caveats in the documentation: https://pandas.pydata.org/pandas-docs/stable/user_guide/indexing.html#returning-a-view-versus-a-copy\n",
            "  \"\"\"\n",
            "/usr/local/lib/python3.7/dist-packages/ipykernel_launcher.py:6: SettingWithCopyWarning: \n",
            "A value is trying to be set on a copy of a slice from a DataFrame\n",
            "\n",
            "See the caveats in the documentation: https://pandas.pydata.org/pandas-docs/stable/user_guide/indexing.html#returning-a-view-versus-a-copy\n",
            "  \n"
          ],
          "name": "stderr"
        }
      ]
    },
    {
      "cell_type": "markdown",
      "metadata": {
        "id": "MSDQtXY0Kv3f"
      },
      "source": [
        "###자격유형"
      ]
    },
    {
      "cell_type": "markdown",
      "metadata": {
        "id": "kRSIeVfVKC1i"
      },
      "source": [
        "train에는 결측치가 없고 test에만 2개 있다"
      ]
    },
    {
      "cell_type": "code",
      "metadata": {
        "colab": {
          "base_uri": "https://localhost:8080/",
          "height": 110
        },
        "id": "1p73E04yAbU9",
        "outputId": "f371ae77-a452-4ac8-b2d9-765ad20ce501"
      },
      "source": [
        "test[test.자격유형.isnull()]"
      ],
      "execution_count": 20,
      "outputs": [
        {
          "output_type": "execute_result",
          "data": {
            "text/html": [
              "<div>\n",
              "<style scoped>\n",
              "    .dataframe tbody tr th:only-of-type {\n",
              "        vertical-align: middle;\n",
              "    }\n",
              "\n",
              "    .dataframe tbody tr th {\n",
              "        vertical-align: top;\n",
              "    }\n",
              "\n",
              "    .dataframe thead th {\n",
              "        text-align: right;\n",
              "    }\n",
              "</style>\n",
              "<table border=\"1\" class=\"dataframe\">\n",
              "  <thead>\n",
              "    <tr style=\"text-align: right;\">\n",
              "      <th></th>\n",
              "      <th>단지코드</th>\n",
              "      <th>총세대수</th>\n",
              "      <th>임대건물구분</th>\n",
              "      <th>지역</th>\n",
              "      <th>공급유형</th>\n",
              "      <th>전용면적</th>\n",
              "      <th>전용면적별세대수</th>\n",
              "      <th>공가수</th>\n",
              "      <th>자격유형</th>\n",
              "      <th>임대보증금</th>\n",
              "      <th>임대료</th>\n",
              "      <th>지하철</th>\n",
              "      <th>버스</th>\n",
              "      <th>단지내주차면수</th>\n",
              "    </tr>\n",
              "  </thead>\n",
              "  <tbody>\n",
              "    <tr>\n",
              "      <th>196</th>\n",
              "      <td>C2411</td>\n",
              "      <td>962</td>\n",
              "      <td>아파트</td>\n",
              "      <td>경상남도</td>\n",
              "      <td>국민임대</td>\n",
              "      <td>46.90</td>\n",
              "      <td>240</td>\n",
              "      <td>25.0</td>\n",
              "      <td>NaN</td>\n",
              "      <td>71950000</td>\n",
              "      <td>37470</td>\n",
              "      <td>0.0</td>\n",
              "      <td>2.0</td>\n",
              "      <td>840.0</td>\n",
              "    </tr>\n",
              "    <tr>\n",
              "      <th>258</th>\n",
              "      <td>C2253</td>\n",
              "      <td>1161</td>\n",
              "      <td>아파트</td>\n",
              "      <td>강원도</td>\n",
              "      <td>영구임대</td>\n",
              "      <td>26.37</td>\n",
              "      <td>745</td>\n",
              "      <td>0.0</td>\n",
              "      <td>NaN</td>\n",
              "      <td>2249000</td>\n",
              "      <td>44770</td>\n",
              "      <td>0.0</td>\n",
              "      <td>2.0</td>\n",
              "      <td>173.0</td>\n",
              "    </tr>\n",
              "  </tbody>\n",
              "</table>\n",
              "</div>"
            ],
            "text/plain": [
              "      단지코드  총세대수 임대건물구분    지역  공급유형  ...     임대보증금    임대료  지하철   버스 단지내주차면수\n",
              "196  C2411   962    아파트  경상남도  국민임대  ...  71950000  37470  0.0  2.0   840.0\n",
              "258  C2253  1161    아파트   강원도  영구임대  ...   2249000  44770  0.0  2.0   173.0\n",
              "\n",
              "[2 rows x 14 columns]"
            ]
          },
          "metadata": {
            "tags": []
          },
          "execution_count": 20
        }
      ]
    },
    {
      "cell_type": "markdown",
      "metadata": {
        "id": "13-xKEhKLZLz"
      },
      "source": [
        "#### 196번 행"
      ]
    },
    {
      "cell_type": "code",
      "metadata": {
        "colab": {
          "base_uri": "https://localhost:8080/"
        },
        "id": "UEdg48-RK_Px",
        "outputId": "c935cfa3-5a3b-4635-c990-28baf0c27c50"
      },
      "source": [
        "test.loc[test.단지코드 == 'C2411', '자격유형'].unique().tolist()"
      ],
      "execution_count": 21,
      "outputs": [
        {
          "output_type": "execute_result",
          "data": {
            "text/plain": [
              "['A', nan]"
            ]
          },
          "metadata": {
            "tags": []
          },
          "execution_count": 21
        }
      ]
    },
    {
      "cell_type": "code",
      "metadata": {
        "colab": {
          "base_uri": "https://localhost:8080/",
          "height": 304
        },
        "id": "IOjchKHMLJFr",
        "outputId": "3d15f9a6-bf54-4f0b-a8cc-ab9abb0130e2"
      },
      "source": [
        "test[test.단지코드 == 'C2411']"
      ],
      "execution_count": 22,
      "outputs": [
        {
          "output_type": "execute_result",
          "data": {
            "text/html": [
              "<div>\n",
              "<style scoped>\n",
              "    .dataframe tbody tr th:only-of-type {\n",
              "        vertical-align: middle;\n",
              "    }\n",
              "\n",
              "    .dataframe tbody tr th {\n",
              "        vertical-align: top;\n",
              "    }\n",
              "\n",
              "    .dataframe thead th {\n",
              "        text-align: right;\n",
              "    }\n",
              "</style>\n",
              "<table border=\"1\" class=\"dataframe\">\n",
              "  <thead>\n",
              "    <tr style=\"text-align: right;\">\n",
              "      <th></th>\n",
              "      <th>단지코드</th>\n",
              "      <th>총세대수</th>\n",
              "      <th>임대건물구분</th>\n",
              "      <th>지역</th>\n",
              "      <th>공급유형</th>\n",
              "      <th>전용면적</th>\n",
              "      <th>전용면적별세대수</th>\n",
              "      <th>공가수</th>\n",
              "      <th>자격유형</th>\n",
              "      <th>임대보증금</th>\n",
              "      <th>임대료</th>\n",
              "      <th>지하철</th>\n",
              "      <th>버스</th>\n",
              "      <th>단지내주차면수</th>\n",
              "    </tr>\n",
              "  </thead>\n",
              "  <tbody>\n",
              "    <tr>\n",
              "      <th>193</th>\n",
              "      <td>C2411</td>\n",
              "      <td>962</td>\n",
              "      <td>아파트</td>\n",
              "      <td>경상남도</td>\n",
              "      <td>국민임대</td>\n",
              "      <td>39.43</td>\n",
              "      <td>56</td>\n",
              "      <td>25.0</td>\n",
              "      <td>A</td>\n",
              "      <td>11992000</td>\n",
              "      <td>100720</td>\n",
              "      <td>0.0</td>\n",
              "      <td>2.0</td>\n",
              "      <td>840.0</td>\n",
              "    </tr>\n",
              "    <tr>\n",
              "      <th>194</th>\n",
              "      <td>C2411</td>\n",
              "      <td>962</td>\n",
              "      <td>아파트</td>\n",
              "      <td>경상남도</td>\n",
              "      <td>국민임대</td>\n",
              "      <td>39.72</td>\n",
              "      <td>336</td>\n",
              "      <td>25.0</td>\n",
              "      <td>A</td>\n",
              "      <td>11992000</td>\n",
              "      <td>100720</td>\n",
              "      <td>0.0</td>\n",
              "      <td>2.0</td>\n",
              "      <td>840.0</td>\n",
              "    </tr>\n",
              "    <tr>\n",
              "      <th>195</th>\n",
              "      <td>C2411</td>\n",
              "      <td>962</td>\n",
              "      <td>아파트</td>\n",
              "      <td>경상남도</td>\n",
              "      <td>국민임대</td>\n",
              "      <td>39.82</td>\n",
              "      <td>179</td>\n",
              "      <td>25.0</td>\n",
              "      <td>A</td>\n",
              "      <td>11992000</td>\n",
              "      <td>100720</td>\n",
              "      <td>0.0</td>\n",
              "      <td>2.0</td>\n",
              "      <td>840.0</td>\n",
              "    </tr>\n",
              "    <tr>\n",
              "      <th>196</th>\n",
              "      <td>C2411</td>\n",
              "      <td>962</td>\n",
              "      <td>아파트</td>\n",
              "      <td>경상남도</td>\n",
              "      <td>국민임대</td>\n",
              "      <td>46.90</td>\n",
              "      <td>240</td>\n",
              "      <td>25.0</td>\n",
              "      <td>NaN</td>\n",
              "      <td>71950000</td>\n",
              "      <td>37470</td>\n",
              "      <td>0.0</td>\n",
              "      <td>2.0</td>\n",
              "      <td>840.0</td>\n",
              "    </tr>\n",
              "    <tr>\n",
              "      <th>197</th>\n",
              "      <td>C2411</td>\n",
              "      <td>962</td>\n",
              "      <td>아파트</td>\n",
              "      <td>경상남도</td>\n",
              "      <td>국민임대</td>\n",
              "      <td>51.93</td>\n",
              "      <td>150</td>\n",
              "      <td>25.0</td>\n",
              "      <td>A</td>\n",
              "      <td>21586000</td>\n",
              "      <td>171480</td>\n",
              "      <td>0.0</td>\n",
              "      <td>2.0</td>\n",
              "      <td>840.0</td>\n",
              "    </tr>\n",
              "  </tbody>\n",
              "</table>\n",
              "</div>"
            ],
            "text/plain": [
              "      단지코드  총세대수 임대건물구분    지역  공급유형  ...     임대보증금     임대료  지하철   버스 단지내주차면수\n",
              "193  C2411   962    아파트  경상남도  국민임대  ...  11992000  100720  0.0  2.0   840.0\n",
              "194  C2411   962    아파트  경상남도  국민임대  ...  11992000  100720  0.0  2.0   840.0\n",
              "195  C2411   962    아파트  경상남도  국민임대  ...  11992000  100720  0.0  2.0   840.0\n",
              "196  C2411   962    아파트  경상남도  국민임대  ...  71950000   37470  0.0  2.0   840.0\n",
              "197  C2411   962    아파트  경상남도  국민임대  ...  21586000  171480  0.0  2.0   840.0\n",
              "\n",
              "[5 rows x 14 columns]"
            ]
          },
          "metadata": {
            "tags": []
          },
          "execution_count": 22
        }
      ]
    },
    {
      "cell_type": "markdown",
      "metadata": {
        "id": "Boh0mj9yLDm9"
      },
      "source": [
        "단지 C2411은 결측치를 제외하고 모두 A로 이루어져 있다\n",
        "->결측치를 A로 채운다"
      ]
    },
    {
      "cell_type": "code",
      "metadata": {
        "id": "uvCavOCILC3e"
      },
      "source": [
        "test.loc[test.단지코드.isin(['C2411']) & test.자격유형.isnull(), '자격유형'] = 'A'"
      ],
      "execution_count": 23,
      "outputs": []
    },
    {
      "cell_type": "markdown",
      "metadata": {
        "id": "VVfu2b0zLfdm"
      },
      "source": [
        "####258번 행"
      ]
    },
    {
      "cell_type": "code",
      "metadata": {
        "colab": {
          "base_uri": "https://localhost:8080/"
        },
        "id": "rMcPtKwlLm9q",
        "outputId": "ba1c6fe5-7767-490d-96df-3eaecf9da816"
      },
      "source": [
        "test.loc[test.단지코드 == 'C2253', '자격유형'].unique().tolist()"
      ],
      "execution_count": 24,
      "outputs": [
        {
          "output_type": "execute_result",
          "data": {
            "text/plain": [
              "[nan, 'C', 'D']"
            ]
          },
          "metadata": {
            "tags": []
          },
          "execution_count": 24
        }
      ]
    },
    {
      "cell_type": "code",
      "metadata": {
        "colab": {
          "base_uri": "https://localhost:8080/",
          "height": 1000
        },
        "id": "pzaHlPUALr-E",
        "outputId": "223158d1-6d3f-4038-8b6c-6f3587f130c0"
      },
      "source": [
        "test[test.단지코드 == 'C2253']"
      ],
      "execution_count": 25,
      "outputs": [
        {
          "output_type": "execute_result",
          "data": {
            "text/html": [
              "<div>\n",
              "<style scoped>\n",
              "    .dataframe tbody tr th:only-of-type {\n",
              "        vertical-align: middle;\n",
              "    }\n",
              "\n",
              "    .dataframe tbody tr th {\n",
              "        vertical-align: top;\n",
              "    }\n",
              "\n",
              "    .dataframe thead th {\n",
              "        text-align: right;\n",
              "    }\n",
              "</style>\n",
              "<table border=\"1\" class=\"dataframe\">\n",
              "  <thead>\n",
              "    <tr style=\"text-align: right;\">\n",
              "      <th></th>\n",
              "      <th>단지코드</th>\n",
              "      <th>총세대수</th>\n",
              "      <th>임대건물구분</th>\n",
              "      <th>지역</th>\n",
              "      <th>공급유형</th>\n",
              "      <th>전용면적</th>\n",
              "      <th>전용면적별세대수</th>\n",
              "      <th>공가수</th>\n",
              "      <th>자격유형</th>\n",
              "      <th>임대보증금</th>\n",
              "      <th>임대료</th>\n",
              "      <th>지하철</th>\n",
              "      <th>버스</th>\n",
              "      <th>단지내주차면수</th>\n",
              "    </tr>\n",
              "  </thead>\n",
              "  <tbody>\n",
              "    <tr>\n",
              "      <th>258</th>\n",
              "      <td>C2253</td>\n",
              "      <td>1161</td>\n",
              "      <td>아파트</td>\n",
              "      <td>강원도</td>\n",
              "      <td>영구임대</td>\n",
              "      <td>26.37</td>\n",
              "      <td>745</td>\n",
              "      <td>0.0</td>\n",
              "      <td>NaN</td>\n",
              "      <td>2249000</td>\n",
              "      <td>44770</td>\n",
              "      <td>0.0</td>\n",
              "      <td>2.0</td>\n",
              "      <td>173.0</td>\n",
              "    </tr>\n",
              "    <tr>\n",
              "      <th>259</th>\n",
              "      <td>C2253</td>\n",
              "      <td>1161</td>\n",
              "      <td>아파트</td>\n",
              "      <td>강원도</td>\n",
              "      <td>영구임대</td>\n",
              "      <td>31.32</td>\n",
              "      <td>239</td>\n",
              "      <td>0.0</td>\n",
              "      <td>C</td>\n",
              "      <td>3731000</td>\n",
              "      <td>83020</td>\n",
              "      <td>0.0</td>\n",
              "      <td>2.0</td>\n",
              "      <td>173.0</td>\n",
              "    </tr>\n",
              "    <tr>\n",
              "      <th>260</th>\n",
              "      <td>C2253</td>\n",
              "      <td>1161</td>\n",
              "      <td>아파트</td>\n",
              "      <td>강원도</td>\n",
              "      <td>영구임대</td>\n",
              "      <td>31.32</td>\n",
              "      <td>149</td>\n",
              "      <td>0.0</td>\n",
              "      <td>C</td>\n",
              "      <td>3731000</td>\n",
              "      <td>83020</td>\n",
              "      <td>0.0</td>\n",
              "      <td>2.0</td>\n",
              "      <td>173.0</td>\n",
              "    </tr>\n",
              "    <tr>\n",
              "      <th>261</th>\n",
              "      <td>C2253</td>\n",
              "      <td>1161</td>\n",
              "      <td>상가</td>\n",
              "      <td>강원도</td>\n",
              "      <td>임대상가</td>\n",
              "      <td>13.77</td>\n",
              "      <td>1</td>\n",
              "      <td>0.0</td>\n",
              "      <td>D</td>\n",
              "      <td>NaN</td>\n",
              "      <td>NaN</td>\n",
              "      <td>0.0</td>\n",
              "      <td>2.0</td>\n",
              "      <td>173.0</td>\n",
              "    </tr>\n",
              "    <tr>\n",
              "      <th>262</th>\n",
              "      <td>C2253</td>\n",
              "      <td>1161</td>\n",
              "      <td>상가</td>\n",
              "      <td>강원도</td>\n",
              "      <td>임대상가</td>\n",
              "      <td>22.89</td>\n",
              "      <td>1</td>\n",
              "      <td>0.0</td>\n",
              "      <td>D</td>\n",
              "      <td>NaN</td>\n",
              "      <td>NaN</td>\n",
              "      <td>0.0</td>\n",
              "      <td>2.0</td>\n",
              "      <td>173.0</td>\n",
              "    </tr>\n",
              "    <tr>\n",
              "      <th>263</th>\n",
              "      <td>C2253</td>\n",
              "      <td>1161</td>\n",
              "      <td>상가</td>\n",
              "      <td>강원도</td>\n",
              "      <td>임대상가</td>\n",
              "      <td>22.91</td>\n",
              "      <td>1</td>\n",
              "      <td>0.0</td>\n",
              "      <td>D</td>\n",
              "      <td>NaN</td>\n",
              "      <td>NaN</td>\n",
              "      <td>0.0</td>\n",
              "      <td>2.0</td>\n",
              "      <td>173.0</td>\n",
              "    </tr>\n",
              "    <tr>\n",
              "      <th>264</th>\n",
              "      <td>C2253</td>\n",
              "      <td>1161</td>\n",
              "      <td>상가</td>\n",
              "      <td>강원도</td>\n",
              "      <td>임대상가</td>\n",
              "      <td>23.79</td>\n",
              "      <td>1</td>\n",
              "      <td>0.0</td>\n",
              "      <td>D</td>\n",
              "      <td>NaN</td>\n",
              "      <td>NaN</td>\n",
              "      <td>0.0</td>\n",
              "      <td>2.0</td>\n",
              "      <td>173.0</td>\n",
              "    </tr>\n",
              "    <tr>\n",
              "      <th>265</th>\n",
              "      <td>C2253</td>\n",
              "      <td>1161</td>\n",
              "      <td>상가</td>\n",
              "      <td>강원도</td>\n",
              "      <td>임대상가</td>\n",
              "      <td>23.79</td>\n",
              "      <td>1</td>\n",
              "      <td>0.0</td>\n",
              "      <td>D</td>\n",
              "      <td>NaN</td>\n",
              "      <td>NaN</td>\n",
              "      <td>0.0</td>\n",
              "      <td>2.0</td>\n",
              "      <td>173.0</td>\n",
              "    </tr>\n",
              "    <tr>\n",
              "      <th>266</th>\n",
              "      <td>C2253</td>\n",
              "      <td>1161</td>\n",
              "      <td>상가</td>\n",
              "      <td>강원도</td>\n",
              "      <td>임대상가</td>\n",
              "      <td>23.86</td>\n",
              "      <td>1</td>\n",
              "      <td>0.0</td>\n",
              "      <td>D</td>\n",
              "      <td>NaN</td>\n",
              "      <td>NaN</td>\n",
              "      <td>0.0</td>\n",
              "      <td>2.0</td>\n",
              "      <td>173.0</td>\n",
              "    </tr>\n",
              "    <tr>\n",
              "      <th>267</th>\n",
              "      <td>C2253</td>\n",
              "      <td>1161</td>\n",
              "      <td>상가</td>\n",
              "      <td>강원도</td>\n",
              "      <td>임대상가</td>\n",
              "      <td>23.86</td>\n",
              "      <td>1</td>\n",
              "      <td>0.0</td>\n",
              "      <td>D</td>\n",
              "      <td>NaN</td>\n",
              "      <td>NaN</td>\n",
              "      <td>0.0</td>\n",
              "      <td>2.0</td>\n",
              "      <td>173.0</td>\n",
              "    </tr>\n",
              "    <tr>\n",
              "      <th>268</th>\n",
              "      <td>C2253</td>\n",
              "      <td>1161</td>\n",
              "      <td>상가</td>\n",
              "      <td>강원도</td>\n",
              "      <td>임대상가</td>\n",
              "      <td>24.19</td>\n",
              "      <td>1</td>\n",
              "      <td>0.0</td>\n",
              "      <td>D</td>\n",
              "      <td>NaN</td>\n",
              "      <td>NaN</td>\n",
              "      <td>0.0</td>\n",
              "      <td>2.0</td>\n",
              "      <td>173.0</td>\n",
              "    </tr>\n",
              "    <tr>\n",
              "      <th>269</th>\n",
              "      <td>C2253</td>\n",
              "      <td>1161</td>\n",
              "      <td>상가</td>\n",
              "      <td>강원도</td>\n",
              "      <td>임대상가</td>\n",
              "      <td>27.75</td>\n",
              "      <td>1</td>\n",
              "      <td>0.0</td>\n",
              "      <td>D</td>\n",
              "      <td>NaN</td>\n",
              "      <td>NaN</td>\n",
              "      <td>0.0</td>\n",
              "      <td>2.0</td>\n",
              "      <td>173.0</td>\n",
              "    </tr>\n",
              "    <tr>\n",
              "      <th>270</th>\n",
              "      <td>C2253</td>\n",
              "      <td>1161</td>\n",
              "      <td>상가</td>\n",
              "      <td>강원도</td>\n",
              "      <td>임대상가</td>\n",
              "      <td>27.75</td>\n",
              "      <td>1</td>\n",
              "      <td>0.0</td>\n",
              "      <td>D</td>\n",
              "      <td>NaN</td>\n",
              "      <td>NaN</td>\n",
              "      <td>0.0</td>\n",
              "      <td>2.0</td>\n",
              "      <td>173.0</td>\n",
              "    </tr>\n",
              "    <tr>\n",
              "      <th>271</th>\n",
              "      <td>C2253</td>\n",
              "      <td>1161</td>\n",
              "      <td>상가</td>\n",
              "      <td>강원도</td>\n",
              "      <td>임대상가</td>\n",
              "      <td>27.75</td>\n",
              "      <td>1</td>\n",
              "      <td>0.0</td>\n",
              "      <td>D</td>\n",
              "      <td>NaN</td>\n",
              "      <td>NaN</td>\n",
              "      <td>0.0</td>\n",
              "      <td>2.0</td>\n",
              "      <td>173.0</td>\n",
              "    </tr>\n",
              "    <tr>\n",
              "      <th>272</th>\n",
              "      <td>C2253</td>\n",
              "      <td>1161</td>\n",
              "      <td>상가</td>\n",
              "      <td>강원도</td>\n",
              "      <td>임대상가</td>\n",
              "      <td>27.75</td>\n",
              "      <td>1</td>\n",
              "      <td>0.0</td>\n",
              "      <td>D</td>\n",
              "      <td>NaN</td>\n",
              "      <td>NaN</td>\n",
              "      <td>0.0</td>\n",
              "      <td>2.0</td>\n",
              "      <td>173.0</td>\n",
              "    </tr>\n",
              "    <tr>\n",
              "      <th>273</th>\n",
              "      <td>C2253</td>\n",
              "      <td>1161</td>\n",
              "      <td>상가</td>\n",
              "      <td>강원도</td>\n",
              "      <td>임대상가</td>\n",
              "      <td>27.75</td>\n",
              "      <td>1</td>\n",
              "      <td>0.0</td>\n",
              "      <td>D</td>\n",
              "      <td>NaN</td>\n",
              "      <td>NaN</td>\n",
              "      <td>0.0</td>\n",
              "      <td>2.0</td>\n",
              "      <td>173.0</td>\n",
              "    </tr>\n",
              "    <tr>\n",
              "      <th>274</th>\n",
              "      <td>C2253</td>\n",
              "      <td>1161</td>\n",
              "      <td>상가</td>\n",
              "      <td>강원도</td>\n",
              "      <td>임대상가</td>\n",
              "      <td>27.75</td>\n",
              "      <td>1</td>\n",
              "      <td>0.0</td>\n",
              "      <td>D</td>\n",
              "      <td>NaN</td>\n",
              "      <td>NaN</td>\n",
              "      <td>0.0</td>\n",
              "      <td>2.0</td>\n",
              "      <td>173.0</td>\n",
              "    </tr>\n",
              "    <tr>\n",
              "      <th>275</th>\n",
              "      <td>C2253</td>\n",
              "      <td>1161</td>\n",
              "      <td>상가</td>\n",
              "      <td>강원도</td>\n",
              "      <td>임대상가</td>\n",
              "      <td>28.19</td>\n",
              "      <td>1</td>\n",
              "      <td>0.0</td>\n",
              "      <td>D</td>\n",
              "      <td>NaN</td>\n",
              "      <td>NaN</td>\n",
              "      <td>0.0</td>\n",
              "      <td>2.0</td>\n",
              "      <td>173.0</td>\n",
              "    </tr>\n",
              "    <tr>\n",
              "      <th>276</th>\n",
              "      <td>C2253</td>\n",
              "      <td>1161</td>\n",
              "      <td>상가</td>\n",
              "      <td>강원도</td>\n",
              "      <td>임대상가</td>\n",
              "      <td>28.69</td>\n",
              "      <td>1</td>\n",
              "      <td>0.0</td>\n",
              "      <td>D</td>\n",
              "      <td>NaN</td>\n",
              "      <td>NaN</td>\n",
              "      <td>0.0</td>\n",
              "      <td>2.0</td>\n",
              "      <td>173.0</td>\n",
              "    </tr>\n",
              "    <tr>\n",
              "      <th>277</th>\n",
              "      <td>C2253</td>\n",
              "      <td>1161</td>\n",
              "      <td>상가</td>\n",
              "      <td>강원도</td>\n",
              "      <td>임대상가</td>\n",
              "      <td>28.69</td>\n",
              "      <td>1</td>\n",
              "      <td>0.0</td>\n",
              "      <td>D</td>\n",
              "      <td>NaN</td>\n",
              "      <td>NaN</td>\n",
              "      <td>0.0</td>\n",
              "      <td>2.0</td>\n",
              "      <td>173.0</td>\n",
              "    </tr>\n",
              "    <tr>\n",
              "      <th>278</th>\n",
              "      <td>C2253</td>\n",
              "      <td>1161</td>\n",
              "      <td>상가</td>\n",
              "      <td>강원도</td>\n",
              "      <td>임대상가</td>\n",
              "      <td>28.69</td>\n",
              "      <td>1</td>\n",
              "      <td>0.0</td>\n",
              "      <td>D</td>\n",
              "      <td>NaN</td>\n",
              "      <td>NaN</td>\n",
              "      <td>0.0</td>\n",
              "      <td>2.0</td>\n",
              "      <td>173.0</td>\n",
              "    </tr>\n",
              "    <tr>\n",
              "      <th>279</th>\n",
              "      <td>C2253</td>\n",
              "      <td>1161</td>\n",
              "      <td>상가</td>\n",
              "      <td>강원도</td>\n",
              "      <td>임대상가</td>\n",
              "      <td>28.69</td>\n",
              "      <td>1</td>\n",
              "      <td>0.0</td>\n",
              "      <td>D</td>\n",
              "      <td>NaN</td>\n",
              "      <td>NaN</td>\n",
              "      <td>0.0</td>\n",
              "      <td>2.0</td>\n",
              "      <td>173.0</td>\n",
              "    </tr>\n",
              "    <tr>\n",
              "      <th>280</th>\n",
              "      <td>C2253</td>\n",
              "      <td>1161</td>\n",
              "      <td>상가</td>\n",
              "      <td>강원도</td>\n",
              "      <td>임대상가</td>\n",
              "      <td>28.69</td>\n",
              "      <td>1</td>\n",
              "      <td>0.0</td>\n",
              "      <td>D</td>\n",
              "      <td>NaN</td>\n",
              "      <td>NaN</td>\n",
              "      <td>0.0</td>\n",
              "      <td>2.0</td>\n",
              "      <td>173.0</td>\n",
              "    </tr>\n",
              "    <tr>\n",
              "      <th>281</th>\n",
              "      <td>C2253</td>\n",
              "      <td>1161</td>\n",
              "      <td>상가</td>\n",
              "      <td>강원도</td>\n",
              "      <td>임대상가</td>\n",
              "      <td>28.93</td>\n",
              "      <td>1</td>\n",
              "      <td>0.0</td>\n",
              "      <td>D</td>\n",
              "      <td>NaN</td>\n",
              "      <td>NaN</td>\n",
              "      <td>0.0</td>\n",
              "      <td>2.0</td>\n",
              "      <td>173.0</td>\n",
              "    </tr>\n",
              "    <tr>\n",
              "      <th>282</th>\n",
              "      <td>C2253</td>\n",
              "      <td>1161</td>\n",
              "      <td>상가</td>\n",
              "      <td>강원도</td>\n",
              "      <td>임대상가</td>\n",
              "      <td>28.93</td>\n",
              "      <td>1</td>\n",
              "      <td>0.0</td>\n",
              "      <td>D</td>\n",
              "      <td>NaN</td>\n",
              "      <td>NaN</td>\n",
              "      <td>0.0</td>\n",
              "      <td>2.0</td>\n",
              "      <td>173.0</td>\n",
              "    </tr>\n",
              "    <tr>\n",
              "      <th>283</th>\n",
              "      <td>C2253</td>\n",
              "      <td>1161</td>\n",
              "      <td>상가</td>\n",
              "      <td>강원도</td>\n",
              "      <td>임대상가</td>\n",
              "      <td>42.35</td>\n",
              "      <td>1</td>\n",
              "      <td>0.0</td>\n",
              "      <td>D</td>\n",
              "      <td>NaN</td>\n",
              "      <td>NaN</td>\n",
              "      <td>0.0</td>\n",
              "      <td>2.0</td>\n",
              "      <td>173.0</td>\n",
              "    </tr>\n",
              "    <tr>\n",
              "      <th>284</th>\n",
              "      <td>C2253</td>\n",
              "      <td>1161</td>\n",
              "      <td>상가</td>\n",
              "      <td>강원도</td>\n",
              "      <td>임대상가</td>\n",
              "      <td>42.40</td>\n",
              "      <td>1</td>\n",
              "      <td>0.0</td>\n",
              "      <td>D</td>\n",
              "      <td>NaN</td>\n",
              "      <td>NaN</td>\n",
              "      <td>0.0</td>\n",
              "      <td>2.0</td>\n",
              "      <td>173.0</td>\n",
              "    </tr>\n",
              "    <tr>\n",
              "      <th>285</th>\n",
              "      <td>C2253</td>\n",
              "      <td>1161</td>\n",
              "      <td>상가</td>\n",
              "      <td>강원도</td>\n",
              "      <td>임대상가</td>\n",
              "      <td>55.17</td>\n",
              "      <td>1</td>\n",
              "      <td>0.0</td>\n",
              "      <td>D</td>\n",
              "      <td>NaN</td>\n",
              "      <td>NaN</td>\n",
              "      <td>0.0</td>\n",
              "      <td>2.0</td>\n",
              "      <td>173.0</td>\n",
              "    </tr>\n",
              "    <tr>\n",
              "      <th>286</th>\n",
              "      <td>C2253</td>\n",
              "      <td>1161</td>\n",
              "      <td>상가</td>\n",
              "      <td>강원도</td>\n",
              "      <td>임대상가</td>\n",
              "      <td>55.50</td>\n",
              "      <td>1</td>\n",
              "      <td>0.0</td>\n",
              "      <td>D</td>\n",
              "      <td>NaN</td>\n",
              "      <td>NaN</td>\n",
              "      <td>0.0</td>\n",
              "      <td>2.0</td>\n",
              "      <td>173.0</td>\n",
              "    </tr>\n",
              "    <tr>\n",
              "      <th>287</th>\n",
              "      <td>C2253</td>\n",
              "      <td>1161</td>\n",
              "      <td>상가</td>\n",
              "      <td>강원도</td>\n",
              "      <td>임대상가</td>\n",
              "      <td>82.92</td>\n",
              "      <td>1</td>\n",
              "      <td>0.0</td>\n",
              "      <td>D</td>\n",
              "      <td>NaN</td>\n",
              "      <td>NaN</td>\n",
              "      <td>0.0</td>\n",
              "      <td>2.0</td>\n",
              "      <td>173.0</td>\n",
              "    </tr>\n",
              "    <tr>\n",
              "      <th>288</th>\n",
              "      <td>C2253</td>\n",
              "      <td>1161</td>\n",
              "      <td>상가</td>\n",
              "      <td>강원도</td>\n",
              "      <td>임대상가</td>\n",
              "      <td>248.56</td>\n",
              "      <td>1</td>\n",
              "      <td>0.0</td>\n",
              "      <td>D</td>\n",
              "      <td>NaN</td>\n",
              "      <td>NaN</td>\n",
              "      <td>0.0</td>\n",
              "      <td>2.0</td>\n",
              "      <td>173.0</td>\n",
              "    </tr>\n",
              "  </tbody>\n",
              "</table>\n",
              "</div>"
            ],
            "text/plain": [
              "      단지코드  총세대수 임대건물구분   지역  공급유형  ...    임대보증금    임대료  지하철   버스 단지내주차면수\n",
              "258  C2253  1161    아파트  강원도  영구임대  ...  2249000  44770  0.0  2.0   173.0\n",
              "259  C2253  1161    아파트  강원도  영구임대  ...  3731000  83020  0.0  2.0   173.0\n",
              "260  C2253  1161    아파트  강원도  영구임대  ...  3731000  83020  0.0  2.0   173.0\n",
              "261  C2253  1161     상가  강원도  임대상가  ...      NaN    NaN  0.0  2.0   173.0\n",
              "262  C2253  1161     상가  강원도  임대상가  ...      NaN    NaN  0.0  2.0   173.0\n",
              "263  C2253  1161     상가  강원도  임대상가  ...      NaN    NaN  0.0  2.0   173.0\n",
              "264  C2253  1161     상가  강원도  임대상가  ...      NaN    NaN  0.0  2.0   173.0\n",
              "265  C2253  1161     상가  강원도  임대상가  ...      NaN    NaN  0.0  2.0   173.0\n",
              "266  C2253  1161     상가  강원도  임대상가  ...      NaN    NaN  0.0  2.0   173.0\n",
              "267  C2253  1161     상가  강원도  임대상가  ...      NaN    NaN  0.0  2.0   173.0\n",
              "268  C2253  1161     상가  강원도  임대상가  ...      NaN    NaN  0.0  2.0   173.0\n",
              "269  C2253  1161     상가  강원도  임대상가  ...      NaN    NaN  0.0  2.0   173.0\n",
              "270  C2253  1161     상가  강원도  임대상가  ...      NaN    NaN  0.0  2.0   173.0\n",
              "271  C2253  1161     상가  강원도  임대상가  ...      NaN    NaN  0.0  2.0   173.0\n",
              "272  C2253  1161     상가  강원도  임대상가  ...      NaN    NaN  0.0  2.0   173.0\n",
              "273  C2253  1161     상가  강원도  임대상가  ...      NaN    NaN  0.0  2.0   173.0\n",
              "274  C2253  1161     상가  강원도  임대상가  ...      NaN    NaN  0.0  2.0   173.0\n",
              "275  C2253  1161     상가  강원도  임대상가  ...      NaN    NaN  0.0  2.0   173.0\n",
              "276  C2253  1161     상가  강원도  임대상가  ...      NaN    NaN  0.0  2.0   173.0\n",
              "277  C2253  1161     상가  강원도  임대상가  ...      NaN    NaN  0.0  2.0   173.0\n",
              "278  C2253  1161     상가  강원도  임대상가  ...      NaN    NaN  0.0  2.0   173.0\n",
              "279  C2253  1161     상가  강원도  임대상가  ...      NaN    NaN  0.0  2.0   173.0\n",
              "280  C2253  1161     상가  강원도  임대상가  ...      NaN    NaN  0.0  2.0   173.0\n",
              "281  C2253  1161     상가  강원도  임대상가  ...      NaN    NaN  0.0  2.0   173.0\n",
              "282  C2253  1161     상가  강원도  임대상가  ...      NaN    NaN  0.0  2.0   173.0\n",
              "283  C2253  1161     상가  강원도  임대상가  ...      NaN    NaN  0.0  2.0   173.0\n",
              "284  C2253  1161     상가  강원도  임대상가  ...      NaN    NaN  0.0  2.0   173.0\n",
              "285  C2253  1161     상가  강원도  임대상가  ...      NaN    NaN  0.0  2.0   173.0\n",
              "286  C2253  1161     상가  강원도  임대상가  ...      NaN    NaN  0.0  2.0   173.0\n",
              "287  C2253  1161     상가  강원도  임대상가  ...      NaN    NaN  0.0  2.0   173.0\n",
              "288  C2253  1161     상가  강원도  임대상가  ...      NaN    NaN  0.0  2.0   173.0\n",
              "\n",
              "[31 rows x 14 columns]"
            ]
          },
          "metadata": {
            "tags": []
          },
          "execution_count": 25
        }
      ]
    },
    {
      "cell_type": "markdown",
      "metadata": {
        "id": "4GU0Syi-L3qx"
      },
      "source": [
        "공급유형이 영구임대 && 임대료 가 없으면 C 유형이기에 \n",
        "자격유형이 nan인 행을 C로 채워준다"
      ]
    },
    {
      "cell_type": "code",
      "metadata": {
        "id": "5QAO9itbMEGS"
      },
      "source": [
        "test.loc[test.단지코드.isin(['C2253']) & test.자격유형.isnull(), '자격유형'] = 'C'"
      ],
      "execution_count": 26,
      "outputs": []
    },
    {
      "cell_type": "code",
      "metadata": {
        "id": "s21QFhsaJ9Wc"
      },
      "source": [
        "# print(train['자격유형'].unique())\n",
        "# print(test['자격유형'].unique())"
      ],
      "execution_count": 27,
      "outputs": []
    },
    {
      "cell_type": "code",
      "metadata": {
        "id": "4M3sL5SFKZ80"
      },
      "source": [
        "# 자격유형을 단순히 숫자로 매핑하고 nan값은 -1로 입력하는 방법\n",
        "# qualification_type_map={'A':0, 'B':1, 'C':2 ,'D':3 ,'E':4, 'F':5 ,'G':6, 'H':7, 'I':8, 'J':9, 'K':10, 'L':11, 'M':12, 'N':13, 'O':14, np.nan:-1}\n",
        "# train['자격유형']=train['자격유형'].map(qualification_type_map)\n",
        "# test['자격유형']=test['자격유형'].map(qualification_type_map)"
      ],
      "execution_count": 28,
      "outputs": []
    },
    {
      "cell_type": "markdown",
      "metadata": {
        "id": "UwfvS0VzCha7"
      },
      "source": [
        "###임대보증금, 임대료"
      ]
    },
    {
      "cell_type": "markdown",
      "metadata": {
        "id": "cSkbeEPPMR4b"
      },
      "source": [
        "임대보증금과 임대료는 둘이 동시에 (함께) 항상 없다<br>\n",
        "그래서 둘 다 0 으로 채운다"
      ]
    },
    {
      "cell_type": "code",
      "metadata": {
        "id": "qyid5qAaCIQH"
      },
      "source": [
        "train['임대보증금']=train['임대보증금'].fillna(0)\n",
        "train['임대료']=train['임대료'].fillna(0)\n",
        "\n",
        "test['임대보증금']=test['임대보증금'].fillna(0)\n",
        "test['임대료']=test['임대료'].fillna(0)"
      ],
      "execution_count": 29,
      "outputs": []
    },
    {
      "cell_type": "markdown",
      "metadata": {
        "id": "6uYmxo9gMu9o"
      },
      "source": [
        "학습시 '-'라는 값 때문에 에러가 나서 어느 열에 있는지 확인해보도록 한다"
      ]
    },
    {
      "cell_type": "code",
      "metadata": {
        "colab": {
          "base_uri": "https://localhost:8080/"
        },
        "id": "Xgh3gVUPBJGL",
        "outputId": "9208a82c-8c2e-4147-aeab-60280a0d9cc9"
      },
      "source": [
        "for col in train.columns:\n",
        "    print(col+\"----------------\")\n",
        "    # train[train[col].str.contains('-')] \n",
        "    idx = train[train[col] == '-'].index\n",
        "    print(idx)"
      ],
      "execution_count": 30,
      "outputs": [
        {
          "output_type": "stream",
          "text": [
            "단지코드----------------\n",
            "Int64Index([], dtype='int64')\n",
            "총세대수----------------\n",
            "Int64Index([], dtype='int64')\n",
            "임대건물구분----------------\n",
            "Int64Index([], dtype='int64')\n",
            "지역----------------\n",
            "Int64Index([], dtype='int64')\n",
            "공급유형----------------\n",
            "Int64Index([], dtype='int64')\n",
            "전용면적----------------\n",
            "Int64Index([], dtype='int64')\n",
            "전용면적별세대수----------------\n",
            "Int64Index([], dtype='int64')\n",
            "공가수----------------\n",
            "Int64Index([], dtype='int64')\n",
            "자격유형----------------\n",
            "Int64Index([], dtype='int64')\n",
            "임대보증금----------------\n",
            "Int64Index([2547, 2548, 2549, 2550, 2551, 2680, 2681, 2682, 2683, 2906, 2907,\n",
            "            2908],\n",
            "           dtype='int64')\n",
            "임대료----------------\n",
            "Int64Index([2043, 2044, 2045, 2046, 2047, 2048, 2100, 2101, 2102, 2547, 2548,\n",
            "            2549, 2550, 2551, 2680, 2681, 2682, 2683, 2906, 2907, 2908],\n",
            "           dtype='int64')\n",
            "지하철----------------\n",
            "Int64Index([], dtype='int64')\n",
            "버스----------------\n",
            "Int64Index([], dtype='int64')\n",
            "단지내주차면수----------------\n",
            "Int64Index([], dtype='int64')\n",
            "등록차량수----------------\n",
            "Int64Index([], dtype='int64')\n"
          ],
          "name": "stdout"
        }
      ]
    },
    {
      "cell_type": "code",
      "metadata": {
        "colab": {
          "base_uri": "https://localhost:8080/"
        },
        "id": "8OmtV_EJB4yu",
        "outputId": "f37b1768-51e0-4ae8-cace-49d49e8cf937"
      },
      "source": [
        "for col in test.columns:\n",
        "    print(col)\n",
        "    # train[train[col].str.contains('-')] \n",
        "    idx = test[test[col] == '-'].index\n",
        "    print(idx)"
      ],
      "execution_count": 31,
      "outputs": [
        {
          "output_type": "stream",
          "text": [
            "단지코드\n",
            "Int64Index([], dtype='int64')\n",
            "총세대수\n",
            "Int64Index([], dtype='int64')\n",
            "임대건물구분\n",
            "Int64Index([], dtype='int64')\n",
            "지역\n",
            "Int64Index([], dtype='int64')\n",
            "공급유형\n",
            "Int64Index([], dtype='int64')\n",
            "전용면적\n",
            "Int64Index([], dtype='int64')\n",
            "전용면적별세대수\n",
            "Int64Index([], dtype='int64')\n",
            "공가수\n",
            "Int64Index([], dtype='int64')\n",
            "자격유형\n",
            "Int64Index([], dtype='int64')\n",
            "임대보증금\n",
            "Int64Index([1005, 1006, 1014, 1015, 1016, 1017], dtype='int64')\n",
            "임대료\n",
            "Int64Index([1005, 1006, 1014, 1015, 1016, 1017], dtype='int64')\n",
            "지하철\n",
            "Int64Index([], dtype='int64')\n",
            "버스\n",
            "Int64Index([], dtype='int64')\n",
            "단지내주차면수\n",
            "Int64Index([], dtype='int64')\n"
          ],
          "name": "stdout"
        }
      ]
    },
    {
      "cell_type": "markdown",
      "metadata": {
        "id": "XVtiJxSVMgGW"
      },
      "source": [
        "train과 test 둘 다 임대보증금과 임대료만 '-'로 이루어진 행들이 존재하는 것을 확인했다"
      ]
    },
    {
      "cell_type": "code",
      "metadata": {
        "id": "fAhg9D2hBsZn"
      },
      "source": [
        "# test.loc[test.단지코드.isin(['C2253']) & test.자격유형.isnull(), '자격유형'] = 'C'\n",
        "train.loc[train.임대보증금 == '-','임대보증금']=0\n",
        "train.loc[train.임대료 == '-','임대료']=0\n",
        "test.loc[test.임대보증금 == '-','임대보증금']=0\n",
        "test.loc[test.임대료 == '-','임대료']=0"
      ],
      "execution_count": 32,
      "outputs": []
    },
    {
      "cell_type": "markdown",
      "metadata": {
        "id": "RmsPuAfXNQFp"
      },
      "source": [
        "null과 같이 '-'를 0으로 채운다"
      ]
    },
    {
      "cell_type": "markdown",
      "metadata": {
        "id": "tVj2Rw56O7u5"
      },
      "source": [
        "----"
      ]
    },
    {
      "cell_type": "markdown",
      "metadata": {
        "id": "PXHU3RrWOxIN"
      },
      "source": [
        " **마지막으로 결측치 다 없어졌는지 확인**"
      ]
    },
    {
      "cell_type": "code",
      "metadata": {
        "colab": {
          "base_uri": "https://localhost:8080/"
        },
        "id": "gexRj4v3OsRo",
        "outputId": "d8d12bc1-e1ed-4119-e76a-64a333933536"
      },
      "source": [
        "train.isnull().sum()"
      ],
      "execution_count": 33,
      "outputs": [
        {
          "output_type": "execute_result",
          "data": {
            "text/plain": [
              "단지코드        0\n",
              "총세대수        0\n",
              "임대건물구분      0\n",
              "지역          0\n",
              "공급유형        0\n",
              "전용면적        0\n",
              "전용면적별세대수    0\n",
              "공가수         0\n",
              "자격유형        0\n",
              "임대보증금       0\n",
              "임대료         0\n",
              "지하철         0\n",
              "버스          0\n",
              "단지내주차면수     0\n",
              "등록차량수       0\n",
              "dtype: int64"
            ]
          },
          "metadata": {
            "tags": []
          },
          "execution_count": 33
        }
      ]
    },
    {
      "cell_type": "code",
      "metadata": {
        "colab": {
          "base_uri": "https://localhost:8080/"
        },
        "id": "RqZK5ks6OuPY",
        "outputId": "6927cb09-7792-45e4-b0b5-2ee154d781d3"
      },
      "source": [
        "test.isnull().sum()"
      ],
      "execution_count": 34,
      "outputs": [
        {
          "output_type": "execute_result",
          "data": {
            "text/plain": [
              "단지코드        0\n",
              "총세대수        0\n",
              "임대건물구분      0\n",
              "지역          0\n",
              "공급유형        0\n",
              "전용면적        0\n",
              "전용면적별세대수    0\n",
              "공가수         0\n",
              "자격유형        0\n",
              "임대보증금       0\n",
              "임대료         0\n",
              "지하철         0\n",
              "버스          0\n",
              "단지내주차면수     0\n",
              "dtype: int64"
            ]
          },
          "metadata": {
            "tags": []
          },
          "execution_count": 34
        }
      ]
    },
    {
      "cell_type": "markdown",
      "metadata": {
        "id": "g953j8noOSIq"
      },
      "source": [
        "## Label Encoder"
      ]
    },
    {
      "cell_type": "markdown",
      "metadata": {
        "id": "yV8NBlPNKqW-"
      },
      "source": [
        "###임대건물구분, 지역, 공급유형, 자격유형"
      ]
    },
    {
      "cell_type": "code",
      "metadata": {
        "colab": {
          "base_uri": "https://localhost:8080/"
        },
        "id": "6vlwwEUYGjI8",
        "outputId": "28d3e341-61f3-4fd0-cf20-21bc575425fe"
      },
      "source": [
        "train_cols=['임대건물구분', '지역', '공급유형']\n",
        "\n",
        "for col in train_cols:\n",
        "    print(\"{} 의 unique 값 ::: {}\".format(col,pd.unique(train[col])))"
      ],
      "execution_count": 35,
      "outputs": [
        {
          "output_type": "stream",
          "text": [
            "임대건물구분 의 unique 값 ::: ['아파트' '상가']\n",
            "지역 의 unique 값 ::: ['경상북도' '경상남도' '대전광역시' '경기도' '전라북도' '강원도' '광주광역시' '충청남도' '부산광역시' '제주특별자치도'\n",
            " '울산광역시' '충청북도' '전라남도' '대구광역시' '서울특별시' '세종특별자치시']\n",
            "공급유형 의 unique 값 ::: ['국민임대' '공공임대(50년)' '영구임대' '임대상가' '공공임대(10년)' '공공임대(분납)' '장기전세' '공공분양'\n",
            " '행복주택' '공공임대(5년)']\n"
          ],
          "name": "stdout"
        }
      ]
    },
    {
      "cell_type": "code",
      "metadata": {
        "colab": {
          "base_uri": "https://localhost:8080/"
        },
        "id": "d5PlV1Ri65pz",
        "outputId": "31d73084-94dc-4419-fd0b-adca2a117758"
      },
      "source": [
        "le = LabelEncoder()\n",
        "le.fit(train.loc[:,train.columns=='공급유형'].values)\n",
        "train['공급유형']=le.transform(train.loc[:,train.columns=='공급유형'].values)\n",
        "test['공급유형']=le.transform(test.loc[:,test.columns=='공급유형'].values)\n",
        "\n",
        "le.fit(train.loc[:,train.columns=='지역'])\n",
        "train['지역']=le.transform(train.loc[:,train.columns=='지역'])\n",
        "test['지역']=le.transform(test.loc[:,test.columns=='지역'])\n",
        "\n",
        "le.fit(train.loc[:,train.columns=='임대건물구분'].values)\n",
        "train['임대건물구분']=le.transform(train.loc[:,train.columns=='임대건물구분'].values)\n",
        "test['임대건물구분']=le.transform(test.loc[:,test.columns=='임대건물구분'].values)\n",
        "\n",
        "le.fit(train.loc[:,train.columns=='자격유형'].values)\n",
        "train['자격유형']=le.transform(train.loc[:,train.columns=='자격유형'].values)\n",
        "test['자격유형']=le.transform(test.loc[:,test.columns=='자격유형'].values)"
      ],
      "execution_count": 36,
      "outputs": [
        {
          "output_type": "stream",
          "text": [
            "/usr/local/lib/python3.7/dist-packages/sklearn/preprocessing/_label.py:235: DataConversionWarning: A column-vector y was passed when a 1d array was expected. Please change the shape of y to (n_samples, ), for example using ravel().\n",
            "  y = column_or_1d(y, warn=True)\n",
            "/usr/local/lib/python3.7/dist-packages/sklearn/preprocessing/_label.py:268: DataConversionWarning: A column-vector y was passed when a 1d array was expected. Please change the shape of y to (n_samples, ), for example using ravel().\n",
            "  y = column_or_1d(y, warn=True)\n"
          ],
          "name": "stderr"
        }
      ]
    },
    {
      "cell_type": "code",
      "metadata": {
        "colab": {
          "base_uri": "https://localhost:8080/",
          "height": 158
        },
        "id": "zlni_cc1AUCO",
        "outputId": "ee653db5-1fca-4a62-c8a6-5799369eb735"
      },
      "source": [
        "train.head(3)"
      ],
      "execution_count": 37,
      "outputs": [
        {
          "output_type": "execute_result",
          "data": {
            "text/html": [
              "<div>\n",
              "<style scoped>\n",
              "    .dataframe tbody tr th:only-of-type {\n",
              "        vertical-align: middle;\n",
              "    }\n",
              "\n",
              "    .dataframe tbody tr th {\n",
              "        vertical-align: top;\n",
              "    }\n",
              "\n",
              "    .dataframe thead th {\n",
              "        text-align: right;\n",
              "    }\n",
              "</style>\n",
              "<table border=\"1\" class=\"dataframe\">\n",
              "  <thead>\n",
              "    <tr style=\"text-align: right;\">\n",
              "      <th></th>\n",
              "      <th>단지코드</th>\n",
              "      <th>총세대수</th>\n",
              "      <th>임대건물구분</th>\n",
              "      <th>지역</th>\n",
              "      <th>공급유형</th>\n",
              "      <th>전용면적</th>\n",
              "      <th>전용면적별세대수</th>\n",
              "      <th>공가수</th>\n",
              "      <th>자격유형</th>\n",
              "      <th>임대보증금</th>\n",
              "      <th>임대료</th>\n",
              "      <th>지하철</th>\n",
              "      <th>버스</th>\n",
              "      <th>단지내주차면수</th>\n",
              "      <th>등록차량수</th>\n",
              "    </tr>\n",
              "  </thead>\n",
              "  <tbody>\n",
              "    <tr>\n",
              "      <th>0</th>\n",
              "      <td>C2483</td>\n",
              "      <td>900</td>\n",
              "      <td>1</td>\n",
              "      <td>3</td>\n",
              "      <td>5</td>\n",
              "      <td>39.72</td>\n",
              "      <td>134</td>\n",
              "      <td>38.0</td>\n",
              "      <td>0</td>\n",
              "      <td>15667000</td>\n",
              "      <td>103680</td>\n",
              "      <td>0.0</td>\n",
              "      <td>3.0</td>\n",
              "      <td>1425.0</td>\n",
              "      <td>1015.0</td>\n",
              "    </tr>\n",
              "    <tr>\n",
              "      <th>1</th>\n",
              "      <td>C2483</td>\n",
              "      <td>900</td>\n",
              "      <td>1</td>\n",
              "      <td>3</td>\n",
              "      <td>5</td>\n",
              "      <td>39.72</td>\n",
              "      <td>15</td>\n",
              "      <td>38.0</td>\n",
              "      <td>0</td>\n",
              "      <td>15667000</td>\n",
              "      <td>103680</td>\n",
              "      <td>0.0</td>\n",
              "      <td>3.0</td>\n",
              "      <td>1425.0</td>\n",
              "      <td>1015.0</td>\n",
              "    </tr>\n",
              "    <tr>\n",
              "      <th>2</th>\n",
              "      <td>C2483</td>\n",
              "      <td>900</td>\n",
              "      <td>1</td>\n",
              "      <td>3</td>\n",
              "      <td>5</td>\n",
              "      <td>51.93</td>\n",
              "      <td>385</td>\n",
              "      <td>38.0</td>\n",
              "      <td>0</td>\n",
              "      <td>27304000</td>\n",
              "      <td>184330</td>\n",
              "      <td>0.0</td>\n",
              "      <td>3.0</td>\n",
              "      <td>1425.0</td>\n",
              "      <td>1015.0</td>\n",
              "    </tr>\n",
              "  </tbody>\n",
              "</table>\n",
              "</div>"
            ],
            "text/plain": [
              "    단지코드  총세대수  임대건물구분  지역  공급유형  ...     임대료  지하철   버스  단지내주차면수   등록차량수\n",
              "0  C2483   900       1   3     5  ...  103680  0.0  3.0   1425.0  1015.0\n",
              "1  C2483   900       1   3     5  ...  103680  0.0  3.0   1425.0  1015.0\n",
              "2  C2483   900       1   3     5  ...  184330  0.0  3.0   1425.0  1015.0\n",
              "\n",
              "[3 rows x 15 columns]"
            ]
          },
          "metadata": {
            "tags": []
          },
          "execution_count": 37
        }
      ]
    },
    {
      "cell_type": "markdown",
      "metadata": {
        "id": "ULnMCGaWP-UY"
      },
      "source": [
        "##Rescaling"
      ]
    },
    {
      "cell_type": "markdown",
      "metadata": {
        "id": "0aLXw7z3P4qj"
      },
      "source": [
        "###전용면적"
      ]
    },
    {
      "cell_type": "markdown",
      "metadata": {
        "id": "3R_gm6j-Wti4"
      },
      "source": [
        "//로 나누어 소수점을 버리고 다시 같은 수를 곱하여 정리한다"
      ]
    },
    {
      "cell_type": "code",
      "metadata": {
        "id": "Q7MmfIXSFGzC"
      },
      "source": [
        "train['전용면적'] = train['전용면적']//5*5\n",
        "test['전용면적'] = test['전용면적']//5*5"
      ],
      "execution_count": 38,
      "outputs": []
    },
    {
      "cell_type": "code",
      "metadata": {
        "colab": {
          "base_uri": "https://localhost:8080/"
        },
        "id": "dPKWy_2vt85s",
        "outputId": "a995a545-10ee-4851-f3f1-13a1c6b93aea"
      },
      "source": [
        "print(train['전용면적'].unique())\n",
        "print(\"처리 후의 train 전용면적 총 갯수 : \",len(train['전용면적'].unique()))\n",
        "print(\"==========================\")\n",
        "print(test['전용면적'].unique())\n",
        "print(\"처리 후의 test 전용면적 총 갯수 : \",len(test['전용면적'].unique()))"
      ],
      "execution_count": 39,
      "outputs": [
        {
          "output_type": "stream",
          "text": [
            "[ 35.  50.  55.  30.  45.  40.  25.  70.  10.  15.  20. 315.  60. 135.\n",
            "  75. 105. 580. 125. 240. 400. 245. 405.  80.  65.]\n",
            "처리 후의 train 전용면적 총 갯수 :  24\n",
            "==========================\n",
            "[ 35.  45.  50.  30.  55.  25.  75. 580.  15.  20.  40. 400.  60.   5.\n",
            "  10. 245. 250.  80. 240.  70.]\n",
            "처리 후의 test 전용면적 총 갯수 :  20\n"
          ],
          "name": "stdout"
        }
      ]
    },
    {
      "cell_type": "markdown",
      "metadata": {
        "id": "83J1E2eNQiVI"
      },
      "source": [
        "각각 수가 25개 이하로 그렇게 많지 않아서 상한선과 하한선은 정하지 않았다"
      ]
    },
    {
      "cell_type": "markdown",
      "metadata": {
        "id": "pnUhqAGjNpfW"
      },
      "source": [
        "## 똑같은 행 지우기"
      ]
    },
    {
      "cell_type": "code",
      "metadata": {
        "colab": {
          "base_uri": "https://localhost:8080/"
        },
        "id": "pdzaAOSVNoBT",
        "outputId": "e814f0f3-271d-4f63-f6e0-a11cc461f64c"
      },
      "source": [
        "print(\"train shape : \",train.shape,\"  test shape : \",test.shape)\n",
        "train = train.drop_duplicates()\n",
        "test = test.drop_duplicates()\n",
        "print(\"train shape : \",train.shape,\"  test shape : \",test.shape)"
      ],
      "execution_count": 40,
      "outputs": [
        {
          "output_type": "stream",
          "text": [
            "train shape :  (2952, 15)   test shape :  (1022, 14)\n",
            "train shape :  (2476, 15)   test shape :  (876, 14)\n"
          ],
          "name": "stdout"
        }
      ]
    },
    {
      "cell_type": "markdown",
      "metadata": {
        "id": "wJUzp07FN1dt"
      },
      "source": [
        "내용이 완전히 같은 것들을 지워준다"
      ]
    },
    {
      "cell_type": "markdown",
      "metadata": {
        "id": "qKibSEVUR7tM"
      },
      "source": [
        "#단지로 묶기"
      ]
    },
    {
      "cell_type": "markdown",
      "metadata": {
        "id": "r3B5Xf3fSFpa"
      },
      "source": [
        "단지코드 1개당 한 개의 열로 정리를 해야하는데 데이터를 확인해보면"
      ]
    },
    {
      "cell_type": "code",
      "metadata": {
        "colab": {
          "base_uri": "https://localhost:8080/",
          "height": 374
        },
        "id": "-Y8DLBCOR-m3",
        "outputId": "fd13c8fc-cf54-4510-9bcd-86ac994afa13"
      },
      "source": [
        "train.head(10)"
      ],
      "execution_count": 41,
      "outputs": [
        {
          "output_type": "execute_result",
          "data": {
            "text/html": [
              "<div>\n",
              "<style scoped>\n",
              "    .dataframe tbody tr th:only-of-type {\n",
              "        vertical-align: middle;\n",
              "    }\n",
              "\n",
              "    .dataframe tbody tr th {\n",
              "        vertical-align: top;\n",
              "    }\n",
              "\n",
              "    .dataframe thead th {\n",
              "        text-align: right;\n",
              "    }\n",
              "</style>\n",
              "<table border=\"1\" class=\"dataframe\">\n",
              "  <thead>\n",
              "    <tr style=\"text-align: right;\">\n",
              "      <th></th>\n",
              "      <th>단지코드</th>\n",
              "      <th>총세대수</th>\n",
              "      <th>임대건물구분</th>\n",
              "      <th>지역</th>\n",
              "      <th>공급유형</th>\n",
              "      <th>전용면적</th>\n",
              "      <th>전용면적별세대수</th>\n",
              "      <th>공가수</th>\n",
              "      <th>자격유형</th>\n",
              "      <th>임대보증금</th>\n",
              "      <th>임대료</th>\n",
              "      <th>지하철</th>\n",
              "      <th>버스</th>\n",
              "      <th>단지내주차면수</th>\n",
              "      <th>등록차량수</th>\n",
              "    </tr>\n",
              "  </thead>\n",
              "  <tbody>\n",
              "    <tr>\n",
              "      <th>0</th>\n",
              "      <td>C2483</td>\n",
              "      <td>900</td>\n",
              "      <td>1</td>\n",
              "      <td>3</td>\n",
              "      <td>5</td>\n",
              "      <td>35.0</td>\n",
              "      <td>134</td>\n",
              "      <td>38.0</td>\n",
              "      <td>0</td>\n",
              "      <td>15667000</td>\n",
              "      <td>103680</td>\n",
              "      <td>0.0</td>\n",
              "      <td>3.0</td>\n",
              "      <td>1425.0</td>\n",
              "      <td>1015.0</td>\n",
              "    </tr>\n",
              "    <tr>\n",
              "      <th>1</th>\n",
              "      <td>C2483</td>\n",
              "      <td>900</td>\n",
              "      <td>1</td>\n",
              "      <td>3</td>\n",
              "      <td>5</td>\n",
              "      <td>35.0</td>\n",
              "      <td>15</td>\n",
              "      <td>38.0</td>\n",
              "      <td>0</td>\n",
              "      <td>15667000</td>\n",
              "      <td>103680</td>\n",
              "      <td>0.0</td>\n",
              "      <td>3.0</td>\n",
              "      <td>1425.0</td>\n",
              "      <td>1015.0</td>\n",
              "    </tr>\n",
              "    <tr>\n",
              "      <th>2</th>\n",
              "      <td>C2483</td>\n",
              "      <td>900</td>\n",
              "      <td>1</td>\n",
              "      <td>3</td>\n",
              "      <td>5</td>\n",
              "      <td>50.0</td>\n",
              "      <td>385</td>\n",
              "      <td>38.0</td>\n",
              "      <td>0</td>\n",
              "      <td>27304000</td>\n",
              "      <td>184330</td>\n",
              "      <td>0.0</td>\n",
              "      <td>3.0</td>\n",
              "      <td>1425.0</td>\n",
              "      <td>1015.0</td>\n",
              "    </tr>\n",
              "    <tr>\n",
              "      <th>3</th>\n",
              "      <td>C2483</td>\n",
              "      <td>900</td>\n",
              "      <td>1</td>\n",
              "      <td>3</td>\n",
              "      <td>5</td>\n",
              "      <td>50.0</td>\n",
              "      <td>15</td>\n",
              "      <td>38.0</td>\n",
              "      <td>0</td>\n",
              "      <td>27304000</td>\n",
              "      <td>184330</td>\n",
              "      <td>0.0</td>\n",
              "      <td>3.0</td>\n",
              "      <td>1425.0</td>\n",
              "      <td>1015.0</td>\n",
              "    </tr>\n",
              "    <tr>\n",
              "      <th>4</th>\n",
              "      <td>C2483</td>\n",
              "      <td>900</td>\n",
              "      <td>1</td>\n",
              "      <td>3</td>\n",
              "      <td>5</td>\n",
              "      <td>50.0</td>\n",
              "      <td>41</td>\n",
              "      <td>38.0</td>\n",
              "      <td>0</td>\n",
              "      <td>27304000</td>\n",
              "      <td>184330</td>\n",
              "      <td>0.0</td>\n",
              "      <td>3.0</td>\n",
              "      <td>1425.0</td>\n",
              "      <td>1015.0</td>\n",
              "    </tr>\n",
              "    <tr>\n",
              "      <th>5</th>\n",
              "      <td>C2483</td>\n",
              "      <td>900</td>\n",
              "      <td>1</td>\n",
              "      <td>3</td>\n",
              "      <td>5</td>\n",
              "      <td>50.0</td>\n",
              "      <td>89</td>\n",
              "      <td>38.0</td>\n",
              "      <td>0</td>\n",
              "      <td>27304000</td>\n",
              "      <td>184330</td>\n",
              "      <td>0.0</td>\n",
              "      <td>3.0</td>\n",
              "      <td>1425.0</td>\n",
              "      <td>1015.0</td>\n",
              "    </tr>\n",
              "    <tr>\n",
              "      <th>6</th>\n",
              "      <td>C2483</td>\n",
              "      <td>900</td>\n",
              "      <td>1</td>\n",
              "      <td>3</td>\n",
              "      <td>5</td>\n",
              "      <td>50.0</td>\n",
              "      <td>135</td>\n",
              "      <td>38.0</td>\n",
              "      <td>0</td>\n",
              "      <td>27304000</td>\n",
              "      <td>184330</td>\n",
              "      <td>0.0</td>\n",
              "      <td>3.0</td>\n",
              "      <td>1425.0</td>\n",
              "      <td>1015.0</td>\n",
              "    </tr>\n",
              "    <tr>\n",
              "      <th>7</th>\n",
              "      <td>C2483</td>\n",
              "      <td>900</td>\n",
              "      <td>1</td>\n",
              "      <td>3</td>\n",
              "      <td>5</td>\n",
              "      <td>55.0</td>\n",
              "      <td>86</td>\n",
              "      <td>38.0</td>\n",
              "      <td>0</td>\n",
              "      <td>30357000</td>\n",
              "      <td>214270</td>\n",
              "      <td>0.0</td>\n",
              "      <td>3.0</td>\n",
              "      <td>1425.0</td>\n",
              "      <td>1015.0</td>\n",
              "    </tr>\n",
              "    <tr>\n",
              "      <th>8</th>\n",
              "      <td>C2515</td>\n",
              "      <td>545</td>\n",
              "      <td>1</td>\n",
              "      <td>2</td>\n",
              "      <td>5</td>\n",
              "      <td>30.0</td>\n",
              "      <td>276</td>\n",
              "      <td>17.0</td>\n",
              "      <td>0</td>\n",
              "      <td>9216000</td>\n",
              "      <td>82940</td>\n",
              "      <td>0.0</td>\n",
              "      <td>3.0</td>\n",
              "      <td>624.0</td>\n",
              "      <td>205.0</td>\n",
              "    </tr>\n",
              "    <tr>\n",
              "      <th>9</th>\n",
              "      <td>C2515</td>\n",
              "      <td>545</td>\n",
              "      <td>1</td>\n",
              "      <td>2</td>\n",
              "      <td>5</td>\n",
              "      <td>35.0</td>\n",
              "      <td>60</td>\n",
              "      <td>17.0</td>\n",
              "      <td>0</td>\n",
              "      <td>12672000</td>\n",
              "      <td>107130</td>\n",
              "      <td>0.0</td>\n",
              "      <td>3.0</td>\n",
              "      <td>624.0</td>\n",
              "      <td>205.0</td>\n",
              "    </tr>\n",
              "  </tbody>\n",
              "</table>\n",
              "</div>"
            ],
            "text/plain": [
              "    단지코드  총세대수  임대건물구분  지역  공급유형  ...     임대료  지하철   버스  단지내주차면수   등록차량수\n",
              "0  C2483   900       1   3     5  ...  103680  0.0  3.0   1425.0  1015.0\n",
              "1  C2483   900       1   3     5  ...  103680  0.0  3.0   1425.0  1015.0\n",
              "2  C2483   900       1   3     5  ...  184330  0.0  3.0   1425.0  1015.0\n",
              "3  C2483   900       1   3     5  ...  184330  0.0  3.0   1425.0  1015.0\n",
              "4  C2483   900       1   3     5  ...  184330  0.0  3.0   1425.0  1015.0\n",
              "5  C2483   900       1   3     5  ...  184330  0.0  3.0   1425.0  1015.0\n",
              "6  C2483   900       1   3     5  ...  184330  0.0  3.0   1425.0  1015.0\n",
              "7  C2483   900       1   3     5  ...  214270  0.0  3.0   1425.0  1015.0\n",
              "8  C2515   545       1   2     5  ...   82940  0.0  3.0    624.0   205.0\n",
              "9  C2515   545       1   2     5  ...  107130  0.0  3.0    624.0   205.0\n",
              "\n",
              "[10 rows x 15 columns]"
            ]
          },
          "metadata": {
            "tags": []
          },
          "execution_count": 41
        }
      ]
    },
    {
      "cell_type": "markdown",
      "metadata": {
        "id": "74C-lzy6SKxb"
      },
      "source": [
        "같은 단지코드 내에서 전용면적별 세대수, 임대보증금, 임대료 열만 다른 것을 확인할 수 있다\n",
        "\n",
        "\n",
        "\n",
        "*   전용면적별로 열을 추가로 만들어서 정리(baseline 코드에서 한 내용)\n",
        "*   평균\n",
        "\n",
        "둘 중 하나만 실행\n",
        "\n"
      ]
    },
    {
      "cell_type": "markdown",
      "metadata": {
        "id": "uPBvLD2mSnxl"
      },
      "source": [
        "## 전용면적별"
      ]
    },
    {
      "cell_type": "code",
      "metadata": {
        "id": "RGANcTX1By8R"
      },
      "source": [
        "#같은 단지코드 내에서는 같은 값을 유지하는 column들\n",
        "columns = ['단지코드', '총세대수', '공가수', '지역', '단지내주차면수', '지하철', '버스']\n",
        "area_columns = []\n",
        "for area in train['전용면적'].unique():\n",
        "    area_columns.append(f'면적_{area}')"
      ],
      "execution_count": 42,
      "outputs": []
    },
    {
      "cell_type": "code",
      "metadata": {
        "colab": {
          "base_uri": "https://localhost:8080/"
        },
        "id": "wldXApnxE7IT",
        "outputId": "dec79b69-be66-4644-c2bf-982a1ec1fe38"
      },
      "source": [
        "area_columns"
      ],
      "execution_count": 43,
      "outputs": [
        {
          "output_type": "execute_result",
          "data": {
            "text/plain": [
              "['면적_35.0',\n",
              " '면적_50.0',\n",
              " '면적_55.0',\n",
              " '면적_30.0',\n",
              " '면적_45.0',\n",
              " '면적_40.0',\n",
              " '면적_25.0',\n",
              " '면적_70.0',\n",
              " '면적_10.0',\n",
              " '면적_15.0',\n",
              " '면적_20.0',\n",
              " '면적_315.0',\n",
              " '면적_60.0',\n",
              " '면적_135.0',\n",
              " '면적_75.0',\n",
              " '면적_105.0',\n",
              " '면적_580.0',\n",
              " '면적_125.0',\n",
              " '면적_240.0',\n",
              " '면적_400.0',\n",
              " '면적_245.0',\n",
              " '면적_405.0',\n",
              " '면적_80.0',\n",
              " '면적_65.0']"
            ]
          },
          "metadata": {
            "tags": []
          },
          "execution_count": 43
        }
      ]
    },
    {
      "cell_type": "code",
      "metadata": {
        "id": "f-g8KlGcFDeq"
      },
      "source": [
        "new_train = pd.DataFrame()\n",
        "new_test = pd.DataFrame()"
      ],
      "execution_count": 44,
      "outputs": []
    },
    {
      "cell_type": "code",
      "metadata": {
        "colab": {
          "base_uri": "https://localhost:8080/"
        },
        "id": "hFLcBRAG0cwe",
        "outputId": "cd7ca64a-1c60-4671-fbf8-13f9b31683c1"
      },
      "source": [
        "#train\n",
        "for i, code in tqdm(enumerate(train['단지코드'].unique())):\n",
        "    temp = train[train['단지코드']==code]\n",
        "    temp.index = range(temp.shape[0])\n",
        "    for col in columns:\n",
        "        new_train.loc[i, col] = temp.loc[0, col]\n",
        "    \n",
        "    for col in area_columns:\n",
        "        area = float(col.split('_')[-1])\n",
        "        new_train.loc[i, col] = temp[temp['전용면적']==area]['전용면적별세대수'].sum()\n",
        "    \n",
        "    new_train.loc[i, '등록차량수'] = temp.loc[0, '등록차량수']\n",
        "\n",
        "#test\n",
        "for i, code in tqdm(enumerate(test['단지코드'].unique())):\n",
        "    temp = test[test['단지코드']==code]\n",
        "    temp.index = range(temp.shape[0])\n",
        "    for col in columns:\n",
        "        new_test.loc[i, col] = temp.loc[0, col]\n",
        "    \n",
        "    for col in area_columns:\n",
        "        area = float(col.split('_')[-1])\n",
        "        new_test.loc[i, col] = temp[temp['전용면적']==area]['전용면적별세대수'].sum()"
      ],
      "execution_count": 45,
      "outputs": [
        {
          "output_type": "stream",
          "text": [
            "423it [00:12, 34.64it/s]\n",
            "150it [00:04, 33.95it/s]\n"
          ],
          "name": "stderr"
        }
      ]
    },
    {
      "cell_type": "code",
      "metadata": {
        "colab": {
          "base_uri": "https://localhost:8080/",
          "height": 212
        },
        "id": "o-vXKJQ41gds",
        "outputId": "3a2f05cc-8c24-4426-c308-9468c42ad1e8"
      },
      "source": [
        "new_train.head(3)"
      ],
      "execution_count": 46,
      "outputs": [
        {
          "output_type": "execute_result",
          "data": {
            "text/html": [
              "<div>\n",
              "<style scoped>\n",
              "    .dataframe tbody tr th:only-of-type {\n",
              "        vertical-align: middle;\n",
              "    }\n",
              "\n",
              "    .dataframe tbody tr th {\n",
              "        vertical-align: top;\n",
              "    }\n",
              "\n",
              "    .dataframe thead th {\n",
              "        text-align: right;\n",
              "    }\n",
              "</style>\n",
              "<table border=\"1\" class=\"dataframe\">\n",
              "  <thead>\n",
              "    <tr style=\"text-align: right;\">\n",
              "      <th></th>\n",
              "      <th>단지코드</th>\n",
              "      <th>총세대수</th>\n",
              "      <th>공가수</th>\n",
              "      <th>지역</th>\n",
              "      <th>단지내주차면수</th>\n",
              "      <th>지하철</th>\n",
              "      <th>버스</th>\n",
              "      <th>면적_35.0</th>\n",
              "      <th>면적_50.0</th>\n",
              "      <th>면적_55.0</th>\n",
              "      <th>면적_30.0</th>\n",
              "      <th>면적_45.0</th>\n",
              "      <th>면적_40.0</th>\n",
              "      <th>면적_25.0</th>\n",
              "      <th>면적_70.0</th>\n",
              "      <th>면적_10.0</th>\n",
              "      <th>면적_15.0</th>\n",
              "      <th>면적_20.0</th>\n",
              "      <th>면적_315.0</th>\n",
              "      <th>면적_60.0</th>\n",
              "      <th>면적_135.0</th>\n",
              "      <th>면적_75.0</th>\n",
              "      <th>면적_105.0</th>\n",
              "      <th>면적_580.0</th>\n",
              "      <th>면적_125.0</th>\n",
              "      <th>면적_240.0</th>\n",
              "      <th>면적_400.0</th>\n",
              "      <th>면적_245.0</th>\n",
              "      <th>면적_405.0</th>\n",
              "      <th>면적_80.0</th>\n",
              "      <th>면적_65.0</th>\n",
              "      <th>등록차량수</th>\n",
              "    </tr>\n",
              "  </thead>\n",
              "  <tbody>\n",
              "    <tr>\n",
              "      <th>0</th>\n",
              "      <td>C2483</td>\n",
              "      <td>900.0</td>\n",
              "      <td>38.0</td>\n",
              "      <td>3.0</td>\n",
              "      <td>1425.0</td>\n",
              "      <td>0.0</td>\n",
              "      <td>3.0</td>\n",
              "      <td>149.0</td>\n",
              "      <td>665.0</td>\n",
              "      <td>86.0</td>\n",
              "      <td>0.0</td>\n",
              "      <td>0.0</td>\n",
              "      <td>0.0</td>\n",
              "      <td>0.0</td>\n",
              "      <td>0.0</td>\n",
              "      <td>0.0</td>\n",
              "      <td>0.0</td>\n",
              "      <td>0.0</td>\n",
              "      <td>0.0</td>\n",
              "      <td>0.0</td>\n",
              "      <td>0.0</td>\n",
              "      <td>0.0</td>\n",
              "      <td>0.0</td>\n",
              "      <td>0.0</td>\n",
              "      <td>0.0</td>\n",
              "      <td>0.0</td>\n",
              "      <td>0.0</td>\n",
              "      <td>0.0</td>\n",
              "      <td>0.0</td>\n",
              "      <td>0.0</td>\n",
              "      <td>0.0</td>\n",
              "      <td>1015.0</td>\n",
              "    </tr>\n",
              "    <tr>\n",
              "      <th>1</th>\n",
              "      <td>C2515</td>\n",
              "      <td>545.0</td>\n",
              "      <td>17.0</td>\n",
              "      <td>2.0</td>\n",
              "      <td>624.0</td>\n",
              "      <td>0.0</td>\n",
              "      <td>3.0</td>\n",
              "      <td>80.0</td>\n",
              "      <td>132.0</td>\n",
              "      <td>0.0</td>\n",
              "      <td>276.0</td>\n",
              "      <td>57.0</td>\n",
              "      <td>0.0</td>\n",
              "      <td>0.0</td>\n",
              "      <td>0.0</td>\n",
              "      <td>0.0</td>\n",
              "      <td>0.0</td>\n",
              "      <td>0.0</td>\n",
              "      <td>0.0</td>\n",
              "      <td>0.0</td>\n",
              "      <td>0.0</td>\n",
              "      <td>0.0</td>\n",
              "      <td>0.0</td>\n",
              "      <td>0.0</td>\n",
              "      <td>0.0</td>\n",
              "      <td>0.0</td>\n",
              "      <td>0.0</td>\n",
              "      <td>0.0</td>\n",
              "      <td>0.0</td>\n",
              "      <td>0.0</td>\n",
              "      <td>0.0</td>\n",
              "      <td>205.0</td>\n",
              "    </tr>\n",
              "    <tr>\n",
              "      <th>2</th>\n",
              "      <td>C1407</td>\n",
              "      <td>1216.0</td>\n",
              "      <td>13.0</td>\n",
              "      <td>6.0</td>\n",
              "      <td>1285.0</td>\n",
              "      <td>1.0</td>\n",
              "      <td>1.0</td>\n",
              "      <td>0.0</td>\n",
              "      <td>62.0</td>\n",
              "      <td>0.0</td>\n",
              "      <td>390.0</td>\n",
              "      <td>170.0</td>\n",
              "      <td>292.0</td>\n",
              "      <td>0.0</td>\n",
              "      <td>0.0</td>\n",
              "      <td>0.0</td>\n",
              "      <td>0.0</td>\n",
              "      <td>0.0</td>\n",
              "      <td>0.0</td>\n",
              "      <td>0.0</td>\n",
              "      <td>0.0</td>\n",
              "      <td>0.0</td>\n",
              "      <td>0.0</td>\n",
              "      <td>0.0</td>\n",
              "      <td>0.0</td>\n",
              "      <td>0.0</td>\n",
              "      <td>0.0</td>\n",
              "      <td>0.0</td>\n",
              "      <td>0.0</td>\n",
              "      <td>0.0</td>\n",
              "      <td>0.0</td>\n",
              "      <td>1064.0</td>\n",
              "    </tr>\n",
              "  </tbody>\n",
              "</table>\n",
              "</div>"
            ],
            "text/plain": [
              "    단지코드    총세대수   공가수   지역  ...  면적_405.0  면적_80.0  면적_65.0   등록차량수\n",
              "0  C2483   900.0  38.0  3.0  ...       0.0      0.0      0.0  1015.0\n",
              "1  C2515   545.0  17.0  2.0  ...       0.0      0.0      0.0   205.0\n",
              "2  C1407  1216.0  13.0  6.0  ...       0.0      0.0      0.0  1064.0\n",
              "\n",
              "[3 rows x 32 columns]"
            ]
          },
          "metadata": {
            "tags": []
          },
          "execution_count": 46
        }
      ]
    },
    {
      "cell_type": "markdown",
      "metadata": {
        "id": "9veCtY6RSp4N"
      },
      "source": [
        "##평균"
      ]
    },
    {
      "cell_type": "code",
      "metadata": {
        "id": "Cfyxl4BVU6_A"
      },
      "source": [
        "#같은 단지코드 내에서는 같은 값을 유지하는 column들\n",
        "columns = ['단지코드', '총세대수', '공가수', '지역', '단지내주차면수', '지하철', '버스']\n",
        "#평균내야 할 열\n",
        "average_column=['전용면적별세대수','임대보증금','임대료']\n",
        "\n",
        "new_train = pd.DataFrame()\n",
        "new_test = pd.DataFrame()"
      ],
      "execution_count": 47,
      "outputs": []
    },
    {
      "cell_type": "code",
      "metadata": {
        "id": "dKC9fXEbhdEf"
      },
      "source": [
        "train['임대보증금']=train['임대보증금'].astype(np.float64)\n",
        "train['임대료']=train['임대료'].astype(np.float64)\n",
        "test['임대보증금']=test['임대보증금'].astype(np.float64)\n",
        "test['임대료']=test['임대료'].astype(np.float64)"
      ],
      "execution_count": 48,
      "outputs": []
    },
    {
      "cell_type": "code",
      "metadata": {
        "colab": {
          "base_uri": "https://localhost:8080/"
        },
        "id": "BaZosf9MTnIt",
        "outputId": "e81842da-5810-4edc-bd53-3f52286f8a06"
      },
      "source": [
        "#train\n",
        "for i, code in tqdm(enumerate(train['단지코드'].unique())):\n",
        "    temp = train[train['단지코드']==code]\n",
        "    #temp의 index를 0부터 시작하게 설정한다\n",
        "    temp.index = range(temp.shape[0])\n",
        "\n",
        "    #같은 단지코드 안에서 같은 값들은 새 dataframe에도 그대로 넣어준다\n",
        "    for col in columns:\n",
        "        new_train.loc[i, col] = temp.loc[0, col]\n",
        "\n",
        "    for col in average_column:\n",
        "        #한 열에대한 평균값\n",
        "        temp_dataframe=pd.DataFrame(temp[col])\n",
        "        avg_temp=temp_dataframe.mean(axis = 0)\n",
        "        new_train.loc[i,col]=avg_temp[0]\n",
        "\n",
        "    new_train.loc[i, '등록차량수'] = temp.loc[0, '등록차량수']\n",
        "\n",
        "#test\n",
        "for i, code in tqdm(enumerate(test['단지코드'].unique())):\n",
        "    temp = test[test['단지코드']==code]\n",
        "    #temp의 index를 0부터 시작하게 설정한다\n",
        "    temp.index = range(temp.shape[0])\n",
        "\n",
        "    #같은 단지코드 안에서 같은 값들은 새 dataframe에도 그대로 넣어준다\n",
        "    for col in columns:\n",
        "        new_test.loc[i, col] = temp.loc[0, col]\n",
        "    \n",
        "    for col in average_column:\n",
        "        #한 열에대한 평균값\n",
        "        temp_dataframe=pd.DataFrame(temp[col])\n",
        "        avg_temp=temp_dataframe.mean(axis = 0)\n",
        "        new_test.loc[i,col]=avg_temp[0]"
      ],
      "execution_count": 49,
      "outputs": [
        {
          "output_type": "stream",
          "text": [
            "423it [00:02, 156.44it/s]\n",
            "150it [00:00, 158.48it/s]\n"
          ],
          "name": "stderr"
        }
      ]
    },
    {
      "cell_type": "code",
      "metadata": {
        "colab": {
          "base_uri": "https://localhost:8080/",
          "height": 142
        },
        "id": "cBTrVR14iXEo",
        "outputId": "3d33b592-3fbf-4409-cc80-cdd58de36cfa"
      },
      "source": [
        "new_train.head(3)"
      ],
      "execution_count": 50,
      "outputs": [
        {
          "output_type": "execute_result",
          "data": {
            "text/html": [
              "<div>\n",
              "<style scoped>\n",
              "    .dataframe tbody tr th:only-of-type {\n",
              "        vertical-align: middle;\n",
              "    }\n",
              "\n",
              "    .dataframe tbody tr th {\n",
              "        vertical-align: top;\n",
              "    }\n",
              "\n",
              "    .dataframe thead th {\n",
              "        text-align: right;\n",
              "    }\n",
              "</style>\n",
              "<table border=\"1\" class=\"dataframe\">\n",
              "  <thead>\n",
              "    <tr style=\"text-align: right;\">\n",
              "      <th></th>\n",
              "      <th>단지코드</th>\n",
              "      <th>총세대수</th>\n",
              "      <th>공가수</th>\n",
              "      <th>지역</th>\n",
              "      <th>단지내주차면수</th>\n",
              "      <th>지하철</th>\n",
              "      <th>버스</th>\n",
              "      <th>전용면적별세대수</th>\n",
              "      <th>임대보증금</th>\n",
              "      <th>임대료</th>\n",
              "      <th>등록차량수</th>\n",
              "    </tr>\n",
              "  </thead>\n",
              "  <tbody>\n",
              "    <tr>\n",
              "      <th>0</th>\n",
              "      <td>C2483</td>\n",
              "      <td>900.0</td>\n",
              "      <td>38.0</td>\n",
              "      <td>3.0</td>\n",
              "      <td>1425.0</td>\n",
              "      <td>0.0</td>\n",
              "      <td>3.0</td>\n",
              "      <td>112.500000</td>\n",
              "      <td>2.477638e+07</td>\n",
              "      <td>167910.000000</td>\n",
              "      <td>1015.0</td>\n",
              "    </tr>\n",
              "    <tr>\n",
              "      <th>1</th>\n",
              "      <td>C2515</td>\n",
              "      <td>545.0</td>\n",
              "      <td>17.0</td>\n",
              "      <td>2.0</td>\n",
              "      <td>624.0</td>\n",
              "      <td>0.0</td>\n",
              "      <td>3.0</td>\n",
              "      <td>77.857143</td>\n",
              "      <td>1.678714e+07</td>\n",
              "      <td>139557.142857</td>\n",
              "      <td>205.0</td>\n",
              "    </tr>\n",
              "    <tr>\n",
              "      <th>2</th>\n",
              "      <td>C1407</td>\n",
              "      <td>1216.0</td>\n",
              "      <td>13.0</td>\n",
              "      <td>6.0</td>\n",
              "      <td>1285.0</td>\n",
              "      <td>1.0</td>\n",
              "      <td>1.0</td>\n",
              "      <td>114.250000</td>\n",
              "      <td>2.598438e+07</td>\n",
              "      <td>165956.250000</td>\n",
              "      <td>1064.0</td>\n",
              "    </tr>\n",
              "  </tbody>\n",
              "</table>\n",
              "</div>"
            ],
            "text/plain": [
              "    단지코드    총세대수   공가수   지역  ...    전용면적별세대수         임대보증금            임대료   등록차량수\n",
              "0  C2483   900.0  38.0  3.0  ...  112.500000  2.477638e+07  167910.000000  1015.0\n",
              "1  C2515   545.0  17.0  2.0  ...   77.857143  1.678714e+07  139557.142857   205.0\n",
              "2  C1407  1216.0  13.0  6.0  ...  114.250000  2.598438e+07  165956.250000  1064.0\n",
              "\n",
              "[3 rows x 11 columns]"
            ]
          },
          "metadata": {
            "tags": []
          },
          "execution_count": 50
        }
      ]
    },
    {
      "cell_type": "code",
      "metadata": {
        "colab": {
          "base_uri": "https://localhost:8080/",
          "height": 142
        },
        "id": "XzVVELuPiQU6",
        "outputId": "ee1e85b3-b260-4828-a99c-6d0890785ee0"
      },
      "source": [
        "new_test.head(3)"
      ],
      "execution_count": 51,
      "outputs": [
        {
          "output_type": "execute_result",
          "data": {
            "text/html": [
              "<div>\n",
              "<style scoped>\n",
              "    .dataframe tbody tr th:only-of-type {\n",
              "        vertical-align: middle;\n",
              "    }\n",
              "\n",
              "    .dataframe tbody tr th {\n",
              "        vertical-align: top;\n",
              "    }\n",
              "\n",
              "    .dataframe thead th {\n",
              "        text-align: right;\n",
              "    }\n",
              "</style>\n",
              "<table border=\"1\" class=\"dataframe\">\n",
              "  <thead>\n",
              "    <tr style=\"text-align: right;\">\n",
              "      <th></th>\n",
              "      <th>단지코드</th>\n",
              "      <th>총세대수</th>\n",
              "      <th>공가수</th>\n",
              "      <th>지역</th>\n",
              "      <th>단지내주차면수</th>\n",
              "      <th>지하철</th>\n",
              "      <th>버스</th>\n",
              "      <th>전용면적별세대수</th>\n",
              "      <th>임대보증금</th>\n",
              "      <th>임대료</th>\n",
              "    </tr>\n",
              "  </thead>\n",
              "  <tbody>\n",
              "    <tr>\n",
              "      <th>0</th>\n",
              "      <td>C1072</td>\n",
              "      <td>754.0</td>\n",
              "      <td>14.0</td>\n",
              "      <td>1.0</td>\n",
              "      <td>683.0</td>\n",
              "      <td>0.0</td>\n",
              "      <td>2.0</td>\n",
              "      <td>94.250000</td>\n",
              "      <td>38120250.0</td>\n",
              "      <td>265843.750000</td>\n",
              "    </tr>\n",
              "    <tr>\n",
              "      <th>1</th>\n",
              "      <td>C1128</td>\n",
              "      <td>1354.0</td>\n",
              "      <td>9.0</td>\n",
              "      <td>1.0</td>\n",
              "      <td>1216.0</td>\n",
              "      <td>0.0</td>\n",
              "      <td>3.0</td>\n",
              "      <td>150.444444</td>\n",
              "      <td>34125000.0</td>\n",
              "      <td>245516.666667</td>\n",
              "    </tr>\n",
              "    <tr>\n",
              "      <th>2</th>\n",
              "      <td>C1456</td>\n",
              "      <td>619.0</td>\n",
              "      <td>18.0</td>\n",
              "      <td>7.0</td>\n",
              "      <td>547.0</td>\n",
              "      <td>0.0</td>\n",
              "      <td>16.0</td>\n",
              "      <td>66.625000</td>\n",
              "      <td>33704875.0</td>\n",
              "      <td>222290.000000</td>\n",
              "    </tr>\n",
              "  </tbody>\n",
              "</table>\n",
              "</div>"
            ],
            "text/plain": [
              "    단지코드    총세대수   공가수   지역  ...    버스    전용면적별세대수       임대보증금            임대료\n",
              "0  C1072   754.0  14.0  1.0  ...   2.0   94.250000  38120250.0  265843.750000\n",
              "1  C1128  1354.0   9.0  1.0  ...   3.0  150.444444  34125000.0  245516.666667\n",
              "2  C1456   619.0  18.0  7.0  ...  16.0   66.625000  33704875.0  222290.000000\n",
              "\n",
              "[3 rows x 10 columns]"
            ]
          },
          "metadata": {
            "tags": []
          },
          "execution_count": 51
        }
      ]
    },
    {
      "cell_type": "markdown",
      "metadata": {
        "id": "BKPIG2A-20As"
      },
      "source": [
        "#Baseline(random forest)"
      ]
    },
    {
      "cell_type": "code",
      "metadata": {
        "id": "arthdrE413rl"
      },
      "source": [
        "x_train = new_train.iloc[:, 1:-1]\n",
        "y_train = new_train.iloc[:,-1]\n",
        "x_test = new_test.iloc[:,1:]"
      ],
      "execution_count": 52,
      "outputs": []
    },
    {
      "cell_type": "code",
      "metadata": {
        "colab": {
          "base_uri": "https://localhost:8080/"
        },
        "id": "XL1upGtl2DIt",
        "outputId": "4fc98eb1-422c-425c-b6ab-f9b2bc07b6dd"
      },
      "source": [
        "model = RandomForestRegressor(n_jobs=-1, random_state=42)\n",
        "model.fit(x_train, y_train)"
      ],
      "execution_count": 53,
      "outputs": [
        {
          "output_type": "execute_result",
          "data": {
            "text/plain": [
              "RandomForestRegressor(bootstrap=True, ccp_alpha=0.0, criterion='mse',\n",
              "                      max_depth=None, max_features='auto', max_leaf_nodes=None,\n",
              "                      max_samples=None, min_impurity_decrease=0.0,\n",
              "                      min_impurity_split=None, min_samples_leaf=1,\n",
              "                      min_samples_split=2, min_weight_fraction_leaf=0.0,\n",
              "                      n_estimators=100, n_jobs=-1, oob_score=False,\n",
              "                      random_state=42, verbose=0, warm_start=False)"
            ]
          },
          "metadata": {
            "tags": []
          },
          "execution_count": 53
        }
      ]
    },
    {
      "cell_type": "code",
      "metadata": {
        "id": "4atTiKuI2E4z"
      },
      "source": [
        "pred = model.predict(x_test)\n",
        "submission['num'] = pred\n",
        "submission.to_csv('baseline.csv', index=False)"
      ],
      "execution_count": 54,
      "outputs": []
    },
    {
      "cell_type": "markdown",
      "metadata": {
        "id": "FDB6UZymMLFp"
      },
      "source": [
        "##model"
      ]
    },
    {
      "cell_type": "code",
      "metadata": {
        "id": "2bQ9IdYfNK7A"
      },
      "source": [
        "from sklearn.model_selection import GridSearchCV\n",
        "from sklearn.svm import SVR\n",
        "svr=SVR()\n",
        "parameters={'C':[0.5,0.7,1,3,10,50,100]}\n",
        "clf = GridSearchCV(svr, parameters)"
      ],
      "execution_count": 55,
      "outputs": []
    },
    {
      "cell_type": "code",
      "metadata": {
        "id": "EHg5tzdO8w_v"
      },
      "source": [
        "clf.fit(x_train,y_train)\n",
        "pred = clf.predict(x_test)\n",
        "submission['num'] = pred\n",
        "submission.to_csv('baseline_svr.csv', index=False)"
      ],
      "execution_count": 57,
      "outputs": []
    }
  ]
}